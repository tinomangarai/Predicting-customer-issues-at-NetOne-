{
 "cells": [
  {
   "cell_type": "code",
   "execution_count": null,
   "id": "1ac65145",
   "metadata": {},
   "outputs": [],
   "source": [
    "# loading packages \n",
    "import pandas as pd\n",
    "import xgboost as xgb\n",
    "from sklearn.model_selection import train_test_split\n",
    "from sklearn.metrics import accuracy_score, classification_report"
   ]
  },
  {
   "cell_type": "code",
   "execution_count": null,
   "id": "c3c9f025",
   "metadata": {},
   "outputs": [],
   "source": [
    "# Step 1: Loading the dataset and preprocess it\n",
    "data = pd.read_csv('your_dataset.csv')  # Load your dataset\n"
   ]
  },
  {
   "cell_type": "markdown",
   "id": "c62aa16a",
   "metadata": {},
   "source": [
    "# Data Preprocessing "
   ]
  },
  {
   "cell_type": "code",
   "execution_count": null,
   "id": "53d3fc2e",
   "metadata": {},
   "outputs": [],
   "source": []
  },
  {
   "cell_type": "code",
   "execution_count": null,
   "id": "5262ac8f",
   "metadata": {},
   "outputs": [],
   "source": []
  },
  {
   "cell_type": "markdown",
   "id": "a0c75936",
   "metadata": {},
   "source": [
    "# Feature Selection "
   ]
  },
  {
   "cell_type": "code",
   "execution_count": null,
   "id": "223e6a0b",
   "metadata": {},
   "outputs": [],
   "source": [
    "# Step 3: Select the independent variables (features)\n",
    "features = ['price', 'location', 'age_on_network', 'revenue_segment', 'perceived_service_quality']\n",
    "X = data[features]\n",
    "\n",
    "# Remove the target variable from the feature set\n",
    "data = data.drop('customer_issue', axis=1)  \n",
    "\n",
    "#Define the target variable\n",
    "target = data['customer_issue']"
   ]
  },
  {
   "cell_type": "code",
   "execution_count": null,
   "id": "1e4d85d3",
   "metadata": {},
   "outputs": [],
   "source": [
    "# Calculate Mutual Information Scores\n",
    "mi_scores = mutual_info_classif(X, target)\n",
    "\n",
    "#Print Mutual Information Scores for each feature\n",
    "for feature, score in zip(features, mi_scores):\n",
    "    print(f\"{feature}: {score}\")"
   ]
  },
  {
   "cell_type": "code",
   "execution_count": null,
   "id": "06d8f7d7",
   "metadata": {},
   "outputs": [],
   "source": []
  },
  {
   "cell_type": "markdown",
   "id": "f5990e1a",
   "metadata": {},
   "source": [
    "# Feature Engineering "
   ]
  },
  {
   "cell_type": "code",
   "execution_count": null,
   "id": "ed42cd22",
   "metadata": {},
   "outputs": [],
   "source": [
    "Split the dataset into training and testing sets\n",
    "X_train, X_test, y_train, y_test = train_test_split(X, target, test_size=0.2, random_state=42)"
   ]
  },
  {
   "cell_type": "code",
   "execution_count": null,
   "id": "18a1377c",
   "metadata": {},
   "outputs": [],
   "source": [
    "# one hot eoncding \n",
    "encoded_train_data = pd.get_dummies(X_train, columns=categorical_features)\n",
    "\n",
    "# Step 4: Print the encoded data\n",
    "print(encoded_train_data.head())"
   ]
  },
  {
   "cell_type": "markdown",
   "id": "6221a012",
   "metadata": {},
   "source": [
    "# Training the model"
   ]
  },
  {
   "cell_type": "code",
   "execution_count": null,
   "id": "749128b6",
   "metadata": {},
   "outputs": [],
   "source": [
    "# Train the XGBoost model\n",
    "model = xgb.XGBClassifier()\n",
    "model.fit(X_train, y_train)"
   ]
  },
  {
   "cell_type": "code",
   "execution_count": null,
   "id": "c170ea9d",
   "metadata": {},
   "outputs": [],
   "source": [
    "# Make predictions on the testing set\n",
    "y_pred = model.predict(X_test)"
   ]
  },
  {
   "cell_type": "code",
   "execution_count": null,
   "id": "8c1d16f6",
   "metadata": {},
   "outputs": [],
   "source": [
    "# Evaluate the model's performance\n",
    "accuracy = accuracy_score(y_test, y_pred)\n",
    "report = classification_report(y_test, y_pred)\n",
    "\n",
    "print(\"Accuracy: \", accuracy)\n",
    "print(\"Classification Report:\\n\", report)"
   ]
  },
  {
   "cell_type": "code",
   "execution_count": null,
   "id": "e25c7191",
   "metadata": {},
   "outputs": [],
   "source": [
    "# Hyperparamter tuning \n",
    "import pandas as pd\n",
    "from sklearn.model_selection import GridSearchCV\n",
    "from sklearn.ensemble import RandomForestClassifier\n",
    "from sklearn.model_selection import train_test_split\n",
    "\n",
    "# Step 1: Load your dataset and preprocess it\n",
    "data = pd.read_csv('your_dataset.csv')  # Load your dataset\n",
    "# Perform necessary data preprocessing steps (cleaning, handling missing values, encoding categorical variables)\n",
    "\n",
    "# Step 2: Define the target variable\n",
    "target = data['customer_issue']  # Assuming 'customer_issue' is the column containing the customer issues\n",
    "data = data.drop('customer_issue', axis=1)  # Remove the target variable from the feature set\n",
    "\n",
    "# Step 3: Select the independent variables (features)\n",
    "features = ['price', 'location', 'age_on_network', 'revenue_segment', 'perceived_service_quality']\n",
    "X = data[features]\n",
    "\n",
    "# Step 4: Split the dataset into training and testing sets\n",
    "X_train, X_test, y_train, y_test = train_test_split(X, target, test_size=0.2, random_state=42)\n",
    "\n",
    "# Step 5: Define the parameter grid for grid search\n",
    "param_grid = {\n",
    "    'n_estimators': [100, 200, 300],\n",
    "    'max_depth': [3, 5, 7],\n",
    "    'min_samples_split': [2, 4, 8]\n",
    "}\n",
    "\n",
    "# Step 6: Create the RandomForestClassifier model\n",
    "model = RandomForestClassifier()\n",
    "\n",
    "# Step 7: Perform grid search\n",
    "grid_search = GridSearchCV(estimator=model, param_grid=param_grid, cv=3, scoring='accuracy')\n",
    "grid_search.fit(X_train, y_train)\n",
    "\n",
    "# Step 8: Print the best hyperparameters and best score\n",
    "print(\"Best Hyperparameters: \", grid_search.best_params_)\n",
    "print(\"Best Score: \", grid_search.best_score_)\n",
    "\n",
    "# Step 9: Evaluate the model performance on the testing set using the best model\n",
    "best_model = grid_search.best_estimator_\n",
    "y_pred = best_model.predict(X_test)\n",
    "\n",
    "# Step 10: Evaluate the model's performance\n",
    "accuracy = accuracy_score(y_test, y_pred)\n",
    "report = classification_report(y_test, y_pred)\n",
    "\n",
    "print(\"Accuracy: \", accuracy)\n",
    "print(\"Classification Report:\\n\", report)"
   ]
  }
 ],
 "metadata": {
  "kernelspec": {
   "display_name": "Python 3 (ipykernel)",
   "language": "python",
   "name": "python3"
  },
  "language_info": {
   "codemirror_mode": {
    "name": "ipython",
    "version": 3
   },
   "file_extension": ".py",
   "mimetype": "text/x-python",
   "name": "python",
   "nbconvert_exporter": "python",
   "pygments_lexer": "ipython3",
   "version": "3.10.9"
  }
 },
 "nbformat": 4,
 "nbformat_minor": 5
}
