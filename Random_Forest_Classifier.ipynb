{
 "cells": [
  {
   "cell_type": "code",
   "execution_count": 63,
   "id": "6c701ce6",
   "metadata": {},
   "outputs": [],
   "source": [
    "import pandas as pd\n",
    "import matplotlib.pyplot as plt\n",
    "import seaborn as sns\n",
    "import plotly.express as px\n",
    "import plotly.graph_objects as go\n",
    "from sklearn.preprocessing import LabelEncoder\n",
    "from sklearn.model_selection import train_test_split\n",
    "from sklearn.metrics import mean_squared_error, r2_score, mean_absolute_error\n",
    "from sklearn.feature_selection import mutual_info_regression\n",
    "from sklearn.model_selection import cross_val_score"
   ]
  },
  {
   "cell_type": "code",
   "execution_count": 5,
   "id": "887eb5e1",
   "metadata": {},
   "outputs": [
    {
     "name": "stderr",
     "output_type": "stream",
     "text": [
      "C:\\Users\\Tinotenda Mangarai\\anaconda3\\lib\\site-packages\\openpyxl\\worksheet\\_read_only.py:79: UserWarning: Data Validation extension is not supported and will be removed\n",
      "  for idx, row in parser.parse():\n"
     ]
    }
   ],
   "source": [
    "df=pd.read_excel(\"C:\\\\Users\\\\Tinotenda Mangarai\\\\Documents\\\\Clients\\\\Isabel\\\\NetOne data.xlsx\")"
   ]
  },
  {
   "cell_type": "code",
   "execution_count": 6,
   "id": "6585aded",
   "metadata": {},
   "outputs": [
    {
     "data": {
      "text/html": [
       "<div>\n",
       "<style scoped>\n",
       "    .dataframe tbody tr th:only-of-type {\n",
       "        vertical-align: middle;\n",
       "    }\n",
       "\n",
       "    .dataframe tbody tr th {\n",
       "        vertical-align: top;\n",
       "    }\n",
       "\n",
       "    .dataframe thead th {\n",
       "        text-align: right;\n",
       "    }\n",
       "</style>\n",
       "<table border=\"1\" class=\"dataframe\">\n",
       "  <thead>\n",
       "    <tr style=\"text-align: right;\">\n",
       "      <th></th>\n",
       "      <th>Ticket ID</th>\n",
       "      <th>Date</th>\n",
       "      <th>Agent Name</th>\n",
       "      <th>MSISDN</th>\n",
       "      <th>LOCATION</th>\n",
       "      <th>Interaction Type</th>\n",
       "      <th>Interaction Details</th>\n",
       "      <th>Status</th>\n",
       "      <th>Comment</th>\n",
       "    </tr>\n",
       "  </thead>\n",
       "  <tbody>\n",
       "    <tr>\n",
       "      <th>0</th>\n",
       "      <td>1.0</td>\n",
       "      <td>2023-06-02</td>\n",
       "      <td>Crystabel Khumalo</td>\n",
       "      <td>714067006.0</td>\n",
       "      <td>unknown</td>\n",
       "      <td>Prepaid</td>\n",
       "      <td>Bundle-to-airtime conversion/reversal</td>\n",
       "      <td>Closed</td>\n",
       "      <td>bundle in use</td>\n",
       "    </tr>\n",
       "    <tr>\n",
       "      <th>1</th>\n",
       "      <td>2.0</td>\n",
       "      <td>2023-06-02</td>\n",
       "      <td>Crystabel Khumalo</td>\n",
       "      <td>712998391.0</td>\n",
       "      <td>Mutoko</td>\n",
       "      <td>Prepaid</td>\n",
       "      <td>Voucher recharging failure/error</td>\n",
       "      <td>Closed</td>\n",
       "      <td>NaN</td>\n",
       "    </tr>\n",
       "    <tr>\n",
       "      <th>2</th>\n",
       "      <td>3.0</td>\n",
       "      <td>2023-06-02</td>\n",
       "      <td>Crystabel Khumalo</td>\n",
       "      <td>716392087.0</td>\n",
       "      <td>Tore</td>\n",
       "      <td>Mobile Financial Services</td>\n",
       "      <td>OneMoney PIN reset</td>\n",
       "      <td>Closed</td>\n",
       "      <td>KYC differs</td>\n",
       "    </tr>\n",
       "    <tr>\n",
       "      <th>3</th>\n",
       "      <td>4.0</td>\n",
       "      <td>2023-06-02</td>\n",
       "      <td>Crystabel Khumalo</td>\n",
       "      <td>717111828.0</td>\n",
       "      <td>Norton</td>\n",
       "      <td>Service/Product Support</td>\n",
       "      <td>PIN/PUK request</td>\n",
       "      <td>Closed</td>\n",
       "      <td>PUK provided</td>\n",
       "    </tr>\n",
       "    <tr>\n",
       "      <th>4</th>\n",
       "      <td>5.0</td>\n",
       "      <td>2023-06-02</td>\n",
       "      <td>Crystabel Khumalo</td>\n",
       "      <td>716520558.0</td>\n",
       "      <td>Chitungwiza</td>\n",
       "      <td>Data</td>\n",
       "      <td>4G/LTE activation</td>\n",
       "      <td>Closed</td>\n",
       "      <td>refreshed LTE</td>\n",
       "    </tr>\n",
       "  </tbody>\n",
       "</table>\n",
       "</div>"
      ],
      "text/plain": [
       "   Ticket ID       Date         Agent Name       MSISDN     LOCATION  \\\n",
       "0        1.0 2023-06-02  Crystabel Khumalo  714067006.0     unknown    \n",
       "1        2.0 2023-06-02  Crystabel Khumalo  712998391.0       Mutoko   \n",
       "2        3.0 2023-06-02  Crystabel Khumalo  716392087.0         Tore   \n",
       "3        4.0 2023-06-02  Crystabel Khumalo  717111828.0       Norton   \n",
       "4        5.0 2023-06-02  Crystabel Khumalo  716520558.0  Chitungwiza   \n",
       "\n",
       "            Interaction Type                   Interaction Details   Status  \\\n",
       "0                    Prepaid  Bundle-to-airtime conversion/reversal  Closed   \n",
       "1                    Prepaid       Voucher recharging failure/error  Closed   \n",
       "2  Mobile Financial Services                     OneMoney PIN reset  Closed   \n",
       "3    Service/Product Support                        PIN/PUK request  Closed   \n",
       "4                       Data                      4G/LTE activation  Closed   \n",
       "\n",
       "          Comment  \n",
       "0  bundle in use   \n",
       "1             NaN  \n",
       "2    KYC differs   \n",
       "3   PUK provided   \n",
       "4   refreshed LTE  "
      ]
     },
     "execution_count": 6,
     "metadata": {},
     "output_type": "execute_result"
    }
   ],
   "source": [
    "df.head()"
   ]
  },
  {
   "cell_type": "code",
   "execution_count": 7,
   "id": "1b60da14",
   "metadata": {},
   "outputs": [
    {
     "data": {
      "text/plain": [
       "(1857, 9)"
      ]
     },
     "execution_count": 7,
     "metadata": {},
     "output_type": "execute_result"
    }
   ],
   "source": [
    "df.shape"
   ]
  },
  {
   "cell_type": "code",
   "execution_count": 8,
   "id": "0d8c3b74",
   "metadata": {},
   "outputs": [
    {
     "name": "stdout",
     "output_type": "stream",
     "text": [
      "<class 'pandas.core.frame.DataFrame'>\n",
      "RangeIndex: 1857 entries, 0 to 1856\n",
      "Data columns (total 9 columns):\n",
      " #   Column                Non-Null Count  Dtype         \n",
      "---  ------                --------------  -----         \n",
      " 0   Ticket ID             1855 non-null   float64       \n",
      " 1   Date                  1824 non-null   datetime64[ns]\n",
      " 2   Agent Name            1825 non-null   object        \n",
      " 3   MSISDN                1824 non-null   float64       \n",
      " 4   LOCATION              1769 non-null   object        \n",
      " 5   Interaction Type      1823 non-null   object        \n",
      " 6   Interaction Details   1823 non-null   object        \n",
      " 7   Status                1825 non-null   object        \n",
      " 8   Comment               1818 non-null   object        \n",
      "dtypes: datetime64[ns](1), float64(2), object(6)\n",
      "memory usage: 130.7+ KB\n"
     ]
    }
   ],
   "source": [
    "df.info()"
   ]
  },
  {
   "cell_type": "code",
   "execution_count": 26,
   "id": "f1b02359",
   "metadata": {},
   "outputs": [
    {
     "name": "stdout",
     "output_type": "stream",
     "text": [
      "Number of duplicates: 0\n",
      "Duplicate rows:\n",
      "Empty DataFrame\n",
      "Columns: [Ticket ID, Date, Agent Name, MSISDN, LOCATION, Interaction Type, Interaction Details , Status, Comment]\n",
      "Index: []\n"
     ]
    }
   ],
   "source": [
    "# Checking for duplicates\n",
    "duplicates = df.duplicated()\n",
    "\n",
    "# Count the number of duplicates\n",
    "num_duplicates = duplicates.sum()\n",
    "\n",
    "# Print the duplicates\n",
    "print(\"Number of duplicates:\", num_duplicates)\n",
    "print(\"Duplicate rows:\")\n",
    "print(df[duplicates])"
   ]
  },
  {
   "cell_type": "code",
   "execution_count": 25,
   "id": "c9d57d0c",
   "metadata": {},
   "outputs": [
    {
     "data": {
      "text/plain": [
       "Ticket ID                2\n",
       "Date                    33\n",
       "Agent Name              32\n",
       "MSISDN                  33\n",
       "LOCATION                88\n",
       "Interaction Type        34\n",
       "Interaction Details     34\n",
       "Status                  32\n",
       "Comment                 39\n",
       "dtype: int64"
      ]
     },
     "execution_count": 25,
     "metadata": {},
     "output_type": "execute_result"
    }
   ],
   "source": [
    "df.isna().sum()"
   ]
  },
  {
   "cell_type": "code",
   "execution_count": 27,
   "id": "eac3db24",
   "metadata": {},
   "outputs": [],
   "source": [
    "df.dropna(inplace=True)"
   ]
  },
  {
   "cell_type": "code",
   "execution_count": 28,
   "id": "5e0c2e9b",
   "metadata": {},
   "outputs": [
    {
     "data": {
      "text/plain": [
       "(1759, 9)"
      ]
     },
     "execution_count": 28,
     "metadata": {},
     "output_type": "execute_result"
    }
   ],
   "source": [
    "df.shape\n"
   ]
  },
  {
   "cell_type": "code",
   "execution_count": 29,
   "id": "c13e5f31",
   "metadata": {},
   "outputs": [
    {
     "data": {
      "text/plain": [
       "Ticket ID               0\n",
       "Date                    0\n",
       "Agent Name              0\n",
       "MSISDN                  0\n",
       "LOCATION                0\n",
       "Interaction Type        0\n",
       "Interaction Details     0\n",
       "Status                  0\n",
       "Comment                 0\n",
       "dtype: int64"
      ]
     },
     "execution_count": 29,
     "metadata": {},
     "output_type": "execute_result"
    }
   ],
   "source": [
    "df.isna().sum()"
   ]
  },
  {
   "cell_type": "code",
   "execution_count": 70,
   "id": "2b8c1bc9",
   "metadata": {},
   "outputs": [
    {
     "name": "stdout",
     "output_type": "stream",
     "text": [
      "Index(['Ticket ID', 'Date', 'Agent Name', 'MSISDN', 'LOCATION',\n",
      "       'Customer Issue Category', 'Customer Issue Description',\n",
      "       'Status of the Customer Issue', 'Comment'],\n",
      "      dtype='object')\n"
     ]
    }
   ],
   "source": [
    "# Renaming columns \n",
    "df = df.rename(columns={\n",
    "    'Interaction Type': 'Customer Issue Category',\n",
    "    'Interaction Details ': 'Customer Issue Description',\n",
    "    'Status': 'Status of the Customer Issue'\n",
    "})\n",
    "\n",
    "# Verify the column names have been updated\n",
    "print(df.columns)"
   ]
  },
  {
   "cell_type": "code",
   "execution_count": 71,
   "id": "6b758d85",
   "metadata": {},
   "outputs": [
    {
     "data": {
      "text/html": [
       "<div>\n",
       "<style scoped>\n",
       "    .dataframe tbody tr th:only-of-type {\n",
       "        vertical-align: middle;\n",
       "    }\n",
       "\n",
       "    .dataframe tbody tr th {\n",
       "        vertical-align: top;\n",
       "    }\n",
       "\n",
       "    .dataframe thead th {\n",
       "        text-align: right;\n",
       "    }\n",
       "</style>\n",
       "<table border=\"1\" class=\"dataframe\">\n",
       "  <thead>\n",
       "    <tr style=\"text-align: right;\">\n",
       "      <th></th>\n",
       "      <th>Ticket ID</th>\n",
       "      <th>Date</th>\n",
       "      <th>Agent Name</th>\n",
       "      <th>MSISDN</th>\n",
       "      <th>LOCATION</th>\n",
       "      <th>Customer Issue Category</th>\n",
       "      <th>Customer Issue Description</th>\n",
       "      <th>Status of the Customer Issue</th>\n",
       "      <th>Comment</th>\n",
       "    </tr>\n",
       "  </thead>\n",
       "  <tbody>\n",
       "    <tr>\n",
       "      <th>0</th>\n",
       "      <td>1.0</td>\n",
       "      <td>2023-06-02</td>\n",
       "      <td>Crystabel Khumalo</td>\n",
       "      <td>714067006.0</td>\n",
       "      <td>unknown</td>\n",
       "      <td>Prepaid</td>\n",
       "      <td>Bundle-to-airtime conversion/reversal</td>\n",
       "      <td>Closed</td>\n",
       "      <td>bundle in use</td>\n",
       "    </tr>\n",
       "    <tr>\n",
       "      <th>2</th>\n",
       "      <td>3.0</td>\n",
       "      <td>2023-06-02</td>\n",
       "      <td>Crystabel Khumalo</td>\n",
       "      <td>716392087.0</td>\n",
       "      <td>Tore</td>\n",
       "      <td>Mobile Financial Services</td>\n",
       "      <td>OneMoney PIN reset</td>\n",
       "      <td>Closed</td>\n",
       "      <td>KYC differs</td>\n",
       "    </tr>\n",
       "    <tr>\n",
       "      <th>3</th>\n",
       "      <td>4.0</td>\n",
       "      <td>2023-06-02</td>\n",
       "      <td>Crystabel Khumalo</td>\n",
       "      <td>717111828.0</td>\n",
       "      <td>Norton</td>\n",
       "      <td>Service/Product Support</td>\n",
       "      <td>PIN/PUK request</td>\n",
       "      <td>Closed</td>\n",
       "      <td>PUK provided</td>\n",
       "    </tr>\n",
       "    <tr>\n",
       "      <th>4</th>\n",
       "      <td>5.0</td>\n",
       "      <td>2023-06-02</td>\n",
       "      <td>Crystabel Khumalo</td>\n",
       "      <td>716520558.0</td>\n",
       "      <td>Chitungwiza</td>\n",
       "      <td>Data</td>\n",
       "      <td>4G/LTE activation</td>\n",
       "      <td>Closed</td>\n",
       "      <td>refreshed LTE</td>\n",
       "    </tr>\n",
       "    <tr>\n",
       "      <th>5</th>\n",
       "      <td>6.0</td>\n",
       "      <td>2023-06-02</td>\n",
       "      <td>Crystabel Khumalo</td>\n",
       "      <td>712702293.0</td>\n",
       "      <td>Chitungwiza</td>\n",
       "      <td>Data</td>\n",
       "      <td>Data connectivity challenges</td>\n",
       "      <td>Closed</td>\n",
       "      <td>gprs refreshed</td>\n",
       "    </tr>\n",
       "  </tbody>\n",
       "</table>\n",
       "</div>"
      ],
      "text/plain": [
       "   Ticket ID       Date         Agent Name       MSISDN     LOCATION  \\\n",
       "0        1.0 2023-06-02  Crystabel Khumalo  714067006.0     unknown    \n",
       "2        3.0 2023-06-02  Crystabel Khumalo  716392087.0         Tore   \n",
       "3        4.0 2023-06-02  Crystabel Khumalo  717111828.0       Norton   \n",
       "4        5.0 2023-06-02  Crystabel Khumalo  716520558.0  Chitungwiza   \n",
       "5        6.0 2023-06-02  Crystabel Khumalo  712702293.0  Chitungwiza   \n",
       "\n",
       "     Customer Issue Category             Customer Issue Description  \\\n",
       "0                    Prepaid  Bundle-to-airtime conversion/reversal   \n",
       "2  Mobile Financial Services                     OneMoney PIN reset   \n",
       "3    Service/Product Support                        PIN/PUK request   \n",
       "4                       Data                      4G/LTE activation   \n",
       "5                       Data           Data connectivity challenges   \n",
       "\n",
       "  Status of the Customer Issue          Comment  \n",
       "0                       Closed   bundle in use   \n",
       "2                       Closed     KYC differs   \n",
       "3                       Closed    PUK provided   \n",
       "4                       Closed    refreshed LTE  \n",
       "5                       Closed  gprs refreshed   "
      ]
     },
     "execution_count": 71,
     "metadata": {},
     "output_type": "execute_result"
    }
   ],
   "source": [
    "df.head()"
   ]
  },
  {
   "cell_type": "markdown",
   "id": "c0caff1e",
   "metadata": {},
   "source": [
    "# EDA "
   ]
  },
  {
   "cell_type": "code",
   "execution_count": 53,
   "id": "9d68934e",
   "metadata": {},
   "outputs": [
    {
     "data": {
      "image/png": "[encoded data removed]",
      "text/plain": [
       "<Figure size 800x600 with 1 Axes>"
      ]
     },
     "metadata": {},
     "output_type": "display_data"
    }
   ],
   "source": [
    "# Interaction type counts\n",
    "interaction_types = df['Interaction Type'].value_counts()\n",
    "\n",
    "# Plot the distribution of interaction types\n",
    "plt.figure(figsize=(8, 6))\n",
    "interaction_types.plot(kind='bar')\n",
    "plt.xlabel('Interaction Type')\n",
    "plt.ylabel('Count')\n",
    "plt.title('Distribution of Interaction Types (Customer Issues)')\n",
    "plt.xticks(rotation=45)\n",
    "plt.show()"
   ]
  },
  {
   "cell_type": "code",
   "execution_count": 72,
   "id": "acc9bb0b",
   "metadata": {},
   "outputs": [
    {
     "data": {
      "application/vnd.plotly.v1+json": {
       "config": {
        "plotlyServerURL": "https://plot.ly"
       },
       "data": [
        {
         "alignmentgroup": "True",
         "hovertemplate": "index=%{x}<br>y=%{y}<extra></extra>",
         "legendgroup": "",
         "marker": {
          "color": "#636efa",
          "pattern": {
           "shape": ""
          }
         },
         "name": "",
         "offsetgroup": "",
         "orientation": "v",
         "showlegend": false,
         "textposition": "auto",
         "type": "bar",
         "x": [
          "Data",
          "Prepaid",
          "Voice",
          "Service/Product Support",
          "Mobile Financial Services",
          "SMS",
          "Other",
          "Supplementary Services",
          "Product Distribution ",
          "Products and Services",
          "Value Added Services",
          "Systems Support",
          "Roaming and International services",
          "Devices",
          "Marketing",
          "Network Quality of Service",
          "Revenue Assurance and Fraud Management"
         ],
         "xaxis": "x",
         "y": [
          579,
          344,
          240,
          157,
          131,
          125,
          88,
          31,
          18,
          16,
          11,
          9,
          3,
          3,
          2,
          1,
          1
         ],
         "yaxis": "y"
        }
       ],
       "layout": {
        "barmode": "relative",
        "legend": {
         "tracegroupgap": 0
        },
        "margin": {
         "t": 60
        },
        "template": {
         "data": {
          "bar": [
           {
            "error_x": {
             "color": "#2a3f5f"
            },
            "error_y": {
             "color": "#2a3f5f"
            },
            "marker": {
             "line": {
              "color": "#E5ECF6",
              "width": 0.5
             },
             "pattern": {
              "fillmode": "overlay",
              "size": 10,
              "solidity": 0.2
             }
            },
            "type": "bar"
           }
          ],
          "barpolar": [
           {
            "marker": {
             "line": {
              "color": "#E5ECF6",
              "width": 0.5
             },
             "pattern": {
              "fillmode": "overlay",
              "size": 10,
              "solidity": 0.2
             }
            },
            "type": "barpolar"
           }
          ],
          "carpet": [
           {
            "aaxis": {
             "endlinecolor": "#2a3f5f",
             "gridcolor": "white",
             "linecolor": "white",
             "minorgridcolor": "white",
             "startlinecolor": "#2a3f5f"
            },
            "baxis": {
             "endlinecolor": "#2a3f5f",
             "gridcolor": "white",
             "linecolor": "white",
             "minorgridcolor": "white",
             "startlinecolor": "#2a3f5f"
            },
            "type": "carpet"
           }
          ],
          "choropleth": [
           {
            "colorbar": {
             "outlinewidth": 0,
             "ticks": ""
            },
            "type": "choropleth"
           }
          ],
          "contour": [
           {
            "colorbar": {
             "outlinewidth": 0,
             "ticks": ""
            },
            "colorscale": [
             [
              0,
              "#0d0887"
             ],
             [
              0.1111111111111111,
              "#46039f"
             ],
             [
              0.2222222222222222,
              "#7201a8"
             ],
             [
              0.3333333333333333,
              "#9c179e"
             ],
             [
              0.4444444444444444,
              "#bd3786"
             ],
             [
              0.5555555555555556,
              "#d8576b"
             ],
             [
              0.6666666666666666,
              "#ed7953"
             ],
             [
              0.7777777777777778,
              "#fb9f3a"
             ],
             [
              0.8888888888888888,
              "#fdca26"
             ],
             [
              1,
              "#f0f921"
             ]
            ],
            "type": "contour"
           }
          ],
          "contourcarpet": [
           {
            "colorbar": {
             "outlinewidth": 0,
             "ticks": ""
            },
            "type": "contourcarpet"
           }
          ],
          "heatmap": [
           {
            "colorbar": {
             "outlinewidth": 0,
             "ticks": ""
            },
            "colorscale": [
             [
              0,
              "#0d0887"
             ],
             [
              0.1111111111111111,
              "#46039f"
             ],
             [
              0.2222222222222222,
              "#7201a8"
             ],
             [
              0.3333333333333333,
              "#9c179e"
             ],
             [
              0.4444444444444444,
              "#bd3786"
             ],
             [
              0.5555555555555556,
              "#d8576b"
             ],
             [
              0.6666666666666666,
              "#ed7953"
             ],
             [
              0.7777777777777778,
              "#fb9f3a"
             ],
             [
              0.8888888888888888,
              "#fdca26"
             ],
             [
              1,
              "#f0f921"
             ]
            ],
            "type": "heatmap"
           }
          ],
          "heatmapgl": [
           {
            "colorbar": {
             "outlinewidth": 0,
             "ticks": ""
            },
            "colorscale": [
             [
              0,
              "#0d0887"
             ],
             [
              0.1111111111111111,
              "#46039f"
             ],
             [
              0.2222222222222222,
              "#7201a8"
             ],
             [
              0.3333333333333333,
              "#9c179e"
             ],
             [
              0.4444444444444444,
              "#bd3786"
             ],
             [
              0.5555555555555556,
              "#d8576b"
             ],
             [
              0.6666666666666666,
              "#ed7953"
             ],
             [
              0.7777777777777778,
              "#fb9f3a"
             ],
             [
              0.8888888888888888,
              "#fdca26"
             ],
             [
              1,
              "#f0f921"
             ]
            ],
            "type": "heatmapgl"
           }
          ],
          "histogram": [
           {
            "marker": {
             "pattern": {
              "fillmode": "overlay",
              "size": 10,
              "solidity": 0.2
             }
            },
            "type": "histogram"
           }
          ],
          "histogram2d": [
           {
            "colorbar": {
             "outlinewidth": 0,
             "ticks": ""
            },
            "colorscale": [
             [
              0,
              "#0d0887"
             ],
             [
              0.1111111111111111,
              "#46039f"
             ],
             [
              0.2222222222222222,
              "#7201a8"
             ],
             [
              0.3333333333333333,
              "#9c179e"
             ],
             [
              0.4444444444444444,
              "#bd3786"
             ],
             [
              0.5555555555555556,
              "#d8576b"
             ],
             [
              0.6666666666666666,
              "#ed7953"
             ],
             [
              0.7777777777777778,
              "#fb9f3a"
             ],
             [
              0.8888888888888888,
              "#fdca26"
             ],
             [
              1,
              "#f0f921"
             ]
            ],
            "type": "histogram2d"
           }
          ],
          "histogram2dcontour": [
           {
            "colorbar": {
             "outlinewidth": 0,
             "ticks": ""
            },
            "colorscale": [
             [
              0,
              "#0d0887"
             ],
             [
              0.1111111111111111,
              "#46039f"
             ],
             [
              0.2222222222222222,
              "#7201a8"
             ],
             [
              0.3333333333333333,
              "#9c179e"
             ],
             [
              0.4444444444444444,
              "#bd3786"
             ],
             [
              0.5555555555555556,
              "#d8576b"
             ],
             [
              0.6666666666666666,
              "#ed7953"
             ],
             [
              0.7777777777777778,
              "#fb9f3a"
             ],
             [
              0.8888888888888888,
              "#fdca26"
             ],
             [
              1,
              "#f0f921"
             ]
            ],
            "type": "histogram2dcontour"
           }
          ],
          "mesh3d": [
           {
            "colorbar": {
             "outlinewidth": 0,
             "ticks": ""
            },
            "type": "mesh3d"
           }
          ],
          "parcoords": [
           {
            "line": {
             "colorbar": {
              "outlinewidth": 0,
              "ticks": ""
             }
            },
            "type": "parcoords"
           }
          ],
          "pie": [
           {
            "automargin": true,
            "type": "pie"
           }
          ],
          "scatter": [
           {
            "fillpattern": {
             "fillmode": "overlay",
             "size": 10,
             "solidity": 0.2
            },
            "type": "scatter"
           }
          ],
          "scatter3d": [
           {
            "line": {
             "colorbar": {
              "outlinewidth": 0,
              "ticks": ""
             }
            },
            "marker": {
             "colorbar": {
              "outlinewidth": 0,
              "ticks": ""
             }
            },
            "type": "scatter3d"
           }
          ],
          "scattercarpet": [
           {
            "marker": {
             "colorbar": {
              "outlinewidth": 0,
              "ticks": ""
             }
            },
            "type": "scattercarpet"
           }
          ],
          "scattergeo": [
           {
            "marker": {
             "colorbar": {
              "outlinewidth": 0,
              "ticks": ""
             }
            },
            "type": "scattergeo"
           }
          ],
          "scattergl": [
           {
            "marker": {
             "colorbar": {
              "outlinewidth": 0,
              "ticks": ""
             }
            },
            "type": "scattergl"
           }
          ],
          "scattermapbox": [
           {
            "marker": {
             "colorbar": {
              "outlinewidth": 0,
              "ticks": ""
             }
            },
            "type": "scattermapbox"
           }
          ],
          "scatterpolar": [
           {
            "marker": {
             "colorbar": {
              "outlinewidth": 0,
              "ticks": ""
             }
            },
            "type": "scatterpolar"
           }
          ],
          "scatterpolargl": [
           {
            "marker": {
             "colorbar": {
              "outlinewidth": 0,
              "ticks": ""
             }
            },
            "type": "scatterpolargl"
           }
          ],
          "scatterternary": [
           {
            "marker": {
             "colorbar": {
              "outlinewidth": 0,
              "ticks": ""
             }
            },
            "type": "scatterternary"
           }
          ],
          "surface": [
           {
            "colorbar": {
             "outlinewidth": 0,
             "ticks": ""
            },
            "colorscale": [
             [
              0,
              "#0d0887"
             ],
             [
              0.1111111111111111,
              "#46039f"
             ],
             [
              0.2222222222222222,
              "#7201a8"
             ],
             [
              0.3333333333333333,
              "#9c179e"
             ],
             [
              0.4444444444444444,
              "#bd3786"
             ],
             [
              0.5555555555555556,
              "#d8576b"
             ],
             [
              0.6666666666666666,
              "#ed7953"
             ],
             [
              0.7777777777777778,
              "#fb9f3a"
             ],
             [
              0.8888888888888888,
              "#fdca26"
             ],
             [
              1,
              "#f0f921"
             ]
            ],
            "type": "surface"
           }
          ],
          "table": [
           {
            "cells": {
             "fill": {
              "color": "#EBF0F8"
             },
             "line": {
              "color": "white"
             }
            },
            "header": {
             "fill": {
              "color": "#C8D4E3"
             },
             "line": {
              "color": "white"
             }
            },
            "type": "table"
           }
          ]
         },
         "layout": {
          "annotationdefaults": {
           "arrowcolor": "#2a3f5f",
           "arrowhead": 0,
           "arrowwidth": 1
          },
          "autotypenumbers": "strict",
          "coloraxis": {
           "colorbar": {
            "outlinewidth": 0,
            "ticks": ""
           }
          },
          "colorscale": {
           "diverging": [
            [
             0,
             "#8e0152"
            ],
            [
             0.1,
             "#c51b7d"
            ],
            [
             0.2,
             "#de77ae"
            ],
            [
             0.3,
             "#f1b6da"
            ],
            [
             0.4,
             "#fde0ef"
            ],
            [
             0.5,
             "#f7f7f7"
            ],
            [
             0.6,
             "#e6f5d0"
            ],
            [
             0.7,
             "#b8e186"
            ],
            [
             0.8,
             "#7fbc41"
            ],
            [
             0.9,
             "#4d9221"
            ],
            [
             1,
             "#276419"
            ]
           ],
           "sequential": [
            [
             0,
             "#0d0887"
            ],
            [
             0.1111111111111111,
             "#46039f"
            ],
            [
             0.2222222222222222,
             "#7201a8"
            ],
            [
             0.3333333333333333,
             "#9c179e"
            ],
            [
             0.4444444444444444,
             "#bd3786"
            ],
            [
             0.5555555555555556,
             "#d8576b"
            ],
            [
             0.6666666666666666,
             "#ed7953"
            ],
            [
             0.7777777777777778,
             "#fb9f3a"
            ],
            [
             0.8888888888888888,
             "#fdca26"
            ],
            [
             1,
             "#f0f921"
            ]
           ],
           "sequentialminus": [
            [
             0,
             "#0d0887"
            ],
            [
             0.1111111111111111,
             "#46039f"
            ],
            [
             0.2222222222222222,
             "#7201a8"
            ],
            [
             0.3333333333333333,
             "#9c179e"
            ],
            [
             0.4444444444444444,
             "#bd3786"
            ],
            [
             0.5555555555555556,
             "#d8576b"
            ],
            [
             0.6666666666666666,
             "#ed7953"
            ],
            [
             0.7777777777777778,
             "#fb9f3a"
            ],
            [
             0.8888888888888888,
             "#fdca26"
            ],
            [
             1,
             "#f0f921"
            ]
           ]
          },
          "colorway": [
           "#636efa",
           "#EF553B",
           "#00cc96",
           "#ab63fa",
           "#FFA15A",
           "#19d3f3",
           "#FF6692",
           "#B6E880",
           "#FF97FF",
           "#FECB52"
          ],
          "font": {
           "color": "#2a3f5f"
          },
          "geo": {
           "bgcolor": "white",
           "lakecolor": "white",
           "landcolor": "#E5ECF6",
           "showlakes": true,
           "showland": true,
           "subunitcolor": "white"
          },
          "hoverlabel": {
           "align": "left"
          },
          "hovermode": "closest",
          "mapbox": {
           "style": "light"
          },
          "paper_bgcolor": "white",
          "plot_bgcolor": "#E5ECF6",
          "polar": {
           "angularaxis": {
            "gridcolor": "white",
            "linecolor": "white",
            "ticks": ""
           },
           "bgcolor": "#E5ECF6",
           "radialaxis": {
            "gridcolor": "white",
            "linecolor": "white",
            "ticks": ""
           }
          },
          "scene": {
           "xaxis": {
            "backgroundcolor": "#E5ECF6",
            "gridcolor": "white",
            "gridwidth": 2,
            "linecolor": "white",
            "showbackground": true,
            "ticks": "",
            "zerolinecolor": "white"
           },
           "yaxis": {
            "backgroundcolor": "#E5ECF6",
            "gridcolor": "white",
            "gridwidth": 2,
            "linecolor": "white",
            "showbackground": true,
            "ticks": "",
            "zerolinecolor": "white"
           },
           "zaxis": {
            "backgroundcolor": "#E5ECF6",
            "gridcolor": "white",
            "gridwidth": 2,
            "linecolor": "white",
            "showbackground": true,
            "ticks": "",
            "zerolinecolor": "white"
           }
          },
          "shapedefaults": {
           "line": {
            "color": "#2a3f5f"
           }
          },
          "ternary": {
           "aaxis": {
            "gridcolor": "white",
            "linecolor": "white",
            "ticks": ""
           },
           "baxis": {
            "gridcolor": "white",
            "linecolor": "white",
            "ticks": ""
           },
           "bgcolor": "#E5ECF6",
           "caxis": {
            "gridcolor": "white",
            "linecolor": "white",
            "ticks": ""
           }
          },
          "title": {
           "x": 0.05
          },
          "xaxis": {
           "automargin": true,
           "gridcolor": "white",
           "linecolor": "white",
           "ticks": "",
           "title": {
            "standoff": 15
           },
           "zerolinecolor": "white",
           "zerolinewidth": 2
          },
          "yaxis": {
           "automargin": true,
           "gridcolor": "white",
           "linecolor": "white",
           "ticks": "",
           "title": {
            "standoff": 15
           },
           "zerolinecolor": "white",
           "zerolinewidth": 2
          }
         }
        },
        "title": {
         "text": "Distribution of the Categories of Customer Issues"
        },
        "xaxis": {
         "anchor": "y",
         "domain": [
          0,
          1
         ],
         "title": {
          "text": ""
         }
        },
        "yaxis": {
         "anchor": "x",
         "domain": [
          0,
          1
         ],
         "title": {
          "text": "Frequency"
         }
        }
       }
      },
      "text/html": [
       "<div>                            <div id=\"189c64a5-6bd5-4cc8-a914-e817cd286870\" class=\"plotly-graph-div\" style=\"height:525px; width:100%;\"></div>            <script type=\"text/javascript\">                require([\"plotly\"], function(Plotly) {                    window.PLOTLYENV=window.PLOTLYENV || {};                                    if (document.getElementById(\"189c64a5-6bd5-4cc8-a914-e817cd286870\")) {                    Plotly.newPlot(                        \"189c64a5-6bd5-4cc8-a914-e817cd286870\",                        [{\"alignmentgroup\":\"True\",\"hovertemplate\":\"index=%{x}<br>y=%{y}<extra></extra>\",\"legendgroup\":\"\",\"marker\":{\"color\":\"#636efa\",\"pattern\":{\"shape\":\"\"}},\"name\":\"\",\"offsetgroup\":\"\",\"orientation\":\"v\",\"showlegend\":false,\"textposition\":\"auto\",\"x\":[\"Data\",\"Prepaid\",\"Voice\",\"Service/Product Support\",\"Mobile Financial Services\",\"SMS\",\"Other\",\"Supplementary Services\",\"Product Distribution \",\"Products and Services\",\"Value Added Services\",\"Systems Support\",\"Roaming and International services\",\"Devices\",\"Marketing\",\"Network Quality of Service\",\"Revenue Assurance and Fraud Management\"],\"xaxis\":\"x\",\"y\":[579,344,240,157,131,125,88,31,18,16,11,9,3,3,2,1,1],\"yaxis\":\"y\",\"type\":\"bar\"}],                        {\"template\":{\"data\":{\"histogram2dcontour\":[{\"type\":\"histogram2dcontour\",\"colorbar\":{\"outlinewidth\":0,\"ticks\":\"\"},\"colorscale\":[[0.0,\"#0d0887\"],[0.1111111111111111,\"#46039f\"],[0.2222222222222222,\"#7201a8\"],[0.3333333333333333,\"#9c179e\"],[0.4444444444444444,\"#bd3786\"],[0.5555555555555556,\"#d8576b\"],[0.6666666666666666,\"#ed7953\"],[0.7777777777777778,\"#fb9f3a\"],[0.8888888888888888,\"#fdca26\"],[1.0,\"#f0f921\"]]}],\"choropleth\":[{\"type\":\"choropleth\",\"colorbar\":{\"outlinewidth\":0,\"ticks\":\"\"}}],\"histogram2d\":[{\"type\":\"histogram2d\",\"colorbar\":{\"outlinewidth\":0,\"ticks\":\"\"},\"colorscale\":[[0.0,\"#0d0887\"],[0.1111111111111111,\"#46039f\"],[0.2222222222222222,\"#7201a8\"],[0.3333333333333333,\"#9c179e\"],[0.4444444444444444,\"#bd3786\"],[0.5555555555555556,\"#d8576b\"],[0.6666666666666666,\"#ed7953\"],[0.7777777777777778,\"#fb9f3a\"],[0.8888888888888888,\"#fdca26\"],[1.0,\"#f0f921\"]]}],\"heatmap\":[{\"type\":\"heatmap\",\"colorbar\":{\"outlinewidth\":0,\"ticks\":\"\"},\"colorscale\":[[0.0,\"#0d0887\"],[0.1111111111111111,\"#46039f\"],[0.2222222222222222,\"#7201a8\"],[0.3333333333333333,\"#9c179e\"],[0.4444444444444444,\"#bd3786\"],[0.5555555555555556,\"#d8576b\"],[0.6666666666666666,\"#ed7953\"],[0.7777777777777778,\"#fb9f3a\"],[0.8888888888888888,\"#fdca26\"],[1.0,\"#f0f921\"]]}],\"heatmapgl\":[{\"type\":\"heatmapgl\",\"colorbar\":{\"outlinewidth\":0,\"ticks\":\"\"},\"colorscale\":[[0.0,\"#0d0887\"],[0.1111111111111111,\"#46039f\"],[0.2222222222222222,\"#7201a8\"],[0.3333333333333333,\"#9c179e\"],[0.4444444444444444,\"#bd3786\"],[0.5555555555555556,\"#d8576b\"],[0.6666666666666666,\"#ed7953\"],[0.7777777777777778,\"#fb9f3a\"],[0.8888888888888888,\"#fdca26\"],[1.0,\"#f0f921\"]]}],\"contourcarpet\":[{\"type\":\"contourcarpet\",\"colorbar\":{\"outlinewidth\":0,\"ticks\":\"\"}}],\"contour\":[{\"type\":\"contour\",\"colorbar\":{\"outlinewidth\":0,\"ticks\":\"\"},\"colorscale\":[[0.0,\"#0d0887\"],[0.1111111111111111,\"#46039f\"],[0.2222222222222222,\"#7201a8\"],[0.3333333333333333,\"#9c179e\"],[0.4444444444444444,\"#bd3786\"],[0.5555555555555556,\"#d8576b\"],[0.6666666666666666,\"#ed7953\"],[0.7777777777777778,\"#fb9f3a\"],[0.8888888888888888,\"#fdca26\"],[1.0,\"#f0f921\"]]}],\"surface\":[{\"type\":\"surface\",\"colorbar\":{\"outlinewidth\":0,\"ticks\":\"\"},\"colorscale\":[[0.0,\"#0d0887\"],[0.1111111111111111,\"#46039f\"],[0.2222222222222222,\"#7201a8\"],[0.3333333333333333,\"#9c179e\"],[0.4444444444444444,\"#bd3786\"],[0.5555555555555556,\"#d8576b\"],[0.6666666666666666,\"#ed7953\"],[0.7777777777777778,\"#fb9f3a\"],[0.8888888888888888,\"#fdca26\"],[1.0,\"#f0f921\"]]}],\"mesh3d\":[{\"type\":\"mesh3d\",\"colorbar\":{\"outlinewidth\":0,\"ticks\":\"\"}}],\"scatter\":[{\"fillpattern\":{\"fillmode\":\"overlay\",\"size\":10,\"solidity\":0.2},\"type\":\"scatter\"}],\"parcoords\":[{\"type\":\"parcoords\",\"line\":{\"colorbar\":{\"outlinewidth\":0,\"ticks\":\"\"}}}],\"scatterpolargl\":[{\"type\":\"scatterpolargl\",\"marker\":{\"colorbar\":{\"outlinewidth\":0,\"ticks\":\"\"}}}],\"bar\":[{\"error_x\":{\"color\":\"#2a3f5f\"},\"error_y\":{\"color\":\"#2a3f5f\"},\"marker\":{\"line\":{\"color\":\"#E5ECF6\",\"width\":0.5},\"pattern\":{\"fillmode\":\"overlay\",\"size\":10,\"solidity\":0.2}},\"type\":\"bar\"}],\"scattergeo\":[{\"type\":\"scattergeo\",\"marker\":{\"colorbar\":{\"outlinewidth\":0,\"ticks\":\"\"}}}],\"scatterpolar\":[{\"type\":\"scatterpolar\",\"marker\":{\"colorbar\":{\"outlinewidth\":0,\"ticks\":\"\"}}}],\"histogram\":[{\"marker\":{\"pattern\":{\"fillmode\":\"overlay\",\"size\":10,\"solidity\":0.2}},\"type\":\"histogram\"}],\"scattergl\":[{\"type\":\"scattergl\",\"marker\":{\"colorbar\":{\"outlinewidth\":0,\"ticks\":\"\"}}}],\"scatter3d\":[{\"type\":\"scatter3d\",\"line\":{\"colorbar\":{\"outlinewidth\":0,\"ticks\":\"\"}},\"marker\":{\"colorbar\":{\"outlinewidth\":0,\"ticks\":\"\"}}}],\"scattermapbox\":[{\"type\":\"scattermapbox\",\"marker\":{\"colorbar\":{\"outlinewidth\":0,\"ticks\":\"\"}}}],\"scatterternary\":[{\"type\":\"scatterternary\",\"marker\":{\"colorbar\":{\"outlinewidth\":0,\"ticks\":\"\"}}}],\"scattercarpet\":[{\"type\":\"scattercarpet\",\"marker\":{\"colorbar\":{\"outlinewidth\":0,\"ticks\":\"\"}}}],\"carpet\":[{\"aaxis\":{\"endlinecolor\":\"#2a3f5f\",\"gridcolor\":\"white\",\"linecolor\":\"white\",\"minorgridcolor\":\"white\",\"startlinecolor\":\"#2a3f5f\"},\"baxis\":{\"endlinecolor\":\"#2a3f5f\",\"gridcolor\":\"white\",\"linecolor\":\"white\",\"minorgridcolor\":\"white\",\"startlinecolor\":\"#2a3f5f\"},\"type\":\"carpet\"}],\"table\":[{\"cells\":{\"fill\":{\"color\":\"#EBF0F8\"},\"line\":{\"color\":\"white\"}},\"header\":{\"fill\":{\"color\":\"#C8D4E3\"},\"line\":{\"color\":\"white\"}},\"type\":\"table\"}],\"barpolar\":[{\"marker\":{\"line\":{\"color\":\"#E5ECF6\",\"width\":0.5},\"pattern\":{\"fillmode\":\"overlay\",\"size\":10,\"solidity\":0.2}},\"type\":\"barpolar\"}],\"pie\":[{\"automargin\":true,\"type\":\"pie\"}]},\"layout\":{\"autotypenumbers\":\"strict\",\"colorway\":[\"#636efa\",\"#EF553B\",\"#00cc96\",\"#ab63fa\",\"#FFA15A\",\"#19d3f3\",\"#FF6692\",\"#B6E880\",\"#FF97FF\",\"#FECB52\"],\"font\":{\"color\":\"#2a3f5f\"},\"hovermode\":\"closest\",\"hoverlabel\":{\"align\":\"left\"},\"paper_bgcolor\":\"white\",\"plot_bgcolor\":\"#E5ECF6\",\"polar\":{\"bgcolor\":\"#E5ECF6\",\"angularaxis\":{\"gridcolor\":\"white\",\"linecolor\":\"white\",\"ticks\":\"\"},\"radialaxis\":{\"gridcolor\":\"white\",\"linecolor\":\"white\",\"ticks\":\"\"}},\"ternary\":{\"bgcolor\":\"#E5ECF6\",\"aaxis\":{\"gridcolor\":\"white\",\"linecolor\":\"white\",\"ticks\":\"\"},\"baxis\":{\"gridcolor\":\"white\",\"linecolor\":\"white\",\"ticks\":\"\"},\"caxis\":{\"gridcolor\":\"white\",\"linecolor\":\"white\",\"ticks\":\"\"}},\"coloraxis\":{\"colorbar\":{\"outlinewidth\":0,\"ticks\":\"\"}},\"colorscale\":{\"sequential\":[[0.0,\"#0d0887\"],[0.1111111111111111,\"#46039f\"],[0.2222222222222222,\"#7201a8\"],[0.3333333333333333,\"#9c179e\"],[0.4444444444444444,\"#bd3786\"],[0.5555555555555556,\"#d8576b\"],[0.6666666666666666,\"#ed7953\"],[0.7777777777777778,\"#fb9f3a\"],[0.8888888888888888,\"#fdca26\"],[1.0,\"#f0f921\"]],\"sequentialminus\":[[0.0,\"#0d0887\"],[0.1111111111111111,\"#46039f\"],[0.2222222222222222,\"#7201a8\"],[0.3333333333333333,\"#9c179e\"],[0.4444444444444444,\"#bd3786\"],[0.5555555555555556,\"#d8576b\"],[0.6666666666666666,\"#ed7953\"],[0.7777777777777778,\"#fb9f3a\"],[0.8888888888888888,\"#fdca26\"],[1.0,\"#f0f921\"]],\"diverging\":[[0,\"#8e0152\"],[0.1,\"#c51b7d\"],[0.2,\"#de77ae\"],[0.3,\"#f1b6da\"],[0.4,\"#fde0ef\"],[0.5,\"#f7f7f7\"],[0.6,\"#e6f5d0\"],[0.7,\"#b8e186\"],[0.8,\"#7fbc41\"],[0.9,\"#4d9221\"],[1,\"#276419\"]]},\"xaxis\":{\"gridcolor\":\"white\",\"linecolor\":\"white\",\"ticks\":\"\",\"title\":{\"standoff\":15},\"zerolinecolor\":\"white\",\"automargin\":true,\"zerolinewidth\":2},\"yaxis\":{\"gridcolor\":\"white\",\"linecolor\":\"white\",\"ticks\":\"\",\"title\":{\"standoff\":15},\"zerolinecolor\":\"white\",\"automargin\":true,\"zerolinewidth\":2},\"scene\":{\"xaxis\":{\"backgroundcolor\":\"#E5ECF6\",\"gridcolor\":\"white\",\"linecolor\":\"white\",\"showbackground\":true,\"ticks\":\"\",\"zerolinecolor\":\"white\",\"gridwidth\":2},\"yaxis\":{\"backgroundcolor\":\"#E5ECF6\",\"gridcolor\":\"white\",\"linecolor\":\"white\",\"showbackground\":true,\"ticks\":\"\",\"zerolinecolor\":\"white\",\"gridwidth\":2},\"zaxis\":{\"backgroundcolor\":\"#E5ECF6\",\"gridcolor\":\"white\",\"linecolor\":\"white\",\"showbackground\":true,\"ticks\":\"\",\"zerolinecolor\":\"white\",\"gridwidth\":2}},\"shapedefaults\":{\"line\":{\"color\":\"#2a3f5f\"}},\"annotationdefaults\":{\"arrowcolor\":\"#2a3f5f\",\"arrowhead\":0,\"arrowwidth\":1},\"geo\":{\"bgcolor\":\"white\",\"landcolor\":\"#E5ECF6\",\"subunitcolor\":\"white\",\"showland\":true,\"showlakes\":true,\"lakecolor\":\"white\"},\"title\":{\"x\":0.05},\"mapbox\":{\"style\":\"light\"}}},\"xaxis\":{\"anchor\":\"y\",\"domain\":[0.0,1.0],\"title\":{\"text\":\"\"}},\"yaxis\":{\"anchor\":\"x\",\"domain\":[0.0,1.0],\"title\":{\"text\":\"Frequency\"}},\"legend\":{\"tracegroupgap\":0},\"margin\":{\"t\":60},\"barmode\":\"relative\",\"title\":{\"text\":\"Distribution of the Categories of Customer Issues\"}},                        {\"responsive\": true}                    ).then(function(){\n",
       "                            \n",
       "var gd = document.getElementById('189c64a5-6bd5-4cc8-a914-e817cd286870');\n",
       "var x = new MutationObserver(function (mutations, observer) {{\n",
       "        var display = window.getComputedStyle(gd).display;\n",
       "        if (!display || display === 'none') {{\n",
       "            console.log([gd, 'removed!']);\n",
       "            Plotly.purge(gd);\n",
       "            observer.disconnect();\n",
       "        }}\n",
       "}});\n",
       "\n",
       "// Listen for the removal of the full notebook cells\n",
       "var notebookContainer = gd.closest('#notebook-container');\n",
       "if (notebookContainer) {{\n",
       "    x.observe(notebookContainer, {childList: true});\n",
       "}}\n",
       "\n",
       "// Listen for the clearing of the current output cell\n",
       "var outputEl = gd.closest('.output');\n",
       "if (outputEl) {{\n",
       "    x.observe(outputEl, {childList: true});\n",
       "}}\n",
       "\n",
       "                        })                };                });            </script>        </div>"
      ]
     },
     "metadata": {},
     "output_type": "display_data"
    }
   ],
   "source": [
    "import pandas as pd\n",
    "import plotly.express as px\n",
    "\n",
    "# interaction counts\n",
    "interaction_types = df['Customer Issue Category'].value_counts()\n",
    "\n",
    "# Create a bar chart using Plotly\n",
    "fig = px.bar(interaction_types, x=interaction_types.index, y=interaction_types.values)\n",
    "fig.update_layout(\n",
    "    title='Distribution of the Categories of Customer Issues',\n",
    "    xaxis_title='',\n",
    "    yaxis_title='Frequency'\n",
    ")\n",
    "fig.show()"
   ]
  },
  {
   "cell_type": "code",
   "execution_count": 65,
   "id": "9e5b8573",
   "metadata": {},
   "outputs": [
    {
     "data": {
      "application/vnd.plotly.v1+json": {
       "config": {
        "plotlyServerURL": "https://plot.ly"
       },
       "data": [
        {
         "alignmentgroup": "True",
         "hovertemplate": "index=%{x}<br>y=%{y}<extra></extra>",
         "legendgroup": "",
         "marker": {
          "color": "#636efa",
          "pattern": {
           "shape": ""
          }
         },
         "name": "",
         "offsetgroup": "",
         "orientation": "v",
         "showlegend": false,
         "textposition": "auto",
         "type": "bar",
         "x": [
          "unknown ",
          "Chitungwiza",
          "Bulawayo",
          "Harare",
          "Domboshava",
          "Chegutu",
          "Kadoma",
          "Chinhoyi",
          "Gweru",
          "Glenview",
          "Karoi",
          "Kuwadzana",
          "Mutare",
          "Budiriro",
          "Mberengwa",
          "Bindura",
          "Masvingo",
          "Buhera",
          "Ruwa",
          "harare",
          "Rusape",
          "Mutoko",
          "Waterfalls",
          "Mrehwa",
          "Marondera",
          "Kwekwe",
          "Dzivarasekwa",
          "Gokwe",
          "Beitbridge",
          "Nyanga",
          "Epworth",
          "Mhondoro",
          "Chivhu",
          "Norton",
          "Gutu",
          "Southley Park",
          "Mufakose",
          "Glenorah",
          "Shurugwi",
          "Highfield ",
          "warren park",
          "Borrowdale",
          "Mhangura",
          "Mt Darwin",
          "Kambuzuma",
          "Guruve",
          "Mbare",
          "Muzarabani",
          "Hatcliffe",
          "Shamva",
          "Eastview",
          "Madziva",
          "Zvishavane",
          "Chipinge",
          "mabvuku",
          "Chiredzi",
          "Hurungwe",
          "Stoneridge",
          "Goromonzi",
          "Wedza",
          "Bikita",
          "Machipisa",
          "Malborough",
          "Westgate",
          "Mahusekwa",
          "Magunje",
          "Centenary",
          "Glendale",
          "Mabvuku",
          "Hatfield ",
          "UMP",
          "Mutorashanga",
          "Southerton",
          "Zimre Park ",
          "chipinge",
          "Marange",
          "Tafara",
          "ushewokunze",
          "Ardbennie",
          "Chimanimani",
          "Mandara",
          "Avondale",
          "mutoko",
          "Sunningdale",
          "Mazowe",
          "Penalonga",
          "Mwenezi",
          "Msengezi",
          "Headlands",
          "Mabelreign ",
          "mutare",
          "Nyabira",
          "Southlands",
          "Binga",
          "Mudzi",
          "Granary",
          "Gwanda",
          "Chiweshe ",
          "marange",
          "Kenzamba",
          "Mt Pleasant",
          "Zaka",
          "Mt Hampden",
          "Grendale",
          "braeside",
          "Damafalls",
          "Mvurwi",
          "Belvedere",
          "Dangamvura",
          "Macheke",
          "zvishavane",
          "Mabelreign",
          "Chivi",
          "Tynwald",
          "Murambinda",
          "Mbizo",
          "St Alberts ",
          "St Marys",
          "Sanyati ",
          "gokwe",
          "mvurwi",
          "chivi",
          "Makonde",
          "Marimba",
          "Greendale",
          "Newlands",
          "filabusi",
          "Glaudina",
          "Rafingora",
          "Willowvale",
          "highlands",
          "Alaska",
          "High Glen",
          "Eastlea",
          "Westlea",
          "Zhombe",
          "Mvuma",
          "Msasa ",
          "Furtherstone",
          "Seke",
          "Banket",
          "Avenues",
          "Chihota",
          "Helwin",
          "Esgodini",
          "Broomley",
          "Mutasa",
          "Sandton",
          "Tengwe",
          "Beatrice",
          "Howard",
          "Msasa",
          "Victoria Falls",
          "Darwendale",
          "tengwe",
          "Bechnough ",
          "Bhora",
          "Ngundu",
          "Matombo",
          "Nyahondo",
          "Triangle ",
          "Chikomo",
          "Mujinga",
          "Sadza",
          "Whitecliff",
          "Mayo",
          "Support Unit",
          "Nyika",
          "mrehwa",
          "mbare",
          "Southridge ",
          "Mataga",
          "Lusaka",
          "Nyamapanda",
          "Gazebo",
          "Chaza",
          "Alex Park",
          "Churumhanzi",
          "mudzi",
          "Hopely",
          "manyame",
          "nyazura",
          "hurungwe",
          "St Peters",
          "Highlands",
          "Pumula",
          "honde valley",
          "hwange",
          "Masowe",
          "wedza",
          "zvimba",
          "Melford",
          "Helensvale",
          "Crowhill",
          "nyanga",
          "banket",
          "Afgate",
          "Nkulumane",
          "Chanda",
          "Stapleford",
          "Mutendwa",
          "Tynwald ",
          "gweru",
          "Battlefield",
          "Mbire",
          "bulawayo",
          "macheke",
          "Mutawatawa",
          "Fidelity",
          "Turnpike",
          "Chikwanha",
          "Pomona",
          "Arcturus",
          "Highway",
          "Lupane",
          "Cold Comfort",
          "Mutare ",
          "Nyamazuwa",
          "Concession ",
          "Snake Park",
          "Honde valley ",
          "Chivende ",
          "Hwange",
          "Kutama",
          "Chikurubi",
          "Chitubu",
          "Rushinga",
          "Glenforest",
          "Ngai",
          "Mapinga",
          "Selous",
          "Godora",
          "Mungate",
          "ruwa",
          "Chisipite",
          "Makande",
          "Tsholotsho",
          "Gumbanjera",
          "Chishawasha",
          "Sheeba",
          "Lionsden",
          "Whitehouse",
          "Nyanyadzi",
          "Runde",
          "Checheche",
          "Gukwa",
          "Tore",
          "Sherwood ",
          "Nyazura ",
          "Workington",
          "karoi",
          "Matepatepa",
          "Chiodza",
          "Kotwa",
          "Nembudziya",
          "Queensdale",
          "Mazvikadei",
          "Glen Lorne",
          "Hauna",
          "Gwaze",
          "Halfway",
          "Rugare",
          "Bluffhill",
          "Sinai",
          "Nkayi",
          "Manyame",
          "Mayville ",
          "Murombedzi",
          "Matogo",
          "Ashdown park",
          "madokero"
         ],
         "xaxis": "x",
         "y": [
          200,
          80,
          70,
          57,
          38,
          37,
          33,
          32,
          30,
          29,
          28,
          28,
          26,
          26,
          25,
          24,
          24,
          24,
          23,
          22,
          21,
          21,
          21,
          21,
          20,
          20,
          19,
          16,
          16,
          16,
          15,
          15,
          14,
          14,
          14,
          13,
          13,
          13,
          13,
          13,
          12,
          11,
          10,
          10,
          10,
          9,
          9,
          9,
          9,
          9,
          9,
          8,
          8,
          8,
          8,
          7,
          7,
          7,
          7,
          6,
          6,
          6,
          6,
          6,
          6,
          5,
          5,
          5,
          5,
          5,
          5,
          5,
          5,
          5,
          5,
          5,
          4,
          4,
          4,
          4,
          4,
          4,
          4,
          4,
          4,
          4,
          4,
          3,
          3,
          3,
          3,
          3,
          3,
          3,
          3,
          3,
          3,
          3,
          3,
          3,
          3,
          3,
          3,
          3,
          3,
          3,
          3,
          3,
          3,
          3,
          3,
          3,
          3,
          2,
          2,
          2,
          2,
          2,
          2,
          2,
          2,
          2,
          2,
          2,
          2,
          2,
          2,
          2,
          2,
          2,
          2,
          2,
          2,
          2,
          2,
          2,
          2,
          2,
          2,
          2,
          2,
          2,
          2,
          2,
          2,
          2,
          2,
          2,
          2,
          2,
          1,
          1,
          1,
          1,
          1,
          1,
          1,
          1,
          1,
          1,
          1,
          1,
          1,
          1,
          1,
          1,
          1,
          1,
          1,
          1,
          1,
          1,
          1,
          1,
          1,
          1,
          1,
          1,
          1,
          1,
          1,
          1,
          1,
          1,
          1,
          1,
          1,
          1,
          1,
          1,
          1,
          1,
          1,
          1,
          1,
          1,
          1,
          1,
          1,
          1,
          1,
          1,
          1,
          1,
          1,
          1,
          1,
          1,
          1,
          1,
          1,
          1,
          1,
          1,
          1,
          1,
          1,
          1,
          1,
          1,
          1,
          1,
          1,
          1,
          1,
          1,
          1,
          1,
          1,
          1,
          1,
          1,
          1,
          1,
          1,
          1,
          1,
          1,
          1,
          1,
          1,
          1,
          1,
          1,
          1,
          1,
          1,
          1,
          1,
          1,
          1,
          1,
          1,
          1,
          1,
          1,
          1,
          1,
          1,
          1,
          1,
          1,
          1,
          1,
          1,
          1,
          1,
          1,
          1,
          1,
          1
         ],
         "yaxis": "y"
        }
       ],
       "layout": {
        "barmode": "relative",
        "legend": {
         "tracegroupgap": 0
        },
        "margin": {
         "t": 60
        },
        "template": {
         "data": {
          "bar": [
           {
            "error_x": {
             "color": "#2a3f5f"
            },
            "error_y": {
             "color": "#2a3f5f"
            },
            "marker": {
             "line": {
              "color": "#E5ECF6",
              "width": 0.5
             },
             "pattern": {
              "fillmode": "overlay",
              "size": 10,
              "solidity": 0.2
             }
            },
            "type": "bar"
           }
          ],
          "barpolar": [
           {
            "marker": {
             "line": {
              "color": "#E5ECF6",
              "width": 0.5
             },
             "pattern": {
              "fillmode": "overlay",
              "size": 10,
              "solidity": 0.2
             }
            },
            "type": "barpolar"
           }
          ],
          "carpet": [
           {
            "aaxis": {
             "endlinecolor": "#2a3f5f",
             "gridcolor": "white",
             "linecolor": "white",
             "minorgridcolor": "white",
             "startlinecolor": "#2a3f5f"
            },
            "baxis": {
             "endlinecolor": "#2a3f5f",
             "gridcolor": "white",
             "linecolor": "white",
             "minorgridcolor": "white",
             "startlinecolor": "#2a3f5f"
            },
            "type": "carpet"
           }
          ],
          "choropleth": [
           {
            "colorbar": {
             "outlinewidth": 0,
             "ticks": ""
            },
            "type": "choropleth"
           }
          ],
          "contour": [
           {
            "colorbar": {
             "outlinewidth": 0,
             "ticks": ""
            },
            "colorscale": [
             [
              0,
              "#0d0887"
             ],
             [
              0.1111111111111111,
              "#46039f"
             ],
             [
              0.2222222222222222,
              "#7201a8"
             ],
             [
              0.3333333333333333,
              "#9c179e"
             ],
             [
              0.4444444444444444,
              "#bd3786"
             ],
             [
              0.5555555555555556,
              "#d8576b"
             ],
             [
              0.6666666666666666,
              "#ed7953"
             ],
             [
              0.7777777777777778,
              "#fb9f3a"
             ],
             [
              0.8888888888888888,
              "#fdca26"
             ],
             [
              1,
              "#f0f921"
             ]
            ],
            "type": "contour"
           }
          ],
          "contourcarpet": [
           {
            "colorbar": {
             "outlinewidth": 0,
             "ticks": ""
            },
            "type": "contourcarpet"
           }
          ],
          "heatmap": [
           {
            "colorbar": {
             "outlinewidth": 0,
             "ticks": ""
            },
            "colorscale": [
             [
              0,
              "#0d0887"
             ],
             [
              0.1111111111111111,
              "#46039f"
             ],
             [
              0.2222222222222222,
              "#7201a8"
             ],
             [
              0.3333333333333333,
              "#9c179e"
             ],
             [
              0.4444444444444444,
              "#bd3786"
             ],
             [
              0.5555555555555556,
              "#d8576b"
             ],
             [
              0.6666666666666666,
              "#ed7953"
             ],
             [
              0.7777777777777778,
              "#fb9f3a"
             ],
             [
              0.8888888888888888,
              "#fdca26"
             ],
             [
              1,
              "#f0f921"
             ]
            ],
            "type": "heatmap"
           }
          ],
          "heatmapgl": [
           {
            "colorbar": {
             "outlinewidth": 0,
             "ticks": ""
            },
            "colorscale": [
             [
              0,
              "#0d0887"
             ],
             [
              0.1111111111111111,
              "#46039f"
             ],
             [
              0.2222222222222222,
              "#7201a8"
             ],
             [
              0.3333333333333333,
              "#9c179e"
             ],
             [
              0.4444444444444444,
              "#bd3786"
             ],
             [
              0.5555555555555556,
              "#d8576b"
             ],
             [
              0.6666666666666666,
              "#ed7953"
             ],
             [
              0.7777777777777778,
              "#fb9f3a"
             ],
             [
              0.8888888888888888,
              "#fdca26"
             ],
             [
              1,
              "#f0f921"
             ]
            ],
            "type": "heatmapgl"
           }
          ],
          "histogram": [
           {
            "marker": {
             "pattern": {
              "fillmode": "overlay",
              "size": 10,
              "solidity": 0.2
             }
            },
            "type": "histogram"
           }
          ],
          "histogram2d": [
           {
            "colorbar": {
             "outlinewidth": 0,
             "ticks": ""
            },
            "colorscale": [
             [
              0,
              "#0d0887"
             ],
             [
              0.1111111111111111,
              "#46039f"
             ],
             [
              0.2222222222222222,
              "#7201a8"
             ],
             [
              0.3333333333333333,
              "#9c179e"
             ],
             [
              0.4444444444444444,
              "#bd3786"
             ],
             [
              0.5555555555555556,
              "#d8576b"
             ],
             [
              0.6666666666666666,
              "#ed7953"
             ],
             [
              0.7777777777777778,
              "#fb9f3a"
             ],
             [
              0.8888888888888888,
              "#fdca26"
             ],
             [
              1,
              "#f0f921"
             ]
            ],
            "type": "histogram2d"
           }
          ],
          "histogram2dcontour": [
           {
            "colorbar": {
             "outlinewidth": 0,
             "ticks": ""
            },
            "colorscale": [
             [
              0,
              "#0d0887"
             ],
             [
              0.1111111111111111,
              "#46039f"
             ],
             [
              0.2222222222222222,
              "#7201a8"
             ],
             [
              0.3333333333333333,
              "#9c179e"
             ],
             [
              0.4444444444444444,
              "#bd3786"
             ],
             [
              0.5555555555555556,
              "#d8576b"
             ],
             [
              0.6666666666666666,
              "#ed7953"
             ],
             [
              0.7777777777777778,
              "#fb9f3a"
             ],
             [
              0.8888888888888888,
              "#fdca26"
             ],
             [
              1,
              "#f0f921"
             ]
            ],
            "type": "histogram2dcontour"
           }
          ],
          "mesh3d": [
           {
            "colorbar": {
             "outlinewidth": 0,
             "ticks": ""
            },
            "type": "mesh3d"
           }
          ],
          "parcoords": [
           {
            "line": {
             "colorbar": {
              "outlinewidth": 0,
              "ticks": ""
             }
            },
            "type": "parcoords"
           }
          ],
          "pie": [
           {
            "automargin": true,
            "type": "pie"
           }
          ],
          "scatter": [
           {
            "fillpattern": {
             "fillmode": "overlay",
             "size": 10,
             "solidity": 0.2
            },
            "type": "scatter"
           }
          ],
          "scatter3d": [
           {
            "line": {
             "colorbar": {
              "outlinewidth": 0,
              "ticks": ""
             }
            },
            "marker": {
             "colorbar": {
              "outlinewidth": 0,
              "ticks": ""
             }
            },
            "type": "scatter3d"
           }
          ],
          "scattercarpet": [
           {
            "marker": {
             "colorbar": {
              "outlinewidth": 0,
              "ticks": ""
             }
            },
            "type": "scattercarpet"
           }
          ],
          "scattergeo": [
           {
            "marker": {
             "colorbar": {
              "outlinewidth": 0,
              "ticks": ""
             }
            },
            "type": "scattergeo"
           }
          ],
          "scattergl": [
           {
            "marker": {
             "colorbar": {
              "outlinewidth": 0,
              "ticks": ""
             }
            },
            "type": "scattergl"
           }
          ],
          "scattermapbox": [
           {
            "marker": {
             "colorbar": {
              "outlinewidth": 0,
              "ticks": ""
             }
            },
            "type": "scattermapbox"
           }
          ],
          "scatterpolar": [
           {
            "marker": {
             "colorbar": {
              "outlinewidth": 0,
              "ticks": ""
             }
            },
            "type": "scatterpolar"
           }
          ],
          "scatterpolargl": [
           {
            "marker": {
             "colorbar": {
              "outlinewidth": 0,
              "ticks": ""
             }
            },
            "type": "scatterpolargl"
           }
          ],
          "scatterternary": [
           {
            "marker": {
             "colorbar": {
              "outlinewidth": 0,
              "ticks": ""
             }
            },
            "type": "scatterternary"
           }
          ],
          "surface": [
           {
            "colorbar": {
             "outlinewidth": 0,
             "ticks": ""
            },
            "colorscale": [
             [
              0,
              "#0d0887"
             ],
             [
              0.1111111111111111,
              "#46039f"
             ],
             [
              0.2222222222222222,
              "#7201a8"
             ],
             [
              0.3333333333333333,
              "#9c179e"
             ],
             [
              0.4444444444444444,
              "#bd3786"
             ],
             [
              0.5555555555555556,
              "#d8576b"
             ],
             [
              0.6666666666666666,
              "#ed7953"
             ],
             [
              0.7777777777777778,
              "#fb9f3a"
             ],
             [
              0.8888888888888888,
              "#fdca26"
             ],
             [
              1,
              "#f0f921"
             ]
            ],
            "type": "surface"
           }
          ],
          "table": [
           {
            "cells": {
             "fill": {
              "color": "#EBF0F8"
             },
             "line": {
              "color": "white"
             }
            },
            "header": {
             "fill": {
              "color": "#C8D4E3"
             },
             "line": {
              "color": "white"
             }
            },
            "type": "table"
           }
          ]
         },
         "layout": {
          "annotationdefaults": {
           "arrowcolor": "#2a3f5f",
           "arrowhead": 0,
           "arrowwidth": 1
          },
          "autotypenumbers": "strict",
          "coloraxis": {
           "colorbar": {
            "outlinewidth": 0,
            "ticks": ""
           }
          },
          "colorscale": {
           "diverging": [
            [
             0,
             "#8e0152"
            ],
            [
             0.1,
             "#c51b7d"
            ],
            [
             0.2,
             "#de77ae"
            ],
            [
             0.3,
             "#f1b6da"
            ],
            [
             0.4,
             "#fde0ef"
            ],
            [
             0.5,
             "#f7f7f7"
            ],
            [
             0.6,
             "#e6f5d0"
            ],
            [
             0.7,
             "#b8e186"
            ],
            [
             0.8,
             "#7fbc41"
            ],
            [
             0.9,
             "#4d9221"
            ],
            [
             1,
             "#276419"
            ]
           ],
           "sequential": [
            [
             0,
             "#0d0887"
            ],
            [
             0.1111111111111111,
             "#46039f"
            ],
            [
             0.2222222222222222,
             "#7201a8"
            ],
            [
             0.3333333333333333,
             "#9c179e"
            ],
            [
             0.4444444444444444,
             "#bd3786"
            ],
            [
             0.5555555555555556,
             "#d8576b"
            ],
            [
             0.6666666666666666,
             "#ed7953"
            ],
            [
             0.7777777777777778,
             "#fb9f3a"
            ],
            [
             0.8888888888888888,
             "#fdca26"
            ],
            [
             1,
             "#f0f921"
            ]
           ],
           "sequentialminus": [
            [
             0,
             "#0d0887"
            ],
            [
             0.1111111111111111,
             "#46039f"
            ],
            [
             0.2222222222222222,
             "#7201a8"
            ],
            [
             0.3333333333333333,
             "#9c179e"
            ],
            [
             0.4444444444444444,
             "#bd3786"
            ],
            [
             0.5555555555555556,
             "#d8576b"
            ],
            [
             0.6666666666666666,
             "#ed7953"
            ],
            [
             0.7777777777777778,
             "#fb9f3a"
            ],
            [
             0.8888888888888888,
             "#fdca26"
            ],
            [
             1,
             "#f0f921"
            ]
           ]
          },
          "colorway": [
           "#636efa",
           "#EF553B",
           "#00cc96",
           "#ab63fa",
           "#FFA15A",
           "#19d3f3",
           "#FF6692",
           "#B6E880",
           "#FF97FF",
           "#FECB52"
          ],
          "font": {
           "color": "#2a3f5f"
          },
          "geo": {
           "bgcolor": "white",
           "lakecolor": "white",
           "landcolor": "#E5ECF6",
           "showlakes": true,
           "showland": true,
           "subunitcolor": "white"
          },
          "hoverlabel": {
           "align": "left"
          },
          "hovermode": "closest",
          "mapbox": {
           "style": "light"
          },
          "paper_bgcolor": "white",
          "plot_bgcolor": "#E5ECF6",
          "polar": {
           "angularaxis": {
            "gridcolor": "white",
            "linecolor": "white",
            "ticks": ""
           },
           "bgcolor": "#E5ECF6",
           "radialaxis": {
            "gridcolor": "white",
            "linecolor": "white",
            "ticks": ""
           }
          },
          "scene": {
           "xaxis": {
            "backgroundcolor": "#E5ECF6",
            "gridcolor": "white",
            "gridwidth": 2,
            "linecolor": "white",
            "showbackground": true,
            "ticks": "",
            "zerolinecolor": "white"
           },
           "yaxis": {
            "backgroundcolor": "#E5ECF6",
            "gridcolor": "white",
            "gridwidth": 2,
            "linecolor": "white",
            "showbackground": true,
            "ticks": "",
            "zerolinecolor": "white"
           },
           "zaxis": {
            "backgroundcolor": "#E5ECF6",
            "gridcolor": "white",
            "gridwidth": 2,
            "linecolor": "white",
            "showbackground": true,
            "ticks": "",
            "zerolinecolor": "white"
           }
          },
          "shapedefaults": {
           "line": {
            "color": "#2a3f5f"
           }
          },
          "ternary": {
           "aaxis": {
            "gridcolor": "white",
            "linecolor": "white",
            "ticks": ""
           },
           "baxis": {
            "gridcolor": "white",
            "linecolor": "white",
            "ticks": ""
           },
           "bgcolor": "#E5ECF6",
           "caxis": {
            "gridcolor": "white",
            "linecolor": "white",
            "ticks": ""
           }
          },
          "title": {
           "x": 0.05
          },
          "xaxis": {
           "automargin": true,
           "gridcolor": "white",
           "linecolor": "white",
           "ticks": "",
           "title": {
            "standoff": 15
           },
           "zerolinecolor": "white",
           "zerolinewidth": 2
          },
          "yaxis": {
           "automargin": true,
           "gridcolor": "white",
           "linecolor": "white",
           "ticks": "",
           "title": {
            "standoff": 15
           },
           "zerolinecolor": "white",
           "zerolinewidth": 2
          }
         }
        },
        "title": {
         "text": "Distribution of Locations From which Issues were reported from"
        },
        "xaxis": {
         "anchor": "y",
         "domain": [
          0,
          1
         ],
         "title": {
          "text": ""
         }
        },
        "yaxis": {
         "anchor": "x",
         "domain": [
          0,
          1
         ],
         "title": {
          "text": "Frequency"
         }
        }
       }
      },
      "text/html": [
       "<div>                            <div id=\"664c2350-5f67-43da-9c1a-d85b3d85b4e6\" class=\"plotly-graph-div\" style=\"height:525px; width:100%;\"></div>            <script type=\"text/javascript\">                require([\"plotly\"], function(Plotly) {                    window.PLOTLYENV=window.PLOTLYENV || {};                                    if (document.getElementById(\"664c2350-5f67-43da-9c1a-d85b3d85b4e6\")) {                    Plotly.newPlot(                        \"664c2350-5f67-43da-9c1a-d85b3d85b4e6\",                        [{\"alignmentgroup\":\"True\",\"hovertemplate\":\"index=%{x}<br>y=%{y}<extra></extra>\",\"legendgroup\":\"\",\"marker\":{\"color\":\"#636efa\",\"pattern\":{\"shape\":\"\"}},\"name\":\"\",\"offsetgroup\":\"\",\"orientation\":\"v\",\"showlegend\":false,\"textposition\":\"auto\",\"x\":[\"unknown \",\"Chitungwiza\",\"Bulawayo\",\"Harare\",\"Domboshava\",\"Chegutu\",\"Kadoma\",\"Chinhoyi\",\"Gweru\",\"Glenview\",\"Karoi\",\"Kuwadzana\",\"Mutare\",\"Budiriro\",\"Mberengwa\",\"Bindura\",\"Masvingo\",\"Buhera\",\"Ruwa\",\"harare\",\"Rusape\",\"Mutoko\",\"Waterfalls\",\"Mrehwa\",\"Marondera\",\"Kwekwe\",\"Dzivarasekwa\",\"Gokwe\",\"Beitbridge\",\"Nyanga\",\"Epworth\",\"Mhondoro\",\"Chivhu\",\"Norton\",\"Gutu\",\"Southley Park\",\"Mufakose\",\"Glenorah\",\"Shurugwi\",\"Highfield \",\"warren park\",\"Borrowdale\",\"Mhangura\",\"Mt Darwin\",\"Kambuzuma\",\"Guruve\",\"Mbare\",\"Muzarabani\",\"Hatcliffe\",\"Shamva\",\"Eastview\",\"Madziva\",\"Zvishavane\",\"Chipinge\",\"mabvuku\",\"Chiredzi\",\"Hurungwe\",\"Stoneridge\",\"Goromonzi\",\"Wedza\",\"Bikita\",\"Machipisa\",\"Malborough\",\"Westgate\",\"Mahusekwa\",\"Magunje\",\"Centenary\",\"Glendale\",\"Mabvuku\",\"Hatfield \",\"UMP\",\"Mutorashanga\",\"Southerton\",\"Zimre Park \",\"chipinge\",\"Marange\",\"Tafara\",\"ushewokunze\",\"Ardbennie\",\"Chimanimani\",\"Mandara\",\"Avondale\",\"mutoko\",\"Sunningdale\",\"Mazowe\",\"Penalonga\",\"Mwenezi\",\"Msengezi\",\"Headlands\",\"Mabelreign \",\"mutare\",\"Nyabira\",\"Southlands\",\"Binga\",\"Mudzi\",\"Granary\",\"Gwanda\",\"Chiweshe \",\"marange\",\"Kenzamba\",\"Mt Pleasant\",\"Zaka\",\"Mt Hampden\",\"Grendale\",\"braeside\",\"Damafalls\",\"Mvurwi\",\"Belvedere\",\"Dangamvura\",\"Macheke\",\"zvishavane\",\"Mabelreign\",\"Chivi\",\"Tynwald\",\"Murambinda\",\"Mbizo\",\"St Alberts \",\"St Marys\",\"Sanyati \",\"gokwe\",\"mvurwi\",\"chivi\",\"Makonde\",\"Marimba\",\"Greendale\",\"Newlands\",\"filabusi\",\"Glaudina\",\"Rafingora\",\"Willowvale\",\"highlands\",\"Alaska\",\"High Glen\",\"Eastlea\",\"Westlea\",\"Zhombe\",\"Mvuma\",\"Msasa \",\"Furtherstone\",\"Seke\",\"Banket\",\"Avenues\",\"Chihota\",\"Helwin\",\"Esgodini\",\"Broomley\",\"Mutasa\",\"Sandton\",\"Tengwe\",\"Beatrice\",\"Howard\",\"Msasa\",\"Victoria Falls\",\"Darwendale\",\"tengwe\",\"Bechnough \",\"Bhora\",\"Ngundu\",\"Matombo\",\"Nyahondo\",\"Triangle \",\"Chikomo\",\"Mujinga\",\"Sadza\",\"Whitecliff\",\"Mayo\",\"Support Unit\",\"Nyika\",\"mrehwa\",\"mbare\",\"Southridge \",\"Mataga\",\"Lusaka\",\"Nyamapanda\",\"Gazebo\",\"Chaza\",\"Alex Park\",\"Churumhanzi\",\"mudzi\",\"Hopely\",\"manyame\",\"nyazura\",\"hurungwe\",\"St Peters\",\"Highlands\",\"Pumula\",\"honde valley\",\"hwange\",\"Masowe\",\"wedza\",\"zvimba\",\"Melford\",\"Helensvale\",\"Crowhill\",\"nyanga\",\"banket\",\"Afgate\",\"Nkulumane\",\"Chanda\",\"Stapleford\",\"Mutendwa\",\"Tynwald \",\"gweru\",\"Battlefield\",\"Mbire\",\"bulawayo\",\"macheke\",\"Mutawatawa\",\"Fidelity\",\"Turnpike\",\"Chikwanha\",\"Pomona\",\"Arcturus\",\"Highway\",\"Lupane\",\"Cold Comfort\",\"Mutare \",\"Nyamazuwa\",\"Concession \",\"Snake Park\",\"Honde valley \",\"Chivende \",\"Hwange\",\"Kutama\",\"Chikurubi\",\"Chitubu\",\"Rushinga\",\"Glenforest\",\"Ngai\",\"Mapinga\",\"Selous\",\"Godora\",\"Mungate\",\"ruwa\",\"Chisipite\",\"Makande\",\"Tsholotsho\",\"Gumbanjera\",\"Chishawasha\",\"Sheeba\",\"Lionsden\",\"Whitehouse\",\"Nyanyadzi\",\"Runde\",\"Checheche\",\"Gukwa\",\"Tore\",\"Sherwood \",\"Nyazura \",\"Workington\",\"karoi\",\"Matepatepa\",\"Chiodza\",\"Kotwa\",\"Nembudziya\",\"Queensdale\",\"Mazvikadei\",\"Glen Lorne\",\"Hauna\",\"Gwaze\",\"Halfway\",\"Rugare\",\"Bluffhill\",\"Sinai\",\"Nkayi\",\"Manyame\",\"Mayville \",\"Murombedzi\",\"Matogo\",\"Ashdown park\",\"madokero\"],\"xaxis\":\"x\",\"y\":[200,80,70,57,38,37,33,32,30,29,28,28,26,26,25,24,24,24,23,22,21,21,21,21,20,20,19,16,16,16,15,15,14,14,14,13,13,13,13,13,12,11,10,10,10,9,9,9,9,9,9,8,8,8,8,7,7,7,7,6,6,6,6,6,6,5,5,5,5,5,5,5,5,5,5,5,4,4,4,4,4,4,4,4,4,4,4,3,3,3,3,3,3,3,3,3,3,3,3,3,3,3,3,3,3,3,3,3,3,3,3,3,3,2,2,2,2,2,2,2,2,2,2,2,2,2,2,2,2,2,2,2,2,2,2,2,2,2,2,2,2,2,2,2,2,2,2,2,2,2,1,1,1,1,1,1,1,1,1,1,1,1,1,1,1,1,1,1,1,1,1,1,1,1,1,1,1,1,1,1,1,1,1,1,1,1,1,1,1,1,1,1,1,1,1,1,1,1,1,1,1,1,1,1,1,1,1,1,1,1,1,1,1,1,1,1,1,1,1,1,1,1,1,1,1,1,1,1,1,1,1,1,1,1,1,1,1,1,1,1,1,1,1,1,1,1,1,1,1,1,1,1,1,1,1,1,1,1,1,1,1,1,1,1,1,1,1,1,1,1,1],\"yaxis\":\"y\",\"type\":\"bar\"}],                        {\"template\":{\"data\":{\"histogram2dcontour\":[{\"type\":\"histogram2dcontour\",\"colorbar\":{\"outlinewidth\":0,\"ticks\":\"\"},\"colorscale\":[[0.0,\"#0d0887\"],[0.1111111111111111,\"#46039f\"],[0.2222222222222222,\"#7201a8\"],[0.3333333333333333,\"#9c179e\"],[0.4444444444444444,\"#bd3786\"],[0.5555555555555556,\"#d8576b\"],[0.6666666666666666,\"#ed7953\"],[0.7777777777777778,\"#fb9f3a\"],[0.8888888888888888,\"#fdca26\"],[1.0,\"#f0f921\"]]}],\"choropleth\":[{\"type\":\"choropleth\",\"colorbar\":{\"outlinewidth\":0,\"ticks\":\"\"}}],\"histogram2d\":[{\"type\":\"histogram2d\",\"colorbar\":{\"outlinewidth\":0,\"ticks\":\"\"},\"colorscale\":[[0.0,\"#0d0887\"],[0.1111111111111111,\"#46039f\"],[0.2222222222222222,\"#7201a8\"],[0.3333333333333333,\"#9c179e\"],[0.4444444444444444,\"#bd3786\"],[0.5555555555555556,\"#d8576b\"],[0.6666666666666666,\"#ed7953\"],[0.7777777777777778,\"#fb9f3a\"],[0.8888888888888888,\"#fdca26\"],[1.0,\"#f0f921\"]]}],\"heatmap\":[{\"type\":\"heatmap\",\"colorbar\":{\"outlinewidth\":0,\"ticks\":\"\"},\"colorscale\":[[0.0,\"#0d0887\"],[0.1111111111111111,\"#46039f\"],[0.2222222222222222,\"#7201a8\"],[0.3333333333333333,\"#9c179e\"],[0.4444444444444444,\"#bd3786\"],[0.5555555555555556,\"#d8576b\"],[0.6666666666666666,\"#ed7953\"],[0.7777777777777778,\"#fb9f3a\"],[0.8888888888888888,\"#fdca26\"],[1.0,\"#f0f921\"]]}],\"heatmapgl\":[{\"type\":\"heatmapgl\",\"colorbar\":{\"outlinewidth\":0,\"ticks\":\"\"},\"colorscale\":[[0.0,\"#0d0887\"],[0.1111111111111111,\"#46039f\"],[0.2222222222222222,\"#7201a8\"],[0.3333333333333333,\"#9c179e\"],[0.4444444444444444,\"#bd3786\"],[0.5555555555555556,\"#d8576b\"],[0.6666666666666666,\"#ed7953\"],[0.7777777777777778,\"#fb9f3a\"],[0.8888888888888888,\"#fdca26\"],[1.0,\"#f0f921\"]]}],\"contourcarpet\":[{\"type\":\"contourcarpet\",\"colorbar\":{\"outlinewidth\":0,\"ticks\":\"\"}}],\"contour\":[{\"type\":\"contour\",\"colorbar\":{\"outlinewidth\":0,\"ticks\":\"\"},\"colorscale\":[[0.0,\"#0d0887\"],[0.1111111111111111,\"#46039f\"],[0.2222222222222222,\"#7201a8\"],[0.3333333333333333,\"#9c179e\"],[0.4444444444444444,\"#bd3786\"],[0.5555555555555556,\"#d8576b\"],[0.6666666666666666,\"#ed7953\"],[0.7777777777777778,\"#fb9f3a\"],[0.8888888888888888,\"#fdca26\"],[1.0,\"#f0f921\"]]}],\"surface\":[{\"type\":\"surface\",\"colorbar\":{\"outlinewidth\":0,\"ticks\":\"\"},\"colorscale\":[[0.0,\"#0d0887\"],[0.1111111111111111,\"#46039f\"],[0.2222222222222222,\"#7201a8\"],[0.3333333333333333,\"#9c179e\"],[0.4444444444444444,\"#bd3786\"],[0.5555555555555556,\"#d8576b\"],[0.6666666666666666,\"#ed7953\"],[0.7777777777777778,\"#fb9f3a\"],[0.8888888888888888,\"#fdca26\"],[1.0,\"#f0f921\"]]}],\"mesh3d\":[{\"type\":\"mesh3d\",\"colorbar\":{\"outlinewidth\":0,\"ticks\":\"\"}}],\"scatter\":[{\"fillpattern\":{\"fillmode\":\"overlay\",\"size\":10,\"solidity\":0.2},\"type\":\"scatter\"}],\"parcoords\":[{\"type\":\"parcoords\",\"line\":{\"colorbar\":{\"outlinewidth\":0,\"ticks\":\"\"}}}],\"scatterpolargl\":[{\"type\":\"scatterpolargl\",\"marker\":{\"colorbar\":{\"outlinewidth\":0,\"ticks\":\"\"}}}],\"bar\":[{\"error_x\":{\"color\":\"#2a3f5f\"},\"error_y\":{\"color\":\"#2a3f5f\"},\"marker\":{\"line\":{\"color\":\"#E5ECF6\",\"width\":0.5},\"pattern\":{\"fillmode\":\"overlay\",\"size\":10,\"solidity\":0.2}},\"type\":\"bar\"}],\"scattergeo\":[{\"type\":\"scattergeo\",\"marker\":{\"colorbar\":{\"outlinewidth\":0,\"ticks\":\"\"}}}],\"scatterpolar\":[{\"type\":\"scatterpolar\",\"marker\":{\"colorbar\":{\"outlinewidth\":0,\"ticks\":\"\"}}}],\"histogram\":[{\"marker\":{\"pattern\":{\"fillmode\":\"overlay\",\"size\":10,\"solidity\":0.2}},\"type\":\"histogram\"}],\"scattergl\":[{\"type\":\"scattergl\",\"marker\":{\"colorbar\":{\"outlinewidth\":0,\"ticks\":\"\"}}}],\"scatter3d\":[{\"type\":\"scatter3d\",\"line\":{\"colorbar\":{\"outlinewidth\":0,\"ticks\":\"\"}},\"marker\":{\"colorbar\":{\"outlinewidth\":0,\"ticks\":\"\"}}}],\"scattermapbox\":[{\"type\":\"scattermapbox\",\"marker\":{\"colorbar\":{\"outlinewidth\":0,\"ticks\":\"\"}}}],\"scatterternary\":[{\"type\":\"scatterternary\",\"marker\":{\"colorbar\":{\"outlinewidth\":0,\"ticks\":\"\"}}}],\"scattercarpet\":[{\"type\":\"scattercarpet\",\"marker\":{\"colorbar\":{\"outlinewidth\":0,\"ticks\":\"\"}}}],\"carpet\":[{\"aaxis\":{\"endlinecolor\":\"#2a3f5f\",\"gridcolor\":\"white\",\"linecolor\":\"white\",\"minorgridcolor\":\"white\",\"startlinecolor\":\"#2a3f5f\"},\"baxis\":{\"endlinecolor\":\"#2a3f5f\",\"gridcolor\":\"white\",\"linecolor\":\"white\",\"minorgridcolor\":\"white\",\"startlinecolor\":\"#2a3f5f\"},\"type\":\"carpet\"}],\"table\":[{\"cells\":{\"fill\":{\"color\":\"#EBF0F8\"},\"line\":{\"color\":\"white\"}},\"header\":{\"fill\":{\"color\":\"#C8D4E3\"},\"line\":{\"color\":\"white\"}},\"type\":\"table\"}],\"barpolar\":[{\"marker\":{\"line\":{\"color\":\"#E5ECF6\",\"width\":0.5},\"pattern\":{\"fillmode\":\"overlay\",\"size\":10,\"solidity\":0.2}},\"type\":\"barpolar\"}],\"pie\":[{\"automargin\":true,\"type\":\"pie\"}]},\"layout\":{\"autotypenumbers\":\"strict\",\"colorway\":[\"#636efa\",\"#EF553B\",\"#00cc96\",\"#ab63fa\",\"#FFA15A\",\"#19d3f3\",\"#FF6692\",\"#B6E880\",\"#FF97FF\",\"#FECB52\"],\"font\":{\"color\":\"#2a3f5f\"},\"hovermode\":\"closest\",\"hoverlabel\":{\"align\":\"left\"},\"paper_bgcolor\":\"white\",\"plot_bgcolor\":\"#E5ECF6\",\"polar\":{\"bgcolor\":\"#E5ECF6\",\"angularaxis\":{\"gridcolor\":\"white\",\"linecolor\":\"white\",\"ticks\":\"\"},\"radialaxis\":{\"gridcolor\":\"white\",\"linecolor\":\"white\",\"ticks\":\"\"}},\"ternary\":{\"bgcolor\":\"#E5ECF6\",\"aaxis\":{\"gridcolor\":\"white\",\"linecolor\":\"white\",\"ticks\":\"\"},\"baxis\":{\"gridcolor\":\"white\",\"linecolor\":\"white\",\"ticks\":\"\"},\"caxis\":{\"gridcolor\":\"white\",\"linecolor\":\"white\",\"ticks\":\"\"}},\"coloraxis\":{\"colorbar\":{\"outlinewidth\":0,\"ticks\":\"\"}},\"colorscale\":{\"sequential\":[[0.0,\"#0d0887\"],[0.1111111111111111,\"#46039f\"],[0.2222222222222222,\"#7201a8\"],[0.3333333333333333,\"#9c179e\"],[0.4444444444444444,\"#bd3786\"],[0.5555555555555556,\"#d8576b\"],[0.6666666666666666,\"#ed7953\"],[0.7777777777777778,\"#fb9f3a\"],[0.8888888888888888,\"#fdca26\"],[1.0,\"#f0f921\"]],\"sequentialminus\":[[0.0,\"#0d0887\"],[0.1111111111111111,\"#46039f\"],[0.2222222222222222,\"#7201a8\"],[0.3333333333333333,\"#9c179e\"],[0.4444444444444444,\"#bd3786\"],[0.5555555555555556,\"#d8576b\"],[0.6666666666666666,\"#ed7953\"],[0.7777777777777778,\"#fb9f3a\"],[0.8888888888888888,\"#fdca26\"],[1.0,\"#f0f921\"]],\"diverging\":[[0,\"#8e0152\"],[0.1,\"#c51b7d\"],[0.2,\"#de77ae\"],[0.3,\"#f1b6da\"],[0.4,\"#fde0ef\"],[0.5,\"#f7f7f7\"],[0.6,\"#e6f5d0\"],[0.7,\"#b8e186\"],[0.8,\"#7fbc41\"],[0.9,\"#4d9221\"],[1,\"#276419\"]]},\"xaxis\":{\"gridcolor\":\"white\",\"linecolor\":\"white\",\"ticks\":\"\",\"title\":{\"standoff\":15},\"zerolinecolor\":\"white\",\"automargin\":true,\"zerolinewidth\":2},\"yaxis\":{\"gridcolor\":\"white\",\"linecolor\":\"white\",\"ticks\":\"\",\"title\":{\"standoff\":15},\"zerolinecolor\":\"white\",\"automargin\":true,\"zerolinewidth\":2},\"scene\":{\"xaxis\":{\"backgroundcolor\":\"#E5ECF6\",\"gridcolor\":\"white\",\"linecolor\":\"white\",\"showbackground\":true,\"ticks\":\"\",\"zerolinecolor\":\"white\",\"gridwidth\":2},\"yaxis\":{\"backgroundcolor\":\"#E5ECF6\",\"gridcolor\":\"white\",\"linecolor\":\"white\",\"showbackground\":true,\"ticks\":\"\",\"zerolinecolor\":\"white\",\"gridwidth\":2},\"zaxis\":{\"backgroundcolor\":\"#E5ECF6\",\"gridcolor\":\"white\",\"linecolor\":\"white\",\"showbackground\":true,\"ticks\":\"\",\"zerolinecolor\":\"white\",\"gridwidth\":2}},\"shapedefaults\":{\"line\":{\"color\":\"#2a3f5f\"}},\"annotationdefaults\":{\"arrowcolor\":\"#2a3f5f\",\"arrowhead\":0,\"arrowwidth\":1},\"geo\":{\"bgcolor\":\"white\",\"landcolor\":\"#E5ECF6\",\"subunitcolor\":\"white\",\"showland\":true,\"showlakes\":true,\"lakecolor\":\"white\"},\"title\":{\"x\":0.05},\"mapbox\":{\"style\":\"light\"}}},\"xaxis\":{\"anchor\":\"y\",\"domain\":[0.0,1.0],\"title\":{\"text\":\"\"}},\"yaxis\":{\"anchor\":\"x\",\"domain\":[0.0,1.0],\"title\":{\"text\":\"Frequency\"}},\"legend\":{\"tracegroupgap\":0},\"margin\":{\"t\":60},\"barmode\":\"relative\",\"title\":{\"text\":\"Distribution of Locations From which Issues were reported from\"}},                        {\"responsive\": true}                    ).then(function(){\n",
       "                            \n",
       "var gd = document.getElementById('664c2350-5f67-43da-9c1a-d85b3d85b4e6');\n",
       "var x = new MutationObserver(function (mutations, observer) {{\n",
       "        var display = window.getComputedStyle(gd).display;\n",
       "        if (!display || display === 'none') {{\n",
       "            console.log([gd, 'removed!']);\n",
       "            Plotly.purge(gd);\n",
       "            observer.disconnect();\n",
       "        }}\n",
       "}});\n",
       "\n",
       "// Listen for the removal of the full notebook cells\n",
       "var notebookContainer = gd.closest('#notebook-container');\n",
       "if (notebookContainer) {{\n",
       "    x.observe(notebookContainer, {childList: true});\n",
       "}}\n",
       "\n",
       "// Listen for the clearing of the current output cell\n",
       "var outputEl = gd.closest('.output');\n",
       "if (outputEl) {{\n",
       "    x.observe(outputEl, {childList: true});\n",
       "}}\n",
       "\n",
       "                        })                };                });            </script>        </div>"
      ]
     },
     "metadata": {},
     "output_type": "display_data"
    }
   ],
   "source": [
    "# Bar plot: Location\n",
    "locations = df['LOCATION'].value_counts()\n",
    "\n",
    "# Create a bar chart using Plotly\n",
    "fig = px.bar(locations, x=locations.index, y=locations.values)\n",
    "fig.update_layout(\n",
    "    title='Distribution of Locations From which Issues were reported from',\n",
    "    xaxis_title='',\n",
    "    yaxis_title='Frequency'\n",
    ")\n",
    "fig.show()"
   ]
  },
  {
   "cell_type": "code",
   "execution_count": 66,
   "id": "f278d034",
   "metadata": {},
   "outputs": [
    {
     "data": {
      "text/plain": [
       "unknown         200\n",
       "Chitungwiza      80\n",
       "Bulawayo         70\n",
       "Harare           57\n",
       "Domboshava       38\n",
       "               ... \n",
       "Mayville          1\n",
       "Murombedzi        1\n",
       "Matogo            1\n",
       "Ashdown park      1\n",
       "madokero          1\n",
       "Name: LOCATION, Length: 271, dtype: int64"
      ]
     },
     "execution_count": 66,
     "metadata": {},
     "output_type": "execute_result"
    }
   ],
   "source": [
    "locations\n"
   ]
  },
  {
   "cell_type": "code",
   "execution_count": 74,
   "id": "8f733c71",
   "metadata": {},
   "outputs": [
    {
     "data": {
      "application/vnd.plotly.v1+json": {
       "config": {
        "plotlyServerURL": "https://plot.ly"
       },
       "data": [
        {
         "hole": 0.3,
         "labels": [
          "Closed",
          "Open"
         ],
         "textinfo": "percent+label",
         "textposition": "inside",
         "type": "pie",
         "values": [
          1758,
          1
         ]
        }
       ],
       "layout": {
        "template": {
         "data": {
          "bar": [
           {
            "error_x": {
             "color": "#2a3f5f"
            },
            "error_y": {
             "color": "#2a3f5f"
            },
            "marker": {
             "line": {
              "color": "#E5ECF6",
              "width": 0.5
             },
             "pattern": {
              "fillmode": "overlay",
              "size": 10,
              "solidity": 0.2
             }
            },
            "type": "bar"
           }
          ],
          "barpolar": [
           {
            "marker": {
             "line": {
              "color": "#E5ECF6",
              "width": 0.5
             },
             "pattern": {
              "fillmode": "overlay",
              "size": 10,
              "solidity": 0.2
             }
            },
            "type": "barpolar"
           }
          ],
          "carpet": [
           {
            "aaxis": {
             "endlinecolor": "#2a3f5f",
             "gridcolor": "white",
             "linecolor": "white",
             "minorgridcolor": "white",
             "startlinecolor": "#2a3f5f"
            },
            "baxis": {
             "endlinecolor": "#2a3f5f",
             "gridcolor": "white",
             "linecolor": "white",
             "minorgridcolor": "white",
             "startlinecolor": "#2a3f5f"
            },
            "type": "carpet"
           }
          ],
          "choropleth": [
           {
            "colorbar": {
             "outlinewidth": 0,
             "ticks": ""
            },
            "type": "choropleth"
           }
          ],
          "contour": [
           {
            "colorbar": {
             "outlinewidth": 0,
             "ticks": ""
            },
            "colorscale": [
             [
              0,
              "#0d0887"
             ],
             [
              0.1111111111111111,
              "#46039f"
             ],
             [
              0.2222222222222222,
              "#7201a8"
             ],
             [
              0.3333333333333333,
              "#9c179e"
             ],
             [
              0.4444444444444444,
              "#bd3786"
             ],
             [
              0.5555555555555556,
              "#d8576b"
             ],
             [
              0.6666666666666666,
              "#ed7953"
             ],
             [
              0.7777777777777778,
              "#fb9f3a"
             ],
             [
              0.8888888888888888,
              "#fdca26"
             ],
             [
              1,
              "#f0f921"
             ]
            ],
            "type": "contour"
           }
          ],
          "contourcarpet": [
           {
            "colorbar": {
             "outlinewidth": 0,
             "ticks": ""
            },
            "type": "contourcarpet"
           }
          ],
          "heatmap": [
           {
            "colorbar": {
             "outlinewidth": 0,
             "ticks": ""
            },
            "colorscale": [
             [
              0,
              "#0d0887"
             ],
             [
              0.1111111111111111,
              "#46039f"
             ],
             [
              0.2222222222222222,
              "#7201a8"
             ],
             [
              0.3333333333333333,
              "#9c179e"
             ],
             [
              0.4444444444444444,
              "#bd3786"
             ],
             [
              0.5555555555555556,
              "#d8576b"
             ],
             [
              0.6666666666666666,
              "#ed7953"
             ],
             [
              0.7777777777777778,
              "#fb9f3a"
             ],
             [
              0.8888888888888888,
              "#fdca26"
             ],
             [
              1,
              "#f0f921"
             ]
            ],
            "type": "heatmap"
           }
          ],
          "heatmapgl": [
           {
            "colorbar": {
             "outlinewidth": 0,
             "ticks": ""
            },
            "colorscale": [
             [
              0,
              "#0d0887"
             ],
             [
              0.1111111111111111,
              "#46039f"
             ],
             [
              0.2222222222222222,
              "#7201a8"
             ],
             [
              0.3333333333333333,
              "#9c179e"
             ],
             [
              0.4444444444444444,
              "#bd3786"
             ],
             [
              0.5555555555555556,
              "#d8576b"
             ],
             [
              0.6666666666666666,
              "#ed7953"
             ],
             [
              0.7777777777777778,
              "#fb9f3a"
             ],
             [
              0.8888888888888888,
              "#fdca26"
             ],
             [
              1,
              "#f0f921"
             ]
            ],
            "type": "heatmapgl"
           }
          ],
          "histogram": [
           {
            "marker": {
             "pattern": {
              "fillmode": "overlay",
              "size": 10,
              "solidity": 0.2
             }
            },
            "type": "histogram"
           }
          ],
          "histogram2d": [
           {
            "colorbar": {
             "outlinewidth": 0,
             "ticks": ""
            },
            "colorscale": [
             [
              0,
              "#0d0887"
             ],
             [
              0.1111111111111111,
              "#46039f"
             ],
             [
              0.2222222222222222,
              "#7201a8"
             ],
             [
              0.3333333333333333,
              "#9c179e"
             ],
             [
              0.4444444444444444,
              "#bd3786"
             ],
             [
              0.5555555555555556,
              "#d8576b"
             ],
             [
              0.6666666666666666,
              "#ed7953"
             ],
             [
              0.7777777777777778,
              "#fb9f3a"
             ],
             [
              0.8888888888888888,
              "#fdca26"
             ],
             [
              1,
              "#f0f921"
             ]
            ],
            "type": "histogram2d"
           }
          ],
          "histogram2dcontour": [
           {
            "colorbar": {
             "outlinewidth": 0,
             "ticks": ""
            },
            "colorscale": [
             [
              0,
              "#0d0887"
             ],
             [
              0.1111111111111111,
              "#46039f"
             ],
             [
              0.2222222222222222,
              "#7201a8"
             ],
             [
              0.3333333333333333,
              "#9c179e"
             ],
             [
              0.4444444444444444,
              "#bd3786"
             ],
             [
              0.5555555555555556,
              "#d8576b"
             ],
             [
              0.6666666666666666,
              "#ed7953"
             ],
             [
              0.7777777777777778,
              "#fb9f3a"
             ],
             [
              0.8888888888888888,
              "#fdca26"
             ],
             [
              1,
              "#f0f921"
             ]
            ],
            "type": "histogram2dcontour"
           }
          ],
          "mesh3d": [
           {
            "colorbar": {
             "outlinewidth": 0,
             "ticks": ""
            },
            "type": "mesh3d"
           }
          ],
          "parcoords": [
           {
            "line": {
             "colorbar": {
              "outlinewidth": 0,
              "ticks": ""
             }
            },
            "type": "parcoords"
           }
          ],
          "pie": [
           {
            "automargin": true,
            "type": "pie"
           }
          ],
          "scatter": [
           {
            "fillpattern": {
             "fillmode": "overlay",
             "size": 10,
             "solidity": 0.2
            },
            "type": "scatter"
           }
          ],
          "scatter3d": [
           {
            "line": {
             "colorbar": {
              "outlinewidth": 0,
              "ticks": ""
             }
            },
            "marker": {
             "colorbar": {
              "outlinewidth": 0,
              "ticks": ""
             }
            },
            "type": "scatter3d"
           }
          ],
          "scattercarpet": [
           {
            "marker": {
             "colorbar": {
              "outlinewidth": 0,
              "ticks": ""
             }
            },
            "type": "scattercarpet"
           }
          ],
          "scattergeo": [
           {
            "marker": {
             "colorbar": {
              "outlinewidth": 0,
              "ticks": ""
             }
            },
            "type": "scattergeo"
           }
          ],
          "scattergl": [
           {
            "marker": {
             "colorbar": {
              "outlinewidth": 0,
              "ticks": ""
             }
            },
            "type": "scattergl"
           }
          ],
          "scattermapbox": [
           {
            "marker": {
             "colorbar": {
              "outlinewidth": 0,
              "ticks": ""
             }
            },
            "type": "scattermapbox"
           }
          ],
          "scatterpolar": [
           {
            "marker": {
             "colorbar": {
              "outlinewidth": 0,
              "ticks": ""
             }
            },
            "type": "scatterpolar"
           }
          ],
          "scatterpolargl": [
           {
            "marker": {
             "colorbar": {
              "outlinewidth": 0,
              "ticks": ""
             }
            },
            "type": "scatterpolargl"
           }
          ],
          "scatterternary": [
           {
            "marker": {
             "colorbar": {
              "outlinewidth": 0,
              "ticks": ""
             }
            },
            "type": "scatterternary"
           }
          ],
          "surface": [
           {
            "colorbar": {
             "outlinewidth": 0,
             "ticks": ""
            },
            "colorscale": [
             [
              0,
              "#0d0887"
             ],
             [
              0.1111111111111111,
              "#46039f"
             ],
             [
              0.2222222222222222,
              "#7201a8"
             ],
             [
              0.3333333333333333,
              "#9c179e"
             ],
             [
              0.4444444444444444,
              "#bd3786"
             ],
             [
              0.5555555555555556,
              "#d8576b"
             ],
             [
              0.6666666666666666,
              "#ed7953"
             ],
             [
              0.7777777777777778,
              "#fb9f3a"
             ],
             [
              0.8888888888888888,
              "#fdca26"
             ],
             [
              1,
              "#f0f921"
             ]
            ],
            "type": "surface"
           }
          ],
          "table": [
           {
            "cells": {
             "fill": {
              "color": "#EBF0F8"
             },
             "line": {
              "color": "white"
             }
            },
            "header": {
             "fill": {
              "color": "#C8D4E3"
             },
             "line": {
              "color": "white"
             }
            },
            "type": "table"
           }
          ]
         },
         "layout": {
          "annotationdefaults": {
           "arrowcolor": "#2a3f5f",
           "arrowhead": 0,
           "arrowwidth": 1
          },
          "autotypenumbers": "strict",
          "coloraxis": {
           "colorbar": {
            "outlinewidth": 0,
            "ticks": ""
           }
          },
          "colorscale": {
           "diverging": [
            [
             0,
             "#8e0152"
            ],
            [
             0.1,
             "#c51b7d"
            ],
            [
             0.2,
             "#de77ae"
            ],
            [
             0.3,
             "#f1b6da"
            ],
            [
             0.4,
             "#fde0ef"
            ],
            [
             0.5,
             "#f7f7f7"
            ],
            [
             0.6,
             "#e6f5d0"
            ],
            [
             0.7,
             "#b8e186"
            ],
            [
             0.8,
             "#7fbc41"
            ],
            [
             0.9,
             "#4d9221"
            ],
            [
             1,
             "#276419"
            ]
           ],
           "sequential": [
            [
             0,
             "#0d0887"
            ],
            [
             0.1111111111111111,
             "#46039f"
            ],
            [
             0.2222222222222222,
             "#7201a8"
            ],
            [
             0.3333333333333333,
             "#9c179e"
            ],
            [
             0.4444444444444444,
             "#bd3786"
            ],
            [
             0.5555555555555556,
             "#d8576b"
            ],
            [
             0.6666666666666666,
             "#ed7953"
            ],
            [
             0.7777777777777778,
             "#fb9f3a"
            ],
            [
             0.8888888888888888,
             "#fdca26"
            ],
            [
             1,
             "#f0f921"
            ]
           ],
           "sequentialminus": [
            [
             0,
             "#0d0887"
            ],
            [
             0.1111111111111111,
             "#46039f"
            ],
            [
             0.2222222222222222,
             "#7201a8"
            ],
            [
             0.3333333333333333,
             "#9c179e"
            ],
            [
             0.4444444444444444,
             "#bd3786"
            ],
            [
             0.5555555555555556,
             "#d8576b"
            ],
            [
             0.6666666666666666,
             "#ed7953"
            ],
            [
             0.7777777777777778,
             "#fb9f3a"
            ],
            [
             0.8888888888888888,
             "#fdca26"
            ],
            [
             1,
             "#f0f921"
            ]
           ]
          },
          "colorway": [
           "#636efa",
           "#EF553B",
           "#00cc96",
           "#ab63fa",
           "#FFA15A",
           "#19d3f3",
           "#FF6692",
           "#B6E880",
           "#FF97FF",
           "#FECB52"
          ],
          "font": {
           "color": "#2a3f5f"
          },
          "geo": {
           "bgcolor": "white",
           "lakecolor": "white",
           "landcolor": "#E5ECF6",
           "showlakes": true,
           "showland": true,
           "subunitcolor": "white"
          },
          "hoverlabel": {
           "align": "left"
          },
          "hovermode": "closest",
          "mapbox": {
           "style": "light"
          },
          "paper_bgcolor": "white",
          "plot_bgcolor": "#E5ECF6",
          "polar": {
           "angularaxis": {
            "gridcolor": "white",
            "linecolor": "white",
            "ticks": ""
           },
           "bgcolor": "#E5ECF6",
           "radialaxis": {
            "gridcolor": "white",
            "linecolor": "white",
            "ticks": ""
           }
          },
          "scene": {
           "xaxis": {
            "backgroundcolor": "#E5ECF6",
            "gridcolor": "white",
            "gridwidth": 2,
            "linecolor": "white",
            "showbackground": true,
            "ticks": "",
            "zerolinecolor": "white"
           },
           "yaxis": {
            "backgroundcolor": "#E5ECF6",
            "gridcolor": "white",
            "gridwidth": 2,
            "linecolor": "white",
            "showbackground": true,
            "ticks": "",
            "zerolinecolor": "white"
           },
           "zaxis": {
            "backgroundcolor": "#E5ECF6",
            "gridcolor": "white",
            "gridwidth": 2,
            "linecolor": "white",
            "showbackground": true,
            "ticks": "",
            "zerolinecolor": "white"
           }
          },
          "shapedefaults": {
           "line": {
            "color": "#2a3f5f"
           }
          },
          "ternary": {
           "aaxis": {
            "gridcolor": "white",
            "linecolor": "white",
            "ticks": ""
           },
           "baxis": {
            "gridcolor": "white",
            "linecolor": "white",
            "ticks": ""
           },
           "bgcolor": "#E5ECF6",
           "caxis": {
            "gridcolor": "white",
            "linecolor": "white",
            "ticks": ""
           }
          },
          "title": {
           "x": 0.05
          },
          "xaxis": {
           "automargin": true,
           "gridcolor": "white",
           "linecolor": "white",
           "ticks": "",
           "title": {
            "standoff": 15
           },
           "zerolinecolor": "white",
           "zerolinewidth": 2
          },
          "yaxis": {
           "automargin": true,
           "gridcolor": "white",
           "linecolor": "white",
           "ticks": "",
           "title": {
            "standoff": 15
           },
           "zerolinecolor": "white",
           "zerolinewidth": 2
          }
         }
        },
        "title": {
         "text": "Distribution of the Status of Customer Issues"
        }
       }
      },
      "text/html": [
       "<div>                            <div id=\"313633f4-5fbc-478a-9416-72637514e944\" class=\"plotly-graph-div\" style=\"height:525px; width:100%;\"></div>            <script type=\"text/javascript\">                require([\"plotly\"], function(Plotly) {                    window.PLOTLYENV=window.PLOTLYENV || {};                                    if (document.getElementById(\"313633f4-5fbc-478a-9416-72637514e944\")) {                    Plotly.newPlot(                        \"313633f4-5fbc-478a-9416-72637514e944\",                        [{\"hole\":0.3,\"labels\":[\"Closed\",\"Open\"],\"values\":[1758,1],\"type\":\"pie\",\"textinfo\":\"percent+label\",\"textposition\":\"inside\"}],                        {\"template\":{\"data\":{\"histogram2dcontour\":[{\"type\":\"histogram2dcontour\",\"colorbar\":{\"outlinewidth\":0,\"ticks\":\"\"},\"colorscale\":[[0.0,\"#0d0887\"],[0.1111111111111111,\"#46039f\"],[0.2222222222222222,\"#7201a8\"],[0.3333333333333333,\"#9c179e\"],[0.4444444444444444,\"#bd3786\"],[0.5555555555555556,\"#d8576b\"],[0.6666666666666666,\"#ed7953\"],[0.7777777777777778,\"#fb9f3a\"],[0.8888888888888888,\"#fdca26\"],[1.0,\"#f0f921\"]]}],\"choropleth\":[{\"type\":\"choropleth\",\"colorbar\":{\"outlinewidth\":0,\"ticks\":\"\"}}],\"histogram2d\":[{\"type\":\"histogram2d\",\"colorbar\":{\"outlinewidth\":0,\"ticks\":\"\"},\"colorscale\":[[0.0,\"#0d0887\"],[0.1111111111111111,\"#46039f\"],[0.2222222222222222,\"#7201a8\"],[0.3333333333333333,\"#9c179e\"],[0.4444444444444444,\"#bd3786\"],[0.5555555555555556,\"#d8576b\"],[0.6666666666666666,\"#ed7953\"],[0.7777777777777778,\"#fb9f3a\"],[0.8888888888888888,\"#fdca26\"],[1.0,\"#f0f921\"]]}],\"heatmap\":[{\"type\":\"heatmap\",\"colorbar\":{\"outlinewidth\":0,\"ticks\":\"\"},\"colorscale\":[[0.0,\"#0d0887\"],[0.1111111111111111,\"#46039f\"],[0.2222222222222222,\"#7201a8\"],[0.3333333333333333,\"#9c179e\"],[0.4444444444444444,\"#bd3786\"],[0.5555555555555556,\"#d8576b\"],[0.6666666666666666,\"#ed7953\"],[0.7777777777777778,\"#fb9f3a\"],[0.8888888888888888,\"#fdca26\"],[1.0,\"#f0f921\"]]}],\"heatmapgl\":[{\"type\":\"heatmapgl\",\"colorbar\":{\"outlinewidth\":0,\"ticks\":\"\"},\"colorscale\":[[0.0,\"#0d0887\"],[0.1111111111111111,\"#46039f\"],[0.2222222222222222,\"#7201a8\"],[0.3333333333333333,\"#9c179e\"],[0.4444444444444444,\"#bd3786\"],[0.5555555555555556,\"#d8576b\"],[0.6666666666666666,\"#ed7953\"],[0.7777777777777778,\"#fb9f3a\"],[0.8888888888888888,\"#fdca26\"],[1.0,\"#f0f921\"]]}],\"contourcarpet\":[{\"type\":\"contourcarpet\",\"colorbar\":{\"outlinewidth\":0,\"ticks\":\"\"}}],\"contour\":[{\"type\":\"contour\",\"colorbar\":{\"outlinewidth\":0,\"ticks\":\"\"},\"colorscale\":[[0.0,\"#0d0887\"],[0.1111111111111111,\"#46039f\"],[0.2222222222222222,\"#7201a8\"],[0.3333333333333333,\"#9c179e\"],[0.4444444444444444,\"#bd3786\"],[0.5555555555555556,\"#d8576b\"],[0.6666666666666666,\"#ed7953\"],[0.7777777777777778,\"#fb9f3a\"],[0.8888888888888888,\"#fdca26\"],[1.0,\"#f0f921\"]]}],\"surface\":[{\"type\":\"surface\",\"colorbar\":{\"outlinewidth\":0,\"ticks\":\"\"},\"colorscale\":[[0.0,\"#0d0887\"],[0.1111111111111111,\"#46039f\"],[0.2222222222222222,\"#7201a8\"],[0.3333333333333333,\"#9c179e\"],[0.4444444444444444,\"#bd3786\"],[0.5555555555555556,\"#d8576b\"],[0.6666666666666666,\"#ed7953\"],[0.7777777777777778,\"#fb9f3a\"],[0.8888888888888888,\"#fdca26\"],[1.0,\"#f0f921\"]]}],\"mesh3d\":[{\"type\":\"mesh3d\",\"colorbar\":{\"outlinewidth\":0,\"ticks\":\"\"}}],\"scatter\":[{\"fillpattern\":{\"fillmode\":\"overlay\",\"size\":10,\"solidity\":0.2},\"type\":\"scatter\"}],\"parcoords\":[{\"type\":\"parcoords\",\"line\":{\"colorbar\":{\"outlinewidth\":0,\"ticks\":\"\"}}}],\"scatterpolargl\":[{\"type\":\"scatterpolargl\",\"marker\":{\"colorbar\":{\"outlinewidth\":0,\"ticks\":\"\"}}}],\"bar\":[{\"error_x\":{\"color\":\"#2a3f5f\"},\"error_y\":{\"color\":\"#2a3f5f\"},\"marker\":{\"line\":{\"color\":\"#E5ECF6\",\"width\":0.5},\"pattern\":{\"fillmode\":\"overlay\",\"size\":10,\"solidity\":0.2}},\"type\":\"bar\"}],\"scattergeo\":[{\"type\":\"scattergeo\",\"marker\":{\"colorbar\":{\"outlinewidth\":0,\"ticks\":\"\"}}}],\"scatterpolar\":[{\"type\":\"scatterpolar\",\"marker\":{\"colorbar\":{\"outlinewidth\":0,\"ticks\":\"\"}}}],\"histogram\":[{\"marker\":{\"pattern\":{\"fillmode\":\"overlay\",\"size\":10,\"solidity\":0.2}},\"type\":\"histogram\"}],\"scattergl\":[{\"type\":\"scattergl\",\"marker\":{\"colorbar\":{\"outlinewidth\":0,\"ticks\":\"\"}}}],\"scatter3d\":[{\"type\":\"scatter3d\",\"line\":{\"colorbar\":{\"outlinewidth\":0,\"ticks\":\"\"}},\"marker\":{\"colorbar\":{\"outlinewidth\":0,\"ticks\":\"\"}}}],\"scattermapbox\":[{\"type\":\"scattermapbox\",\"marker\":{\"colorbar\":{\"outlinewidth\":0,\"ticks\":\"\"}}}],\"scatterternary\":[{\"type\":\"scatterternary\",\"marker\":{\"colorbar\":{\"outlinewidth\":0,\"ticks\":\"\"}}}],\"scattercarpet\":[{\"type\":\"scattercarpet\",\"marker\":{\"colorbar\":{\"outlinewidth\":0,\"ticks\":\"\"}}}],\"carpet\":[{\"aaxis\":{\"endlinecolor\":\"#2a3f5f\",\"gridcolor\":\"white\",\"linecolor\":\"white\",\"minorgridcolor\":\"white\",\"startlinecolor\":\"#2a3f5f\"},\"baxis\":{\"endlinecolor\":\"#2a3f5f\",\"gridcolor\":\"white\",\"linecolor\":\"white\",\"minorgridcolor\":\"white\",\"startlinecolor\":\"#2a3f5f\"},\"type\":\"carpet\"}],\"table\":[{\"cells\":{\"fill\":{\"color\":\"#EBF0F8\"},\"line\":{\"color\":\"white\"}},\"header\":{\"fill\":{\"color\":\"#C8D4E3\"},\"line\":{\"color\":\"white\"}},\"type\":\"table\"}],\"barpolar\":[{\"marker\":{\"line\":{\"color\":\"#E5ECF6\",\"width\":0.5},\"pattern\":{\"fillmode\":\"overlay\",\"size\":10,\"solidity\":0.2}},\"type\":\"barpolar\"}],\"pie\":[{\"automargin\":true,\"type\":\"pie\"}]},\"layout\":{\"autotypenumbers\":\"strict\",\"colorway\":[\"#636efa\",\"#EF553B\",\"#00cc96\",\"#ab63fa\",\"#FFA15A\",\"#19d3f3\",\"#FF6692\",\"#B6E880\",\"#FF97FF\",\"#FECB52\"],\"font\":{\"color\":\"#2a3f5f\"},\"hovermode\":\"closest\",\"hoverlabel\":{\"align\":\"left\"},\"paper_bgcolor\":\"white\",\"plot_bgcolor\":\"#E5ECF6\",\"polar\":{\"bgcolor\":\"#E5ECF6\",\"angularaxis\":{\"gridcolor\":\"white\",\"linecolor\":\"white\",\"ticks\":\"\"},\"radialaxis\":{\"gridcolor\":\"white\",\"linecolor\":\"white\",\"ticks\":\"\"}},\"ternary\":{\"bgcolor\":\"#E5ECF6\",\"aaxis\":{\"gridcolor\":\"white\",\"linecolor\":\"white\",\"ticks\":\"\"},\"baxis\":{\"gridcolor\":\"white\",\"linecolor\":\"white\",\"ticks\":\"\"},\"caxis\":{\"gridcolor\":\"white\",\"linecolor\":\"white\",\"ticks\":\"\"}},\"coloraxis\":{\"colorbar\":{\"outlinewidth\":0,\"ticks\":\"\"}},\"colorscale\":{\"sequential\":[[0.0,\"#0d0887\"],[0.1111111111111111,\"#46039f\"],[0.2222222222222222,\"#7201a8\"],[0.3333333333333333,\"#9c179e\"],[0.4444444444444444,\"#bd3786\"],[0.5555555555555556,\"#d8576b\"],[0.6666666666666666,\"#ed7953\"],[0.7777777777777778,\"#fb9f3a\"],[0.8888888888888888,\"#fdca26\"],[1.0,\"#f0f921\"]],\"sequentialminus\":[[0.0,\"#0d0887\"],[0.1111111111111111,\"#46039f\"],[0.2222222222222222,\"#7201a8\"],[0.3333333333333333,\"#9c179e\"],[0.4444444444444444,\"#bd3786\"],[0.5555555555555556,\"#d8576b\"],[0.6666666666666666,\"#ed7953\"],[0.7777777777777778,\"#fb9f3a\"],[0.8888888888888888,\"#fdca26\"],[1.0,\"#f0f921\"]],\"diverging\":[[0,\"#8e0152\"],[0.1,\"#c51b7d\"],[0.2,\"#de77ae\"],[0.3,\"#f1b6da\"],[0.4,\"#fde0ef\"],[0.5,\"#f7f7f7\"],[0.6,\"#e6f5d0\"],[0.7,\"#b8e186\"],[0.8,\"#7fbc41\"],[0.9,\"#4d9221\"],[1,\"#276419\"]]},\"xaxis\":{\"gridcolor\":\"white\",\"linecolor\":\"white\",\"ticks\":\"\",\"title\":{\"standoff\":15},\"zerolinecolor\":\"white\",\"automargin\":true,\"zerolinewidth\":2},\"yaxis\":{\"gridcolor\":\"white\",\"linecolor\":\"white\",\"ticks\":\"\",\"title\":{\"standoff\":15},\"zerolinecolor\":\"white\",\"automargin\":true,\"zerolinewidth\":2},\"scene\":{\"xaxis\":{\"backgroundcolor\":\"#E5ECF6\",\"gridcolor\":\"white\",\"linecolor\":\"white\",\"showbackground\":true,\"ticks\":\"\",\"zerolinecolor\":\"white\",\"gridwidth\":2},\"yaxis\":{\"backgroundcolor\":\"#E5ECF6\",\"gridcolor\":\"white\",\"linecolor\":\"white\",\"showbackground\":true,\"ticks\":\"\",\"zerolinecolor\":\"white\",\"gridwidth\":2},\"zaxis\":{\"backgroundcolor\":\"#E5ECF6\",\"gridcolor\":\"white\",\"linecolor\":\"white\",\"showbackground\":true,\"ticks\":\"\",\"zerolinecolor\":\"white\",\"gridwidth\":2}},\"shapedefaults\":{\"line\":{\"color\":\"#2a3f5f\"}},\"annotationdefaults\":{\"arrowcolor\":\"#2a3f5f\",\"arrowhead\":0,\"arrowwidth\":1},\"geo\":{\"bgcolor\":\"white\",\"landcolor\":\"#E5ECF6\",\"subunitcolor\":\"white\",\"showland\":true,\"showlakes\":true,\"lakecolor\":\"white\"},\"title\":{\"x\":0.05},\"mapbox\":{\"style\":\"light\"}}},\"title\":{\"text\":\"Distribution of the Status of Customer Issues\"}},                        {\"responsive\": true}                    ).then(function(){\n",
       "                            \n",
       "var gd = document.getElementById('313633f4-5fbc-478a-9416-72637514e944');\n",
       "var x = new MutationObserver(function (mutations, observer) {{\n",
       "        var display = window.getComputedStyle(gd).display;\n",
       "        if (!display || display === 'none') {{\n",
       "            console.log([gd, 'removed!']);\n",
       "            Plotly.purge(gd);\n",
       "            observer.disconnect();\n",
       "        }}\n",
       "}});\n",
       "\n",
       "// Listen for the removal of the full notebook cells\n",
       "var notebookContainer = gd.closest('#notebook-container');\n",
       "if (notebookContainer) {{\n",
       "    x.observe(notebookContainer, {childList: true});\n",
       "}}\n",
       "\n",
       "// Listen for the clearing of the current output cell\n",
       "var outputEl = gd.closest('.output');\n",
       "if (outputEl) {{\n",
       "    x.observe(outputEl, {childList: true});\n",
       "}}\n",
       "\n",
       "                        })                };                });            </script>        </div>"
      ]
     },
     "metadata": {},
     "output_type": "display_data"
    }
   ],
   "source": [
    "# Status\n",
    "status = df['Status of the Customer Issue'].value_counts()\n",
    "\n",
    "# Create a pie chart using Plotly\n",
    "fig = go.Figure(data=[go.Pie(labels=status.index, values=status.values, hole=0.3)])\n",
    "\n",
    "fig.update_layout(\n",
    "    title='Distribution of the Status of Customer Issues',\n",
    ")\n",
    "\n",
    "fig.update_traces(\n",
    "    textposition='inside',\n",
    "    textinfo='percent+label'\n",
    ")\n",
    "fig.show()"
   ]
  },
  {
   "cell_type": "code",
   "execution_count": 59,
   "id": "fbcc4e39",
   "metadata": {},
   "outputs": [
    {
     "data": {
      "application/vnd.plotly.v1+json": {
       "config": {
        "plotlyServerURL": "https://plot.ly"
       },
       "data": [
        {
         "alignmentgroup": "True",
         "hovertemplate": "index=%{x}<br>y=%{y}<extra></extra>",
         "legendgroup": "",
         "marker": {
          "color": "#636efa",
          "pattern": {
           "shape": ""
          }
         },
         "name": "",
         "offsetgroup": "",
         "orientation": "v",
         "showlegend": false,
         "textposition": "auto",
         "type": "bar",
         "x": [
          "gprs refreshed ",
          "obb deactivated ",
          "379 code provided ",
          "LTE activated ",
          "balance provided ",
          "no active bundle ",
          "settings provided ",
          "dropped call",
          "assisted ",
          "call dropped during conversation",
          "bank recharge unsuccessful ",
          "refreshed LTE",
          "callback failed",
          "centre number provided ",
          "whatsapp ban ",
          "PIN reset",
          "KYC differs ",
          "SMS USD bundle ",
          "PUK provided ",
          "failing to call EWZ escalated ",
          "no response ",
          "DATA activated ",
          "reversal request ",
          "123 code provided ",
          "VPN dropped ",
          "usage provided ",
          "voucher status checked",
          "130 code provided ",
          "inactive/suspend ",
          "hot recharge failure ",
          "method to recharge provided",
          "poor voice connection",
          "add and remove obb",
          "barrings removed ",
          "airtime balance provided ",
          "credit transfer service ",
          "interaction not picking ",
          "conversion request ",
          "sent for processing ",
          "etop up pin reset",
          "whatsapp registration ",
          "partially registered",
          "not reachable ",
          "bundle deleted ",
          "registration process provided ",
          "interaction dropped",
          "call me back service",
          "123 pin reset",
          "ZIPIT unsuccessful",
          "transfer request ",
          "bundle purchase failure ",
          "hourly NOC raised",
          "corrected settings ",
          "line blocking request",
          "123 registration process",
          "519 not working ",
          "bundle in use ",
          "whatsapp code",
          "escalated ",
          "hot recharge unsuccessful",
          "123 registration",
          "unprocessed SIM replacement ",
          "airtime usage provided ",
          "Diverts activated",
          "DAD uses ",
          "airtime distribution channels",
          "no S/N to check ",
          "Onefusion components ",
          "usage of data provided ",
          "zipit failure",
          "NOC raised ",
          "reserve balance escalated",
          "voucher status checking",
          "token resend ",
          "pending order escalated ",
          "platforms provided ",
          "wrong number not found ",
          "follow up failing to call EWZ ",
          "SOP pending order escalated ",
          "status provided ",
          "no 4G enabled device ",
          "sms usage provided ",
          "requirements provided ",
          "device tracking ",
          "Replacement successful ",
          "purchase confirmed ",
          "123 kyc differs ",
          "no sufficient balance ",
          "account deletion ",
          "failed to provide details ",
          "airtime purchase ",
          "NOC sheet raised ",
          "selfcare code failure",
          "credit facility ",
          "code provided ",
          "Line available for replacement",
          "134 code provided ",
          "mukuru recharge failure ",
          "recharge failure escalated ",
          "blocked line ",
          "bank code error",
          "dzidzo bundle ",
          "pin removal assisted",
          "data bundle uses",
          "p2p failure ",
          "bundle gifting confimation ",
          "voucher status checked ",
          "codes provided ",
          "bank airtime failure",
          "agent request",
          "khuluma balance provided",
          "ZESA purchase failure ",
          "etop up funds not credited ",
          "reversal follow up ",
          "account transfer not showing ",
          "whatsapp error",
          "obb activation ",
          "cabs contacts ",
          "selfcare pin reset",
          "mobile hotspot setup",
          "expired card ",
          "international remittances ",
          "usd credited as zwl ",
          "4g status ",
          "escalated for removal ",
          "access codes provided ",
          "Blocked PUK",
          "limits reached and cards availability",
          "not registered on network ",
          "escalated",
          "card pin reset ",
          "P2P reversal ",
          "no information ",
          "roaming deactivated ",
          "registration confirmed ",
          "call history provided ",
          "CDR information missing ",
          "whatsapp platform details ",
          "kyc verification ",
          "new user status ",
          "788# zwl airtime availability ",
          "international sms ",
          "prank call",
          "kyc error",
          "complaining not receiving tarrif change updates ",
          "gifting number unkown ",
          "terminated line ",
          "recharge multiple cards once ",
          "NOC escalated ",
          "international promotions ",
          "Barrings activation ",
          "already assisted ",
          "unbilled number report",
          "etop up reversal",
          "zipit method provided ",
          "Cabs airtime ",
          "no data bundle ",
          "ZIPIT method ",
          "registration successful ",
          "dual account escalated ",
          "data sharing ",
          "innbucks registration ",
          "mogig pricing ",
          "not receiving onemoney notifcations",
          "not enough balance ",
          "sim box full ",
          " bundle transferring/ sharing ",
          "cbz not showing onemoney as bank",
          "519 code provided ",
          "171 code provided",
          "provisioning escalated ",
          "bundle expired ",
          "hacked whatsapp ",
          "channels provided",
          "onefi bundle purchase",
          "number of accounts required ",
          "transaction history provided ",
          "hot recharge use ",
          "provisioning escalated",
          "gifting option ",
          "hide caller ID ",
          "ZIPIT method to",
          "SIM registration successful",
          "airtime credit facility ",
          "recharge method provided ",
          "gifting unsuccessful ",
          "Termination state ",
          "disabling PIN request ",
          "connection speed",
          "reactivation of line message ",
          "Token resend ",
          "e-sim request ",
          "123 failure ",
          "other recharge method provided ",
          "job vacancy ",
          "PIN request ",
          "shona language on platforms request ",
          "usage explained ",
          "unknown international calls ",
          "status checked ",
          "to provide details ",
          "checked centre number ",
          "DIY code provided ",
          "Dzidzo bundle ",
          "dis-abling auto dial of internaional calls ",
          "linking number to bank ",
          "DAD uses",
          "DAD offpeak times ",
          "duplicate account deleted ",
          "network locked handset",
          "transfer airtime to EWZ",
          "whatsapp usage provided ",
          "KYC verified ",
          "ussd codes failure on new line ",
          "transfer bundle to other networks",
          "OneFi plan ",
          "code for bank not available ",
          "SIM blocked",
          "purchase successful ",
          "Hourly bundle connections ",
          "mogig uses",
          "no number to check puk",
          "RTGS transfer to onemoney ",
          "deletion for re-registration ",
          "airtime availability ",
          "no answer",
          "USD data bundles",
          "whatsapp code ",
          "pending active state",
          "agent sell airtime option ",
          "telegram ban ",
          "USD obb ",
          "no picking call option ",
          "transaction confimation message ",
          "519 feedback",
          "bundle transfer ",
          "zb bank contacts ",
          "processed replacement ",
          "519 affecting hot recharge ",
          "interaction down",
          "recharge failure ",
          "120 code provided ",
          "no bundles ",
          "incorrect billing follow up ",
          "ZWL to USD conversion",
          "IMEI number tracing ",
          "how to cash out ",
          "re-registration process",
          "used token message ",
          "card linked on wrong number",
          "international call auto dial ",
          "failing to makae calls ",
          "gifting error",
          "ZIPIT reversal",
          "no balance",
          "reverve balance clearing ",
          "recharge successful",
          "service for access messages on another phone ",
          "ZIPIT option to ecocash ",
          "171 code providd ",
          "Error token ",
          "no customer found ",
          "SIM failure ",
          "expiry date extension "
         ],
         "xaxis": "x",
         "y": [
          193,
          76,
          75,
          68,
          57,
          56,
          56,
          51,
          50,
          44,
          41,
          39,
          37,
          34,
          33,
          33,
          30,
          29,
          27,
          24,
          23,
          22,
          22,
          20,
          19,
          18,
          18,
          18,
          17,
          17,
          17,
          14,
          14,
          13,
          13,
          12,
          12,
          12,
          10,
          10,
          10,
          9,
          9,
          9,
          8,
          8,
          8,
          7,
          7,
          6,
          6,
          6,
          6,
          6,
          5,
          5,
          4,
          4,
          4,
          4,
          3,
          3,
          3,
          3,
          3,
          3,
          3,
          3,
          3,
          3,
          3,
          3,
          3,
          2,
          2,
          2,
          2,
          2,
          2,
          2,
          2,
          2,
          2,
          2,
          2,
          2,
          2,
          2,
          2,
          2,
          2,
          2,
          2,
          2,
          2,
          2,
          2,
          1,
          1,
          1,
          1,
          1,
          1,
          1,
          1,
          1,
          1,
          1,
          1,
          1,
          1,
          1,
          1,
          1,
          1,
          1,
          1,
          1,
          1,
          1,
          1,
          1,
          1,
          1,
          1,
          1,
          1,
          1,
          1,
          1,
          1,
          1,
          1,
          1,
          1,
          1,
          1,
          1,
          1,
          1,
          1,
          1,
          1,
          1,
          1,
          1,
          1,
          1,
          1,
          1,
          1,
          1,
          1,
          1,
          1,
          1,
          1,
          1,
          1,
          1,
          1,
          1,
          1,
          1,
          1,
          1,
          1,
          1,
          1,
          1,
          1,
          1,
          1,
          1,
          1,
          1,
          1,
          1,
          1,
          1,
          1,
          1,
          1,
          1,
          1,
          1,
          1,
          1,
          1,
          1,
          1,
          1,
          1,
          1,
          1,
          1,
          1,
          1,
          1,
          1,
          1,
          1,
          1,
          1,
          1,
          1,
          1,
          1,
          1,
          1,
          1,
          1,
          1,
          1,
          1,
          1,
          1,
          1,
          1,
          1,
          1,
          1,
          1,
          1,
          1,
          1,
          1,
          1,
          1,
          1,
          1,
          1,
          1,
          1,
          1,
          1,
          1,
          1,
          1,
          1,
          1,
          1,
          1,
          1,
          1,
          1,
          1,
          1,
          1,
          1,
          1,
          1,
          1,
          1,
          1,
          1,
          1,
          1,
          1,
          1,
          1,
          1,
          1,
          1
         ],
         "yaxis": "y"
        }
       ],
       "layout": {
        "barmode": "relative",
        "legend": {
         "tracegroupgap": 0
        },
        "margin": {
         "t": 60
        },
        "template": {
         "data": {
          "bar": [
           {
            "error_x": {
             "color": "#2a3f5f"
            },
            "error_y": {
             "color": "#2a3f5f"
            },
            "marker": {
             "line": {
              "color": "#E5ECF6",
              "width": 0.5
             },
             "pattern": {
              "fillmode": "overlay",
              "size": 10,
              "solidity": 0.2
             }
            },
            "type": "bar"
           }
          ],
          "barpolar": [
           {
            "marker": {
             "line": {
              "color": "#E5ECF6",
              "width": 0.5
             },
             "pattern": {
              "fillmode": "overlay",
              "size": 10,
              "solidity": 0.2
             }
            },
            "type": "barpolar"
           }
          ],
          "carpet": [
           {
            "aaxis": {
             "endlinecolor": "#2a3f5f",
             "gridcolor": "white",
             "linecolor": "white",
             "minorgridcolor": "white",
             "startlinecolor": "#2a3f5f"
            },
            "baxis": {
             "endlinecolor": "#2a3f5f",
             "gridcolor": "white",
             "linecolor": "white",
             "minorgridcolor": "white",
             "startlinecolor": "#2a3f5f"
            },
            "type": "carpet"
           }
          ],
          "choropleth": [
           {
            "colorbar": {
             "outlinewidth": 0,
             "ticks": ""
            },
            "type": "choropleth"
           }
          ],
          "contour": [
           {
            "colorbar": {
             "outlinewidth": 0,
             "ticks": ""
            },
            "colorscale": [
             [
              0,
              "#0d0887"
             ],
             [
              0.1111111111111111,
              "#46039f"
             ],
             [
              0.2222222222222222,
              "#7201a8"
             ],
             [
              0.3333333333333333,
              "#9c179e"
             ],
             [
              0.4444444444444444,
              "#bd3786"
             ],
             [
              0.5555555555555556,
              "#d8576b"
             ],
             [
              0.6666666666666666,
              "#ed7953"
             ],
             [
              0.7777777777777778,
              "#fb9f3a"
             ],
             [
              0.8888888888888888,
              "#fdca26"
             ],
             [
              1,
              "#f0f921"
             ]
            ],
            "type": "contour"
           }
          ],
          "contourcarpet": [
           {
            "colorbar": {
             "outlinewidth": 0,
             "ticks": ""
            },
            "type": "contourcarpet"
           }
          ],
          "heatmap": [
           {
            "colorbar": {
             "outlinewidth": 0,
             "ticks": ""
            },
            "colorscale": [
             [
              0,
              "#0d0887"
             ],
             [
              0.1111111111111111,
              "#46039f"
             ],
             [
              0.2222222222222222,
              "#7201a8"
             ],
             [
              0.3333333333333333,
              "#9c179e"
             ],
             [
              0.4444444444444444,
              "#bd3786"
             ],
             [
              0.5555555555555556,
              "#d8576b"
             ],
             [
              0.6666666666666666,
              "#ed7953"
             ],
             [
              0.7777777777777778,
              "#fb9f3a"
             ],
             [
              0.8888888888888888,
              "#fdca26"
             ],
             [
              1,
              "#f0f921"
             ]
            ],
            "type": "heatmap"
           }
          ],
          "heatmapgl": [
           {
            "colorbar": {
             "outlinewidth": 0,
             "ticks": ""
            },
            "colorscale": [
             [
              0,
              "#0d0887"
             ],
             [
              0.1111111111111111,
              "#46039f"
             ],
             [
              0.2222222222222222,
              "#7201a8"
             ],
             [
              0.3333333333333333,
              "#9c179e"
             ],
             [
              0.4444444444444444,
              "#bd3786"
             ],
             [
              0.5555555555555556,
              "#d8576b"
             ],
             [
              0.6666666666666666,
              "#ed7953"
             ],
             [
              0.7777777777777778,
              "#fb9f3a"
             ],
             [
              0.8888888888888888,
              "#fdca26"
             ],
             [
              1,
              "#f0f921"
             ]
            ],
            "type": "heatmapgl"
           }
          ],
          "histogram": [
           {
            "marker": {
             "pattern": {
              "fillmode": "overlay",
              "size": 10,
              "solidity": 0.2
             }
            },
            "type": "histogram"
           }
          ],
          "histogram2d": [
           {
            "colorbar": {
             "outlinewidth": 0,
             "ticks": ""
            },
            "colorscale": [
             [
              0,
              "#0d0887"
             ],
             [
              0.1111111111111111,
              "#46039f"
             ],
             [
              0.2222222222222222,
              "#7201a8"
             ],
             [
              0.3333333333333333,
              "#9c179e"
             ],
             [
              0.4444444444444444,
              "#bd3786"
             ],
             [
              0.5555555555555556,
              "#d8576b"
             ],
             [
              0.6666666666666666,
              "#ed7953"
             ],
             [
              0.7777777777777778,
              "#fb9f3a"
             ],
             [
              0.8888888888888888,
              "#fdca26"
             ],
             [
              1,
              "#f0f921"
             ]
            ],
            "type": "histogram2d"
           }
          ],
          "histogram2dcontour": [
           {
            "colorbar": {
             "outlinewidth": 0,
             "ticks": ""
            },
            "colorscale": [
             [
              0,
              "#0d0887"
             ],
             [
              0.1111111111111111,
              "#46039f"
             ],
             [
              0.2222222222222222,
              "#7201a8"
             ],
             [
              0.3333333333333333,
              "#9c179e"
             ],
             [
              0.4444444444444444,
              "#bd3786"
             ],
             [
              0.5555555555555556,
              "#d8576b"
             ],
             [
              0.6666666666666666,
              "#ed7953"
             ],
             [
              0.7777777777777778,
              "#fb9f3a"
             ],
             [
              0.8888888888888888,
              "#fdca26"
             ],
             [
              1,
              "#f0f921"
             ]
            ],
            "type": "histogram2dcontour"
           }
          ],
          "mesh3d": [
           {
            "colorbar": {
             "outlinewidth": 0,
             "ticks": ""
            },
            "type": "mesh3d"
           }
          ],
          "parcoords": [
           {
            "line": {
             "colorbar": {
              "outlinewidth": 0,
              "ticks": ""
             }
            },
            "type": "parcoords"
           }
          ],
          "pie": [
           {
            "automargin": true,
            "type": "pie"
           }
          ],
          "scatter": [
           {
            "fillpattern": {
             "fillmode": "overlay",
             "size": 10,
             "solidity": 0.2
            },
            "type": "scatter"
           }
          ],
          "scatter3d": [
           {
            "line": {
             "colorbar": {
              "outlinewidth": 0,
              "ticks": ""
             }
            },
            "marker": {
             "colorbar": {
              "outlinewidth": 0,
              "ticks": ""
             }
            },
            "type": "scatter3d"
           }
          ],
          "scattercarpet": [
           {
            "marker": {
             "colorbar": {
              "outlinewidth": 0,
              "ticks": ""
             }
            },
            "type": "scattercarpet"
           }
          ],
          "scattergeo": [
           {
            "marker": {
             "colorbar": {
              "outlinewidth": 0,
              "ticks": ""
             }
            },
            "type": "scattergeo"
           }
          ],
          "scattergl": [
           {
            "marker": {
             "colorbar": {
              "outlinewidth": 0,
              "ticks": ""
             }
            },
            "type": "scattergl"
           }
          ],
          "scattermapbox": [
           {
            "marker": {
             "colorbar": {
              "outlinewidth": 0,
              "ticks": ""
             }
            },
            "type": "scattermapbox"
           }
          ],
          "scatterpolar": [
           {
            "marker": {
             "colorbar": {
              "outlinewidth": 0,
              "ticks": ""
             }
            },
            "type": "scatterpolar"
           }
          ],
          "scatterpolargl": [
           {
            "marker": {
             "colorbar": {
              "outlinewidth": 0,
              "ticks": ""
             }
            },
            "type": "scatterpolargl"
           }
          ],
          "scatterternary": [
           {
            "marker": {
             "colorbar": {
              "outlinewidth": 0,
              "ticks": ""
             }
            },
            "type": "scatterternary"
           }
          ],
          "surface": [
           {
            "colorbar": {
             "outlinewidth": 0,
             "ticks": ""
            },
            "colorscale": [
             [
              0,
              "#0d0887"
             ],
             [
              0.1111111111111111,
              "#46039f"
             ],
             [
              0.2222222222222222,
              "#7201a8"
             ],
             [
              0.3333333333333333,
              "#9c179e"
             ],
             [
              0.4444444444444444,
              "#bd3786"
             ],
             [
              0.5555555555555556,
              "#d8576b"
             ],
             [
              0.6666666666666666,
              "#ed7953"
             ],
             [
              0.7777777777777778,
              "#fb9f3a"
             ],
             [
              0.8888888888888888,
              "#fdca26"
             ],
             [
              1,
              "#f0f921"
             ]
            ],
            "type": "surface"
           }
          ],
          "table": [
           {
            "cells": {
             "fill": {
              "color": "#EBF0F8"
             },
             "line": {
              "color": "white"
             }
            },
            "header": {
             "fill": {
              "color": "#C8D4E3"
             },
             "line": {
              "color": "white"
             }
            },
            "type": "table"
           }
          ]
         },
         "layout": {
          "annotationdefaults": {
           "arrowcolor": "#2a3f5f",
           "arrowhead": 0,
           "arrowwidth": 1
          },
          "autotypenumbers": "strict",
          "coloraxis": {
           "colorbar": {
            "outlinewidth": 0,
            "ticks": ""
           }
          },
          "colorscale": {
           "diverging": [
            [
             0,
             "#8e0152"
            ],
            [
             0.1,
             "#c51b7d"
            ],
            [
             0.2,
             "#de77ae"
            ],
            [
             0.3,
             "#f1b6da"
            ],
            [
             0.4,
             "#fde0ef"
            ],
            [
             0.5,
             "#f7f7f7"
            ],
            [
             0.6,
             "#e6f5d0"
            ],
            [
             0.7,
             "#b8e186"
            ],
            [
             0.8,
             "#7fbc41"
            ],
            [
             0.9,
             "#4d9221"
            ],
            [
             1,
             "#276419"
            ]
           ],
           "sequential": [
            [
             0,
             "#0d0887"
            ],
            [
             0.1111111111111111,
             "#46039f"
            ],
            [
             0.2222222222222222,
             "#7201a8"
            ],
            [
             0.3333333333333333,
             "#9c179e"
            ],
            [
             0.4444444444444444,
             "#bd3786"
            ],
            [
             0.5555555555555556,
             "#d8576b"
            ],
            [
             0.6666666666666666,
             "#ed7953"
            ],
            [
             0.7777777777777778,
             "#fb9f3a"
            ],
            [
             0.8888888888888888,
             "#fdca26"
            ],
            [
             1,
             "#f0f921"
            ]
           ],
           "sequentialminus": [
            [
             0,
             "#0d0887"
            ],
            [
             0.1111111111111111,
             "#46039f"
            ],
            [
             0.2222222222222222,
             "#7201a8"
            ],
            [
             0.3333333333333333,
             "#9c179e"
            ],
            [
             0.4444444444444444,
             "#bd3786"
            ],
            [
             0.5555555555555556,
             "#d8576b"
            ],
            [
             0.6666666666666666,
             "#ed7953"
            ],
            [
             0.7777777777777778,
             "#fb9f3a"
            ],
            [
             0.8888888888888888,
             "#fdca26"
            ],
            [
             1,
             "#f0f921"
            ]
           ]
          },
          "colorway": [
           "#636efa",
           "#EF553B",
           "#00cc96",
           "#ab63fa",
           "#FFA15A",
           "#19d3f3",
           "#FF6692",
           "#B6E880",
           "#FF97FF",
           "#FECB52"
          ],
          "font": {
           "color": "#2a3f5f"
          },
          "geo": {
           "bgcolor": "white",
           "lakecolor": "white",
           "landcolor": "#E5ECF6",
           "showlakes": true,
           "showland": true,
           "subunitcolor": "white"
          },
          "hoverlabel": {
           "align": "left"
          },
          "hovermode": "closest",
          "mapbox": {
           "style": "light"
          },
          "paper_bgcolor": "white",
          "plot_bgcolor": "#E5ECF6",
          "polar": {
           "angularaxis": {
            "gridcolor": "white",
            "linecolor": "white",
            "ticks": ""
           },
           "bgcolor": "#E5ECF6",
           "radialaxis": {
            "gridcolor": "white",
            "linecolor": "white",
            "ticks": ""
           }
          },
          "scene": {
           "xaxis": {
            "backgroundcolor": "#E5ECF6",
            "gridcolor": "white",
            "gridwidth": 2,
            "linecolor": "white",
            "showbackground": true,
            "ticks": "",
            "zerolinecolor": "white"
           },
           "yaxis": {
            "backgroundcolor": "#E5ECF6",
            "gridcolor": "white",
            "gridwidth": 2,
            "linecolor": "white",
            "showbackground": true,
            "ticks": "",
            "zerolinecolor": "white"
           },
           "zaxis": {
            "backgroundcolor": "#E5ECF6",
            "gridcolor": "white",
            "gridwidth": 2,
            "linecolor": "white",
            "showbackground": true,
            "ticks": "",
            "zerolinecolor": "white"
           }
          },
          "shapedefaults": {
           "line": {
            "color": "#2a3f5f"
           }
          },
          "ternary": {
           "aaxis": {
            "gridcolor": "white",
            "linecolor": "white",
            "ticks": ""
           },
           "baxis": {
            "gridcolor": "white",
            "linecolor": "white",
            "ticks": ""
           },
           "bgcolor": "#E5ECF6",
           "caxis": {
            "gridcolor": "white",
            "linecolor": "white",
            "ticks": ""
           }
          },
          "title": {
           "x": 0.05
          },
          "xaxis": {
           "automargin": true,
           "gridcolor": "white",
           "linecolor": "white",
           "ticks": "",
           "title": {
            "standoff": 15
           },
           "zerolinecolor": "white",
           "zerolinewidth": 2
          },
          "yaxis": {
           "automargin": true,
           "gridcolor": "white",
           "linecolor": "white",
           "ticks": "",
           "title": {
            "standoff": 15
           },
           "zerolinecolor": "white",
           "zerolinewidth": 2
          }
         }
        },
        "title": {
         "text": "Distribution of the Comments on Customer Issues"
        },
        "xaxis": {
         "anchor": "y",
         "domain": [
          0,
          1
         ],
         "title": {
          "text": ""
         }
        },
        "yaxis": {
         "anchor": "x",
         "domain": [
          0,
          1
         ],
         "title": {
          "text": "Frequency"
         }
        }
       }
      },
      "text/html": [
       "<div>                            <div id=\"453c69ac-d448-4c63-a951-94e1064128e4\" class=\"plotly-graph-div\" style=\"height:525px; width:100%;\"></div>            <script type=\"text/javascript\">                require([\"plotly\"], function(Plotly) {                    window.PLOTLYENV=window.PLOTLYENV || {};                                    if (document.getElementById(\"453c69ac-d448-4c63-a951-94e1064128e4\")) {                    Plotly.newPlot(                        \"453c69ac-d448-4c63-a951-94e1064128e4\",                        [{\"alignmentgroup\":\"True\",\"hovertemplate\":\"index=%{x}<br>y=%{y}<extra></extra>\",\"legendgroup\":\"\",\"marker\":{\"color\":\"#636efa\",\"pattern\":{\"shape\":\"\"}},\"name\":\"\",\"offsetgroup\":\"\",\"orientation\":\"v\",\"showlegend\":false,\"textposition\":\"auto\",\"x\":[\"gprs refreshed \",\"obb deactivated \",\"379 code provided \",\"LTE activated \",\"balance provided \",\"no active bundle \",\"settings provided \",\"dropped call\",\"assisted \",\"call dropped during conversation\",\"bank recharge unsuccessful \",\"refreshed LTE\",\"callback failed\",\"centre number provided \",\"whatsapp ban \",\"PIN reset\",\"KYC differs \",\"SMS USD bundle \",\"PUK provided \",\"failing to call EWZ escalated \",\"no response \",\"DATA activated \",\"reversal request \",\"123 code provided \",\"VPN dropped \",\"usage provided \",\"voucher status checked\",\"130 code provided \",\"inactive/suspend \",\"hot recharge failure \",\"method to recharge provided\",\"poor voice connection\",\"add and remove obb\",\"barrings removed \",\"airtime balance provided \",\"credit transfer service \",\"interaction not picking \",\"conversion request \",\"sent for processing \",\"etop up pin reset\",\"whatsapp registration \",\"partially registered\",\"not reachable \",\"bundle deleted \",\"registration process provided \",\"interaction dropped\",\"call me back service\",\"123 pin reset\",\"ZIPIT unsuccessful\",\"transfer request \",\"bundle purchase failure \",\"hourly NOC raised\",\"corrected settings \",\"line blocking request\",\"123 registration process\",\"519 not working \",\"bundle in use \",\"whatsapp code\",\"escalated \",\"hot recharge unsuccessful\",\"123 registration\",\"unprocessed SIM replacement \",\"airtime usage provided \",\"Diverts activated\",\"DAD uses \",\"airtime distribution channels\",\"no S/N to check \",\"Onefusion components \",\"usage of data provided \",\"zipit failure\",\"NOC raised \",\"reserve balance escalated\",\"voucher status checking\",\"token resend \",\"pending order escalated \",\"platforms provided \",\"wrong number not found \",\"follow up failing to call EWZ \",\"SOP pending order escalated \",\"status provided \",\"no 4G enabled device \",\"sms usage provided \",\"requirements provided \",\"device tracking \",\"Replacement successful \",\"purchase confirmed \",\"123 kyc differs \",\"no sufficient balance \",\"account deletion \",\"failed to provide details \",\"airtime purchase \",\"NOC sheet raised \",\"selfcare code failure\",\"credit facility \",\"code provided \",\"Line available for replacement\",\"134 code provided \",\"mukuru recharge failure \",\"recharge failure escalated \",\"blocked line \",\"bank code error\",\"dzidzo bundle \",\"pin removal assisted\",\"data bundle uses\",\"p2p failure \",\"bundle gifting confimation \",\"voucher status checked \",\"codes provided \",\"bank airtime failure\",\"agent request\",\"khuluma balance provided\",\"ZESA purchase failure \",\"etop up funds not credited \",\"reversal follow up \",\"account transfer not showing \",\"whatsapp error\",\"obb activation \",\"cabs contacts \",\"selfcare pin reset\",\"mobile hotspot setup\",\"expired card \",\"international remittances \",\"usd credited as zwl \",\"4g status \",\"escalated for removal \",\"access codes provided \",\"Blocked PUK\",\"limits reached and cards availability\",\"not registered on network \",\"escalated\",\"card pin reset \",\"P2P reversal \",\"no information \",\"roaming deactivated \",\"registration confirmed \",\"call history provided \",\"CDR information missing \",\"whatsapp platform details \",\"kyc verification \",\"new user status \",\"788# zwl airtime availability \",\"international sms \",\"prank call\",\"kyc error\",\"complaining not receiving tarrif change updates \",\"gifting number unkown \",\"terminated line \",\"recharge multiple cards once \",\"NOC escalated \",\"international promotions \",\"Barrings activation \",\"already assisted \",\"unbilled number report\",\"etop up reversal\",\"zipit method provided \",\"Cabs airtime \",\"no data bundle \",\"ZIPIT method \",\"registration successful \",\"dual account escalated \",\"data sharing \",\"innbucks registration \",\"mogig pricing \",\"not receiving onemoney notifcations\",\"not enough balance \",\"sim box full \",\" bundle transferring/ sharing \",\"cbz not showing onemoney as bank\",\"519 code provided \",\"171 code provided\",\"provisioning escalated \",\"bundle expired \",\"hacked whatsapp \",\"channels provided\",\"onefi bundle purchase\",\"number of accounts required \",\"transaction history provided \",\"hot recharge use \",\"provisioning escalated\",\"gifting option \",\"hide caller ID \",\"ZIPIT method to\",\"SIM registration successful\",\"airtime credit facility \",\"recharge method provided \",\"gifting unsuccessful \",\"Termination state \",\"disabling PIN request \",\"connection speed\",\"reactivation of line message \",\"Token resend \",\"e-sim request \",\"123 failure \",\"other recharge method provided \",\"job vacancy \",\"PIN request \",\"shona language on platforms request \",\"usage explained \",\"unknown international calls \",\"status checked \",\"to provide details \",\"checked centre number \",\"DIY code provided \",\"Dzidzo bundle \",\"dis-abling auto dial of internaional calls \",\"linking number to bank \",\"DAD uses\",\"DAD offpeak times \",\"duplicate account deleted \",\"network locked handset\",\"transfer airtime to EWZ\",\"whatsapp usage provided \",\"KYC verified \",\"ussd codes failure on new line \",\"transfer bundle to other networks\",\"OneFi plan \",\"code for bank not available \",\"SIM blocked\",\"purchase successful \",\"Hourly bundle connections \",\"mogig uses\",\"no number to check puk\",\"RTGS transfer to onemoney \",\"deletion for re-registration \",\"airtime availability \",\"no answer\",\"USD data bundles\",\"whatsapp code \",\"pending active state\",\"agent sell airtime option \",\"telegram ban \",\"USD obb \",\"no picking call option \",\"transaction confimation message \",\"519 feedback\",\"bundle transfer \",\"zb bank contacts \",\"processed replacement \",\"519 affecting hot recharge \",\"interaction down\",\"recharge failure \",\"120 code provided \",\"no bundles \",\"incorrect billing follow up \",\"ZWL to USD conversion\",\"IMEI number tracing \",\"how to cash out \",\"re-registration process\",\"used token message \",\"card linked on wrong number\",\"international call auto dial \",\"failing to makae calls \",\"gifting error\",\"ZIPIT reversal\",\"no balance\",\"reverve balance clearing \",\"recharge successful\",\"service for access messages on another phone \",\"ZIPIT option to ecocash \",\"171 code providd \",\"Error token \",\"no customer found \",\"SIM failure \",\"expiry date extension \"],\"xaxis\":\"x\",\"y\":[193,76,75,68,57,56,56,51,50,44,41,39,37,34,33,33,30,29,27,24,23,22,22,20,19,18,18,18,17,17,17,14,14,13,13,12,12,12,10,10,10,9,9,9,8,8,8,7,7,6,6,6,6,6,5,5,4,4,4,4,3,3,3,3,3,3,3,3,3,3,3,3,3,2,2,2,2,2,2,2,2,2,2,2,2,2,2,2,2,2,2,2,2,2,2,2,2,1,1,1,1,1,1,1,1,1,1,1,1,1,1,1,1,1,1,1,1,1,1,1,1,1,1,1,1,1,1,1,1,1,1,1,1,1,1,1,1,1,1,1,1,1,1,1,1,1,1,1,1,1,1,1,1,1,1,1,1,1,1,1,1,1,1,1,1,1,1,1,1,1,1,1,1,1,1,1,1,1,1,1,1,1,1,1,1,1,1,1,1,1,1,1,1,1,1,1,1,1,1,1,1,1,1,1,1,1,1,1,1,1,1,1,1,1,1,1,1,1,1,1,1,1,1,1,1,1,1,1,1,1,1,1,1,1,1,1,1,1,1,1,1,1,1,1,1,1,1,1,1,1,1,1,1,1,1,1,1,1,1,1,1,1,1,1],\"yaxis\":\"y\",\"type\":\"bar\"}],                        {\"template\":{\"data\":{\"histogram2dcontour\":[{\"type\":\"histogram2dcontour\",\"colorbar\":{\"outlinewidth\":0,\"ticks\":\"\"},\"colorscale\":[[0.0,\"#0d0887\"],[0.1111111111111111,\"#46039f\"],[0.2222222222222222,\"#7201a8\"],[0.3333333333333333,\"#9c179e\"],[0.4444444444444444,\"#bd3786\"],[0.5555555555555556,\"#d8576b\"],[0.6666666666666666,\"#ed7953\"],[0.7777777777777778,\"#fb9f3a\"],[0.8888888888888888,\"#fdca26\"],[1.0,\"#f0f921\"]]}],\"choropleth\":[{\"type\":\"choropleth\",\"colorbar\":{\"outlinewidth\":0,\"ticks\":\"\"}}],\"histogram2d\":[{\"type\":\"histogram2d\",\"colorbar\":{\"outlinewidth\":0,\"ticks\":\"\"},\"colorscale\":[[0.0,\"#0d0887\"],[0.1111111111111111,\"#46039f\"],[0.2222222222222222,\"#7201a8\"],[0.3333333333333333,\"#9c179e\"],[0.4444444444444444,\"#bd3786\"],[0.5555555555555556,\"#d8576b\"],[0.6666666666666666,\"#ed7953\"],[0.7777777777777778,\"#fb9f3a\"],[0.8888888888888888,\"#fdca26\"],[1.0,\"#f0f921\"]]}],\"heatmap\":[{\"type\":\"heatmap\",\"colorbar\":{\"outlinewidth\":0,\"ticks\":\"\"},\"colorscale\":[[0.0,\"#0d0887\"],[0.1111111111111111,\"#46039f\"],[0.2222222222222222,\"#7201a8\"],[0.3333333333333333,\"#9c179e\"],[0.4444444444444444,\"#bd3786\"],[0.5555555555555556,\"#d8576b\"],[0.6666666666666666,\"#ed7953\"],[0.7777777777777778,\"#fb9f3a\"],[0.8888888888888888,\"#fdca26\"],[1.0,\"#f0f921\"]]}],\"heatmapgl\":[{\"type\":\"heatmapgl\",\"colorbar\":{\"outlinewidth\":0,\"ticks\":\"\"},\"colorscale\":[[0.0,\"#0d0887\"],[0.1111111111111111,\"#46039f\"],[0.2222222222222222,\"#7201a8\"],[0.3333333333333333,\"#9c179e\"],[0.4444444444444444,\"#bd3786\"],[0.5555555555555556,\"#d8576b\"],[0.6666666666666666,\"#ed7953\"],[0.7777777777777778,\"#fb9f3a\"],[0.8888888888888888,\"#fdca26\"],[1.0,\"#f0f921\"]]}],\"contourcarpet\":[{\"type\":\"contourcarpet\",\"colorbar\":{\"outlinewidth\":0,\"ticks\":\"\"}}],\"contour\":[{\"type\":\"contour\",\"colorbar\":{\"outlinewidth\":0,\"ticks\":\"\"},\"colorscale\":[[0.0,\"#0d0887\"],[0.1111111111111111,\"#46039f\"],[0.2222222222222222,\"#7201a8\"],[0.3333333333333333,\"#9c179e\"],[0.4444444444444444,\"#bd3786\"],[0.5555555555555556,\"#d8576b\"],[0.6666666666666666,\"#ed7953\"],[0.7777777777777778,\"#fb9f3a\"],[0.8888888888888888,\"#fdca26\"],[1.0,\"#f0f921\"]]}],\"surface\":[{\"type\":\"surface\",\"colorbar\":{\"outlinewidth\":0,\"ticks\":\"\"},\"colorscale\":[[0.0,\"#0d0887\"],[0.1111111111111111,\"#46039f\"],[0.2222222222222222,\"#7201a8\"],[0.3333333333333333,\"#9c179e\"],[0.4444444444444444,\"#bd3786\"],[0.5555555555555556,\"#d8576b\"],[0.6666666666666666,\"#ed7953\"],[0.7777777777777778,\"#fb9f3a\"],[0.8888888888888888,\"#fdca26\"],[1.0,\"#f0f921\"]]}],\"mesh3d\":[{\"type\":\"mesh3d\",\"colorbar\":{\"outlinewidth\":0,\"ticks\":\"\"}}],\"scatter\":[{\"fillpattern\":{\"fillmode\":\"overlay\",\"size\":10,\"solidity\":0.2},\"type\":\"scatter\"}],\"parcoords\":[{\"type\":\"parcoords\",\"line\":{\"colorbar\":{\"outlinewidth\":0,\"ticks\":\"\"}}}],\"scatterpolargl\":[{\"type\":\"scatterpolargl\",\"marker\":{\"colorbar\":{\"outlinewidth\":0,\"ticks\":\"\"}}}],\"bar\":[{\"error_x\":{\"color\":\"#2a3f5f\"},\"error_y\":{\"color\":\"#2a3f5f\"},\"marker\":{\"line\":{\"color\":\"#E5ECF6\",\"width\":0.5},\"pattern\":{\"fillmode\":\"overlay\",\"size\":10,\"solidity\":0.2}},\"type\":\"bar\"}],\"scattergeo\":[{\"type\":\"scattergeo\",\"marker\":{\"colorbar\":{\"outlinewidth\":0,\"ticks\":\"\"}}}],\"scatterpolar\":[{\"type\":\"scatterpolar\",\"marker\":{\"colorbar\":{\"outlinewidth\":0,\"ticks\":\"\"}}}],\"histogram\":[{\"marker\":{\"pattern\":{\"fillmode\":\"overlay\",\"size\":10,\"solidity\":0.2}},\"type\":\"histogram\"}],\"scattergl\":[{\"type\":\"scattergl\",\"marker\":{\"colorbar\":{\"outlinewidth\":0,\"ticks\":\"\"}}}],\"scatter3d\":[{\"type\":\"scatter3d\",\"line\":{\"colorbar\":{\"outlinewidth\":0,\"ticks\":\"\"}},\"marker\":{\"colorbar\":{\"outlinewidth\":0,\"ticks\":\"\"}}}],\"scattermapbox\":[{\"type\":\"scattermapbox\",\"marker\":{\"colorbar\":{\"outlinewidth\":0,\"ticks\":\"\"}}}],\"scatterternary\":[{\"type\":\"scatterternary\",\"marker\":{\"colorbar\":{\"outlinewidth\":0,\"ticks\":\"\"}}}],\"scattercarpet\":[{\"type\":\"scattercarpet\",\"marker\":{\"colorbar\":{\"outlinewidth\":0,\"ticks\":\"\"}}}],\"carpet\":[{\"aaxis\":{\"endlinecolor\":\"#2a3f5f\",\"gridcolor\":\"white\",\"linecolor\":\"white\",\"minorgridcolor\":\"white\",\"startlinecolor\":\"#2a3f5f\"},\"baxis\":{\"endlinecolor\":\"#2a3f5f\",\"gridcolor\":\"white\",\"linecolor\":\"white\",\"minorgridcolor\":\"white\",\"startlinecolor\":\"#2a3f5f\"},\"type\":\"carpet\"}],\"table\":[{\"cells\":{\"fill\":{\"color\":\"#EBF0F8\"},\"line\":{\"color\":\"white\"}},\"header\":{\"fill\":{\"color\":\"#C8D4E3\"},\"line\":{\"color\":\"white\"}},\"type\":\"table\"}],\"barpolar\":[{\"marker\":{\"line\":{\"color\":\"#E5ECF6\",\"width\":0.5},\"pattern\":{\"fillmode\":\"overlay\",\"size\":10,\"solidity\":0.2}},\"type\":\"barpolar\"}],\"pie\":[{\"automargin\":true,\"type\":\"pie\"}]},\"layout\":{\"autotypenumbers\":\"strict\",\"colorway\":[\"#636efa\",\"#EF553B\",\"#00cc96\",\"#ab63fa\",\"#FFA15A\",\"#19d3f3\",\"#FF6692\",\"#B6E880\",\"#FF97FF\",\"#FECB52\"],\"font\":{\"color\":\"#2a3f5f\"},\"hovermode\":\"closest\",\"hoverlabel\":{\"align\":\"left\"},\"paper_bgcolor\":\"white\",\"plot_bgcolor\":\"#E5ECF6\",\"polar\":{\"bgcolor\":\"#E5ECF6\",\"angularaxis\":{\"gridcolor\":\"white\",\"linecolor\":\"white\",\"ticks\":\"\"},\"radialaxis\":{\"gridcolor\":\"white\",\"linecolor\":\"white\",\"ticks\":\"\"}},\"ternary\":{\"bgcolor\":\"#E5ECF6\",\"aaxis\":{\"gridcolor\":\"white\",\"linecolor\":\"white\",\"ticks\":\"\"},\"baxis\":{\"gridcolor\":\"white\",\"linecolor\":\"white\",\"ticks\":\"\"},\"caxis\":{\"gridcolor\":\"white\",\"linecolor\":\"white\",\"ticks\":\"\"}},\"coloraxis\":{\"colorbar\":{\"outlinewidth\":0,\"ticks\":\"\"}},\"colorscale\":{\"sequential\":[[0.0,\"#0d0887\"],[0.1111111111111111,\"#46039f\"],[0.2222222222222222,\"#7201a8\"],[0.3333333333333333,\"#9c179e\"],[0.4444444444444444,\"#bd3786\"],[0.5555555555555556,\"#d8576b\"],[0.6666666666666666,\"#ed7953\"],[0.7777777777777778,\"#fb9f3a\"],[0.8888888888888888,\"#fdca26\"],[1.0,\"#f0f921\"]],\"sequentialminus\":[[0.0,\"#0d0887\"],[0.1111111111111111,\"#46039f\"],[0.2222222222222222,\"#7201a8\"],[0.3333333333333333,\"#9c179e\"],[0.4444444444444444,\"#bd3786\"],[0.5555555555555556,\"#d8576b\"],[0.6666666666666666,\"#ed7953\"],[0.7777777777777778,\"#fb9f3a\"],[0.8888888888888888,\"#fdca26\"],[1.0,\"#f0f921\"]],\"diverging\":[[0,\"#8e0152\"],[0.1,\"#c51b7d\"],[0.2,\"#de77ae\"],[0.3,\"#f1b6da\"],[0.4,\"#fde0ef\"],[0.5,\"#f7f7f7\"],[0.6,\"#e6f5d0\"],[0.7,\"#b8e186\"],[0.8,\"#7fbc41\"],[0.9,\"#4d9221\"],[1,\"#276419\"]]},\"xaxis\":{\"gridcolor\":\"white\",\"linecolor\":\"white\",\"ticks\":\"\",\"title\":{\"standoff\":15},\"zerolinecolor\":\"white\",\"automargin\":true,\"zerolinewidth\":2},\"yaxis\":{\"gridcolor\":\"white\",\"linecolor\":\"white\",\"ticks\":\"\",\"title\":{\"standoff\":15},\"zerolinecolor\":\"white\",\"automargin\":true,\"zerolinewidth\":2},\"scene\":{\"xaxis\":{\"backgroundcolor\":\"#E5ECF6\",\"gridcolor\":\"white\",\"linecolor\":\"white\",\"showbackground\":true,\"ticks\":\"\",\"zerolinecolor\":\"white\",\"gridwidth\":2},\"yaxis\":{\"backgroundcolor\":\"#E5ECF6\",\"gridcolor\":\"white\",\"linecolor\":\"white\",\"showbackground\":true,\"ticks\":\"\",\"zerolinecolor\":\"white\",\"gridwidth\":2},\"zaxis\":{\"backgroundcolor\":\"#E5ECF6\",\"gridcolor\":\"white\",\"linecolor\":\"white\",\"showbackground\":true,\"ticks\":\"\",\"zerolinecolor\":\"white\",\"gridwidth\":2}},\"shapedefaults\":{\"line\":{\"color\":\"#2a3f5f\"}},\"annotationdefaults\":{\"arrowcolor\":\"#2a3f5f\",\"arrowhead\":0,\"arrowwidth\":1},\"geo\":{\"bgcolor\":\"white\",\"landcolor\":\"#E5ECF6\",\"subunitcolor\":\"white\",\"showland\":true,\"showlakes\":true,\"lakecolor\":\"white\"},\"title\":{\"x\":0.05},\"mapbox\":{\"style\":\"light\"}}},\"xaxis\":{\"anchor\":\"y\",\"domain\":[0.0,1.0],\"title\":{\"text\":\"\"}},\"yaxis\":{\"anchor\":\"x\",\"domain\":[0.0,1.0],\"title\":{\"text\":\"Frequency\"}},\"legend\":{\"tracegroupgap\":0},\"margin\":{\"t\":60},\"barmode\":\"relative\",\"title\":{\"text\":\"Distribution of the Comments on Customer Issues\"}},                        {\"responsive\": true}                    ).then(function(){\n",
       "                            \n",
       "var gd = document.getElementById('453c69ac-d448-4c63-a951-94e1064128e4');\n",
       "var x = new MutationObserver(function (mutations, observer) {{\n",
       "        var display = window.getComputedStyle(gd).display;\n",
       "        if (!display || display === 'none') {{\n",
       "            console.log([gd, 'removed!']);\n",
       "            Plotly.purge(gd);\n",
       "            observer.disconnect();\n",
       "        }}\n",
       "}});\n",
       "\n",
       "// Listen for the removal of the full notebook cells\n",
       "var notebookContainer = gd.closest('#notebook-container');\n",
       "if (notebookContainer) {{\n",
       "    x.observe(notebookContainer, {childList: true});\n",
       "}}\n",
       "\n",
       "// Listen for the clearing of the current output cell\n",
       "var outputEl = gd.closest('.output');\n",
       "if (outputEl) {{\n",
       "    x.observe(outputEl, {childList: true});\n",
       "}}\n",
       "\n",
       "                        })                };                });            </script>        </div>"
      ]
     },
     "metadata": {},
     "output_type": "display_data"
    }
   ],
   "source": [
    "# Bar chart: Comment\n",
    "comments = df['Comment'].value_counts()\n",
    "\n",
    "# Create a bar chart using Plotly\n",
    "fig = px.bar(comments, x=comments.index, y=comments.values)\n",
    "fig.update_layout(\n",
    "    title='Distribution of the Comments on Customer Issues',\n",
    "    xaxis_title='',\n",
    "        yaxis_title='Frequency'\n",
    ")\n",
    "fig.show()"
   ]
  },
  {
   "cell_type": "code",
   "execution_count": 75,
   "id": "4b5910aa",
   "metadata": {},
   "outputs": [
    {
     "data": {
      "application/vnd.plotly.v1+json": {
       "config": {
        "plotlyServerURL": "https://plot.ly"
       },
       "data": [
        {
         "alignmentgroup": "True",
         "hovertemplate": "LOCATION=Afgate<br>Customer Issue Category=%{x}<br>Count=%{y}<extra></extra>",
         "legendgroup": "Afgate",
         "marker": {
          "color": "#636efa",
          "pattern": {
           "shape": ""
          }
         },
         "name": "Afgate",
         "offsetgroup": "Afgate",
         "orientation": "v",
         "showlegend": true,
         "textposition": "auto",
         "type": "bar",
         "x": [
          "Data"
         ],
         "xaxis": "x",
         "y": [
          1
         ],
         "yaxis": "y"
        },
        {
         "alignmentgroup": "True",
         "hovertemplate": "LOCATION=Alex Park<br>Customer Issue Category=%{x}<br>Count=%{y}<extra></extra>",
         "legendgroup": "Alex Park",
         "marker": {
          "color": "#EF553B",
          "pattern": {
           "shape": ""
          }
         },
         "name": "Alex Park",
         "offsetgroup": "Alex Park",
         "orientation": "v",
         "showlegend": true,
         "textposition": "auto",
         "type": "bar",
         "x": [
          "Data"
         ],
         "xaxis": "x",
         "y": [
          1
         ],
         "yaxis": "y"
        },
        {
         "alignmentgroup": "True",
         "hovertemplate": "LOCATION=Arcturus<br>Customer Issue Category=%{x}<br>Count=%{y}<extra></extra>",
         "legendgroup": "Arcturus",
         "marker": {
          "color": "#00cc96",
          "pattern": {
           "shape": ""
          }
         },
         "name": "Arcturus",
         "offsetgroup": "Arcturus",
         "orientation": "v",
         "showlegend": true,
         "textposition": "auto",
         "type": "bar",
         "x": [
          "Data"
         ],
         "xaxis": "x",
         "y": [
          1
         ],
         "yaxis": "y"
        },
        {
         "alignmentgroup": "True",
         "hovertemplate": "LOCATION=Ardbennie<br>Customer Issue Category=%{x}<br>Count=%{y}<extra></extra>",
         "legendgroup": "Ardbennie",
         "marker": {
          "color": "#ab63fa",
          "pattern": {
           "shape": ""
          }
         },
         "name": "Ardbennie",
         "offsetgroup": "Ardbennie",
         "orientation": "v",
         "showlegend": true,
         "textposition": "auto",
         "type": "bar",
         "x": [
          "Data",
          "SMS",
          "Service/Product Support"
         ],
         "xaxis": "x",
         "y": [
          2,
          1,
          1
         ],
         "yaxis": "y"
        },
        {
         "alignmentgroup": "True",
         "hovertemplate": "LOCATION=Ashdown park<br>Customer Issue Category=%{x}<br>Count=%{y}<extra></extra>",
         "legendgroup": "Ashdown park",
         "marker": {
          "color": "#FFA15A",
          "pattern": {
           "shape": ""
          }
         },
         "name": "Ashdown park",
         "offsetgroup": "Ashdown park",
         "orientation": "v",
         "showlegend": true,
         "textposition": "auto",
         "type": "bar",
         "x": [
          "Data"
         ],
         "xaxis": "x",
         "y": [
          1
         ],
         "yaxis": "y"
        },
        {
         "alignmentgroup": "True",
         "hovertemplate": "LOCATION=Avenues<br>Customer Issue Category=%{x}<br>Count=%{y}<extra></extra>",
         "legendgroup": "Avenues",
         "marker": {
          "color": "#19d3f3",
          "pattern": {
           "shape": ""
          }
         },
         "name": "Avenues",
         "offsetgroup": "Avenues",
         "orientation": "v",
         "showlegend": true,
         "textposition": "auto",
         "type": "bar",
         "x": [
          "Data"
         ],
         "xaxis": "x",
         "y": [
          2
         ],
         "yaxis": "y"
        },
        {
         "alignmentgroup": "True",
         "hovertemplate": "LOCATION=Beatrice<br>Customer Issue Category=%{x}<br>Count=%{y}<extra></extra>",
         "legendgroup": "Beatrice",
         "marker": {
          "color": "#FF6692",
          "pattern": {
           "shape": ""
          }
         },
         "name": "Beatrice",
         "offsetgroup": "Beatrice",
         "orientation": "v",
         "showlegend": true,
         "textposition": "auto",
         "type": "bar",
         "x": [
          "Data",
          "Voice"
         ],
         "xaxis": "x",
         "y": [
          1,
          1
         ],
         "yaxis": "y"
        },
        {
         "alignmentgroup": "True",
         "hovertemplate": "LOCATION=Bechnough <br>Customer Issue Category=%{x}<br>Count=%{y}<extra></extra>",
         "legendgroup": "Bechnough ",
         "marker": {
          "color": "#B6E880",
          "pattern": {
           "shape": ""
          }
         },
         "name": "Bechnough ",
         "offsetgroup": "Bechnough ",
         "orientation": "v",
         "showlegend": true,
         "textposition": "auto",
         "type": "bar",
         "x": [
          "Data"
         ],
         "xaxis": "x",
         "y": [
          1
         ],
         "yaxis": "y"
        },
        {
         "alignmentgroup": "True",
         "hovertemplate": "LOCATION=Beitbridge<br>Customer Issue Category=%{x}<br>Count=%{y}<extra></extra>",
         "legendgroup": "Beitbridge",
         "marker": {
          "color": "#FF97FF",
          "pattern": {
           "shape": ""
          }
         },
         "name": "Beitbridge",
         "offsetgroup": "Beitbridge",
         "orientation": "v",
         "showlegend": true,
         "textposition": "auto",
         "type": "bar",
         "x": [
          "Data",
          "Other",
          "Prepaid",
          "Product Distribution ",
          "Service/Product Support",
          "Supplementary Services"
         ],
         "xaxis": "x",
         "y": [
          6,
          1,
          2,
          1,
          5,
          1
         ],
         "yaxis": "y"
        },
        {
         "alignmentgroup": "True",
         "hovertemplate": "LOCATION=Belvedere<br>Customer Issue Category=%{x}<br>Count=%{y}<extra></extra>",
         "legendgroup": "Belvedere",
         "marker": {
          "color": "#FECB52",
          "pattern": {
           "shape": ""
          }
         },
         "name": "Belvedere",
         "offsetgroup": "Belvedere",
         "orientation": "v",
         "showlegend": true,
         "textposition": "auto",
         "type": "bar",
         "x": [
          "Data"
         ],
         "xaxis": "x",
         "y": [
          3
         ],
         "yaxis": "y"
        },
        {
         "alignmentgroup": "True",
         "hovertemplate": "LOCATION=Bikita<br>Customer Issue Category=%{x}<br>Count=%{y}<extra></extra>",
         "legendgroup": "Bikita",
         "marker": {
          "color": "#636efa",
          "pattern": {
           "shape": ""
          }
         },
         "name": "Bikita",
         "offsetgroup": "Bikita",
         "orientation": "v",
         "showlegend": true,
         "textposition": "auto",
         "type": "bar",
         "x": [
          "Data",
          "Mobile Financial Services",
          "Other",
          "Prepaid",
          "Service/Product Support"
         ],
         "xaxis": "x",
         "y": [
          1,
          2,
          1,
          1,
          1
         ],
         "yaxis": "y"
        },
        {
         "alignmentgroup": "True",
         "hovertemplate": "LOCATION=Bindura<br>Customer Issue Category=%{x}<br>Count=%{y}<extra></extra>",
         "legendgroup": "Bindura",
         "marker": {
          "color": "#EF553B",
          "pattern": {
           "shape": ""
          }
         },
         "name": "Bindura",
         "offsetgroup": "Bindura",
         "orientation": "v",
         "showlegend": true,
         "textposition": "auto",
         "type": "bar",
         "x": [
          "Data",
          "Other",
          "Prepaid",
          "Products and Services",
          "SMS",
          "Service/Product Support",
          "Systems Support"
         ],
         "xaxis": "x",
         "y": [
          7,
          4,
          5,
          1,
          4,
          2,
          1
         ],
         "yaxis": "y"
        },
        {
         "alignmentgroup": "True",
         "hovertemplate": "LOCATION=Binga<br>Customer Issue Category=%{x}<br>Count=%{y}<extra></extra>",
         "legendgroup": "Binga",
         "marker": {
          "color": "#00cc96",
          "pattern": {
           "shape": ""
          }
         },
         "name": "Binga",
         "offsetgroup": "Binga",
         "orientation": "v",
         "showlegend": true,
         "textposition": "auto",
         "type": "bar",
         "x": [
          "Data",
          "Mobile Financial Services",
          "Other"
         ],
         "xaxis": "x",
         "y": [
          1,
          1,
          1
         ],
         "yaxis": "y"
        },
        {
         "alignmentgroup": "True",
         "hovertemplate": "LOCATION=Bluffhill<br>Customer Issue Category=%{x}<br>Count=%{y}<extra></extra>",
         "legendgroup": "Bluffhill",
         "marker": {
          "color": "#ab63fa",
          "pattern": {
           "shape": ""
          }
         },
         "name": "Bluffhill",
         "offsetgroup": "Bluffhill",
         "orientation": "v",
         "showlegend": true,
         "textposition": "auto",
         "type": "bar",
         "x": [
          "Data"
         ],
         "xaxis": "x",
         "y": [
          1
         ],
         "yaxis": "y"
        },
        {
         "alignmentgroup": "True",
         "hovertemplate": "LOCATION=Borrowdale<br>Customer Issue Category=%{x}<br>Count=%{y}<extra></extra>",
         "legendgroup": "Borrowdale",
         "marker": {
          "color": "#FFA15A",
          "pattern": {
           "shape": ""
          }
         },
         "name": "Borrowdale",
         "offsetgroup": "Borrowdale",
         "orientation": "v",
         "showlegend": true,
         "textposition": "auto",
         "type": "bar",
         "x": [
          "Data",
          "Prepaid",
          "SMS",
          "Value Added Services"
         ],
         "xaxis": "x",
         "y": [
          6,
          3,
          1,
          1
         ],
         "yaxis": "y"
        },
        {
         "alignmentgroup": "True",
         "hovertemplate": "LOCATION=Budiriro<br>Customer Issue Category=%{x}<br>Count=%{y}<extra></extra>",
         "legendgroup": "Budiriro",
         "marker": {
          "color": "#19d3f3",
          "pattern": {
           "shape": ""
          }
         },
         "name": "Budiriro",
         "offsetgroup": "Budiriro",
         "orientation": "v",
         "showlegend": true,
         "textposition": "auto",
         "type": "bar",
         "x": [
          "Data",
          "Devices",
          "Mobile Financial Services",
          "Other",
          "Prepaid",
          "SMS",
          "Service/Product Support",
          "Systems Support",
          "Voice"
         ],
         "xaxis": "x",
         "y": [
          13,
          1,
          2,
          1,
          4,
          2,
          1,
          1,
          1
         ],
         "yaxis": "y"
        },
        {
         "alignmentgroup": "True",
         "hovertemplate": "LOCATION=Buhera<br>Customer Issue Category=%{x}<br>Count=%{y}<extra></extra>",
         "legendgroup": "Buhera",
         "marker": {
          "color": "#FF6692",
          "pattern": {
           "shape": ""
          }
         },
         "name": "Buhera",
         "offsetgroup": "Buhera",
         "orientation": "v",
         "showlegend": true,
         "textposition": "auto",
         "type": "bar",
         "x": [
          "Data",
          "Mobile Financial Services",
          "Other",
          "Prepaid",
          "Products and Services",
          "SMS",
          "Service/Product Support",
          "Supplementary Services",
          "Voice"
         ],
         "xaxis": "x",
         "y": [
          4,
          1,
          4,
          9,
          2,
          1,
          1,
          1,
          1
         ],
         "yaxis": "y"
        },
        {
         "alignmentgroup": "True",
         "hovertemplate": "LOCATION=Bulawayo<br>Customer Issue Category=%{x}<br>Count=%{y}<extra></extra>",
         "legendgroup": "Bulawayo",
         "marker": {
          "color": "#B6E880",
          "pattern": {
           "shape": ""
          }
         },
         "name": "Bulawayo",
         "offsetgroup": "Bulawayo",
         "orientation": "v",
         "showlegend": true,
         "textposition": "auto",
         "type": "bar",
         "x": [
          "Data",
          "Mobile Financial Services",
          "Other",
          "Prepaid",
          "Products and Services",
          "Service/Product Support",
          "Supplementary Services",
          "Value Added Services",
          "Voice"
         ],
         "xaxis": "x",
         "y": [
          35,
          3,
          1,
          18,
          1,
          5,
          3,
          2,
          2
         ],
         "yaxis": "y"
        },
        {
         "alignmentgroup": "True",
         "hovertemplate": "LOCATION=Chanda<br>Customer Issue Category=%{x}<br>Count=%{y}<extra></extra>",
         "legendgroup": "Chanda",
         "marker": {
          "color": "#FF97FF",
          "pattern": {
           "shape": ""
          }
         },
         "name": "Chanda",
         "offsetgroup": "Chanda",
         "orientation": "v",
         "showlegend": true,
         "textposition": "auto",
         "type": "bar",
         "x": [
          "Data"
         ],
         "xaxis": "x",
         "y": [
          1
         ],
         "yaxis": "y"
        },
        {
         "alignmentgroup": "True",
         "hovertemplate": "LOCATION=Chegutu<br>Customer Issue Category=%{x}<br>Count=%{y}<extra></extra>",
         "legendgroup": "Chegutu",
         "marker": {
          "color": "#FECB52",
          "pattern": {
           "shape": ""
          }
         },
         "name": "Chegutu",
         "offsetgroup": "Chegutu",
         "orientation": "v",
         "showlegend": true,
         "textposition": "auto",
         "type": "bar",
         "x": [
          "Data",
          "Mobile Financial Services",
          "Other",
          "Prepaid",
          "SMS",
          "Service/Product Support",
          "Supplementary Services",
          "Voice"
         ],
         "xaxis": "x",
         "y": [
          9,
          3,
          1,
          7,
          6,
          7,
          2,
          2
         ],
         "yaxis": "y"
        },
        {
         "alignmentgroup": "True",
         "hovertemplate": "LOCATION=Chikwanha<br>Customer Issue Category=%{x}<br>Count=%{y}<extra></extra>",
         "legendgroup": "Chikwanha",
         "marker": {
          "color": "#636efa",
          "pattern": {
           "shape": ""
          }
         },
         "name": "Chikwanha",
         "offsetgroup": "Chikwanha",
         "orientation": "v",
         "showlegend": true,
         "textposition": "auto",
         "type": "bar",
         "x": [
          "Data"
         ],
         "xaxis": "x",
         "y": [
          1
         ],
         "yaxis": "y"
        },
        {
         "alignmentgroup": "True",
         "hovertemplate": "LOCATION=Chinhoyi<br>Customer Issue Category=%{x}<br>Count=%{y}<extra></extra>",
         "legendgroup": "Chinhoyi",
         "marker": {
          "color": "#EF553B",
          "pattern": {
           "shape": ""
          }
         },
         "name": "Chinhoyi",
         "offsetgroup": "Chinhoyi",
         "orientation": "v",
         "showlegend": true,
         "textposition": "auto",
         "type": "bar",
         "x": [
          "Data",
          "Mobile Financial Services",
          "Other",
          "Prepaid",
          "Product Distribution ",
          "SMS",
          "Service/Product Support",
          "Supplementary Services",
          "Voice"
         ],
         "xaxis": "x",
         "y": [
          11,
          3,
          2,
          2,
          1,
          4,
          1,
          4,
          4
         ],
         "yaxis": "y"
        },
        {
         "alignmentgroup": "True",
         "hovertemplate": "LOCATION=Chiredzi<br>Customer Issue Category=%{x}<br>Count=%{y}<extra></extra>",
         "legendgroup": "Chiredzi",
         "marker": {
          "color": "#00cc96",
          "pattern": {
           "shape": ""
          }
         },
         "name": "Chiredzi",
         "offsetgroup": "Chiredzi",
         "orientation": "v",
         "showlegend": true,
         "textposition": "auto",
         "type": "bar",
         "x": [
          "Data",
          "Mobile Financial Services",
          "Other",
          "Prepaid"
         ],
         "xaxis": "x",
         "y": [
          2,
          1,
          1,
          3
         ],
         "yaxis": "y"
        },
        {
         "alignmentgroup": "True",
         "hovertemplate": "LOCATION=Chishawasha<br>Customer Issue Category=%{x}<br>Count=%{y}<extra></extra>",
         "legendgroup": "Chishawasha",
         "marker": {
          "color": "#ab63fa",
          "pattern": {
           "shape": ""
          }
         },
         "name": "Chishawasha",
         "offsetgroup": "Chishawasha",
         "orientation": "v",
         "showlegend": true,
         "textposition": "auto",
         "type": "bar",
         "x": [
          "Data"
         ],
         "xaxis": "x",
         "y": [
          1
         ],
         "yaxis": "y"
        },
        {
         "alignmentgroup": "True",
         "hovertemplate": "LOCATION=Chitungwiza<br>Customer Issue Category=%{x}<br>Count=%{y}<extra></extra>",
         "legendgroup": "Chitungwiza",
         "marker": {
          "color": "#FFA15A",
          "pattern": {
           "shape": ""
          }
         },
         "name": "Chitungwiza",
         "offsetgroup": "Chitungwiza",
         "orientation": "v",
         "showlegend": true,
         "textposition": "auto",
         "type": "bar",
         "x": [
          "Data",
          "Devices",
          "Mobile Financial Services",
          "Other",
          "Prepaid",
          "Product Distribution ",
          "Roaming and International services",
          "SMS",
          "Service/Product Support",
          "Voice"
         ],
         "xaxis": "x",
         "y": [
          42,
          1,
          7,
          2,
          16,
          1,
          1,
          4,
          2,
          4
         ],
         "yaxis": "y"
        },
        {
         "alignmentgroup": "True",
         "hovertemplate": "LOCATION=Chivhu<br>Customer Issue Category=%{x}<br>Count=%{y}<extra></extra>",
         "legendgroup": "Chivhu",
         "marker": {
          "color": "#19d3f3",
          "pattern": {
           "shape": ""
          }
         },
         "name": "Chivhu",
         "offsetgroup": "Chivhu",
         "orientation": "v",
         "showlegend": true,
         "textposition": "auto",
         "type": "bar",
         "x": [
          "Data",
          "Mobile Financial Services",
          "Other",
          "Prepaid",
          "Products and Services",
          "Service/Product Support",
          "Voice"
         ],
         "xaxis": "x",
         "y": [
          4,
          4,
          2,
          1,
          1,
          1,
          1
         ],
         "yaxis": "y"
        },
        {
         "alignmentgroup": "True",
         "hovertemplate": "LOCATION=Chivi<br>Customer Issue Category=%{x}<br>Count=%{y}<extra></extra>",
         "legendgroup": "Chivi",
         "marker": {
          "color": "#FF6692",
          "pattern": {
           "shape": ""
          }
         },
         "name": "Chivi",
         "offsetgroup": "Chivi",
         "orientation": "v",
         "showlegend": true,
         "textposition": "auto",
         "type": "bar",
         "x": [
          "Data",
          "Prepaid"
         ],
         "xaxis": "x",
         "y": [
          1,
          2
         ],
         "yaxis": "y"
        },
        {
         "alignmentgroup": "True",
         "hovertemplate": "LOCATION=Cold Comfort<br>Customer Issue Category=%{x}<br>Count=%{y}<extra></extra>",
         "legendgroup": "Cold Comfort",
         "marker": {
          "color": "#B6E880",
          "pattern": {
           "shape": ""
          }
         },
         "name": "Cold Comfort",
         "offsetgroup": "Cold Comfort",
         "orientation": "v",
         "showlegend": true,
         "textposition": "auto",
         "type": "bar",
         "x": [
          "Data"
         ],
         "xaxis": "x",
         "y": [
          1
         ],
         "yaxis": "y"
        },
        {
         "alignmentgroup": "True",
         "hovertemplate": "LOCATION=Concession <br>Customer Issue Category=%{x}<br>Count=%{y}<extra></extra>",
         "legendgroup": "Concession ",
         "marker": {
          "color": "#FF97FF",
          "pattern": {
           "shape": ""
          }
         },
         "name": "Concession ",
         "offsetgroup": "Concession ",
         "orientation": "v",
         "showlegend": true,
         "textposition": "auto",
         "type": "bar",
         "x": [
          "Data"
         ],
         "xaxis": "x",
         "y": [
          1
         ],
         "yaxis": "y"
        },
        {
         "alignmentgroup": "True",
         "hovertemplate": "LOCATION=Damafalls<br>Customer Issue Category=%{x}<br>Count=%{y}<extra></extra>",
         "legendgroup": "Damafalls",
         "marker": {
          "color": "#FECB52",
          "pattern": {
           "shape": ""
          }
         },
         "name": "Damafalls",
         "offsetgroup": "Damafalls",
         "orientation": "v",
         "showlegend": true,
         "textposition": "auto",
         "type": "bar",
         "x": [
          "Data",
          "Service/Product Support"
         ],
         "xaxis": "x",
         "y": [
          2,
          1
         ],
         "yaxis": "y"
        },
        {
         "alignmentgroup": "True",
         "hovertemplate": "LOCATION=Dangamvura<br>Customer Issue Category=%{x}<br>Count=%{y}<extra></extra>",
         "legendgroup": "Dangamvura",
         "marker": {
          "color": "#636efa",
          "pattern": {
           "shape": ""
          }
         },
         "name": "Dangamvura",
         "offsetgroup": "Dangamvura",
         "orientation": "v",
         "showlegend": true,
         "textposition": "auto",
         "type": "bar",
         "x": [
          "Data",
          "Service/Product Support"
         ],
         "xaxis": "x",
         "y": [
          1,
          2
         ],
         "yaxis": "y"
        },
        {
         "alignmentgroup": "True",
         "hovertemplate": "LOCATION=Domboshava<br>Customer Issue Category=%{x}<br>Count=%{y}<extra></extra>",
         "legendgroup": "Domboshava",
         "marker": {
          "color": "#EF553B",
          "pattern": {
           "shape": ""
          }
         },
         "name": "Domboshava",
         "offsetgroup": "Domboshava",
         "orientation": "v",
         "showlegend": true,
         "textposition": "auto",
         "type": "bar",
         "x": [
          "Data",
          "Mobile Financial Services",
          "Other",
          "Prepaid",
          "Revenue Assurance and Fraud Management",
          "SMS",
          "Service/Product Support",
          "Voice"
         ],
         "xaxis": "x",
         "y": [
          21,
          3,
          2,
          4,
          1,
          1,
          2,
          4
         ],
         "yaxis": "y"
        },
        {
         "alignmentgroup": "True",
         "hovertemplate": "LOCATION=Dzivarasekwa<br>Customer Issue Category=%{x}<br>Count=%{y}<extra></extra>",
         "legendgroup": "Dzivarasekwa",
         "marker": {
          "color": "#00cc96",
          "pattern": {
           "shape": ""
          }
         },
         "name": "Dzivarasekwa",
         "offsetgroup": "Dzivarasekwa",
         "orientation": "v",
         "showlegend": true,
         "textposition": "auto",
         "type": "bar",
         "x": [
          "Data",
          "Other",
          "Prepaid",
          "SMS",
          "Service/Product Support"
         ],
         "xaxis": "x",
         "y": [
          12,
          1,
          2,
          2,
          2
         ],
         "yaxis": "y"
        },
        {
         "alignmentgroup": "True",
         "hovertemplate": "LOCATION=Eastview<br>Customer Issue Category=%{x}<br>Count=%{y}<extra></extra>",
         "legendgroup": "Eastview",
         "marker": {
          "color": "#ab63fa",
          "pattern": {
           "shape": ""
          }
         },
         "name": "Eastview",
         "offsetgroup": "Eastview",
         "orientation": "v",
         "showlegend": true,
         "textposition": "auto",
         "type": "bar",
         "x": [
          "Data",
          "Mobile Financial Services",
          "Other",
          "Prepaid",
          "Service/Product Support"
         ],
         "xaxis": "x",
         "y": [
          3,
          1,
          1,
          3,
          1
         ],
         "yaxis": "y"
        },
        {
         "alignmentgroup": "True",
         "hovertemplate": "LOCATION=Epworth<br>Customer Issue Category=%{x}<br>Count=%{y}<extra></extra>",
         "legendgroup": "Epworth",
         "marker": {
          "color": "#FFA15A",
          "pattern": {
           "shape": ""
          }
         },
         "name": "Epworth",
         "offsetgroup": "Epworth",
         "orientation": "v",
         "showlegend": true,
         "textposition": "auto",
         "type": "bar",
         "x": [
          "Data",
          "Mobile Financial Services",
          "Other",
          "Service/Product Support",
          "Voice"
         ],
         "xaxis": "x",
         "y": [
          8,
          2,
          2,
          1,
          2
         ],
         "yaxis": "y"
        },
        {
         "alignmentgroup": "True",
         "hovertemplate": "LOCATION=Fidelity<br>Customer Issue Category=%{x}<br>Count=%{y}<extra></extra>",
         "legendgroup": "Fidelity",
         "marker": {
          "color": "#19d3f3",
          "pattern": {
           "shape": ""
          }
         },
         "name": "Fidelity",
         "offsetgroup": "Fidelity",
         "orientation": "v",
         "showlegend": true,
         "textposition": "auto",
         "type": "bar",
         "x": [
          "Data"
         ],
         "xaxis": "x",
         "y": [
          1
         ],
         "yaxis": "y"
        },
        {
         "alignmentgroup": "True",
         "hovertemplate": "LOCATION=Gazebo<br>Customer Issue Category=%{x}<br>Count=%{y}<extra></extra>",
         "legendgroup": "Gazebo",
         "marker": {
          "color": "#FF6692",
          "pattern": {
           "shape": ""
          }
         },
         "name": "Gazebo",
         "offsetgroup": "Gazebo",
         "orientation": "v",
         "showlegend": true,
         "textposition": "auto",
         "type": "bar",
         "x": [
          "Data"
         ],
         "xaxis": "x",
         "y": [
          1
         ],
         "yaxis": "y"
        },
        {
         "alignmentgroup": "True",
         "hovertemplate": "LOCATION=Glaudina<br>Customer Issue Category=%{x}<br>Count=%{y}<extra></extra>",
         "legendgroup": "Glaudina",
         "marker": {
          "color": "#B6E880",
          "pattern": {
           "shape": ""
          }
         },
         "name": "Glaudina",
         "offsetgroup": "Glaudina",
         "orientation": "v",
         "showlegend": true,
         "textposition": "auto",
         "type": "bar",
         "x": [
          "Data",
          "Prepaid"
         ],
         "xaxis": "x",
         "y": [
          1,
          1
         ],
         "yaxis": "y"
        },
        {
         "alignmentgroup": "True",
         "hovertemplate": "LOCATION=Glen Lorne<br>Customer Issue Category=%{x}<br>Count=%{y}<extra></extra>",
         "legendgroup": "Glen Lorne",
         "marker": {
          "color": "#FF97FF",
          "pattern": {
           "shape": ""
          }
         },
         "name": "Glen Lorne",
         "offsetgroup": "Glen Lorne",
         "orientation": "v",
         "showlegend": true,
         "textposition": "auto",
         "type": "bar",
         "x": [
          "Data"
         ],
         "xaxis": "x",
         "y": [
          1
         ],
         "yaxis": "y"
        },
        {
         "alignmentgroup": "True",
         "hovertemplate": "LOCATION=Glenorah<br>Customer Issue Category=%{x}<br>Count=%{y}<extra></extra>",
         "legendgroup": "Glenorah",
         "marker": {
          "color": "#FECB52",
          "pattern": {
           "shape": ""
          }
         },
         "name": "Glenorah",
         "offsetgroup": "Glenorah",
         "orientation": "v",
         "showlegend": true,
         "textposition": "auto",
         "type": "bar",
         "x": [
          "Data",
          "Other",
          "Prepaid",
          "Service/Product Support"
         ],
         "xaxis": "x",
         "y": [
          7,
          1,
          4,
          1
         ],
         "yaxis": "y"
        },
        {
         "alignmentgroup": "True",
         "hovertemplate": "LOCATION=Glenview<br>Customer Issue Category=%{x}<br>Count=%{y}<extra></extra>",
         "legendgroup": "Glenview",
         "marker": {
          "color": "#636efa",
          "pattern": {
           "shape": ""
          }
         },
         "name": "Glenview",
         "offsetgroup": "Glenview",
         "orientation": "v",
         "showlegend": true,
         "textposition": "auto",
         "type": "bar",
         "x": [
          "Data",
          "Mobile Financial Services",
          "Other",
          "Prepaid",
          "Product Distribution ",
          "Service/Product Support",
          "Supplementary Services",
          "Voice"
         ],
         "xaxis": "x",
         "y": [
          13,
          2,
          2,
          6,
          1,
          2,
          1,
          2
         ],
         "yaxis": "y"
        },
        {
         "alignmentgroup": "True",
         "hovertemplate": "LOCATION=Gokwe<br>Customer Issue Category=%{x}<br>Count=%{y}<extra></extra>",
         "legendgroup": "Gokwe",
         "marker": {
          "color": "#EF553B",
          "pattern": {
           "shape": ""
          }
         },
         "name": "Gokwe",
         "offsetgroup": "Gokwe",
         "orientation": "v",
         "showlegend": true,
         "textposition": "auto",
         "type": "bar",
         "x": [
          "Data",
          "Mobile Financial Services",
          "Other",
          "Prepaid",
          "SMS",
          "Service/Product Support",
          "Voice"
         ],
         "xaxis": "x",
         "y": [
          2,
          2,
          1,
          3,
          4,
          2,
          2
         ],
         "yaxis": "y"
        },
        {
         "alignmentgroup": "True",
         "hovertemplate": "LOCATION=Goromonzi<br>Customer Issue Category=%{x}<br>Count=%{y}<extra></extra>",
         "legendgroup": "Goromonzi",
         "marker": {
          "color": "#00cc96",
          "pattern": {
           "shape": ""
          }
         },
         "name": "Goromonzi",
         "offsetgroup": "Goromonzi",
         "orientation": "v",
         "showlegend": true,
         "textposition": "auto",
         "type": "bar",
         "x": [
          "Data",
          "Prepaid"
         ],
         "xaxis": "x",
         "y": [
          2,
          5
         ],
         "yaxis": "y"
        },
        {
         "alignmentgroup": "True",
         "hovertemplate": "LOCATION=Granary<br>Customer Issue Category=%{x}<br>Count=%{y}<extra></extra>",
         "legendgroup": "Granary",
         "marker": {
          "color": "#ab63fa",
          "pattern": {
           "shape": ""
          }
         },
         "name": "Granary",
         "offsetgroup": "Granary",
         "orientation": "v",
         "showlegend": true,
         "textposition": "auto",
         "type": "bar",
         "x": [
          "Data",
          "Prepaid",
          "Service/Product Support"
         ],
         "xaxis": "x",
         "y": [
          1,
          1,
          1
         ],
         "yaxis": "y"
        },
        {
         "alignmentgroup": "True",
         "hovertemplate": "LOCATION=Grendale<br>Customer Issue Category=%{x}<br>Count=%{y}<extra></extra>",
         "legendgroup": "Grendale",
         "marker": {
          "color": "#FFA15A",
          "pattern": {
           "shape": ""
          }
         },
         "name": "Grendale",
         "offsetgroup": "Grendale",
         "orientation": "v",
         "showlegend": true,
         "textposition": "auto",
         "type": "bar",
         "x": [
          "Data",
          "Products and Services",
          "SMS"
         ],
         "xaxis": "x",
         "y": [
          1,
          1,
          1
         ],
         "yaxis": "y"
        },
        {
         "alignmentgroup": "True",
         "hovertemplate": "LOCATION=Guruve<br>Customer Issue Category=%{x}<br>Count=%{y}<extra></extra>",
         "legendgroup": "Guruve",
         "marker": {
          "color": "#19d3f3",
          "pattern": {
           "shape": ""
          }
         },
         "name": "Guruve",
         "offsetgroup": "Guruve",
         "orientation": "v",
         "showlegend": true,
         "textposition": "auto",
         "type": "bar",
         "x": [
          "Data",
          "Prepaid",
          "SMS",
          "Service/Product Support"
         ],
         "xaxis": "x",
         "y": [
          3,
          2,
          1,
          3
         ],
         "yaxis": "y"
        },
        {
         "alignmentgroup": "True",
         "hovertemplate": "LOCATION=Gweru<br>Customer Issue Category=%{x}<br>Count=%{y}<extra></extra>",
         "legendgroup": "Gweru",
         "marker": {
          "color": "#FF6692",
          "pattern": {
           "shape": ""
          }
         },
         "name": "Gweru",
         "offsetgroup": "Gweru",
         "orientation": "v",
         "showlegend": true,
         "textposition": "auto",
         "type": "bar",
         "x": [
          "Data",
          "Devices",
          "Mobile Financial Services",
          "Other",
          "Prepaid",
          "SMS",
          "Service/Product Support",
          "Voice"
         ],
         "xaxis": "x",
         "y": [
          15,
          1,
          2,
          2,
          7,
          1,
          1,
          1
         ],
         "yaxis": "y"
        },
        {
         "alignmentgroup": "True",
         "hovertemplate": "LOCATION=Halfway<br>Customer Issue Category=%{x}<br>Count=%{y}<extra></extra>",
         "legendgroup": "Halfway",
         "marker": {
          "color": "#B6E880",
          "pattern": {
           "shape": ""
          }
         },
         "name": "Halfway",
         "offsetgroup": "Halfway",
         "orientation": "v",
         "showlegend": true,
         "textposition": "auto",
         "type": "bar",
         "x": [
          "Data"
         ],
         "xaxis": "x",
         "y": [
          1
         ],
         "yaxis": "y"
        },
        {
         "alignmentgroup": "True",
         "hovertemplate": "LOCATION=Harare<br>Customer Issue Category=%{x}<br>Count=%{y}<extra></extra>",
         "legendgroup": "Harare",
         "marker": {
          "color": "#FF97FF",
          "pattern": {
           "shape": ""
          }
         },
         "name": "Harare",
         "offsetgroup": "Harare",
         "orientation": "v",
         "showlegend": true,
         "textposition": "auto",
         "type": "bar",
         "x": [
          "Data",
          "Mobile Financial Services",
          "Other",
          "Prepaid",
          "Product Distribution ",
          "Products and Services",
          "SMS",
          "Service/Product Support",
          "Supplementary Services",
          "Systems Support",
          "Value Added Services",
          "Voice"
         ],
         "xaxis": "x",
         "y": [
          22,
          5,
          2,
          13,
          1,
          1,
          4,
          4,
          1,
          1,
          1,
          2
         ],
         "yaxis": "y"
        },
        {
         "alignmentgroup": "True",
         "hovertemplate": "LOCATION=Hatcliffe<br>Customer Issue Category=%{x}<br>Count=%{y}<extra></extra>",
         "legendgroup": "Hatcliffe",
         "marker": {
          "color": "#FECB52",
          "pattern": {
           "shape": ""
          }
         },
         "name": "Hatcliffe",
         "offsetgroup": "Hatcliffe",
         "orientation": "v",
         "showlegend": true,
         "textposition": "auto",
         "type": "bar",
         "x": [
          "Data",
          "Mobile Financial Services",
          "Other",
          "Prepaid",
          "Service/Product Support",
          "Voice"
         ],
         "xaxis": "x",
         "y": [
          4,
          1,
          1,
          1,
          1,
          1
         ],
         "yaxis": "y"
        },
        {
         "alignmentgroup": "True",
         "hovertemplate": "LOCATION=Hatfield <br>Customer Issue Category=%{x}<br>Count=%{y}<extra></extra>",
         "legendgroup": "Hatfield ",
         "marker": {
          "color": "#636efa",
          "pattern": {
           "shape": ""
          }
         },
         "name": "Hatfield ",
         "offsetgroup": "Hatfield ",
         "orientation": "v",
         "showlegend": true,
         "textposition": "auto",
         "type": "bar",
         "x": [
          "Data",
          "Prepaid"
         ],
         "xaxis": "x",
         "y": [
          4,
          1
         ],
         "yaxis": "y"
        },
        {
         "alignmentgroup": "True",
         "hovertemplate": "LOCATION=Helensvale<br>Customer Issue Category=%{x}<br>Count=%{y}<extra></extra>",
         "legendgroup": "Helensvale",
         "marker": {
          "color": "#EF553B",
          "pattern": {
           "shape": ""
          }
         },
         "name": "Helensvale",
         "offsetgroup": "Helensvale",
         "orientation": "v",
         "showlegend": true,
         "textposition": "auto",
         "type": "bar",
         "x": [
          "Data"
         ],
         "xaxis": "x",
         "y": [
          1
         ],
         "yaxis": "y"
        },
        {
         "alignmentgroup": "True",
         "hovertemplate": "LOCATION=High Glen<br>Customer Issue Category=%{x}<br>Count=%{y}<extra></extra>",
         "legendgroup": "High Glen",
         "marker": {
          "color": "#00cc96",
          "pattern": {
           "shape": ""
          }
         },
         "name": "High Glen",
         "offsetgroup": "High Glen",
         "orientation": "v",
         "showlegend": true,
         "textposition": "auto",
         "type": "bar",
         "x": [
          "Data"
         ],
         "xaxis": "x",
         "y": [
          2
         ],
         "yaxis": "y"
        },
        {
         "alignmentgroup": "True",
         "hovertemplate": "LOCATION=Highfield <br>Customer Issue Category=%{x}<br>Count=%{y}<extra></extra>",
         "legendgroup": "Highfield ",
         "marker": {
          "color": "#ab63fa",
          "pattern": {
           "shape": ""
          }
         },
         "name": "Highfield ",
         "offsetgroup": "Highfield ",
         "orientation": "v",
         "showlegend": true,
         "textposition": "auto",
         "type": "bar",
         "x": [
          "Data",
          "Other",
          "Prepaid",
          "Service/Product Support",
          "Systems Support",
          "Voice"
         ],
         "xaxis": "x",
         "y": [
          6,
          1,
          3,
          1,
          1,
          1
         ],
         "yaxis": "y"
        },
        {
         "alignmentgroup": "True",
         "hovertemplate": "LOCATION=Highlands<br>Customer Issue Category=%{x}<br>Count=%{y}<extra></extra>",
         "legendgroup": "Highlands",
         "marker": {
          "color": "#FFA15A",
          "pattern": {
           "shape": ""
          }
         },
         "name": "Highlands",
         "offsetgroup": "Highlands",
         "orientation": "v",
         "showlegend": true,
         "textposition": "auto",
         "type": "bar",
         "x": [
          "Data"
         ],
         "xaxis": "x",
         "y": [
          1
         ],
         "yaxis": "y"
        },
        {
         "alignmentgroup": "True",
         "hovertemplate": "LOCATION=Highway<br>Customer Issue Category=%{x}<br>Count=%{y}<extra></extra>",
         "legendgroup": "Highway",
         "marker": {
          "color": "#19d3f3",
          "pattern": {
           "shape": ""
          }
         },
         "name": "Highway",
         "offsetgroup": "Highway",
         "orientation": "v",
         "showlegend": true,
         "textposition": "auto",
         "type": "bar",
         "x": [
          "Data"
         ],
         "xaxis": "x",
         "y": [
          1
         ],
         "yaxis": "y"
        },
        {
         "alignmentgroup": "True",
         "hovertemplate": "LOCATION=Hopely<br>Customer Issue Category=%{x}<br>Count=%{y}<extra></extra>",
         "legendgroup": "Hopely",
         "marker": {
          "color": "#FF6692",
          "pattern": {
           "shape": ""
          }
         },
         "name": "Hopely",
         "offsetgroup": "Hopely",
         "orientation": "v",
         "showlegend": true,
         "textposition": "auto",
         "type": "bar",
         "x": [
          "Data"
         ],
         "xaxis": "x",
         "y": [
          1
         ],
         "yaxis": "y"
        },
        {
         "alignmentgroup": "True",
         "hovertemplate": "LOCATION=Kadoma<br>Customer Issue Category=%{x}<br>Count=%{y}<extra></extra>",
         "legendgroup": "Kadoma",
         "marker": {
          "color": "#B6E880",
          "pattern": {
           "shape": ""
          }
         },
         "name": "Kadoma",
         "offsetgroup": "Kadoma",
         "orientation": "v",
         "showlegend": true,
         "textposition": "auto",
         "type": "bar",
         "x": [
          "Data",
          "Mobile Financial Services",
          "Other",
          "Prepaid",
          "SMS",
          "Service/Product Support",
          "Supplementary Services"
         ],
         "xaxis": "x",
         "y": [
          9,
          5,
          2,
          8,
          5,
          1,
          3
         ],
         "yaxis": "y"
        },
        {
         "alignmentgroup": "True",
         "hovertemplate": "LOCATION=Kambuzuma<br>Customer Issue Category=%{x}<br>Count=%{y}<extra></extra>",
         "legendgroup": "Kambuzuma",
         "marker": {
          "color": "#FF97FF",
          "pattern": {
           "shape": ""
          }
         },
         "name": "Kambuzuma",
         "offsetgroup": "Kambuzuma",
         "orientation": "v",
         "showlegend": true,
         "textposition": "auto",
         "type": "bar",
         "x": [
          "Data",
          "Prepaid",
          "Service/Product Support"
         ],
         "xaxis": "x",
         "y": [
          5,
          2,
          3
         ],
         "yaxis": "y"
        },
        {
         "alignmentgroup": "True",
         "hovertemplate": "LOCATION=Karoi<br>Customer Issue Category=%{x}<br>Count=%{y}<extra></extra>",
         "legendgroup": "Karoi",
         "marker": {
          "color": "#FECB52",
          "pattern": {
           "shape": ""
          }
         },
         "name": "Karoi",
         "offsetgroup": "Karoi",
         "orientation": "v",
         "showlegend": true,
         "textposition": "auto",
         "type": "bar",
         "x": [
          "Data",
          "Mobile Financial Services",
          "Prepaid",
          "SMS",
          "Service/Product Support",
          "Voice"
         ],
         "xaxis": "x",
         "y": [
          2,
          2,
          9,
          3,
          8,
          4
         ],
         "yaxis": "y"
        },
        {
         "alignmentgroup": "True",
         "hovertemplate": "LOCATION=Kenzamba<br>Customer Issue Category=%{x}<br>Count=%{y}<extra></extra>",
         "legendgroup": "Kenzamba",
         "marker": {
          "color": "#636efa",
          "pattern": {
           "shape": ""
          }
         },
         "name": "Kenzamba",
         "offsetgroup": "Kenzamba",
         "orientation": "v",
         "showlegend": true,
         "textposition": "auto",
         "type": "bar",
         "x": [
          "Data",
          "Prepaid",
          "SMS"
         ],
         "xaxis": "x",
         "y": [
          1,
          1,
          1
         ],
         "yaxis": "y"
        },
        {
         "alignmentgroup": "True",
         "hovertemplate": "LOCATION=Kutama<br>Customer Issue Category=%{x}<br>Count=%{y}<extra></extra>",
         "legendgroup": "Kutama",
         "marker": {
          "color": "#EF553B",
          "pattern": {
           "shape": ""
          }
         },
         "name": "Kutama",
         "offsetgroup": "Kutama",
         "orientation": "v",
         "showlegend": true,
         "textposition": "auto",
         "type": "bar",
         "x": [
          "Data"
         ],
         "xaxis": "x",
         "y": [
          1
         ],
         "yaxis": "y"
        },
        {
         "alignmentgroup": "True",
         "hovertemplate": "LOCATION=Kuwadzana<br>Customer Issue Category=%{x}<br>Count=%{y}<extra></extra>",
         "legendgroup": "Kuwadzana",
         "marker": {
          "color": "#00cc96",
          "pattern": {
           "shape": ""
          }
         },
         "name": "Kuwadzana",
         "offsetgroup": "Kuwadzana",
         "orientation": "v",
         "showlegend": true,
         "textposition": "auto",
         "type": "bar",
         "x": [
          "Data",
          "Mobile Financial Services",
          "Other",
          "Prepaid",
          "SMS",
          "Service/Product Support",
          "Voice"
         ],
         "xaxis": "x",
         "y": [
          13,
          5,
          1,
          5,
          1,
          2,
          1
         ],
         "yaxis": "y"
        },
        {
         "alignmentgroup": "True",
         "hovertemplate": "LOCATION=Kwekwe<br>Customer Issue Category=%{x}<br>Count=%{y}<extra></extra>",
         "legendgroup": "Kwekwe",
         "marker": {
          "color": "#ab63fa",
          "pattern": {
           "shape": ""
          }
         },
         "name": "Kwekwe",
         "offsetgroup": "Kwekwe",
         "orientation": "v",
         "showlegend": true,
         "textposition": "auto",
         "type": "bar",
         "x": [
          "Data",
          "Marketing",
          "Mobile Financial Services",
          "Prepaid",
          "Product Distribution ",
          "SMS",
          "Service/Product Support",
          "Supplementary Services"
         ],
         "xaxis": "x",
         "y": [
          9,
          1,
          2,
          2,
          1,
          2,
          2,
          1
         ],
         "yaxis": "y"
        },
        {
         "alignmentgroup": "True",
         "hovertemplate": "LOCATION=Mabelreign<br>Customer Issue Category=%{x}<br>Count=%{y}<extra></extra>",
         "legendgroup": "Mabelreign",
         "marker": {
          "color": "#FFA15A",
          "pattern": {
           "shape": ""
          }
         },
         "name": "Mabelreign",
         "offsetgroup": "Mabelreign",
         "orientation": "v",
         "showlegend": true,
         "textposition": "auto",
         "type": "bar",
         "x": [
          "Data",
          "Service/Product Support"
         ],
         "xaxis": "x",
         "y": [
          2,
          1
         ],
         "yaxis": "y"
        },
        {
         "alignmentgroup": "True",
         "hovertemplate": "LOCATION=Mabelreign <br>Customer Issue Category=%{x}<br>Count=%{y}<extra></extra>",
         "legendgroup": "Mabelreign ",
         "marker": {
          "color": "#19d3f3",
          "pattern": {
           "shape": ""
          }
         },
         "name": "Mabelreign ",
         "offsetgroup": "Mabelreign ",
         "orientation": "v",
         "showlegend": true,
         "textposition": "auto",
         "type": "bar",
         "x": [
          "Data",
          "Service/Product Support"
         ],
         "xaxis": "x",
         "y": [
          2,
          1
         ],
         "yaxis": "y"
        },
        {
         "alignmentgroup": "True",
         "hovertemplate": "LOCATION=Mabvuku<br>Customer Issue Category=%{x}<br>Count=%{y}<extra></extra>",
         "legendgroup": "Mabvuku",
         "marker": {
          "color": "#FF6692",
          "pattern": {
           "shape": ""
          }
         },
         "name": "Mabvuku",
         "offsetgroup": "Mabvuku",
         "orientation": "v",
         "showlegend": true,
         "textposition": "auto",
         "type": "bar",
         "x": [
          "Data",
          "Other",
          "Prepaid"
         ],
         "xaxis": "x",
         "y": [
          2,
          2,
          1
         ],
         "yaxis": "y"
        },
        {
         "alignmentgroup": "True",
         "hovertemplate": "LOCATION=Machipisa<br>Customer Issue Category=%{x}<br>Count=%{y}<extra></extra>",
         "legendgroup": "Machipisa",
         "marker": {
          "color": "#B6E880",
          "pattern": {
           "shape": ""
          }
         },
         "name": "Machipisa",
         "offsetgroup": "Machipisa",
         "orientation": "v",
         "showlegend": true,
         "textposition": "auto",
         "type": "bar",
         "x": [
          "Data",
          "Prepaid"
         ],
         "xaxis": "x",
         "y": [
          3,
          3
         ],
         "yaxis": "y"
        },
        {
         "alignmentgroup": "True",
         "hovertemplate": "LOCATION=Madziva<br>Customer Issue Category=%{x}<br>Count=%{y}<extra></extra>",
         "legendgroup": "Madziva",
         "marker": {
          "color": "#FF97FF",
          "pattern": {
           "shape": ""
          }
         },
         "name": "Madziva",
         "offsetgroup": "Madziva",
         "orientation": "v",
         "showlegend": true,
         "textposition": "auto",
         "type": "bar",
         "x": [
          "Data",
          "Mobile Financial Services",
          "Other",
          "Prepaid",
          "SMS"
         ],
         "xaxis": "x",
         "y": [
          1,
          1,
          2,
          2,
          2
         ],
         "yaxis": "y"
        },
        {
         "alignmentgroup": "True",
         "hovertemplate": "LOCATION=Magunje<br>Customer Issue Category=%{x}<br>Count=%{y}<extra></extra>",
         "legendgroup": "Magunje",
         "marker": {
          "color": "#FECB52",
          "pattern": {
           "shape": ""
          }
         },
         "name": "Magunje",
         "offsetgroup": "Magunje",
         "orientation": "v",
         "showlegend": true,
         "textposition": "auto",
         "type": "bar",
         "x": [
          "Data",
          "Prepaid",
          "SMS",
          "Value Added Services"
         ],
         "xaxis": "x",
         "y": [
          1,
          1,
          2,
          1
         ],
         "yaxis": "y"
        },
        {
         "alignmentgroup": "True",
         "hovertemplate": "LOCATION=Mahusekwa<br>Customer Issue Category=%{x}<br>Count=%{y}<extra></extra>",
         "legendgroup": "Mahusekwa",
         "marker": {
          "color": "#636efa",
          "pattern": {
           "shape": ""
          }
         },
         "name": "Mahusekwa",
         "offsetgroup": "Mahusekwa",
         "orientation": "v",
         "showlegend": true,
         "textposition": "auto",
         "type": "bar",
         "x": [
          "Data",
          "Mobile Financial Services",
          "Prepaid",
          "SMS"
         ],
         "xaxis": "x",
         "y": [
          3,
          1,
          1,
          1
         ],
         "yaxis": "y"
        },
        {
         "alignmentgroup": "True",
         "hovertemplate": "LOCATION=Malborough<br>Customer Issue Category=%{x}<br>Count=%{y}<extra></extra>",
         "legendgroup": "Malborough",
         "marker": {
          "color": "#EF553B",
          "pattern": {
           "shape": ""
          }
         },
         "name": "Malborough",
         "offsetgroup": "Malborough",
         "orientation": "v",
         "showlegend": true,
         "textposition": "auto",
         "type": "bar",
         "x": [
          "Data",
          "Prepaid",
          "Service/Product Support"
         ],
         "xaxis": "x",
         "y": [
          4,
          1,
          1
         ],
         "yaxis": "y"
        },
        {
         "alignmentgroup": "True",
         "hovertemplate": "LOCATION=Mandara<br>Customer Issue Category=%{x}<br>Count=%{y}<extra></extra>",
         "legendgroup": "Mandara",
         "marker": {
          "color": "#00cc96",
          "pattern": {
           "shape": ""
          }
         },
         "name": "Mandara",
         "offsetgroup": "Mandara",
         "orientation": "v",
         "showlegend": true,
         "textposition": "auto",
         "type": "bar",
         "x": [
          "Data",
          "Prepaid"
         ],
         "xaxis": "x",
         "y": [
          3,
          1
         ],
         "yaxis": "y"
        },
        {
         "alignmentgroup": "True",
         "hovertemplate": "LOCATION=Marimba<br>Customer Issue Category=%{x}<br>Count=%{y}<extra></extra>",
         "legendgroup": "Marimba",
         "marker": {
          "color": "#ab63fa",
          "pattern": {
           "shape": ""
          }
         },
         "name": "Marimba",
         "offsetgroup": "Marimba",
         "orientation": "v",
         "showlegend": true,
         "textposition": "auto",
         "type": "bar",
         "x": [
          "Data"
         ],
         "xaxis": "x",
         "y": [
          2
         ],
         "yaxis": "y"
        },
        {
         "alignmentgroup": "True",
         "hovertemplate": "LOCATION=Marondera<br>Customer Issue Category=%{x}<br>Count=%{y}<extra></extra>",
         "legendgroup": "Marondera",
         "marker": {
          "color": "#FFA15A",
          "pattern": {
           "shape": ""
          }
         },
         "name": "Marondera",
         "offsetgroup": "Marondera",
         "orientation": "v",
         "showlegend": true,
         "textposition": "auto",
         "type": "bar",
         "x": [
          "Data",
          "Other",
          "Prepaid",
          "Service/Product Support",
          "Voice"
         ],
         "xaxis": "x",
         "y": [
          10,
          2,
          5,
          2,
          1
         ],
         "yaxis": "y"
        },
        {
         "alignmentgroup": "True",
         "hovertemplate": "LOCATION=Masvingo<br>Customer Issue Category=%{x}<br>Count=%{y}<extra></extra>",
         "legendgroup": "Masvingo",
         "marker": {
          "color": "#19d3f3",
          "pattern": {
           "shape": ""
          }
         },
         "name": "Masvingo",
         "offsetgroup": "Masvingo",
         "orientation": "v",
         "showlegend": true,
         "textposition": "auto",
         "type": "bar",
         "x": [
          "Data",
          "Mobile Financial Services",
          "Other",
          "Prepaid",
          "SMS",
          "Service/Product Support",
          "Voice"
         ],
         "xaxis": "x",
         "y": [
          10,
          2,
          1,
          6,
          1,
          2,
          2
         ],
         "yaxis": "y"
        },
        {
         "alignmentgroup": "True",
         "hovertemplate": "LOCATION=Matogo<br>Customer Issue Category=%{x}<br>Count=%{y}<extra></extra>",
         "legendgroup": "Matogo",
         "marker": {
          "color": "#FF6692",
          "pattern": {
           "shape": ""
          }
         },
         "name": "Matogo",
         "offsetgroup": "Matogo",
         "orientation": "v",
         "showlegend": true,
         "textposition": "auto",
         "type": "bar",
         "x": [
          "Data"
         ],
         "xaxis": "x",
         "y": [
          1
         ],
         "yaxis": "y"
        },
        {
         "alignmentgroup": "True",
         "hovertemplate": "LOCATION=Matombo<br>Customer Issue Category=%{x}<br>Count=%{y}<extra></extra>",
         "legendgroup": "Matombo",
         "marker": {
          "color": "#B6E880",
          "pattern": {
           "shape": ""
          }
         },
         "name": "Matombo",
         "offsetgroup": "Matombo",
         "orientation": "v",
         "showlegend": true,
         "textposition": "auto",
         "type": "bar",
         "x": [
          "Data"
         ],
         "xaxis": "x",
         "y": [
          1
         ],
         "yaxis": "y"
        },
        {
         "alignmentgroup": "True",
         "hovertemplate": "LOCATION=Mayville <br>Customer Issue Category=%{x}<br>Count=%{y}<extra></extra>",
         "legendgroup": "Mayville ",
         "marker": {
          "color": "#FF97FF",
          "pattern": {
           "shape": ""
          }
         },
         "name": "Mayville ",
         "offsetgroup": "Mayville ",
         "orientation": "v",
         "showlegend": true,
         "textposition": "auto",
         "type": "bar",
         "x": [
          "Data"
         ],
         "xaxis": "x",
         "y": [
          1
         ],
         "yaxis": "y"
        },
        {
         "alignmentgroup": "True",
         "hovertemplate": "LOCATION=Mazowe<br>Customer Issue Category=%{x}<br>Count=%{y}<extra></extra>",
         "legendgroup": "Mazowe",
         "marker": {
          "color": "#FECB52",
          "pattern": {
           "shape": ""
          }
         },
         "name": "Mazowe",
         "offsetgroup": "Mazowe",
         "orientation": "v",
         "showlegend": true,
         "textposition": "auto",
         "type": "bar",
         "x": [
          "Data",
          "Mobile Financial Services",
          "Prepaid"
         ],
         "xaxis": "x",
         "y": [
          2,
          1,
          1
         ],
         "yaxis": "y"
        },
        {
         "alignmentgroup": "True",
         "hovertemplate": "LOCATION=Mbare<br>Customer Issue Category=%{x}<br>Count=%{y}<extra></extra>",
         "legendgroup": "Mbare",
         "marker": {
          "color": "#636efa",
          "pattern": {
           "shape": ""
          }
         },
         "name": "Mbare",
         "offsetgroup": "Mbare",
         "orientation": "v",
         "showlegend": true,
         "textposition": "auto",
         "type": "bar",
         "x": [
          "Data",
          "Mobile Financial Services",
          "Other",
          "Prepaid",
          "Product Distribution ",
          "Service/Product Support",
          "Value Added Services",
          "Voice"
         ],
         "xaxis": "x",
         "y": [
          1,
          1,
          1,
          1,
          1,
          1,
          1,
          2
         ],
         "yaxis": "y"
        },
        {
         "alignmentgroup": "True",
         "hovertemplate": "LOCATION=Mberengwa<br>Customer Issue Category=%{x}<br>Count=%{y}<extra></extra>",
         "legendgroup": "Mberengwa",
         "marker": {
          "color": "#EF553B",
          "pattern": {
           "shape": ""
          }
         },
         "name": "Mberengwa",
         "offsetgroup": "Mberengwa",
         "orientation": "v",
         "showlegend": true,
         "textposition": "auto",
         "type": "bar",
         "x": [
          "Data",
          "Mobile Financial Services",
          "Other",
          "Prepaid",
          "Product Distribution ",
          "SMS",
          "Service/Product Support",
          "Supplementary Services",
          "Value Added Services",
          "Voice"
         ],
         "xaxis": "x",
         "y": [
          6,
          3,
          1,
          5,
          1,
          2,
          4,
          1,
          1,
          1
         ],
         "yaxis": "y"
        },
        {
         "alignmentgroup": "True",
         "hovertemplate": "LOCATION=Mhangura<br>Customer Issue Category=%{x}<br>Count=%{y}<extra></extra>",
         "legendgroup": "Mhangura",
         "marker": {
          "color": "#00cc96",
          "pattern": {
           "shape": ""
          }
         },
         "name": "Mhangura",
         "offsetgroup": "Mhangura",
         "orientation": "v",
         "showlegend": true,
         "textposition": "auto",
         "type": "bar",
         "x": [
          "Data",
          "Mobile Financial Services",
          "Prepaid",
          "Product Distribution ",
          "SMS",
          "Service/Product Support"
         ],
         "xaxis": "x",
         "y": [
          2,
          2,
          1,
          1,
          2,
          2
         ],
         "yaxis": "y"
        },
        {
         "alignmentgroup": "True",
         "hovertemplate": "LOCATION=Mhondoro<br>Customer Issue Category=%{x}<br>Count=%{y}<extra></extra>",
         "legendgroup": "Mhondoro",
         "marker": {
          "color": "#ab63fa",
          "pattern": {
           "shape": ""
          }
         },
         "name": "Mhondoro",
         "offsetgroup": "Mhondoro",
         "orientation": "v",
         "showlegend": true,
         "textposition": "auto",
         "type": "bar",
         "x": [
          "Data",
          "Mobile Financial Services",
          "Other",
          "Prepaid",
          "SMS",
          "Service/Product Support"
         ],
         "xaxis": "x",
         "y": [
          3,
          2,
          1,
          4,
          4,
          1
         ],
         "yaxis": "y"
        },
        {
         "alignmentgroup": "True",
         "hovertemplate": "LOCATION=Mrehwa<br>Customer Issue Category=%{x}<br>Count=%{y}<extra></extra>",
         "legendgroup": "Mrehwa",
         "marker": {
          "color": "#FFA15A",
          "pattern": {
           "shape": ""
          }
         },
         "name": "Mrehwa",
         "offsetgroup": "Mrehwa",
         "orientation": "v",
         "showlegend": true,
         "textposition": "auto",
         "type": "bar",
         "x": [
          "Data",
          "Mobile Financial Services",
          "Prepaid",
          "SMS",
          "Service/Product Support"
         ],
         "xaxis": "x",
         "y": [
          5,
          2,
          6,
          4,
          4
         ],
         "yaxis": "y"
        },
        {
         "alignmentgroup": "True",
         "hovertemplate": "LOCATION=Msasa <br>Customer Issue Category=%{x}<br>Count=%{y}<extra></extra>",
         "legendgroup": "Msasa ",
         "marker": {
          "color": "#19d3f3",
          "pattern": {
           "shape": ""
          }
         },
         "name": "Msasa ",
         "offsetgroup": "Msasa ",
         "orientation": "v",
         "showlegend": true,
         "textposition": "auto",
         "type": "bar",
         "x": [
          "Data"
         ],
         "xaxis": "x",
         "y": [
          2
         ],
         "yaxis": "y"
        },
        {
         "alignmentgroup": "True",
         "hovertemplate": "LOCATION=Msengezi<br>Customer Issue Category=%{x}<br>Count=%{y}<extra></extra>",
         "legendgroup": "Msengezi",
         "marker": {
          "color": "#FF6692",
          "pattern": {
           "shape": ""
          }
         },
         "name": "Msengezi",
         "offsetgroup": "Msengezi",
         "orientation": "v",
         "showlegend": true,
         "textposition": "auto",
         "type": "bar",
         "x": [
          "Data",
          "Mobile Financial Services",
          "Prepaid"
         ],
         "xaxis": "x",
         "y": [
          1,
          1,
          1
         ],
         "yaxis": "y"
        },
        {
         "alignmentgroup": "True",
         "hovertemplate": "LOCATION=Mt Darwin<br>Customer Issue Category=%{x}<br>Count=%{y}<extra></extra>",
         "legendgroup": "Mt Darwin",
         "marker": {
          "color": "#B6E880",
          "pattern": {
           "shape": ""
          }
         },
         "name": "Mt Darwin",
         "offsetgroup": "Mt Darwin",
         "orientation": "v",
         "showlegend": true,
         "textposition": "auto",
         "type": "bar",
         "x": [
          "Data",
          "Prepaid",
          "SMS",
          "Service/Product Support"
         ],
         "xaxis": "x",
         "y": [
          3,
          2,
          3,
          2
         ],
         "yaxis": "y"
        },
        {
         "alignmentgroup": "True",
         "hovertemplate": "LOCATION=Mt Hampden<br>Customer Issue Category=%{x}<br>Count=%{y}<extra></extra>",
         "legendgroup": "Mt Hampden",
         "marker": {
          "color": "#FF97FF",
          "pattern": {
           "shape": ""
          }
         },
         "name": "Mt Hampden",
         "offsetgroup": "Mt Hampden",
         "orientation": "v",
         "showlegend": true,
         "textposition": "auto",
         "type": "bar",
         "x": [
          "Data",
          "SMS"
         ],
         "xaxis": "x",
         "y": [
          2,
          1
         ],
         "yaxis": "y"
        },
        {
         "alignmentgroup": "True",
         "hovertemplate": "LOCATION=Mt Pleasant<br>Customer Issue Category=%{x}<br>Count=%{y}<extra></extra>",
         "legendgroup": "Mt Pleasant",
         "marker": {
          "color": "#FECB52",
          "pattern": {
           "shape": ""
          }
         },
         "name": "Mt Pleasant",
         "offsetgroup": "Mt Pleasant",
         "orientation": "v",
         "showlegend": true,
         "textposition": "auto",
         "type": "bar",
         "x": [
          "Data",
          "SMS",
          "Service/Product Support"
         ],
         "xaxis": "x",
         "y": [
          1,
          1,
          1
         ],
         "yaxis": "y"
        },
        {
         "alignmentgroup": "True",
         "hovertemplate": "LOCATION=Mufakose<br>Customer Issue Category=%{x}<br>Count=%{y}<extra></extra>",
         "legendgroup": "Mufakose",
         "marker": {
          "color": "#636efa",
          "pattern": {
           "shape": ""
          }
         },
         "name": "Mufakose",
         "offsetgroup": "Mufakose",
         "orientation": "v",
         "showlegend": true,
         "textposition": "auto",
         "type": "bar",
         "x": [
          "Data",
          "Prepaid",
          "SMS",
          "Service/Product Support",
          "Value Added Services",
          "Voice"
         ],
         "xaxis": "x",
         "y": [
          6,
          2,
          1,
          2,
          1,
          1
         ],
         "yaxis": "y"
        },
        {
         "alignmentgroup": "True",
         "hovertemplate": "LOCATION=Mungate<br>Customer Issue Category=%{x}<br>Count=%{y}<extra></extra>",
         "legendgroup": "Mungate",
         "marker": {
          "color": "#EF553B",
          "pattern": {
           "shape": ""
          }
         },
         "name": "Mungate",
         "offsetgroup": "Mungate",
         "orientation": "v",
         "showlegend": true,
         "textposition": "auto",
         "type": "bar",
         "x": [
          "Data"
         ],
         "xaxis": "x",
         "y": [
          1
         ],
         "yaxis": "y"
        },
        {
         "alignmentgroup": "True",
         "hovertemplate": "LOCATION=Murombedzi<br>Customer Issue Category=%{x}<br>Count=%{y}<extra></extra>",
         "legendgroup": "Murombedzi",
         "marker": {
          "color": "#00cc96",
          "pattern": {
           "shape": ""
          }
         },
         "name": "Murombedzi",
         "offsetgroup": "Murombedzi",
         "orientation": "v",
         "showlegend": true,
         "textposition": "auto",
         "type": "bar",
         "x": [
          "Data"
         ],
         "xaxis": "x",
         "y": [
          1
         ],
         "yaxis": "y"
        },
        {
         "alignmentgroup": "True",
         "hovertemplate": "LOCATION=Mutare<br>Customer Issue Category=%{x}<br>Count=%{y}<extra></extra>",
         "legendgroup": "Mutare",
         "marker": {
          "color": "#ab63fa",
          "pattern": {
           "shape": ""
          }
         },
         "name": "Mutare",
         "offsetgroup": "Mutare",
         "orientation": "v",
         "showlegend": true,
         "textposition": "auto",
         "type": "bar",
         "x": [
          "Data",
          "Mobile Financial Services",
          "Other",
          "Prepaid",
          "Product Distribution ",
          "SMS",
          "Service/Product Support",
          "Supplementary Services",
          "Voice"
         ],
         "xaxis": "x",
         "y": [
          5,
          1,
          2,
          9,
          1,
          2,
          2,
          3,
          1
         ],
         "yaxis": "y"
        },
        {
         "alignmentgroup": "True",
         "hovertemplate": "LOCATION=Mutoko<br>Customer Issue Category=%{x}<br>Count=%{y}<extra></extra>",
         "legendgroup": "Mutoko",
         "marker": {
          "color": "#FFA15A",
          "pattern": {
           "shape": ""
          }
         },
         "name": "Mutoko",
         "offsetgroup": "Mutoko",
         "orientation": "v",
         "showlegend": true,
         "textposition": "auto",
         "type": "bar",
         "x": [
          "Data",
          "Mobile Financial Services",
          "Prepaid",
          "SMS",
          "Service/Product Support",
          "Voice"
         ],
         "xaxis": "x",
         "y": [
          6,
          1,
          7,
          2,
          2,
          3
         ],
         "yaxis": "y"
        },
        {
         "alignmentgroup": "True",
         "hovertemplate": "LOCATION=Mutorashanga<br>Customer Issue Category=%{x}<br>Count=%{y}<extra></extra>",
         "legendgroup": "Mutorashanga",
         "marker": {
          "color": "#19d3f3",
          "pattern": {
           "shape": ""
          }
         },
         "name": "Mutorashanga",
         "offsetgroup": "Mutorashanga",
         "orientation": "v",
         "showlegend": true,
         "textposition": "auto",
         "type": "bar",
         "x": [
          "Data",
          "Marketing",
          "Mobile Financial Services",
          "SMS"
         ],
         "xaxis": "x",
         "y": [
          1,
          1,
          1,
          2
         ],
         "yaxis": "y"
        },
        {
         "alignmentgroup": "True",
         "hovertemplate": "LOCATION=Muzarabani<br>Customer Issue Category=%{x}<br>Count=%{y}<extra></extra>",
         "legendgroup": "Muzarabani",
         "marker": {
          "color": "#FF6692",
          "pattern": {
           "shape": ""
          }
         },
         "name": "Muzarabani",
         "offsetgroup": "Muzarabani",
         "orientation": "v",
         "showlegend": true,
         "textposition": "auto",
         "type": "bar",
         "x": [
          "Data",
          "Prepaid",
          "SMS",
          "Service/Product Support"
         ],
         "xaxis": "x",
         "y": [
          2,
          5,
          1,
          1
         ],
         "yaxis": "y"
        },
        {
         "alignmentgroup": "True",
         "hovertemplate": "LOCATION=Mvurwi<br>Customer Issue Category=%{x}<br>Count=%{y}<extra></extra>",
         "legendgroup": "Mvurwi",
         "marker": {
          "color": "#B6E880",
          "pattern": {
           "shape": ""
          }
         },
         "name": "Mvurwi",
         "offsetgroup": "Mvurwi",
         "orientation": "v",
         "showlegend": true,
         "textposition": "auto",
         "type": "bar",
         "x": [
          "Data",
          "Other",
          "Prepaid"
         ],
         "xaxis": "x",
         "y": [
          1,
          1,
          1
         ],
         "yaxis": "y"
        },
        {
         "alignmentgroup": "True",
         "hovertemplate": "LOCATION=Mwenezi<br>Customer Issue Category=%{x}<br>Count=%{y}<extra></extra>",
         "legendgroup": "Mwenezi",
         "marker": {
          "color": "#FF97FF",
          "pattern": {
           "shape": ""
          }
         },
         "name": "Mwenezi",
         "offsetgroup": "Mwenezi",
         "orientation": "v",
         "showlegend": true,
         "textposition": "auto",
         "type": "bar",
         "x": [
          "Data",
          "Service/Product Support"
         ],
         "xaxis": "x",
         "y": [
          3,
          1
         ],
         "yaxis": "y"
        },
        {
         "alignmentgroup": "True",
         "hovertemplate": "LOCATION=Ngai<br>Customer Issue Category=%{x}<br>Count=%{y}<extra></extra>",
         "legendgroup": "Ngai",
         "marker": {
          "color": "#FECB52",
          "pattern": {
           "shape": ""
          }
         },
         "name": "Ngai",
         "offsetgroup": "Ngai",
         "orientation": "v",
         "showlegend": true,
         "textposition": "auto",
         "type": "bar",
         "x": [
          "Data"
         ],
         "xaxis": "x",
         "y": [
          1
         ],
         "yaxis": "y"
        },
        {
         "alignmentgroup": "True",
         "hovertemplate": "LOCATION=Nkulumane<br>Customer Issue Category=%{x}<br>Count=%{y}<extra></extra>",
         "legendgroup": "Nkulumane",
         "marker": {
          "color": "#636efa",
          "pattern": {
           "shape": ""
          }
         },
         "name": "Nkulumane",
         "offsetgroup": "Nkulumane",
         "orientation": "v",
         "showlegend": true,
         "textposition": "auto",
         "type": "bar",
         "x": [
          "Data"
         ],
         "xaxis": "x",
         "y": [
          1
         ],
         "yaxis": "y"
        },
        {
         "alignmentgroup": "True",
         "hovertemplate": "LOCATION=Norton<br>Customer Issue Category=%{x}<br>Count=%{y}<extra></extra>",
         "legendgroup": "Norton",
         "marker": {
          "color": "#EF553B",
          "pattern": {
           "shape": ""
          }
         },
         "name": "Norton",
         "offsetgroup": "Norton",
         "orientation": "v",
         "showlegend": true,
         "textposition": "auto",
         "type": "bar",
         "x": [
          "Data",
          "Mobile Financial Services",
          "Prepaid",
          "SMS",
          "Service/Product Support"
         ],
         "xaxis": "x",
         "y": [
          5,
          1,
          4,
          2,
          2
         ],
         "yaxis": "y"
        },
        {
         "alignmentgroup": "True",
         "hovertemplate": "LOCATION=Nyamazuwa<br>Customer Issue Category=%{x}<br>Count=%{y}<extra></extra>",
         "legendgroup": "Nyamazuwa",
         "marker": {
          "color": "#00cc96",
          "pattern": {
           "shape": ""
          }
         },
         "name": "Nyamazuwa",
         "offsetgroup": "Nyamazuwa",
         "orientation": "v",
         "showlegend": true,
         "textposition": "auto",
         "type": "bar",
         "x": [
          "Data"
         ],
         "xaxis": "x",
         "y": [
          1
         ],
         "yaxis": "y"
        },
        {
         "alignmentgroup": "True",
         "hovertemplate": "LOCATION=Nyanga<br>Customer Issue Category=%{x}<br>Count=%{y}<extra></extra>",
         "legendgroup": "Nyanga",
         "marker": {
          "color": "#ab63fa",
          "pattern": {
           "shape": ""
          }
         },
         "name": "Nyanga",
         "offsetgroup": "Nyanga",
         "orientation": "v",
         "showlegend": true,
         "textposition": "auto",
         "type": "bar",
         "x": [
          "Data",
          "Mobile Financial Services",
          "Prepaid",
          "Products and Services",
          "SMS",
          "Service/Product Support",
          "Supplementary Services"
         ],
         "xaxis": "x",
         "y": [
          3,
          1,
          5,
          1,
          3,
          1,
          2
         ],
         "yaxis": "y"
        },
        {
         "alignmentgroup": "True",
         "hovertemplate": "LOCATION=Nyazura <br>Customer Issue Category=%{x}<br>Count=%{y}<extra></extra>",
         "legendgroup": "Nyazura ",
         "marker": {
          "color": "#FFA15A",
          "pattern": {
           "shape": ""
          }
         },
         "name": "Nyazura ",
         "offsetgroup": "Nyazura ",
         "orientation": "v",
         "showlegend": true,
         "textposition": "auto",
         "type": "bar",
         "x": [
          "Data"
         ],
         "xaxis": "x",
         "y": [
          1
         ],
         "yaxis": "y"
        },
        {
         "alignmentgroup": "True",
         "hovertemplate": "LOCATION=Penalonga<br>Customer Issue Category=%{x}<br>Count=%{y}<extra></extra>",
         "legendgroup": "Penalonga",
         "marker": {
          "color": "#19d3f3",
          "pattern": {
           "shape": ""
          }
         },
         "name": "Penalonga",
         "offsetgroup": "Penalonga",
         "orientation": "v",
         "showlegend": true,
         "textposition": "auto",
         "type": "bar",
         "x": [
          "Data",
          "Service/Product Support"
         ],
         "xaxis": "x",
         "y": [
          3,
          1
         ],
         "yaxis": "y"
        },
        {
         "alignmentgroup": "True",
         "hovertemplate": "LOCATION=Pumula<br>Customer Issue Category=%{x}<br>Count=%{y}<extra></extra>",
         "legendgroup": "Pumula",
         "marker": {
          "color": "#FF6692",
          "pattern": {
           "shape": ""
          }
         },
         "name": "Pumula",
         "offsetgroup": "Pumula",
         "orientation": "v",
         "showlegend": true,
         "textposition": "auto",
         "type": "bar",
         "x": [
          "Data"
         ],
         "xaxis": "x",
         "y": [
          1
         ],
         "yaxis": "y"
        },
        {
         "alignmentgroup": "True",
         "hovertemplate": "LOCATION=Queensdale<br>Customer Issue Category=%{x}<br>Count=%{y}<extra></extra>",
         "legendgroup": "Queensdale",
         "marker": {
          "color": "#B6E880",
          "pattern": {
           "shape": ""
          }
         },
         "name": "Queensdale",
         "offsetgroup": "Queensdale",
         "orientation": "v",
         "showlegend": true,
         "textposition": "auto",
         "type": "bar",
         "x": [
          "Data"
         ],
         "xaxis": "x",
         "y": [
          1
         ],
         "yaxis": "y"
        },
        {
         "alignmentgroup": "True",
         "hovertemplate": "LOCATION=Rusape<br>Customer Issue Category=%{x}<br>Count=%{y}<extra></extra>",
         "legendgroup": "Rusape",
         "marker": {
          "color": "#FF97FF",
          "pattern": {
           "shape": ""
          }
         },
         "name": "Rusape",
         "offsetgroup": "Rusape",
         "orientation": "v",
         "showlegend": true,
         "textposition": "auto",
         "type": "bar",
         "x": [
          "Data",
          "Mobile Financial Services",
          "Other",
          "Prepaid",
          "SMS",
          "Service/Product Support",
          "Supplementary Services",
          "Voice"
         ],
         "xaxis": "x",
         "y": [
          9,
          3,
          1,
          2,
          1,
          2,
          2,
          1
         ],
         "yaxis": "y"
        },
        {
         "alignmentgroup": "True",
         "hovertemplate": "LOCATION=Ruwa<br>Customer Issue Category=%{x}<br>Count=%{y}<extra></extra>",
         "legendgroup": "Ruwa",
         "marker": {
          "color": "#FECB52",
          "pattern": {
           "shape": ""
          }
         },
         "name": "Ruwa",
         "offsetgroup": "Ruwa",
         "orientation": "v",
         "showlegend": true,
         "textposition": "auto",
         "type": "bar",
         "x": [
          "Data",
          "Mobile Financial Services",
          "Other",
          "Prepaid",
          "Service/Product Support",
          "Voice"
         ],
         "xaxis": "x",
         "y": [
          12,
          1,
          2,
          4,
          3,
          1
         ],
         "yaxis": "y"
        },
        {
         "alignmentgroup": "True",
         "hovertemplate": "LOCATION=Sandton<br>Customer Issue Category=%{x}<br>Count=%{y}<extra></extra>",
         "legendgroup": "Sandton",
         "marker": {
          "color": "#636efa",
          "pattern": {
           "shape": ""
          }
         },
         "name": "Sandton",
         "offsetgroup": "Sandton",
         "orientation": "v",
         "showlegend": true,
         "textposition": "auto",
         "type": "bar",
         "x": [
          "Data",
          "Product Distribution "
         ],
         "xaxis": "x",
         "y": [
          1,
          1
         ],
         "yaxis": "y"
        },
        {
         "alignmentgroup": "True",
         "hovertemplate": "LOCATION=Seke<br>Customer Issue Category=%{x}<br>Count=%{y}<extra></extra>",
         "legendgroup": "Seke",
         "marker": {
          "color": "#EF553B",
          "pattern": {
           "shape": ""
          }
         },
         "name": "Seke",
         "offsetgroup": "Seke",
         "orientation": "v",
         "showlegend": true,
         "textposition": "auto",
         "type": "bar",
         "x": [
          "Data",
          "SMS"
         ],
         "xaxis": "x",
         "y": [
          1,
          1
         ],
         "yaxis": "y"
        },
        {
         "alignmentgroup": "True",
         "hovertemplate": "LOCATION=Shamva<br>Customer Issue Category=%{x}<br>Count=%{y}<extra></extra>",
         "legendgroup": "Shamva",
         "marker": {
          "color": "#00cc96",
          "pattern": {
           "shape": ""
          }
         },
         "name": "Shamva",
         "offsetgroup": "Shamva",
         "orientation": "v",
         "showlegend": true,
         "textposition": "auto",
         "type": "bar",
         "x": [
          "Data",
          "Mobile Financial Services",
          "Prepaid",
          "SMS",
          "Service/Product Support"
         ],
         "xaxis": "x",
         "y": [
          1,
          1,
          1,
          4,
          2
         ],
         "yaxis": "y"
        },
        {
         "alignmentgroup": "True",
         "hovertemplate": "LOCATION=Shurugwi<br>Customer Issue Category=%{x}<br>Count=%{y}<extra></extra>",
         "legendgroup": "Shurugwi",
         "marker": {
          "color": "#ab63fa",
          "pattern": {
           "shape": ""
          }
         },
         "name": "Shurugwi",
         "offsetgroup": "Shurugwi",
         "orientation": "v",
         "showlegend": true,
         "textposition": "auto",
         "type": "bar",
         "x": [
          "Data",
          "Prepaid",
          "SMS",
          "Voice"
         ],
         "xaxis": "x",
         "y": [
          5,
          3,
          4,
          1
         ],
         "yaxis": "y"
        },
        {
         "alignmentgroup": "True",
         "hovertemplate": "LOCATION=Snake Park<br>Customer Issue Category=%{x}<br>Count=%{y}<extra></extra>",
         "legendgroup": "Snake Park",
         "marker": {
          "color": "#FFA15A",
          "pattern": {
           "shape": ""
          }
         },
         "name": "Snake Park",
         "offsetgroup": "Snake Park",
         "orientation": "v",
         "showlegend": true,
         "textposition": "auto",
         "type": "bar",
         "x": [
          "Data"
         ],
         "xaxis": "x",
         "y": [
          1
         ],
         "yaxis": "y"
        },
        {
         "alignmentgroup": "True",
         "hovertemplate": "LOCATION=Southerton<br>Customer Issue Category=%{x}<br>Count=%{y}<extra></extra>",
         "legendgroup": "Southerton",
         "marker": {
          "color": "#19d3f3",
          "pattern": {
           "shape": ""
          }
         },
         "name": "Southerton",
         "offsetgroup": "Southerton",
         "orientation": "v",
         "showlegend": true,
         "textposition": "auto",
         "type": "bar",
         "x": [
          "Data",
          "Prepaid",
          "Service/Product Support"
         ],
         "xaxis": "x",
         "y": [
          2,
          2,
          1
         ],
         "yaxis": "y"
        },
        {
         "alignmentgroup": "True",
         "hovertemplate": "LOCATION=Southlands<br>Customer Issue Category=%{x}<br>Count=%{y}<extra></extra>",
         "legendgroup": "Southlands",
         "marker": {
          "color": "#FF6692",
          "pattern": {
           "shape": ""
          }
         },
         "name": "Southlands",
         "offsetgroup": "Southlands",
         "orientation": "v",
         "showlegend": true,
         "textposition": "auto",
         "type": "bar",
         "x": [
          "Data",
          "Voice"
         ],
         "xaxis": "x",
         "y": [
          2,
          1
         ],
         "yaxis": "y"
        },
        {
         "alignmentgroup": "True",
         "hovertemplate": "LOCATION=Southley Park<br>Customer Issue Category=%{x}<br>Count=%{y}<extra></extra>",
         "legendgroup": "Southley Park",
         "marker": {
          "color": "#B6E880",
          "pattern": {
           "shape": ""
          }
         },
         "name": "Southley Park",
         "offsetgroup": "Southley Park",
         "orientation": "v",
         "showlegend": true,
         "textposition": "auto",
         "type": "bar",
         "x": [
          "Data",
          "Mobile Financial Services",
          "Prepaid",
          "SMS"
         ],
         "xaxis": "x",
         "y": [
          9,
          1,
          2,
          1
         ],
         "yaxis": "y"
        },
        {
         "alignmentgroup": "True",
         "hovertemplate": "LOCATION=Southridge <br>Customer Issue Category=%{x}<br>Count=%{y}<extra></extra>",
         "legendgroup": "Southridge ",
         "marker": {
          "color": "#FF97FF",
          "pattern": {
           "shape": ""
          }
         },
         "name": "Southridge ",
         "offsetgroup": "Southridge ",
         "orientation": "v",
         "showlegend": true,
         "textposition": "auto",
         "type": "bar",
         "x": [
          "Data"
         ],
         "xaxis": "x",
         "y": [
          1
         ],
         "yaxis": "y"
        },
        {
         "alignmentgroup": "True",
         "hovertemplate": "LOCATION=St Marys<br>Customer Issue Category=%{x}<br>Count=%{y}<extra></extra>",
         "legendgroup": "St Marys",
         "marker": {
          "color": "#FECB52",
          "pattern": {
           "shape": ""
          }
         },
         "name": "St Marys",
         "offsetgroup": "St Marys",
         "orientation": "v",
         "showlegend": true,
         "textposition": "auto",
         "type": "bar",
         "x": [
          "Data",
          "Other"
         ],
         "xaxis": "x",
         "y": [
          1,
          1
         ],
         "yaxis": "y"
        },
        {
         "alignmentgroup": "True",
         "hovertemplate": "LOCATION=St Peters<br>Customer Issue Category=%{x}<br>Count=%{y}<extra></extra>",
         "legendgroup": "St Peters",
         "marker": {
          "color": "#636efa",
          "pattern": {
           "shape": ""
          }
         },
         "name": "St Peters",
         "offsetgroup": "St Peters",
         "orientation": "v",
         "showlegend": true,
         "textposition": "auto",
         "type": "bar",
         "x": [
          "Data"
         ],
         "xaxis": "x",
         "y": [
          1
         ],
         "yaxis": "y"
        },
        {
         "alignmentgroup": "True",
         "hovertemplate": "LOCATION=Stapleford<br>Customer Issue Category=%{x}<br>Count=%{y}<extra></extra>",
         "legendgroup": "Stapleford",
         "marker": {
          "color": "#EF553B",
          "pattern": {
           "shape": ""
          }
         },
         "name": "Stapleford",
         "offsetgroup": "Stapleford",
         "orientation": "v",
         "showlegend": true,
         "textposition": "auto",
         "type": "bar",
         "x": [
          "Data"
         ],
         "xaxis": "x",
         "y": [
          1
         ],
         "yaxis": "y"
        },
        {
         "alignmentgroup": "True",
         "hovertemplate": "LOCATION=Stoneridge<br>Customer Issue Category=%{x}<br>Count=%{y}<extra></extra>",
         "legendgroup": "Stoneridge",
         "marker": {
          "color": "#00cc96",
          "pattern": {
           "shape": ""
          }
         },
         "name": "Stoneridge",
         "offsetgroup": "Stoneridge",
         "orientation": "v",
         "showlegend": true,
         "textposition": "auto",
         "type": "bar",
         "x": [
          "Data",
          "Prepaid",
          "Service/Product Support",
          "Voice"
         ],
         "xaxis": "x",
         "y": [
          4,
          1,
          1,
          1
         ],
         "yaxis": "y"
        },
        {
         "alignmentgroup": "True",
         "hovertemplate": "LOCATION=Sunningdale<br>Customer Issue Category=%{x}<br>Count=%{y}<extra></extra>",
         "legendgroup": "Sunningdale",
         "marker": {
          "color": "#ab63fa",
          "pattern": {
           "shape": ""
          }
         },
         "name": "Sunningdale",
         "offsetgroup": "Sunningdale",
         "orientation": "v",
         "showlegend": true,
         "textposition": "auto",
         "type": "bar",
         "x": [
          "Data",
          "Prepaid",
          "Service/Product Support"
         ],
         "xaxis": "x",
         "y": [
          1,
          2,
          1
         ],
         "yaxis": "y"
        },
        {
         "alignmentgroup": "True",
         "hovertemplate": "LOCATION=Tafara<br>Customer Issue Category=%{x}<br>Count=%{y}<extra></extra>",
         "legendgroup": "Tafara",
         "marker": {
          "color": "#FFA15A",
          "pattern": {
           "shape": ""
          }
         },
         "name": "Tafara",
         "offsetgroup": "Tafara",
         "orientation": "v",
         "showlegend": true,
         "textposition": "auto",
         "type": "bar",
         "x": [
          "Data",
          "Mobile Financial Services",
          "Service/Product Support"
         ],
         "xaxis": "x",
         "y": [
          2,
          1,
          1
         ],
         "yaxis": "y"
        },
        {
         "alignmentgroup": "True",
         "hovertemplate": "LOCATION=Turnpike<br>Customer Issue Category=%{x}<br>Count=%{y}<extra></extra>",
         "legendgroup": "Turnpike",
         "marker": {
          "color": "#19d3f3",
          "pattern": {
           "shape": ""
          }
         },
         "name": "Turnpike",
         "offsetgroup": "Turnpike",
         "orientation": "v",
         "showlegend": true,
         "textposition": "auto",
         "type": "bar",
         "x": [
          "Data"
         ],
         "xaxis": "x",
         "y": [
          1
         ],
         "yaxis": "y"
        },
        {
         "alignmentgroup": "True",
         "hovertemplate": "LOCATION=Tynwald<br>Customer Issue Category=%{x}<br>Count=%{y}<extra></extra>",
         "legendgroup": "Tynwald",
         "marker": {
          "color": "#FF6692",
          "pattern": {
           "shape": ""
          }
         },
         "name": "Tynwald",
         "offsetgroup": "Tynwald",
         "orientation": "v",
         "showlegend": true,
         "textposition": "auto",
         "type": "bar",
         "x": [
          "Data",
          "Mobile Financial Services"
         ],
         "xaxis": "x",
         "y": [
          1,
          1
         ],
         "yaxis": "y"
        },
        {
         "alignmentgroup": "True",
         "hovertemplate": "LOCATION=UMP<br>Customer Issue Category=%{x}<br>Count=%{y}<extra></extra>",
         "legendgroup": "UMP",
         "marker": {
          "color": "#B6E880",
          "pattern": {
           "shape": ""
          }
         },
         "name": "UMP",
         "offsetgroup": "UMP",
         "orientation": "v",
         "showlegend": true,
         "textposition": "auto",
         "type": "bar",
         "x": [
          "Data",
          "Prepaid",
          "Product Distribution ",
          "Service/Product Support"
         ],
         "xaxis": "x",
         "y": [
          1,
          1,
          1,
          2
         ],
         "yaxis": "y"
        },
        {
         "alignmentgroup": "True",
         "hovertemplate": "LOCATION=Victoria Falls<br>Customer Issue Category=%{x}<br>Count=%{y}<extra></extra>",
         "legendgroup": "Victoria Falls",
         "marker": {
          "color": "#FF97FF",
          "pattern": {
           "shape": ""
          }
         },
         "name": "Victoria Falls",
         "offsetgroup": "Victoria Falls",
         "orientation": "v",
         "showlegend": true,
         "textposition": "auto",
         "type": "bar",
         "x": [
          "Data"
         ],
         "xaxis": "x",
         "y": [
          1
         ],
         "yaxis": "y"
        },
        {
         "alignmentgroup": "True",
         "hovertemplate": "LOCATION=Waterfalls<br>Customer Issue Category=%{x}<br>Count=%{y}<extra></extra>",
         "legendgroup": "Waterfalls",
         "marker": {
          "color": "#FECB52",
          "pattern": {
           "shape": ""
          }
         },
         "name": "Waterfalls",
         "offsetgroup": "Waterfalls",
         "orientation": "v",
         "showlegend": true,
         "textposition": "auto",
         "type": "bar",
         "x": [
          "Data",
          "Mobile Financial Services",
          "Prepaid",
          "Roaming and International services",
          "Service/Product Support",
          "Voice"
         ],
         "xaxis": "x",
         "y": [
          10,
          2,
          3,
          1,
          2,
          3
         ],
         "yaxis": "y"
        },
        {
         "alignmentgroup": "True",
         "hovertemplate": "LOCATION=Wedza<br>Customer Issue Category=%{x}<br>Count=%{y}<extra></extra>",
         "legendgroup": "Wedza",
         "marker": {
          "color": "#636efa",
          "pattern": {
           "shape": ""
          }
         },
         "name": "Wedza",
         "offsetgroup": "Wedza",
         "orientation": "v",
         "showlegend": true,
         "textposition": "auto",
         "type": "bar",
         "x": [
          "Data",
          "Prepaid",
          "SMS",
          "Service/Product Support"
         ],
         "xaxis": "x",
         "y": [
          2,
          2,
          1,
          1
         ],
         "yaxis": "y"
        },
        {
         "alignmentgroup": "True",
         "hovertemplate": "LOCATION=Westgate<br>Customer Issue Category=%{x}<br>Count=%{y}<extra></extra>",
         "legendgroup": "Westgate",
         "marker": {
          "color": "#EF553B",
          "pattern": {
           "shape": ""
          }
         },
         "name": "Westgate",
         "offsetgroup": "Westgate",
         "orientation": "v",
         "showlegend": true,
         "textposition": "auto",
         "type": "bar",
         "x": [
          "Data",
          "Other",
          "Prepaid",
          "Service/Product Support"
         ],
         "xaxis": "x",
         "y": [
          2,
          1,
          2,
          1
         ],
         "yaxis": "y"
        },
        {
         "alignmentgroup": "True",
         "hovertemplate": "LOCATION=Westlea<br>Customer Issue Category=%{x}<br>Count=%{y}<extra></extra>",
         "legendgroup": "Westlea",
         "marker": {
          "color": "#00cc96",
          "pattern": {
           "shape": ""
          }
         },
         "name": "Westlea",
         "offsetgroup": "Westlea",
         "orientation": "v",
         "showlegend": true,
         "textposition": "auto",
         "type": "bar",
         "x": [
          "Data"
         ],
         "xaxis": "x",
         "y": [
          2
         ],
         "yaxis": "y"
        },
        {
         "alignmentgroup": "True",
         "hovertemplate": "LOCATION=Whitecliff<br>Customer Issue Category=%{x}<br>Count=%{y}<extra></extra>",
         "legendgroup": "Whitecliff",
         "marker": {
          "color": "#ab63fa",
          "pattern": {
           "shape": ""
          }
         },
         "name": "Whitecliff",
         "offsetgroup": "Whitecliff",
         "orientation": "v",
         "showlegend": true,
         "textposition": "auto",
         "type": "bar",
         "x": [
          "Data"
         ],
         "xaxis": "x",
         "y": [
          1
         ],
         "yaxis": "y"
        },
        {
         "alignmentgroup": "True",
         "hovertemplate": "LOCATION=Willowvale<br>Customer Issue Category=%{x}<br>Count=%{y}<extra></extra>",
         "legendgroup": "Willowvale",
         "marker": {
          "color": "#FFA15A",
          "pattern": {
           "shape": ""
          }
         },
         "name": "Willowvale",
         "offsetgroup": "Willowvale",
         "orientation": "v",
         "showlegend": true,
         "textposition": "auto",
         "type": "bar",
         "x": [
          "Data",
          "SMS"
         ],
         "xaxis": "x",
         "y": [
          1,
          1
         ],
         "yaxis": "y"
        },
        {
         "alignmentgroup": "True",
         "hovertemplate": "LOCATION=Workington<br>Customer Issue Category=%{x}<br>Count=%{y}<extra></extra>",
         "legendgroup": "Workington",
         "marker": {
          "color": "#19d3f3",
          "pattern": {
           "shape": ""
          }
         },
         "name": "Workington",
         "offsetgroup": "Workington",
         "orientation": "v",
         "showlegend": true,
         "textposition": "auto",
         "type": "bar",
         "x": [
          "Data"
         ],
         "xaxis": "x",
         "y": [
          1
         ],
         "yaxis": "y"
        },
        {
         "alignmentgroup": "True",
         "hovertemplate": "LOCATION=Zhombe<br>Customer Issue Category=%{x}<br>Count=%{y}<extra></extra>",
         "legendgroup": "Zhombe",
         "marker": {
          "color": "#FF6692",
          "pattern": {
           "shape": ""
          }
         },
         "name": "Zhombe",
         "offsetgroup": "Zhombe",
         "orientation": "v",
         "showlegend": true,
         "textposition": "auto",
         "type": "bar",
         "x": [
          "Data",
          "Prepaid"
         ],
         "xaxis": "x",
         "y": [
          1,
          1
         ],
         "yaxis": "y"
        },
        {
         "alignmentgroup": "True",
         "hovertemplate": "LOCATION=Zimre Park <br>Customer Issue Category=%{x}<br>Count=%{y}<extra></extra>",
         "legendgroup": "Zimre Park ",
         "marker": {
          "color": "#B6E880",
          "pattern": {
           "shape": ""
          }
         },
         "name": "Zimre Park ",
         "offsetgroup": "Zimre Park ",
         "orientation": "v",
         "showlegend": true,
         "textposition": "auto",
         "type": "bar",
         "x": [
          "Data",
          "Prepaid"
         ],
         "xaxis": "x",
         "y": [
          2,
          3
         ],
         "yaxis": "y"
        },
        {
         "alignmentgroup": "True",
         "hovertemplate": "LOCATION=Zvishavane<br>Customer Issue Category=%{x}<br>Count=%{y}<extra></extra>",
         "legendgroup": "Zvishavane",
         "marker": {
          "color": "#FF97FF",
          "pattern": {
           "shape": ""
          }
         },
         "name": "Zvishavane",
         "offsetgroup": "Zvishavane",
         "orientation": "v",
         "showlegend": true,
         "textposition": "auto",
         "type": "bar",
         "x": [
          "Data",
          "Prepaid",
          "Service/Product Support"
         ],
         "xaxis": "x",
         "y": [
          3,
          4,
          1
         ],
         "yaxis": "y"
        },
        {
         "alignmentgroup": "True",
         "hovertemplate": "LOCATION=banket<br>Customer Issue Category=%{x}<br>Count=%{y}<extra></extra>",
         "legendgroup": "banket",
         "marker": {
          "color": "#FECB52",
          "pattern": {
           "shape": ""
          }
         },
         "name": "banket",
         "offsetgroup": "banket",
         "orientation": "v",
         "showlegend": true,
         "textposition": "auto",
         "type": "bar",
         "x": [
          "Data"
         ],
         "xaxis": "x",
         "y": [
          1
         ],
         "yaxis": "y"
        },
        {
         "alignmentgroup": "True",
         "hovertemplate": "LOCATION=braeside<br>Customer Issue Category=%{x}<br>Count=%{y}<extra></extra>",
         "legendgroup": "braeside",
         "marker": {
          "color": "#636efa",
          "pattern": {
           "shape": ""
          }
         },
         "name": "braeside",
         "offsetgroup": "braeside",
         "orientation": "v",
         "showlegend": true,
         "textposition": "auto",
         "type": "bar",
         "x": [
          "Data",
          "Prepaid"
         ],
         "xaxis": "x",
         "y": [
          2,
          1
         ],
         "yaxis": "y"
        },
        {
         "alignmentgroup": "True",
         "hovertemplate": "LOCATION=bulawayo<br>Customer Issue Category=%{x}<br>Count=%{y}<extra></extra>",
         "legendgroup": "bulawayo",
         "marker": {
          "color": "#EF553B",
          "pattern": {
           "shape": ""
          }
         },
         "name": "bulawayo",
         "offsetgroup": "bulawayo",
         "orientation": "v",
         "showlegend": true,
         "textposition": "auto",
         "type": "bar",
         "x": [
          "Data"
         ],
         "xaxis": "x",
         "y": [
          1
         ],
         "yaxis": "y"
        },
        {
         "alignmentgroup": "True",
         "hovertemplate": "LOCATION=chipinge<br>Customer Issue Category=%{x}<br>Count=%{y}<extra></extra>",
         "legendgroup": "chipinge",
         "marker": {
          "color": "#00cc96",
          "pattern": {
           "shape": ""
          }
         },
         "name": "chipinge",
         "offsetgroup": "chipinge",
         "orientation": "v",
         "showlegend": true,
         "textposition": "auto",
         "type": "bar",
         "x": [
          "Data",
          "Mobile Financial Services",
          "Prepaid",
          "Supplementary Services"
         ],
         "xaxis": "x",
         "y": [
          2,
          1,
          1,
          1
         ],
         "yaxis": "y"
        },
        {
         "alignmentgroup": "True",
         "hovertemplate": "LOCATION=chivi<br>Customer Issue Category=%{x}<br>Count=%{y}<extra></extra>",
         "legendgroup": "chivi",
         "marker": {
          "color": "#ab63fa",
          "pattern": {
           "shape": ""
          }
         },
         "name": "chivi",
         "offsetgroup": "chivi",
         "orientation": "v",
         "showlegend": true,
         "textposition": "auto",
         "type": "bar",
         "x": [
          "Data",
          "Service/Product Support"
         ],
         "xaxis": "x",
         "y": [
          1,
          1
         ],
         "yaxis": "y"
        },
        {
         "alignmentgroup": "True",
         "hovertemplate": "LOCATION=filabusi<br>Customer Issue Category=%{x}<br>Count=%{y}<extra></extra>",
         "legendgroup": "filabusi",
         "marker": {
          "color": "#FFA15A",
          "pattern": {
           "shape": ""
          }
         },
         "name": "filabusi",
         "offsetgroup": "filabusi",
         "orientation": "v",
         "showlegend": true,
         "textposition": "auto",
         "type": "bar",
         "x": [
          "Data",
          "SMS"
         ],
         "xaxis": "x",
         "y": [
          1,
          1
         ],
         "yaxis": "y"
        },
        {
         "alignmentgroup": "True",
         "hovertemplate": "LOCATION=harare<br>Customer Issue Category=%{x}<br>Count=%{y}<extra></extra>",
         "legendgroup": "harare",
         "marker": {
          "color": "#19d3f3",
          "pattern": {
           "shape": ""
          }
         },
         "name": "harare",
         "offsetgroup": "harare",
         "orientation": "v",
         "showlegend": true,
         "textposition": "auto",
         "type": "bar",
         "x": [
          "Data",
          "Mobile Financial Services",
          "Other",
          "Prepaid",
          "Product Distribution ",
          "Products and Services",
          "SMS"
         ],
         "xaxis": "x",
         "y": [
          7,
          4,
          1,
          5,
          1,
          1,
          3
         ],
         "yaxis": "y"
        },
        {
         "alignmentgroup": "True",
         "hovertemplate": "LOCATION=highlands<br>Customer Issue Category=%{x}<br>Count=%{y}<extra></extra>",
         "legendgroup": "highlands",
         "marker": {
          "color": "#FF6692",
          "pattern": {
           "shape": ""
          }
         },
         "name": "highlands",
         "offsetgroup": "highlands",
         "orientation": "v",
         "showlegend": true,
         "textposition": "auto",
         "type": "bar",
         "x": [
          "Data"
         ],
         "xaxis": "x",
         "y": [
          2
         ],
         "yaxis": "y"
        },
        {
         "alignmentgroup": "True",
         "hovertemplate": "LOCATION=mabvuku<br>Customer Issue Category=%{x}<br>Count=%{y}<extra></extra>",
         "legendgroup": "mabvuku",
         "marker": {
          "color": "#B6E880",
          "pattern": {
           "shape": ""
          }
         },
         "name": "mabvuku",
         "offsetgroup": "mabvuku",
         "orientation": "v",
         "showlegend": true,
         "textposition": "auto",
         "type": "bar",
         "x": [
          "Data",
          "Mobile Financial Services",
          "Service/Product Support"
         ],
         "xaxis": "x",
         "y": [
          6,
          1,
          1
         ],
         "yaxis": "y"
        },
        {
         "alignmentgroup": "True",
         "hovertemplate": "LOCATION=madokero<br>Customer Issue Category=%{x}<br>Count=%{y}<extra></extra>",
         "legendgroup": "madokero",
         "marker": {
          "color": "#FF97FF",
          "pattern": {
           "shape": ""
          }
         },
         "name": "madokero",
         "offsetgroup": "madokero",
         "orientation": "v",
         "showlegend": true,
         "textposition": "auto",
         "type": "bar",
         "x": [
          "Data"
         ],
         "xaxis": "x",
         "y": [
          1
         ],
         "yaxis": "y"
        },
        {
         "alignmentgroup": "True",
         "hovertemplate": "LOCATION=manyame<br>Customer Issue Category=%{x}<br>Count=%{y}<extra></extra>",
         "legendgroup": "manyame",
         "marker": {
          "color": "#FECB52",
          "pattern": {
           "shape": ""
          }
         },
         "name": "manyame",
         "offsetgroup": "manyame",
         "orientation": "v",
         "showlegend": true,
         "textposition": "auto",
         "type": "bar",
         "x": [
          "Data"
         ],
         "xaxis": "x",
         "y": [
          1
         ],
         "yaxis": "y"
        },
        {
         "alignmentgroup": "True",
         "hovertemplate": "LOCATION=marange<br>Customer Issue Category=%{x}<br>Count=%{y}<extra></extra>",
         "legendgroup": "marange",
         "marker": {
          "color": "#636efa",
          "pattern": {
           "shape": ""
          }
         },
         "name": "marange",
         "offsetgroup": "marange",
         "orientation": "v",
         "showlegend": true,
         "textposition": "auto",
         "type": "bar",
         "x": [
          "Data",
          "Mobile Financial Services"
         ],
         "xaxis": "x",
         "y": [
          2,
          1
         ],
         "yaxis": "y"
        },
        {
         "alignmentgroup": "True",
         "hovertemplate": "LOCATION=mutare<br>Customer Issue Category=%{x}<br>Count=%{y}<extra></extra>",
         "legendgroup": "mutare",
         "marker": {
          "color": "#EF553B",
          "pattern": {
           "shape": ""
          }
         },
         "name": "mutare",
         "offsetgroup": "mutare",
         "orientation": "v",
         "showlegend": true,
         "textposition": "auto",
         "type": "bar",
         "x": [
          "Data",
          "Supplementary Services",
          "Voice"
         ],
         "xaxis": "x",
         "y": [
          1,
          1,
          1
         ],
         "yaxis": "y"
        },
        {
         "alignmentgroup": "True",
         "hovertemplate": "LOCATION=nyazura<br>Customer Issue Category=%{x}<br>Count=%{y}<extra></extra>",
         "legendgroup": "nyazura",
         "marker": {
          "color": "#00cc96",
          "pattern": {
           "shape": ""
          }
         },
         "name": "nyazura",
         "offsetgroup": "nyazura",
         "orientation": "v",
         "showlegend": true,
         "textposition": "auto",
         "type": "bar",
         "x": [
          "Data"
         ],
         "xaxis": "x",
         "y": [
          1
         ],
         "yaxis": "y"
        },
        {
         "alignmentgroup": "True",
         "hovertemplate": "LOCATION=ruwa<br>Customer Issue Category=%{x}<br>Count=%{y}<extra></extra>",
         "legendgroup": "ruwa",
         "marker": {
          "color": "#ab63fa",
          "pattern": {
           "shape": ""
          }
         },
         "name": "ruwa",
         "offsetgroup": "ruwa",
         "orientation": "v",
         "showlegend": true,
         "textposition": "auto",
         "type": "bar",
         "x": [
          "Data"
         ],
         "xaxis": "x",
         "y": [
          1
         ],
         "yaxis": "y"
        },
        {
         "alignmentgroup": "True",
         "hovertemplate": "LOCATION=unknown <br>Customer Issue Category=%{x}<br>Count=%{y}<extra></extra>",
         "legendgroup": "unknown ",
         "marker": {
          "color": "#FFA15A",
          "pattern": {
           "shape": ""
          }
         },
         "name": "unknown ",
         "offsetgroup": "unknown ",
         "orientation": "v",
         "showlegend": true,
         "textposition": "auto",
         "type": "bar",
         "x": [
          "Data",
          "Mobile Financial Services",
          "Other",
          "Prepaid",
          "Product Distribution ",
          "Products and Services",
          "SMS",
          "Service/Product Support",
          "Systems Support",
          "Value Added Services",
          "Voice"
         ],
         "xaxis": "x",
         "y": [
          2,
          5,
          8,
          9,
          1,
          1,
          4,
          2,
          5,
          2,
          161
         ],
         "yaxis": "y"
        },
        {
         "alignmentgroup": "True",
         "hovertemplate": "LOCATION=ushewokunze<br>Customer Issue Category=%{x}<br>Count=%{y}<extra></extra>",
         "legendgroup": "ushewokunze",
         "marker": {
          "color": "#19d3f3",
          "pattern": {
           "shape": ""
          }
         },
         "name": "ushewokunze",
         "offsetgroup": "ushewokunze",
         "orientation": "v",
         "showlegend": true,
         "textposition": "auto",
         "type": "bar",
         "x": [
          "Data",
          "Mobile Financial Services",
          "Other",
          "Service/Product Support"
         ],
         "xaxis": "x",
         "y": [
          1,
          1,
          1,
          1
         ],
         "yaxis": "y"
        },
        {
         "alignmentgroup": "True",
         "hovertemplate": "LOCATION=warren park<br>Customer Issue Category=%{x}<br>Count=%{y}<extra></extra>",
         "legendgroup": "warren park",
         "marker": {
          "color": "#FF6692",
          "pattern": {
           "shape": ""
          }
         },
         "name": "warren park",
         "offsetgroup": "warren park",
         "orientation": "v",
         "showlegend": true,
         "textposition": "auto",
         "type": "bar",
         "x": [
          "Data",
          "Mobile Financial Services",
          "Other",
          "Prepaid",
          "SMS",
          "Service/Product Support"
         ],
         "xaxis": "x",
         "y": [
          6,
          1,
          1,
          2,
          1,
          1
         ],
         "yaxis": "y"
        },
        {
         "alignmentgroup": "True",
         "hovertemplate": "LOCATION=zvishavane<br>Customer Issue Category=%{x}<br>Count=%{y}<extra></extra>",
         "legendgroup": "zvishavane",
         "marker": {
          "color": "#B6E880",
          "pattern": {
           "shape": ""
          }
         },
         "name": "zvishavane",
         "offsetgroup": "zvishavane",
         "orientation": "v",
         "showlegend": true,
         "textposition": "auto",
         "type": "bar",
         "x": [
          "Data",
          "Prepaid",
          "Product Distribution "
         ],
         "xaxis": "x",
         "y": [
          1,
          1,
          1
         ],
         "yaxis": "y"
        },
        {
         "alignmentgroup": "True",
         "hovertemplate": "LOCATION=Avondale<br>Customer Issue Category=%{x}<br>Count=%{y}<extra></extra>",
         "legendgroup": "Avondale",
         "marker": {
          "color": "#FF97FF",
          "pattern": {
           "shape": ""
          }
         },
         "name": "Avondale",
         "offsetgroup": "Avondale",
         "orientation": "v",
         "showlegend": true,
         "textposition": "auto",
         "type": "bar",
         "x": [
          "Mobile Financial Services",
          "Prepaid",
          "Voice"
         ],
         "xaxis": "x",
         "y": [
          2,
          1,
          1
         ],
         "yaxis": "y"
        },
        {
         "alignmentgroup": "True",
         "hovertemplate": "LOCATION=Banket<br>Customer Issue Category=%{x}<br>Count=%{y}<extra></extra>",
         "legendgroup": "Banket",
         "marker": {
          "color": "#FECB52",
          "pattern": {
           "shape": ""
          }
         },
         "name": "Banket",
         "offsetgroup": "Banket",
         "orientation": "v",
         "showlegend": true,
         "textposition": "auto",
         "type": "bar",
         "x": [
          "Mobile Financial Services",
          "Prepaid"
         ],
         "xaxis": "x",
         "y": [
          1,
          1
         ],
         "yaxis": "y"
        },
        {
         "alignmentgroup": "True",
         "hovertemplate": "LOCATION=Centenary<br>Customer Issue Category=%{x}<br>Count=%{y}<extra></extra>",
         "legendgroup": "Centenary",
         "marker": {
          "color": "#636efa",
          "pattern": {
           "shape": ""
          }
         },
         "name": "Centenary",
         "offsetgroup": "Centenary",
         "orientation": "v",
         "showlegend": true,
         "textposition": "auto",
         "type": "bar",
         "x": [
          "Mobile Financial Services",
          "Product Distribution ",
          "SMS"
         ],
         "xaxis": "x",
         "y": [
          3,
          1,
          1
         ],
         "yaxis": "y"
        },
        {
         "alignmentgroup": "True",
         "hovertemplate": "LOCATION=Chaza<br>Customer Issue Category=%{x}<br>Count=%{y}<extra></extra>",
         "legendgroup": "Chaza",
         "marker": {
          "color": "#EF553B",
          "pattern": {
           "shape": ""
          }
         },
         "name": "Chaza",
         "offsetgroup": "Chaza",
         "orientation": "v",
         "showlegend": true,
         "textposition": "auto",
         "type": "bar",
         "x": [
          "Mobile Financial Services"
         ],
         "xaxis": "x",
         "y": [
          1
         ],
         "yaxis": "y"
        },
        {
         "alignmentgroup": "True",
         "hovertemplate": "LOCATION=Chihota<br>Customer Issue Category=%{x}<br>Count=%{y}<extra></extra>",
         "legendgroup": "Chihota",
         "marker": {
          "color": "#00cc96",
          "pattern": {
           "shape": ""
          }
         },
         "name": "Chihota",
         "offsetgroup": "Chihota",
         "orientation": "v",
         "showlegend": true,
         "textposition": "auto",
         "type": "bar",
         "x": [
          "Mobile Financial Services",
          "Prepaid"
         ],
         "xaxis": "x",
         "y": [
          1,
          1
         ],
         "yaxis": "y"
        },
        {
         "alignmentgroup": "True",
         "hovertemplate": "LOCATION=Chikurubi<br>Customer Issue Category=%{x}<br>Count=%{y}<extra></extra>",
         "legendgroup": "Chikurubi",
         "marker": {
          "color": "#ab63fa",
          "pattern": {
           "shape": ""
          }
         },
         "name": "Chikurubi",
         "offsetgroup": "Chikurubi",
         "orientation": "v",
         "showlegend": true,
         "textposition": "auto",
         "type": "bar",
         "x": [
          "Mobile Financial Services"
         ],
         "xaxis": "x",
         "y": [
          1
         ],
         "yaxis": "y"
        },
        {
         "alignmentgroup": "True",
         "hovertemplate": "LOCATION=Chipinge<br>Customer Issue Category=%{x}<br>Count=%{y}<extra></extra>",
         "legendgroup": "Chipinge",
         "marker": {
          "color": "#FFA15A",
          "pattern": {
           "shape": ""
          }
         },
         "name": "Chipinge",
         "offsetgroup": "Chipinge",
         "orientation": "v",
         "showlegend": true,
         "textposition": "auto",
         "type": "bar",
         "x": [
          "Mobile Financial Services",
          "Other",
          "Prepaid",
          "SMS",
          "Voice"
         ],
         "xaxis": "x",
         "y": [
          1,
          1,
          2,
          1,
          3
         ],
         "yaxis": "y"
        },
        {
         "alignmentgroup": "True",
         "hovertemplate": "LOCATION=Glendale<br>Customer Issue Category=%{x}<br>Count=%{y}<extra></extra>",
         "legendgroup": "Glendale",
         "marker": {
          "color": "#19d3f3",
          "pattern": {
           "shape": ""
          }
         },
         "name": "Glendale",
         "offsetgroup": "Glendale",
         "orientation": "v",
         "showlegend": true,
         "textposition": "auto",
         "type": "bar",
         "x": [
          "Mobile Financial Services",
          "Other",
          "Prepaid",
          "Service/Product Support",
          "Voice"
         ],
         "xaxis": "x",
         "y": [
          1,
          1,
          1,
          1,
          1
         ],
         "yaxis": "y"
        },
        {
         "alignmentgroup": "True",
         "hovertemplate": "LOCATION=Gukwa<br>Customer Issue Category=%{x}<br>Count=%{y}<extra></extra>",
         "legendgroup": "Gukwa",
         "marker": {
          "color": "#FF6692",
          "pattern": {
           "shape": ""
          }
         },
         "name": "Gukwa",
         "offsetgroup": "Gukwa",
         "orientation": "v",
         "showlegend": true,
         "textposition": "auto",
         "type": "bar",
         "x": [
          "Mobile Financial Services"
         ],
         "xaxis": "x",
         "y": [
          1
         ],
         "yaxis": "y"
        },
        {
         "alignmentgroup": "True",
         "hovertemplate": "LOCATION=Gumbanjera<br>Customer Issue Category=%{x}<br>Count=%{y}<extra></extra>",
         "legendgroup": "Gumbanjera",
         "marker": {
          "color": "#B6E880",
          "pattern": {
           "shape": ""
          }
         },
         "name": "Gumbanjera",
         "offsetgroup": "Gumbanjera",
         "orientation": "v",
         "showlegend": true,
         "textposition": "auto",
         "type": "bar",
         "x": [
          "Mobile Financial Services"
         ],
         "xaxis": "x",
         "y": [
          1
         ],
         "yaxis": "y"
        },
        {
         "alignmentgroup": "True",
         "hovertemplate": "LOCATION=Gutu<br>Customer Issue Category=%{x}<br>Count=%{y}<extra></extra>",
         "legendgroup": "Gutu",
         "marker": {
          "color": "#FF97FF",
          "pattern": {
           "shape": ""
          }
         },
         "name": "Gutu",
         "offsetgroup": "Gutu",
         "orientation": "v",
         "showlegend": true,
         "textposition": "auto",
         "type": "bar",
         "x": [
          "Mobile Financial Services",
          "Other",
          "Prepaid",
          "SMS",
          "Service/Product Support",
          "Voice"
         ],
         "xaxis": "x",
         "y": [
          1,
          3,
          6,
          2,
          1,
          1
         ],
         "yaxis": "y"
        },
        {
         "alignmentgroup": "True",
         "hovertemplate": "LOCATION=Hurungwe<br>Customer Issue Category=%{x}<br>Count=%{y}<extra></extra>",
         "legendgroup": "Hurungwe",
         "marker": {
          "color": "#FECB52",
          "pattern": {
           "shape": ""
          }
         },
         "name": "Hurungwe",
         "offsetgroup": "Hurungwe",
         "orientation": "v",
         "showlegend": true,
         "textposition": "auto",
         "type": "bar",
         "x": [
          "Mobile Financial Services",
          "Other",
          "Prepaid",
          "SMS",
          "Service/Product Support",
          "Voice"
         ],
         "xaxis": "x",
         "y": [
          1,
          1,
          1,
          2,
          1,
          1
         ],
         "yaxis": "y"
        },
        {
         "alignmentgroup": "True",
         "hovertemplate": "LOCATION=Mbire<br>Customer Issue Category=%{x}<br>Count=%{y}<extra></extra>",
         "legendgroup": "Mbire",
         "marker": {
          "color": "#636efa",
          "pattern": {
           "shape": ""
          }
         },
         "name": "Mbire",
         "offsetgroup": "Mbire",
         "orientation": "v",
         "showlegend": true,
         "textposition": "auto",
         "type": "bar",
         "x": [
          "Mobile Financial Services"
         ],
         "xaxis": "x",
         "y": [
          1
         ],
         "yaxis": "y"
        },
        {
         "alignmentgroup": "True",
         "hovertemplate": "LOCATION=Mbizo<br>Customer Issue Category=%{x}<br>Count=%{y}<extra></extra>",
         "legendgroup": "Mbizo",
         "marker": {
          "color": "#EF553B",
          "pattern": {
           "shape": ""
          }
         },
         "name": "Mbizo",
         "offsetgroup": "Mbizo",
         "orientation": "v",
         "showlegend": true,
         "textposition": "auto",
         "type": "bar",
         "x": [
          "Mobile Financial Services",
          "Service/Product Support"
         ],
         "xaxis": "x",
         "y": [
          1,
          1
         ],
         "yaxis": "y"
        },
        {
         "alignmentgroup": "True",
         "hovertemplate": "LOCATION=Mudzi<br>Customer Issue Category=%{x}<br>Count=%{y}<extra></extra>",
         "legendgroup": "Mudzi",
         "marker": {
          "color": "#00cc96",
          "pattern": {
           "shape": ""
          }
         },
         "name": "Mudzi",
         "offsetgroup": "Mudzi",
         "orientation": "v",
         "showlegend": true,
         "textposition": "auto",
         "type": "bar",
         "x": [
          "Mobile Financial Services",
          "Prepaid",
          "Service/Product Support"
         ],
         "xaxis": "x",
         "y": [
          1,
          1,
          1
         ],
         "yaxis": "y"
        },
        {
         "alignmentgroup": "True",
         "hovertemplate": "LOCATION=Murambinda<br>Customer Issue Category=%{x}<br>Count=%{y}<extra></extra>",
         "legendgroup": "Murambinda",
         "marker": {
          "color": "#ab63fa",
          "pattern": {
           "shape": ""
          }
         },
         "name": "Murambinda",
         "offsetgroup": "Murambinda",
         "orientation": "v",
         "showlegend": true,
         "textposition": "auto",
         "type": "bar",
         "x": [
          "Mobile Financial Services",
          "Prepaid"
         ],
         "xaxis": "x",
         "y": [
          1,
          1
         ],
         "yaxis": "y"
        },
        {
         "alignmentgroup": "True",
         "hovertemplate": "LOCATION=Mutasa<br>Customer Issue Category=%{x}<br>Count=%{y}<extra></extra>",
         "legendgroup": "Mutasa",
         "marker": {
          "color": "#FFA15A",
          "pattern": {
           "shape": ""
          }
         },
         "name": "Mutasa",
         "offsetgroup": "Mutasa",
         "orientation": "v",
         "showlegend": true,
         "textposition": "auto",
         "type": "bar",
         "x": [
          "Mobile Financial Services",
          "Prepaid"
         ],
         "xaxis": "x",
         "y": [
          1,
          1
         ],
         "yaxis": "y"
        },
        {
         "alignmentgroup": "True",
         "hovertemplate": "LOCATION=Nyabira<br>Customer Issue Category=%{x}<br>Count=%{y}<extra></extra>",
         "legendgroup": "Nyabira",
         "marker": {
          "color": "#19d3f3",
          "pattern": {
           "shape": ""
          }
         },
         "name": "Nyabira",
         "offsetgroup": "Nyabira",
         "orientation": "v",
         "showlegend": true,
         "textposition": "auto",
         "type": "bar",
         "x": [
          "Mobile Financial Services",
          "Other",
          "Service/Product Support"
         ],
         "xaxis": "x",
         "y": [
          1,
          1,
          1
         ],
         "yaxis": "y"
        },
        {
         "alignmentgroup": "True",
         "hovertemplate": "LOCATION=Rafingora<br>Customer Issue Category=%{x}<br>Count=%{y}<extra></extra>",
         "legendgroup": "Rafingora",
         "marker": {
          "color": "#FF6692",
          "pattern": {
           "shape": ""
          }
         },
         "name": "Rafingora",
         "offsetgroup": "Rafingora",
         "orientation": "v",
         "showlegend": true,
         "textposition": "auto",
         "type": "bar",
         "x": [
          "Mobile Financial Services",
          "Products and Services"
         ],
         "xaxis": "x",
         "y": [
          1,
          1
         ],
         "yaxis": "y"
        },
        {
         "alignmentgroup": "True",
         "hovertemplate": "LOCATION=Sheeba<br>Customer Issue Category=%{x}<br>Count=%{y}<extra></extra>",
         "legendgroup": "Sheeba",
         "marker": {
          "color": "#B6E880",
          "pattern": {
           "shape": ""
          }
         },
         "name": "Sheeba",
         "offsetgroup": "Sheeba",
         "orientation": "v",
         "showlegend": true,
         "textposition": "auto",
         "type": "bar",
         "x": [
          "Mobile Financial Services"
         ],
         "xaxis": "x",
         "y": [
          1
         ],
         "yaxis": "y"
        },
        {
         "alignmentgroup": "True",
         "hovertemplate": "LOCATION=Tore<br>Customer Issue Category=%{x}<br>Count=%{y}<extra></extra>",
         "legendgroup": "Tore",
         "marker": {
          "color": "#FF97FF",
          "pattern": {
           "shape": ""
          }
         },
         "name": "Tore",
         "offsetgroup": "Tore",
         "orientation": "v",
         "showlegend": true,
         "textposition": "auto",
         "type": "bar",
         "x": [
          "Mobile Financial Services"
         ],
         "xaxis": "x",
         "y": [
          1
         ],
         "yaxis": "y"
        },
        {
         "alignmentgroup": "True",
         "hovertemplate": "LOCATION=Zaka<br>Customer Issue Category=%{x}<br>Count=%{y}<extra></extra>",
         "legendgroup": "Zaka",
         "marker": {
          "color": "#FECB52",
          "pattern": {
           "shape": ""
          }
         },
         "name": "Zaka",
         "offsetgroup": "Zaka",
         "orientation": "v",
         "showlegend": true,
         "textposition": "auto",
         "type": "bar",
         "x": [
          "Mobile Financial Services",
          "Other",
          "Prepaid"
         ],
         "xaxis": "x",
         "y": [
          1,
          1,
          1
         ],
         "yaxis": "y"
        },
        {
         "alignmentgroup": "True",
         "hovertemplate": "LOCATION=macheke<br>Customer Issue Category=%{x}<br>Count=%{y}<extra></extra>",
         "legendgroup": "macheke",
         "marker": {
          "color": "#636efa",
          "pattern": {
           "shape": ""
          }
         },
         "name": "macheke",
         "offsetgroup": "macheke",
         "orientation": "v",
         "showlegend": true,
         "textposition": "auto",
         "type": "bar",
         "x": [
          "Mobile Financial Services"
         ],
         "xaxis": "x",
         "y": [
          1
         ],
         "yaxis": "y"
        },
        {
         "alignmentgroup": "True",
         "hovertemplate": "LOCATION=mudzi<br>Customer Issue Category=%{x}<br>Count=%{y}<extra></extra>",
         "legendgroup": "mudzi",
         "marker": {
          "color": "#EF553B",
          "pattern": {
           "shape": ""
          }
         },
         "name": "mudzi",
         "offsetgroup": "mudzi",
         "orientation": "v",
         "showlegend": true,
         "textposition": "auto",
         "type": "bar",
         "x": [
          "Mobile Financial Services"
         ],
         "xaxis": "x",
         "y": [
          1
         ],
         "yaxis": "y"
        },
        {
         "alignmentgroup": "True",
         "hovertemplate": "LOCATION=Makande<br>Customer Issue Category=%{x}<br>Count=%{y}<extra></extra>",
         "legendgroup": "Makande",
         "marker": {
          "color": "#00cc96",
          "pattern": {
           "shape": ""
          }
         },
         "name": "Makande",
         "offsetgroup": "Makande",
         "orientation": "v",
         "showlegend": true,
         "textposition": "auto",
         "type": "bar",
         "x": [
          "Network Quality of Service"
         ],
         "xaxis": "x",
         "y": [
          1
         ],
         "yaxis": "y"
        },
        {
         "alignmentgroup": "True",
         "hovertemplate": "LOCATION=Crowhill<br>Customer Issue Category=%{x}<br>Count=%{y}<extra></extra>",
         "legendgroup": "Crowhill",
         "marker": {
          "color": "#ab63fa",
          "pattern": {
           "shape": ""
          }
         },
         "name": "Crowhill",
         "offsetgroup": "Crowhill",
         "orientation": "v",
         "showlegend": true,
         "textposition": "auto",
         "type": "bar",
         "x": [
          "Other"
         ],
         "xaxis": "x",
         "y": [
          1
         ],
         "yaxis": "y"
        },
        {
         "alignmentgroup": "True",
         "hovertemplate": "LOCATION=Godora<br>Customer Issue Category=%{x}<br>Count=%{y}<extra></extra>",
         "legendgroup": "Godora",
         "marker": {
          "color": "#FFA15A",
          "pattern": {
           "shape": ""
          }
         },
         "name": "Godora",
         "offsetgroup": "Godora",
         "orientation": "v",
         "showlegend": true,
         "textposition": "auto",
         "type": "bar",
         "x": [
          "Other"
         ],
         "xaxis": "x",
         "y": [
          1
         ],
         "yaxis": "y"
        },
        {
         "alignmentgroup": "True",
         "hovertemplate": "LOCATION=Gwanda<br>Customer Issue Category=%{x}<br>Count=%{y}<extra></extra>",
         "legendgroup": "Gwanda",
         "marker": {
          "color": "#19d3f3",
          "pattern": {
           "shape": ""
          }
         },
         "name": "Gwanda",
         "offsetgroup": "Gwanda",
         "orientation": "v",
         "showlegend": true,
         "textposition": "auto",
         "type": "bar",
         "x": [
          "Other",
          "Prepaid"
         ],
         "xaxis": "x",
         "y": [
          1,
          2
         ],
         "yaxis": "y"
        },
        {
         "alignmentgroup": "True",
         "hovertemplate": "LOCATION=Gwaze<br>Customer Issue Category=%{x}<br>Count=%{y}<extra></extra>",
         "legendgroup": "Gwaze",
         "marker": {
          "color": "#FF6692",
          "pattern": {
           "shape": ""
          }
         },
         "name": "Gwaze",
         "offsetgroup": "Gwaze",
         "orientation": "v",
         "showlegend": true,
         "textposition": "auto",
         "type": "bar",
         "x": [
          "Other"
         ],
         "xaxis": "x",
         "y": [
          1
         ],
         "yaxis": "y"
        },
        {
         "alignmentgroup": "True",
         "hovertemplate": "LOCATION=Lionsden<br>Customer Issue Category=%{x}<br>Count=%{y}<extra></extra>",
         "legendgroup": "Lionsden",
         "marker": {
          "color": "#B6E880",
          "pattern": {
           "shape": ""
          }
         },
         "name": "Lionsden",
         "offsetgroup": "Lionsden",
         "orientation": "v",
         "showlegend": true,
         "textposition": "auto",
         "type": "bar",
         "x": [
          "Other"
         ],
         "xaxis": "x",
         "y": [
          1
         ],
         "yaxis": "y"
        },
        {
         "alignmentgroup": "True",
         "hovertemplate": "LOCATION=Masowe<br>Customer Issue Category=%{x}<br>Count=%{y}<extra></extra>",
         "legendgroup": "Masowe",
         "marker": {
          "color": "#FF97FF",
          "pattern": {
           "shape": ""
          }
         },
         "name": "Masowe",
         "offsetgroup": "Masowe",
         "orientation": "v",
         "showlegend": true,
         "textposition": "auto",
         "type": "bar",
         "x": [
          "Other"
         ],
         "xaxis": "x",
         "y": [
          1
         ],
         "yaxis": "y"
        },
        {
         "alignmentgroup": "True",
         "hovertemplate": "LOCATION=Mataga<br>Customer Issue Category=%{x}<br>Count=%{y}<extra></extra>",
         "legendgroup": "Mataga",
         "marker": {
          "color": "#FECB52",
          "pattern": {
           "shape": ""
          }
         },
         "name": "Mataga",
         "offsetgroup": "Mataga",
         "orientation": "v",
         "showlegend": true,
         "textposition": "auto",
         "type": "bar",
         "x": [
          "Other"
         ],
         "xaxis": "x",
         "y": [
          1
         ],
         "yaxis": "y"
        },
        {
         "alignmentgroup": "True",
         "hovertemplate": "LOCATION=Mayo<br>Customer Issue Category=%{x}<br>Count=%{y}<extra></extra>",
         "legendgroup": "Mayo",
         "marker": {
          "color": "#636efa",
          "pattern": {
           "shape": ""
          }
         },
         "name": "Mayo",
         "offsetgroup": "Mayo",
         "orientation": "v",
         "showlegend": true,
         "textposition": "auto",
         "type": "bar",
         "x": [
          "Other"
         ],
         "xaxis": "x",
         "y": [
          1
         ],
         "yaxis": "y"
        },
        {
         "alignmentgroup": "True",
         "hovertemplate": "LOCATION=Nembudziya<br>Customer Issue Category=%{x}<br>Count=%{y}<extra></extra>",
         "legendgroup": "Nembudziya",
         "marker": {
          "color": "#EF553B",
          "pattern": {
           "shape": ""
          }
         },
         "name": "Nembudziya",
         "offsetgroup": "Nembudziya",
         "orientation": "v",
         "showlegend": true,
         "textposition": "auto",
         "type": "bar",
         "x": [
          "Other"
         ],
         "xaxis": "x",
         "y": [
          1
         ],
         "yaxis": "y"
        },
        {
         "alignmentgroup": "True",
         "hovertemplate": "LOCATION=Newlands<br>Customer Issue Category=%{x}<br>Count=%{y}<extra></extra>",
         "legendgroup": "Newlands",
         "marker": {
          "color": "#00cc96",
          "pattern": {
           "shape": ""
          }
         },
         "name": "Newlands",
         "offsetgroup": "Newlands",
         "orientation": "v",
         "showlegend": true,
         "textposition": "auto",
         "type": "bar",
         "x": [
          "Other"
         ],
         "xaxis": "x",
         "y": [
          2
         ],
         "yaxis": "y"
        },
        {
         "alignmentgroup": "True",
         "hovertemplate": "LOCATION=Alaska<br>Customer Issue Category=%{x}<br>Count=%{y}<extra></extra>",
         "legendgroup": "Alaska",
         "marker": {
          "color": "#ab63fa",
          "pattern": {
           "shape": ""
          }
         },
         "name": "Alaska",
         "offsetgroup": "Alaska",
         "orientation": "v",
         "showlegend": true,
         "textposition": "auto",
         "type": "bar",
         "x": [
          "Prepaid",
          "Voice"
         ],
         "xaxis": "x",
         "y": [
          1,
          1
         ],
         "yaxis": "y"
        },
        {
         "alignmentgroup": "True",
         "hovertemplate": "LOCATION=Battlefield<br>Customer Issue Category=%{x}<br>Count=%{y}<extra></extra>",
         "legendgroup": "Battlefield",
         "marker": {
          "color": "#FFA15A",
          "pattern": {
           "shape": ""
          }
         },
         "name": "Battlefield",
         "offsetgroup": "Battlefield",
         "orientation": "v",
         "showlegend": true,
         "textposition": "auto",
         "type": "bar",
         "x": [
          "Prepaid"
         ],
         "xaxis": "x",
         "y": [
          1
         ],
         "yaxis": "y"
        },
        {
         "alignmentgroup": "True",
         "hovertemplate": "LOCATION=Broomley<br>Customer Issue Category=%{x}<br>Count=%{y}<extra></extra>",
         "legendgroup": "Broomley",
         "marker": {
          "color": "#19d3f3",
          "pattern": {
           "shape": ""
          }
         },
         "name": "Broomley",
         "offsetgroup": "Broomley",
         "orientation": "v",
         "showlegend": true,
         "textposition": "auto",
         "type": "bar",
         "x": [
          "Prepaid",
          "Voice"
         ],
         "xaxis": "x",
         "y": [
          1,
          1
         ],
         "yaxis": "y"
        },
        {
         "alignmentgroup": "True",
         "hovertemplate": "LOCATION=Checheche<br>Customer Issue Category=%{x}<br>Count=%{y}<extra></extra>",
         "legendgroup": "Checheche",
         "marker": {
          "color": "#FF6692",
          "pattern": {
           "shape": ""
          }
         },
         "name": "Checheche",
         "offsetgroup": "Checheche",
         "orientation": "v",
         "showlegend": true,
         "textposition": "auto",
         "type": "bar",
         "x": [
          "Prepaid"
         ],
         "xaxis": "x",
         "y": [
          1
         ],
         "yaxis": "y"
        },
        {
         "alignmentgroup": "True",
         "hovertemplate": "LOCATION=Chimanimani<br>Customer Issue Category=%{x}<br>Count=%{y}<extra></extra>",
         "legendgroup": "Chimanimani",
         "marker": {
          "color": "#B6E880",
          "pattern": {
           "shape": ""
          }
         },
         "name": "Chimanimani",
         "offsetgroup": "Chimanimani",
         "orientation": "v",
         "showlegend": true,
         "textposition": "auto",
         "type": "bar",
         "x": [
          "Prepaid",
          "SMS",
          "Service/Product Support",
          "Supplementary Services"
         ],
         "xaxis": "x",
         "y": [
          1,
          1,
          1,
          1
         ],
         "yaxis": "y"
        },
        {
         "alignmentgroup": "True",
         "hovertemplate": "LOCATION=Chiweshe <br>Customer Issue Category=%{x}<br>Count=%{y}<extra></extra>",
         "legendgroup": "Chiweshe ",
         "marker": {
          "color": "#FF97FF",
          "pattern": {
           "shape": ""
          }
         },
         "name": "Chiweshe ",
         "offsetgroup": "Chiweshe ",
         "orientation": "v",
         "showlegend": true,
         "textposition": "auto",
         "type": "bar",
         "x": [
          "Prepaid",
          "SMS"
         ],
         "xaxis": "x",
         "y": [
          2,
          1
         ],
         "yaxis": "y"
        },
        {
         "alignmentgroup": "True",
         "hovertemplate": "LOCATION=Churumhanzi<br>Customer Issue Category=%{x}<br>Count=%{y}<extra></extra>",
         "legendgroup": "Churumhanzi",
         "marker": {
          "color": "#FECB52",
          "pattern": {
           "shape": ""
          }
         },
         "name": "Churumhanzi",
         "offsetgroup": "Churumhanzi",
         "orientation": "v",
         "showlegend": true,
         "textposition": "auto",
         "type": "bar",
         "x": [
          "Prepaid"
         ],
         "xaxis": "x",
         "y": [
          1
         ],
         "yaxis": "y"
        },
        {
         "alignmentgroup": "True",
         "hovertemplate": "LOCATION=Esgodini<br>Customer Issue Category=%{x}<br>Count=%{y}<extra></extra>",
         "legendgroup": "Esgodini",
         "marker": {
          "color": "#636efa",
          "pattern": {
           "shape": ""
          }
         },
         "name": "Esgodini",
         "offsetgroup": "Esgodini",
         "orientation": "v",
         "showlegend": true,
         "textposition": "auto",
         "type": "bar",
         "x": [
          "Prepaid",
          "Voice"
         ],
         "xaxis": "x",
         "y": [
          1,
          1
         ],
         "yaxis": "y"
        },
        {
         "alignmentgroup": "True",
         "hovertemplate": "LOCATION=Glenforest<br>Customer Issue Category=%{x}<br>Count=%{y}<extra></extra>",
         "legendgroup": "Glenforest",
         "marker": {
          "color": "#EF553B",
          "pattern": {
           "shape": ""
          }
         },
         "name": "Glenforest",
         "offsetgroup": "Glenforest",
         "orientation": "v",
         "showlegend": true,
         "textposition": "auto",
         "type": "bar",
         "x": [
          "Prepaid"
         ],
         "xaxis": "x",
         "y": [
          1
         ],
         "yaxis": "y"
        },
        {
         "alignmentgroup": "True",
         "hovertemplate": "LOCATION=Headlands<br>Customer Issue Category=%{x}<br>Count=%{y}<extra></extra>",
         "legendgroup": "Headlands",
         "marker": {
          "color": "#00cc96",
          "pattern": {
           "shape": ""
          }
         },
         "name": "Headlands",
         "offsetgroup": "Headlands",
         "orientation": "v",
         "showlegend": true,
         "textposition": "auto",
         "type": "bar",
         "x": [
          "Prepaid",
          "Voice"
         ],
         "xaxis": "x",
         "y": [
          2,
          1
         ],
         "yaxis": "y"
        },
        {
         "alignmentgroup": "True",
         "hovertemplate": "LOCATION=Helwin<br>Customer Issue Category=%{x}<br>Count=%{y}<extra></extra>",
         "legendgroup": "Helwin",
         "marker": {
          "color": "#ab63fa",
          "pattern": {
           "shape": ""
          }
         },
         "name": "Helwin",
         "offsetgroup": "Helwin",
         "orientation": "v",
         "showlegend": true,
         "textposition": "auto",
         "type": "bar",
         "x": [
          "Prepaid"
         ],
         "xaxis": "x",
         "y": [
          2
         ],
         "yaxis": "y"
        },
        {
         "alignmentgroup": "True",
         "hovertemplate": "LOCATION=Lupane<br>Customer Issue Category=%{x}<br>Count=%{y}<extra></extra>",
         "legendgroup": "Lupane",
         "marker": {
          "color": "#FFA15A",
          "pattern": {
           "shape": ""
          }
         },
         "name": "Lupane",
         "offsetgroup": "Lupane",
         "orientation": "v",
         "showlegend": true,
         "textposition": "auto",
         "type": "bar",
         "x": [
          "Prepaid"
         ],
         "xaxis": "x",
         "y": [
          1
         ],
         "yaxis": "y"
        },
        {
         "alignmentgroup": "True",
         "hovertemplate": "LOCATION=Lusaka<br>Customer Issue Category=%{x}<br>Count=%{y}<extra></extra>",
         "legendgroup": "Lusaka",
         "marker": {
          "color": "#19d3f3",
          "pattern": {
           "shape": ""
          }
         },
         "name": "Lusaka",
         "offsetgroup": "Lusaka",
         "orientation": "v",
         "showlegend": true,
         "textposition": "auto",
         "type": "bar",
         "x": [
          "Prepaid"
         ],
         "xaxis": "x",
         "y": [
          1
         ],
         "yaxis": "y"
        },
        {
         "alignmentgroup": "True",
         "hovertemplate": "LOCATION=Macheke<br>Customer Issue Category=%{x}<br>Count=%{y}<extra></extra>",
         "legendgroup": "Macheke",
         "marker": {
          "color": "#FF6692",
          "pattern": {
           "shape": ""
          }
         },
         "name": "Macheke",
         "offsetgroup": "Macheke",
         "orientation": "v",
         "showlegend": true,
         "textposition": "auto",
         "type": "bar",
         "x": [
          "Prepaid",
          "Voice"
         ],
         "xaxis": "x",
         "y": [
          2,
          1
         ],
         "yaxis": "y"
        },
        {
         "alignmentgroup": "True",
         "hovertemplate": "LOCATION=Manyame<br>Customer Issue Category=%{x}<br>Count=%{y}<extra></extra>",
         "legendgroup": "Manyame",
         "marker": {
          "color": "#B6E880",
          "pattern": {
           "shape": ""
          }
         },
         "name": "Manyame",
         "offsetgroup": "Manyame",
         "orientation": "v",
         "showlegend": true,
         "textposition": "auto",
         "type": "bar",
         "x": [
          "Prepaid"
         ],
         "xaxis": "x",
         "y": [
          1
         ],
         "yaxis": "y"
        },
        {
         "alignmentgroup": "True",
         "hovertemplate": "LOCATION=Marange<br>Customer Issue Category=%{x}<br>Count=%{y}<extra></extra>",
         "legendgroup": "Marange",
         "marker": {
          "color": "#FF97FF",
          "pattern": {
           "shape": ""
          }
         },
         "name": "Marange",
         "offsetgroup": "Marange",
         "orientation": "v",
         "showlegend": true,
         "textposition": "auto",
         "type": "bar",
         "x": [
          "Prepaid",
          "Service/Product Support",
          "Voice"
         ],
         "xaxis": "x",
         "y": [
          1,
          2,
          2
         ],
         "yaxis": "y"
        },
        {
         "alignmentgroup": "True",
         "hovertemplate": "LOCATION=Melford<br>Customer Issue Category=%{x}<br>Count=%{y}<extra></extra>",
         "legendgroup": "Melford",
         "marker": {
          "color": "#FECB52",
          "pattern": {
           "shape": ""
          }
         },
         "name": "Melford",
         "offsetgroup": "Melford",
         "orientation": "v",
         "showlegend": true,
         "textposition": "auto",
         "type": "bar",
         "x": [
          "Prepaid"
         ],
         "xaxis": "x",
         "y": [
          1
         ],
         "yaxis": "y"
        },
        {
         "alignmentgroup": "True",
         "hovertemplate": "LOCATION=Msasa<br>Customer Issue Category=%{x}<br>Count=%{y}<extra></extra>",
         "legendgroup": "Msasa",
         "marker": {
          "color": "#636efa",
          "pattern": {
           "shape": ""
          }
         },
         "name": "Msasa",
         "offsetgroup": "Msasa",
         "orientation": "v",
         "showlegend": true,
         "textposition": "auto",
         "type": "bar",
         "x": [
          "Prepaid"
         ],
         "xaxis": "x",
         "y": [
          1
         ],
         "yaxis": "y"
        },
        {
         "alignmentgroup": "True",
         "hovertemplate": "LOCATION=Mutare <br>Customer Issue Category=%{x}<br>Count=%{y}<extra></extra>",
         "legendgroup": "Mutare ",
         "marker": {
          "color": "#EF553B",
          "pattern": {
           "shape": ""
          }
         },
         "name": "Mutare ",
         "offsetgroup": "Mutare ",
         "orientation": "v",
         "showlegend": true,
         "textposition": "auto",
         "type": "bar",
         "x": [
          "Prepaid"
         ],
         "xaxis": "x",
         "y": [
          1
         ],
         "yaxis": "y"
        },
        {
         "alignmentgroup": "True",
         "hovertemplate": "LOCATION=Mvuma<br>Customer Issue Category=%{x}<br>Count=%{y}<extra></extra>",
         "legendgroup": "Mvuma",
         "marker": {
          "color": "#00cc96",
          "pattern": {
           "shape": ""
          }
         },
         "name": "Mvuma",
         "offsetgroup": "Mvuma",
         "orientation": "v",
         "showlegend": true,
         "textposition": "auto",
         "type": "bar",
         "x": [
          "Prepaid"
         ],
         "xaxis": "x",
         "y": [
          2
         ],
         "yaxis": "y"
        },
        {
         "alignmentgroup": "True",
         "hovertemplate": "LOCATION=Ngundu<br>Customer Issue Category=%{x}<br>Count=%{y}<extra></extra>",
         "legendgroup": "Ngundu",
         "marker": {
          "color": "#ab63fa",
          "pattern": {
           "shape": ""
          }
         },
         "name": "Ngundu",
         "offsetgroup": "Ngundu",
         "orientation": "v",
         "showlegend": true,
         "textposition": "auto",
         "type": "bar",
         "x": [
          "Prepaid"
         ],
         "xaxis": "x",
         "y": [
          1
         ],
         "yaxis": "y"
        },
        {
         "alignmentgroup": "True",
         "hovertemplate": "LOCATION=Nyahondo<br>Customer Issue Category=%{x}<br>Count=%{y}<extra></extra>",
         "legendgroup": "Nyahondo",
         "marker": {
          "color": "#FFA15A",
          "pattern": {
           "shape": ""
          }
         },
         "name": "Nyahondo",
         "offsetgroup": "Nyahondo",
         "orientation": "v",
         "showlegend": true,
         "textposition": "auto",
         "type": "bar",
         "x": [
          "Prepaid"
         ],
         "xaxis": "x",
         "y": [
          1
         ],
         "yaxis": "y"
        },
        {
         "alignmentgroup": "True",
         "hovertemplate": "LOCATION=Nyamapanda<br>Customer Issue Category=%{x}<br>Count=%{y}<extra></extra>",
         "legendgroup": "Nyamapanda",
         "marker": {
          "color": "#19d3f3",
          "pattern": {
           "shape": ""
          }
         },
         "name": "Nyamapanda",
         "offsetgroup": "Nyamapanda",
         "orientation": "v",
         "showlegend": true,
         "textposition": "auto",
         "type": "bar",
         "x": [
          "Prepaid"
         ],
         "xaxis": "x",
         "y": [
          1
         ],
         "yaxis": "y"
        },
        {
         "alignmentgroup": "True",
         "hovertemplate": "LOCATION=Rushinga<br>Customer Issue Category=%{x}<br>Count=%{y}<extra></extra>",
         "legendgroup": "Rushinga",
         "marker": {
          "color": "#FF6692",
          "pattern": {
           "shape": ""
          }
         },
         "name": "Rushinga",
         "offsetgroup": "Rushinga",
         "orientation": "v",
         "showlegend": true,
         "textposition": "auto",
         "type": "bar",
         "x": [
          "Prepaid"
         ],
         "xaxis": "x",
         "y": [
          1
         ],
         "yaxis": "y"
        },
        {
         "alignmentgroup": "True",
         "hovertemplate": "LOCATION=Sadza<br>Customer Issue Category=%{x}<br>Count=%{y}<extra></extra>",
         "legendgroup": "Sadza",
         "marker": {
          "color": "#B6E880",
          "pattern": {
           "shape": ""
          }
         },
         "name": "Sadza",
         "offsetgroup": "Sadza",
         "orientation": "v",
         "showlegend": true,
         "textposition": "auto",
         "type": "bar",
         "x": [
          "Prepaid"
         ],
         "xaxis": "x",
         "y": [
          1
         ],
         "yaxis": "y"
        },
        {
         "alignmentgroup": "True",
         "hovertemplate": "LOCATION=Sanyati <br>Customer Issue Category=%{x}<br>Count=%{y}<extra></extra>",
         "legendgroup": "Sanyati ",
         "marker": {
          "color": "#FF97FF",
          "pattern": {
           "shape": ""
          }
         },
         "name": "Sanyati ",
         "offsetgroup": "Sanyati ",
         "orientation": "v",
         "showlegend": true,
         "textposition": "auto",
         "type": "bar",
         "x": [
          "Prepaid",
          "Service/Product Support"
         ],
         "xaxis": "x",
         "y": [
          1,
          1
         ],
         "yaxis": "y"
        },
        {
         "alignmentgroup": "True",
         "hovertemplate": "LOCATION=Sinai<br>Customer Issue Category=%{x}<br>Count=%{y}<extra></extra>",
         "legendgroup": "Sinai",
         "marker": {
          "color": "#FECB52",
          "pattern": {
           "shape": ""
          }
         },
         "name": "Sinai",
         "offsetgroup": "Sinai",
         "orientation": "v",
         "showlegend": true,
         "textposition": "auto",
         "type": "bar",
         "x": [
          "Prepaid"
         ],
         "xaxis": "x",
         "y": [
          1
         ],
         "yaxis": "y"
        },
        {
         "alignmentgroup": "True",
         "hovertemplate": "LOCATION=St Alberts <br>Customer Issue Category=%{x}<br>Count=%{y}<extra></extra>",
         "legendgroup": "St Alberts ",
         "marker": {
          "color": "#636efa",
          "pattern": {
           "shape": ""
          }
         },
         "name": "St Alberts ",
         "offsetgroup": "St Alberts ",
         "orientation": "v",
         "showlegend": true,
         "textposition": "auto",
         "type": "bar",
         "x": [
          "Prepaid",
          "Products and Services"
         ],
         "xaxis": "x",
         "y": [
          1,
          1
         ],
         "yaxis": "y"
        },
        {
         "alignmentgroup": "True",
         "hovertemplate": "LOCATION=Support Unit<br>Customer Issue Category=%{x}<br>Count=%{y}<extra></extra>",
         "legendgroup": "Support Unit",
         "marker": {
          "color": "#EF553B",
          "pattern": {
           "shape": ""
          }
         },
         "name": "Support Unit",
         "offsetgroup": "Support Unit",
         "orientation": "v",
         "showlegend": true,
         "textposition": "auto",
         "type": "bar",
         "x": [
          "Prepaid"
         ],
         "xaxis": "x",
         "y": [
          1
         ],
         "yaxis": "y"
        },
        {
         "alignmentgroup": "True",
         "hovertemplate": "LOCATION=Triangle <br>Customer Issue Category=%{x}<br>Count=%{y}<extra></extra>",
         "legendgroup": "Triangle ",
         "marker": {
          "color": "#00cc96",
          "pattern": {
           "shape": ""
          }
         },
         "name": "Triangle ",
         "offsetgroup": "Triangle ",
         "orientation": "v",
         "showlegend": true,
         "textposition": "auto",
         "type": "bar",
         "x": [
          "Prepaid"
         ],
         "xaxis": "x",
         "y": [
          1
         ],
         "yaxis": "y"
        },
        {
         "alignmentgroup": "True",
         "hovertemplate": "LOCATION=hwange<br>Customer Issue Category=%{x}<br>Count=%{y}<extra></extra>",
         "legendgroup": "hwange",
         "marker": {
          "color": "#ab63fa",
          "pattern": {
           "shape": ""
          }
         },
         "name": "hwange",
         "offsetgroup": "hwange",
         "orientation": "v",
         "showlegend": true,
         "textposition": "auto",
         "type": "bar",
         "x": [
          "Prepaid"
         ],
         "xaxis": "x",
         "y": [
          1
         ],
         "yaxis": "y"
        },
        {
         "alignmentgroup": "True",
         "hovertemplate": "LOCATION=mutoko<br>Customer Issue Category=%{x}<br>Count=%{y}<extra></extra>",
         "legendgroup": "mutoko",
         "marker": {
          "color": "#FFA15A",
          "pattern": {
           "shape": ""
          }
         },
         "name": "mutoko",
         "offsetgroup": "mutoko",
         "orientation": "v",
         "showlegend": true,
         "textposition": "auto",
         "type": "bar",
         "x": [
          "Prepaid",
          "SMS",
          "Service/Product Support"
         ],
         "xaxis": "x",
         "y": [
          2,
          1,
          1
         ],
         "yaxis": "y"
        },
        {
         "alignmentgroup": "True",
         "hovertemplate": "LOCATION=mvurwi<br>Customer Issue Category=%{x}<br>Count=%{y}<extra></extra>",
         "legendgroup": "mvurwi",
         "marker": {
          "color": "#19d3f3",
          "pattern": {
           "shape": ""
          }
         },
         "name": "mvurwi",
         "offsetgroup": "mvurwi",
         "orientation": "v",
         "showlegend": true,
         "textposition": "auto",
         "type": "bar",
         "x": [
          "Prepaid",
          "Voice"
         ],
         "xaxis": "x",
         "y": [
          1,
          1
         ],
         "yaxis": "y"
        },
        {
         "alignmentgroup": "True",
         "hovertemplate": "LOCATION=tengwe<br>Customer Issue Category=%{x}<br>Count=%{y}<extra></extra>",
         "legendgroup": "tengwe",
         "marker": {
          "color": "#FF6692",
          "pattern": {
           "shape": ""
          }
         },
         "name": "tengwe",
         "offsetgroup": "tengwe",
         "orientation": "v",
         "showlegend": true,
         "textposition": "auto",
         "type": "bar",
         "x": [
          "Prepaid"
         ],
         "xaxis": "x",
         "y": [
          1
         ],
         "yaxis": "y"
        },
        {
         "alignmentgroup": "True",
         "hovertemplate": "LOCATION=wedza<br>Customer Issue Category=%{x}<br>Count=%{y}<extra></extra>",
         "legendgroup": "wedza",
         "marker": {
          "color": "#B6E880",
          "pattern": {
           "shape": ""
          }
         },
         "name": "wedza",
         "offsetgroup": "wedza",
         "orientation": "v",
         "showlegend": true,
         "textposition": "auto",
         "type": "bar",
         "x": [
          "Prepaid"
         ],
         "xaxis": "x",
         "y": [
          1
         ],
         "yaxis": "y"
        },
        {
         "alignmentgroup": "True",
         "hovertemplate": "LOCATION=zvimba<br>Customer Issue Category=%{x}<br>Count=%{y}<extra></extra>",
         "legendgroup": "zvimba",
         "marker": {
          "color": "#FF97FF",
          "pattern": {
           "shape": ""
          }
         },
         "name": "zvimba",
         "offsetgroup": "zvimba",
         "orientation": "v",
         "showlegend": true,
         "textposition": "auto",
         "type": "bar",
         "x": [
          "Prepaid"
         ],
         "xaxis": "x",
         "y": [
          1
         ],
         "yaxis": "y"
        },
        {
         "alignmentgroup": "True",
         "hovertemplate": "LOCATION=Makonde<br>Customer Issue Category=%{x}<br>Count=%{y}<extra></extra>",
         "legendgroup": "Makonde",
         "marker": {
          "color": "#FECB52",
          "pattern": {
           "shape": ""
          }
         },
         "name": "Makonde",
         "offsetgroup": "Makonde",
         "orientation": "v",
         "showlegend": true,
         "textposition": "auto",
         "type": "bar",
         "x": [
          "Product Distribution ",
          "Service/Product Support"
         ],
         "xaxis": "x",
         "y": [
          1,
          1
         ],
         "yaxis": "y"
        },
        {
         "alignmentgroup": "True",
         "hovertemplate": "LOCATION=Tynwald <br>Customer Issue Category=%{x}<br>Count=%{y}<extra></extra>",
         "legendgroup": "Tynwald ",
         "marker": {
          "color": "#636efa",
          "pattern": {
           "shape": ""
          }
         },
         "name": "Tynwald ",
         "offsetgroup": "Tynwald ",
         "orientation": "v",
         "showlegend": true,
         "textposition": "auto",
         "type": "bar",
         "x": [
          "Product Distribution "
         ],
         "xaxis": "x",
         "y": [
          1
         ],
         "yaxis": "y"
        },
        {
         "alignmentgroup": "True",
         "hovertemplate": "LOCATION=Furtherstone<br>Customer Issue Category=%{x}<br>Count=%{y}<extra></extra>",
         "legendgroup": "Furtherstone",
         "marker": {
          "color": "#EF553B",
          "pattern": {
           "shape": ""
          }
         },
         "name": "Furtherstone",
         "offsetgroup": "Furtherstone",
         "orientation": "v",
         "showlegend": true,
         "textposition": "auto",
         "type": "bar",
         "x": [
          "Products and Services",
          "SMS"
         ],
         "xaxis": "x",
         "y": [
          1,
          1
         ],
         "yaxis": "y"
        },
        {
         "alignmentgroup": "True",
         "hovertemplate": "LOCATION=Hwange<br>Customer Issue Category=%{x}<br>Count=%{y}<extra></extra>",
         "legendgroup": "Hwange",
         "marker": {
          "color": "#00cc96",
          "pattern": {
           "shape": ""
          }
         },
         "name": "Hwange",
         "offsetgroup": "Hwange",
         "orientation": "v",
         "showlegend": true,
         "textposition": "auto",
         "type": "bar",
         "x": [
          "Products and Services"
         ],
         "xaxis": "x",
         "y": [
          1
         ],
         "yaxis": "y"
        },
        {
         "alignmentgroup": "True",
         "hovertemplate": "LOCATION=Mazvikadei<br>Customer Issue Category=%{x}<br>Count=%{y}<extra></extra>",
         "legendgroup": "Mazvikadei",
         "marker": {
          "color": "#ab63fa",
          "pattern": {
           "shape": ""
          }
         },
         "name": "Mazvikadei",
         "offsetgroup": "Mazvikadei",
         "orientation": "v",
         "showlegend": true,
         "textposition": "auto",
         "type": "bar",
         "x": [
          "Products and Services"
         ],
         "xaxis": "x",
         "y": [
          1
         ],
         "yaxis": "y"
        },
        {
         "alignmentgroup": "True",
         "hovertemplate": "LOCATION=mrehwa<br>Customer Issue Category=%{x}<br>Count=%{y}<extra></extra>",
         "legendgroup": "mrehwa",
         "marker": {
          "color": "#FFA15A",
          "pattern": {
           "shape": ""
          }
         },
         "name": "mrehwa",
         "offsetgroup": "mrehwa",
         "orientation": "v",
         "showlegend": true,
         "textposition": "auto",
         "type": "bar",
         "x": [
          "Products and Services"
         ],
         "xaxis": "x",
         "y": [
          1
         ],
         "yaxis": "y"
        },
        {
         "alignmentgroup": "True",
         "hovertemplate": "LOCATION=gokwe<br>Customer Issue Category=%{x}<br>Count=%{y}<extra></extra>",
         "legendgroup": "gokwe",
         "marker": {
          "color": "#19d3f3",
          "pattern": {
           "shape": ""
          }
         },
         "name": "gokwe",
         "offsetgroup": "gokwe",
         "orientation": "v",
         "showlegend": true,
         "textposition": "auto",
         "type": "bar",
         "x": [
          "Roaming and International services",
          "Service/Product Support"
         ],
         "xaxis": "x",
         "y": [
          1,
          1
         ],
         "yaxis": "y"
        },
        {
         "alignmentgroup": "True",
         "hovertemplate": "LOCATION=Hauna<br>Customer Issue Category=%{x}<br>Count=%{y}<extra></extra>",
         "legendgroup": "Hauna",
         "marker": {
          "color": "#FF6692",
          "pattern": {
           "shape": ""
          }
         },
         "name": "Hauna",
         "offsetgroup": "Hauna",
         "orientation": "v",
         "showlegend": true,
         "textposition": "auto",
         "type": "bar",
         "x": [
          "SMS"
         ],
         "xaxis": "x",
         "y": [
          1
         ],
         "yaxis": "y"
        },
        {
         "alignmentgroup": "True",
         "hovertemplate": "LOCATION=Mujinga<br>Customer Issue Category=%{x}<br>Count=%{y}<extra></extra>",
         "legendgroup": "Mujinga",
         "marker": {
          "color": "#B6E880",
          "pattern": {
           "shape": ""
          }
         },
         "name": "Mujinga",
         "offsetgroup": "Mujinga",
         "orientation": "v",
         "showlegend": true,
         "textposition": "auto",
         "type": "bar",
         "x": [
          "SMS"
         ],
         "xaxis": "x",
         "y": [
          1
         ],
         "yaxis": "y"
        },
        {
         "alignmentgroup": "True",
         "hovertemplate": "LOCATION=Runde<br>Customer Issue Category=%{x}<br>Count=%{y}<extra></extra>",
         "legendgroup": "Runde",
         "marker": {
          "color": "#FF97FF",
          "pattern": {
           "shape": ""
          }
         },
         "name": "Runde",
         "offsetgroup": "Runde",
         "orientation": "v",
         "showlegend": true,
         "textposition": "auto",
         "type": "bar",
         "x": [
          "SMS"
         ],
         "xaxis": "x",
         "y": [
          1
         ],
         "yaxis": "y"
        },
        {
         "alignmentgroup": "True",
         "hovertemplate": "LOCATION=Tengwe<br>Customer Issue Category=%{x}<br>Count=%{y}<extra></extra>",
         "legendgroup": "Tengwe",
         "marker": {
          "color": "#FECB52",
          "pattern": {
           "shape": ""
          }
         },
         "name": "Tengwe",
         "offsetgroup": "Tengwe",
         "orientation": "v",
         "showlegend": true,
         "textposition": "auto",
         "type": "bar",
         "x": [
          "SMS"
         ],
         "xaxis": "x",
         "y": [
          2
         ],
         "yaxis": "y"
        },
        {
         "alignmentgroup": "True",
         "hovertemplate": "LOCATION=gweru<br>Customer Issue Category=%{x}<br>Count=%{y}<extra></extra>",
         "legendgroup": "gweru",
         "marker": {
          "color": "#636efa",
          "pattern": {
           "shape": ""
          }
         },
         "name": "gweru",
         "offsetgroup": "gweru",
         "orientation": "v",
         "showlegend": true,
         "textposition": "auto",
         "type": "bar",
         "x": [
          "SMS"
         ],
         "xaxis": "x",
         "y": [
          1
         ],
         "yaxis": "y"
        },
        {
         "alignmentgroup": "True",
         "hovertemplate": "LOCATION=honde valley<br>Customer Issue Category=%{x}<br>Count=%{y}<extra></extra>",
         "legendgroup": "honde valley",
         "marker": {
          "color": "#EF553B",
          "pattern": {
           "shape": ""
          }
         },
         "name": "honde valley",
         "offsetgroup": "honde valley",
         "orientation": "v",
         "showlegend": true,
         "textposition": "auto",
         "type": "bar",
         "x": [
          "SMS"
         ],
         "xaxis": "x",
         "y": [
          1
         ],
         "yaxis": "y"
        },
        {
         "alignmentgroup": "True",
         "hovertemplate": "LOCATION=hurungwe<br>Customer Issue Category=%{x}<br>Count=%{y}<extra></extra>",
         "legendgroup": "hurungwe",
         "marker": {
          "color": "#00cc96",
          "pattern": {
           "shape": ""
          }
         },
         "name": "hurungwe",
         "offsetgroup": "hurungwe",
         "orientation": "v",
         "showlegend": true,
         "textposition": "auto",
         "type": "bar",
         "x": [
          "SMS"
         ],
         "xaxis": "x",
         "y": [
          1
         ],
         "yaxis": "y"
        },
        {
         "alignmentgroup": "True",
         "hovertemplate": "LOCATION=Bhora<br>Customer Issue Category=%{x}<br>Count=%{y}<extra></extra>",
         "legendgroup": "Bhora",
         "marker": {
          "color": "#ab63fa",
          "pattern": {
           "shape": ""
          }
         },
         "name": "Bhora",
         "offsetgroup": "Bhora",
         "orientation": "v",
         "showlegend": true,
         "textposition": "auto",
         "type": "bar",
         "x": [
          "Service/Product Support"
         ],
         "xaxis": "x",
         "y": [
          1
         ],
         "yaxis": "y"
        },
        {
         "alignmentgroup": "True",
         "hovertemplate": "LOCATION=Chikomo<br>Customer Issue Category=%{x}<br>Count=%{y}<extra></extra>",
         "legendgroup": "Chikomo",
         "marker": {
          "color": "#FFA15A",
          "pattern": {
           "shape": ""
          }
         },
         "name": "Chikomo",
         "offsetgroup": "Chikomo",
         "orientation": "v",
         "showlegend": true,
         "textposition": "auto",
         "type": "bar",
         "x": [
          "Service/Product Support"
         ],
         "xaxis": "x",
         "y": [
          1
         ],
         "yaxis": "y"
        },
        {
         "alignmentgroup": "True",
         "hovertemplate": "LOCATION=Chiodza<br>Customer Issue Category=%{x}<br>Count=%{y}<extra></extra>",
         "legendgroup": "Chiodza",
         "marker": {
          "color": "#19d3f3",
          "pattern": {
           "shape": ""
          }
         },
         "name": "Chiodza",
         "offsetgroup": "Chiodza",
         "orientation": "v",
         "showlegend": true,
         "textposition": "auto",
         "type": "bar",
         "x": [
          "Service/Product Support"
         ],
         "xaxis": "x",
         "y": [
          1
         ],
         "yaxis": "y"
        },
        {
         "alignmentgroup": "True",
         "hovertemplate": "LOCATION=Chisipite<br>Customer Issue Category=%{x}<br>Count=%{y}<extra></extra>",
         "legendgroup": "Chisipite",
         "marker": {
          "color": "#FF6692",
          "pattern": {
           "shape": ""
          }
         },
         "name": "Chisipite",
         "offsetgroup": "Chisipite",
         "orientation": "v",
         "showlegend": true,
         "textposition": "auto",
         "type": "bar",
         "x": [
          "Service/Product Support"
         ],
         "xaxis": "x",
         "y": [
          1
         ],
         "yaxis": "y"
        },
        {
         "alignmentgroup": "True",
         "hovertemplate": "LOCATION=Eastlea<br>Customer Issue Category=%{x}<br>Count=%{y}<extra></extra>",
         "legendgroup": "Eastlea",
         "marker": {
          "color": "#B6E880",
          "pattern": {
           "shape": ""
          }
         },
         "name": "Eastlea",
         "offsetgroup": "Eastlea",
         "orientation": "v",
         "showlegend": true,
         "textposition": "auto",
         "type": "bar",
         "x": [
          "Service/Product Support"
         ],
         "xaxis": "x",
         "y": [
          2
         ],
         "yaxis": "y"
        },
        {
         "alignmentgroup": "True",
         "hovertemplate": "LOCATION=Howard<br>Customer Issue Category=%{x}<br>Count=%{y}<extra></extra>",
         "legendgroup": "Howard",
         "marker": {
          "color": "#FF97FF",
          "pattern": {
           "shape": ""
          }
         },
         "name": "Howard",
         "offsetgroup": "Howard",
         "orientation": "v",
         "showlegend": true,
         "textposition": "auto",
         "type": "bar",
         "x": [
          "Service/Product Support"
         ],
         "xaxis": "x",
         "y": [
          1
         ],
         "yaxis": "y"
        },
        {
         "alignmentgroup": "True",
         "hovertemplate": "LOCATION=Kotwa<br>Customer Issue Category=%{x}<br>Count=%{y}<extra></extra>",
         "legendgroup": "Kotwa",
         "marker": {
          "color": "#FECB52",
          "pattern": {
           "shape": ""
          }
         },
         "name": "Kotwa",
         "offsetgroup": "Kotwa",
         "orientation": "v",
         "showlegend": true,
         "textposition": "auto",
         "type": "bar",
         "x": [
          "Service/Product Support"
         ],
         "xaxis": "x",
         "y": [
          1
         ],
         "yaxis": "y"
        },
        {
         "alignmentgroup": "True",
         "hovertemplate": "LOCATION=Matepatepa<br>Customer Issue Category=%{x}<br>Count=%{y}<extra></extra>",
         "legendgroup": "Matepatepa",
         "marker": {
          "color": "#636efa",
          "pattern": {
           "shape": ""
          }
         },
         "name": "Matepatepa",
         "offsetgroup": "Matepatepa",
         "orientation": "v",
         "showlegend": true,
         "textposition": "auto",
         "type": "bar",
         "x": [
          "Service/Product Support"
         ],
         "xaxis": "x",
         "y": [
          1
         ],
         "yaxis": "y"
        },
        {
         "alignmentgroup": "True",
         "hovertemplate": "LOCATION=Mutawatawa<br>Customer Issue Category=%{x}<br>Count=%{y}<extra></extra>",
         "legendgroup": "Mutawatawa",
         "marker": {
          "color": "#EF553B",
          "pattern": {
           "shape": ""
          }
         },
         "name": "Mutawatawa",
         "offsetgroup": "Mutawatawa",
         "orientation": "v",
         "showlegend": true,
         "textposition": "auto",
         "type": "bar",
         "x": [
          "Service/Product Support"
         ],
         "xaxis": "x",
         "y": [
          1
         ],
         "yaxis": "y"
        },
        {
         "alignmentgroup": "True",
         "hovertemplate": "LOCATION=Nkayi<br>Customer Issue Category=%{x}<br>Count=%{y}<extra></extra>",
         "legendgroup": "Nkayi",
         "marker": {
          "color": "#00cc96",
          "pattern": {
           "shape": ""
          }
         },
         "name": "Nkayi",
         "offsetgroup": "Nkayi",
         "orientation": "v",
         "showlegend": true,
         "textposition": "auto",
         "type": "bar",
         "x": [
          "Service/Product Support"
         ],
         "xaxis": "x",
         "y": [
          1
         ],
         "yaxis": "y"
        },
        {
         "alignmentgroup": "True",
         "hovertemplate": "LOCATION=Pomona<br>Customer Issue Category=%{x}<br>Count=%{y}<extra></extra>",
         "legendgroup": "Pomona",
         "marker": {
          "color": "#ab63fa",
          "pattern": {
           "shape": ""
          }
         },
         "name": "Pomona",
         "offsetgroup": "Pomona",
         "orientation": "v",
         "showlegend": true,
         "textposition": "auto",
         "type": "bar",
         "x": [
          "Service/Product Support"
         ],
         "xaxis": "x",
         "y": [
          1
         ],
         "yaxis": "y"
        },
        {
         "alignmentgroup": "True",
         "hovertemplate": "LOCATION=Rugare<br>Customer Issue Category=%{x}<br>Count=%{y}<extra></extra>",
         "legendgroup": "Rugare",
         "marker": {
          "color": "#FFA15A",
          "pattern": {
           "shape": ""
          }
         },
         "name": "Rugare",
         "offsetgroup": "Rugare",
         "orientation": "v",
         "showlegend": true,
         "textposition": "auto",
         "type": "bar",
         "x": [
          "Service/Product Support"
         ],
         "xaxis": "x",
         "y": [
          1
         ],
         "yaxis": "y"
        },
        {
         "alignmentgroup": "True",
         "hovertemplate": "LOCATION=Selous<br>Customer Issue Category=%{x}<br>Count=%{y}<extra></extra>",
         "legendgroup": "Selous",
         "marker": {
          "color": "#19d3f3",
          "pattern": {
           "shape": ""
          }
         },
         "name": "Selous",
         "offsetgroup": "Selous",
         "orientation": "v",
         "showlegend": true,
         "textposition": "auto",
         "type": "bar",
         "x": [
          "Service/Product Support"
         ],
         "xaxis": "x",
         "y": [
          1
         ],
         "yaxis": "y"
        },
        {
         "alignmentgroup": "True",
         "hovertemplate": "LOCATION=Sherwood <br>Customer Issue Category=%{x}<br>Count=%{y}<extra></extra>",
         "legendgroup": "Sherwood ",
         "marker": {
          "color": "#FF6692",
          "pattern": {
           "shape": ""
          }
         },
         "name": "Sherwood ",
         "offsetgroup": "Sherwood ",
         "orientation": "v",
         "showlegend": true,
         "textposition": "auto",
         "type": "bar",
         "x": [
          "Service/Product Support"
         ],
         "xaxis": "x",
         "y": [
          1
         ],
         "yaxis": "y"
        },
        {
         "alignmentgroup": "True",
         "hovertemplate": "LOCATION=Tsholotsho<br>Customer Issue Category=%{x}<br>Count=%{y}<extra></extra>",
         "legendgroup": "Tsholotsho",
         "marker": {
          "color": "#B6E880",
          "pattern": {
           "shape": ""
          }
         },
         "name": "Tsholotsho",
         "offsetgroup": "Tsholotsho",
         "orientation": "v",
         "showlegend": true,
         "textposition": "auto",
         "type": "bar",
         "x": [
          "Service/Product Support"
         ],
         "xaxis": "x",
         "y": [
          1
         ],
         "yaxis": "y"
        },
        {
         "alignmentgroup": "True",
         "hovertemplate": "LOCATION=karoi<br>Customer Issue Category=%{x}<br>Count=%{y}<extra></extra>",
         "legendgroup": "karoi",
         "marker": {
          "color": "#FF97FF",
          "pattern": {
           "shape": ""
          }
         },
         "name": "karoi",
         "offsetgroup": "karoi",
         "orientation": "v",
         "showlegend": true,
         "textposition": "auto",
         "type": "bar",
         "x": [
          "Service/Product Support"
         ],
         "xaxis": "x",
         "y": [
          1
         ],
         "yaxis": "y"
        },
        {
         "alignmentgroup": "True",
         "hovertemplate": "LOCATION=nyanga<br>Customer Issue Category=%{x}<br>Count=%{y}<extra></extra>",
         "legendgroup": "nyanga",
         "marker": {
          "color": "#FECB52",
          "pattern": {
           "shape": ""
          }
         },
         "name": "nyanga",
         "offsetgroup": "nyanga",
         "orientation": "v",
         "showlegend": true,
         "textposition": "auto",
         "type": "bar",
         "x": [
          "Service/Product Support"
         ],
         "xaxis": "x",
         "y": [
          1
         ],
         "yaxis": "y"
        },
        {
         "alignmentgroup": "True",
         "hovertemplate": "LOCATION=Chitubu<br>Customer Issue Category=%{x}<br>Count=%{y}<extra></extra>",
         "legendgroup": "Chitubu",
         "marker": {
          "color": "#636efa",
          "pattern": {
           "shape": ""
          }
         },
         "name": "Chitubu",
         "offsetgroup": "Chitubu",
         "orientation": "v",
         "showlegend": true,
         "textposition": "auto",
         "type": "bar",
         "x": [
          "Supplementary Services"
         ],
         "xaxis": "x",
         "y": [
          1
         ],
         "yaxis": "y"
        },
        {
         "alignmentgroup": "True",
         "hovertemplate": "LOCATION=Nyika<br>Customer Issue Category=%{x}<br>Count=%{y}<extra></extra>",
         "legendgroup": "Nyika",
         "marker": {
          "color": "#EF553B",
          "pattern": {
           "shape": ""
          }
         },
         "name": "Nyika",
         "offsetgroup": "Nyika",
         "orientation": "v",
         "showlegend": true,
         "textposition": "auto",
         "type": "bar",
         "x": [
          "Supplementary Services"
         ],
         "xaxis": "x",
         "y": [
          1
         ],
         "yaxis": "y"
        },
        {
         "alignmentgroup": "True",
         "hovertemplate": "LOCATION=Whitehouse<br>Customer Issue Category=%{x}<br>Count=%{y}<extra></extra>",
         "legendgroup": "Whitehouse",
         "marker": {
          "color": "#00cc96",
          "pattern": {
           "shape": ""
          }
         },
         "name": "Whitehouse",
         "offsetgroup": "Whitehouse",
         "orientation": "v",
         "showlegend": true,
         "textposition": "auto",
         "type": "bar",
         "x": [
          "Supplementary Services"
         ],
         "xaxis": "x",
         "y": [
          1
         ],
         "yaxis": "y"
        },
        {
         "alignmentgroup": "True",
         "hovertemplate": "LOCATION=Mapinga<br>Customer Issue Category=%{x}<br>Count=%{y}<extra></extra>",
         "legendgroup": "Mapinga",
         "marker": {
          "color": "#ab63fa",
          "pattern": {
           "shape": ""
          }
         },
         "name": "Mapinga",
         "offsetgroup": "Mapinga",
         "orientation": "v",
         "showlegend": true,
         "textposition": "auto",
         "type": "bar",
         "x": [
          "Value Added Services"
         ],
         "xaxis": "x",
         "y": [
          1
         ],
         "yaxis": "y"
        },
        {
         "alignmentgroup": "True",
         "hovertemplate": "LOCATION=Chivende <br>Customer Issue Category=%{x}<br>Count=%{y}<extra></extra>",
         "legendgroup": "Chivende ",
         "marker": {
          "color": "#FFA15A",
          "pattern": {
           "shape": ""
          }
         },
         "name": "Chivende ",
         "offsetgroup": "Chivende ",
         "orientation": "v",
         "showlegend": true,
         "textposition": "auto",
         "type": "bar",
         "x": [
          "Voice"
         ],
         "xaxis": "x",
         "y": [
          1
         ],
         "yaxis": "y"
        },
        {
         "alignmentgroup": "True",
         "hovertemplate": "LOCATION=Darwendale<br>Customer Issue Category=%{x}<br>Count=%{y}<extra></extra>",
         "legendgroup": "Darwendale",
         "marker": {
          "color": "#19d3f3",
          "pattern": {
           "shape": ""
          }
         },
         "name": "Darwendale",
         "offsetgroup": "Darwendale",
         "orientation": "v",
         "showlegend": true,
         "textposition": "auto",
         "type": "bar",
         "x": [
          "Voice"
         ],
         "xaxis": "x",
         "y": [
          1
         ],
         "yaxis": "y"
        },
        {
         "alignmentgroup": "True",
         "hovertemplate": "LOCATION=Greendale<br>Customer Issue Category=%{x}<br>Count=%{y}<extra></extra>",
         "legendgroup": "Greendale",
         "marker": {
          "color": "#FF6692",
          "pattern": {
           "shape": ""
          }
         },
         "name": "Greendale",
         "offsetgroup": "Greendale",
         "orientation": "v",
         "showlegend": true,
         "textposition": "auto",
         "type": "bar",
         "x": [
          "Voice"
         ],
         "xaxis": "x",
         "y": [
          2
         ],
         "yaxis": "y"
        },
        {
         "alignmentgroup": "True",
         "hovertemplate": "LOCATION=Honde valley <br>Customer Issue Category=%{x}<br>Count=%{y}<extra></extra>",
         "legendgroup": "Honde valley ",
         "marker": {
          "color": "#B6E880",
          "pattern": {
           "shape": ""
          }
         },
         "name": "Honde valley ",
         "offsetgroup": "Honde valley ",
         "orientation": "v",
         "showlegend": true,
         "textposition": "auto",
         "type": "bar",
         "x": [
          "Voice"
         ],
         "xaxis": "x",
         "y": [
          1
         ],
         "yaxis": "y"
        },
        {
         "alignmentgroup": "True",
         "hovertemplate": "LOCATION=Mutendwa<br>Customer Issue Category=%{x}<br>Count=%{y}<extra></extra>",
         "legendgroup": "Mutendwa",
         "marker": {
          "color": "#FF97FF",
          "pattern": {
           "shape": ""
          }
         },
         "name": "Mutendwa",
         "offsetgroup": "Mutendwa",
         "orientation": "v",
         "showlegend": true,
         "textposition": "auto",
         "type": "bar",
         "x": [
          "Voice"
         ],
         "xaxis": "x",
         "y": [
          1
         ],
         "yaxis": "y"
        },
        {
         "alignmentgroup": "True",
         "hovertemplate": "LOCATION=Nyanyadzi<br>Customer Issue Category=%{x}<br>Count=%{y}<extra></extra>",
         "legendgroup": "Nyanyadzi",
         "marker": {
          "color": "#FECB52",
          "pattern": {
           "shape": ""
          }
         },
         "name": "Nyanyadzi",
         "offsetgroup": "Nyanyadzi",
         "orientation": "v",
         "showlegend": true,
         "textposition": "auto",
         "type": "bar",
         "x": [
          "Voice"
         ],
         "xaxis": "x",
         "y": [
          1
         ],
         "yaxis": "y"
        },
        {
         "alignmentgroup": "True",
         "hovertemplate": "LOCATION=mbare<br>Customer Issue Category=%{x}<br>Count=%{y}<extra></extra>",
         "legendgroup": "mbare",
         "marker": {
          "color": "#636efa",
          "pattern": {
           "shape": ""
          }
         },
         "name": "mbare",
         "offsetgroup": "mbare",
         "orientation": "v",
         "showlegend": true,
         "textposition": "auto",
         "type": "bar",
         "x": [
          "Voice"
         ],
         "xaxis": "x",
         "y": [
          1
         ],
         "yaxis": "y"
        }
       ],
       "layout": {
        "barmode": "relative",
        "legend": {
         "title": {
          "text": "LOCATION"
         },
         "tracegroupgap": 0
        },
        "margin": {
         "t": 60
        },
        "template": {
         "data": {
          "bar": [
           {
            "error_x": {
             "color": "#2a3f5f"
            },
            "error_y": {
             "color": "#2a3f5f"
            },
            "marker": {
             "line": {
              "color": "#E5ECF6",
              "width": 0.5
             },
             "pattern": {
              "fillmode": "overlay",
              "size": 10,
              "solidity": 0.2
             }
            },
            "type": "bar"
           }
          ],
          "barpolar": [
           {
            "marker": {
             "line": {
              "color": "#E5ECF6",
              "width": 0.5
             },
             "pattern": {
              "fillmode": "overlay",
              "size": 10,
              "solidity": 0.2
             }
            },
            "type": "barpolar"
           }
          ],
          "carpet": [
           {
            "aaxis": {
             "endlinecolor": "#2a3f5f",
             "gridcolor": "white",
             "linecolor": "white",
             "minorgridcolor": "white",
             "startlinecolor": "#2a3f5f"
            },
            "baxis": {
             "endlinecolor": "#2a3f5f",
             "gridcolor": "white",
             "linecolor": "white",
             "minorgridcolor": "white",
             "startlinecolor": "#2a3f5f"
            },
            "type": "carpet"
           }
          ],
          "choropleth": [
           {
            "colorbar": {
             "outlinewidth": 0,
             "ticks": ""
            },
            "type": "choropleth"
           }
          ],
          "contour": [
           {
            "colorbar": {
             "outlinewidth": 0,
             "ticks": ""
            },
            "colorscale": [
             [
              0,
              "#0d0887"
             ],
             [
              0.1111111111111111,
              "#46039f"
             ],
             [
              0.2222222222222222,
              "#7201a8"
             ],
             [
              0.3333333333333333,
              "#9c179e"
             ],
             [
              0.4444444444444444,
              "#bd3786"
             ],
             [
              0.5555555555555556,
              "#d8576b"
             ],
             [
              0.6666666666666666,
              "#ed7953"
             ],
             [
              0.7777777777777778,
              "#fb9f3a"
             ],
             [
              0.8888888888888888,
              "#fdca26"
             ],
             [
              1,
              "#f0f921"
             ]
            ],
            "type": "contour"
           }
          ],
          "contourcarpet": [
           {
            "colorbar": {
             "outlinewidth": 0,
             "ticks": ""
            },
            "type": "contourcarpet"
           }
          ],
          "heatmap": [
           {
            "colorbar": {
             "outlinewidth": 0,
             "ticks": ""
            },
            "colorscale": [
             [
              0,
              "#0d0887"
             ],
             [
              0.1111111111111111,
              "#46039f"
             ],
             [
              0.2222222222222222,
              "#7201a8"
             ],
             [
              0.3333333333333333,
              "#9c179e"
             ],
             [
              0.4444444444444444,
              "#bd3786"
             ],
             [
              0.5555555555555556,
              "#d8576b"
             ],
             [
              0.6666666666666666,
              "#ed7953"
             ],
             [
              0.7777777777777778,
              "#fb9f3a"
             ],
             [
              0.8888888888888888,
              "#fdca26"
             ],
             [
              1,
              "#f0f921"
             ]
            ],
            "type": "heatmap"
           }
          ],
          "heatmapgl": [
           {
            "colorbar": {
             "outlinewidth": 0,
             "ticks": ""
            },
            "colorscale": [
             [
              0,
              "#0d0887"
             ],
             [
              0.1111111111111111,
              "#46039f"
             ],
             [
              0.2222222222222222,
              "#7201a8"
             ],
             [
              0.3333333333333333,
              "#9c179e"
             ],
             [
              0.4444444444444444,
              "#bd3786"
             ],
             [
              0.5555555555555556,
              "#d8576b"
             ],
             [
              0.6666666666666666,
              "#ed7953"
             ],
             [
              0.7777777777777778,
              "#fb9f3a"
             ],
             [
              0.8888888888888888,
              "#fdca26"
             ],
             [
              1,
              "#f0f921"
             ]
            ],
            "type": "heatmapgl"
           }
          ],
          "histogram": [
           {
            "marker": {
             "pattern": {
              "fillmode": "overlay",
              "size": 10,
              "solidity": 0.2
             }
            },
            "type": "histogram"
           }
          ],
          "histogram2d": [
           {
            "colorbar": {
             "outlinewidth": 0,
             "ticks": ""
            },
            "colorscale": [
             [
              0,
              "#0d0887"
             ],
             [
              0.1111111111111111,
              "#46039f"
             ],
             [
              0.2222222222222222,
              "#7201a8"
             ],
             [
              0.3333333333333333,
              "#9c179e"
             ],
             [
              0.4444444444444444,
              "#bd3786"
             ],
             [
              0.5555555555555556,
              "#d8576b"
             ],
             [
              0.6666666666666666,
              "#ed7953"
             ],
             [
              0.7777777777777778,
              "#fb9f3a"
             ],
             [
              0.8888888888888888,
              "#fdca26"
             ],
             [
              1,
              "#f0f921"
             ]
            ],
            "type": "histogram2d"
           }
          ],
          "histogram2dcontour": [
           {
            "colorbar": {
             "outlinewidth": 0,
             "ticks": ""
            },
            "colorscale": [
             [
              0,
              "#0d0887"
             ],
             [
              0.1111111111111111,
              "#46039f"
             ],
             [
              0.2222222222222222,
              "#7201a8"
             ],
             [
              0.3333333333333333,
              "#9c179e"
             ],
             [
              0.4444444444444444,
              "#bd3786"
             ],
             [
              0.5555555555555556,
              "#d8576b"
             ],
             [
              0.6666666666666666,
              "#ed7953"
             ],
             [
              0.7777777777777778,
              "#fb9f3a"
             ],
             [
              0.8888888888888888,
              "#fdca26"
             ],
             [
              1,
              "#f0f921"
             ]
            ],
            "type": "histogram2dcontour"
           }
          ],
          "mesh3d": [
           {
            "colorbar": {
             "outlinewidth": 0,
             "ticks": ""
            },
            "type": "mesh3d"
           }
          ],
          "parcoords": [
           {
            "line": {
             "colorbar": {
              "outlinewidth": 0,
              "ticks": ""
             }
            },
            "type": "parcoords"
           }
          ],
          "pie": [
           {
            "automargin": true,
            "type": "pie"
           }
          ],
          "scatter": [
           {
            "fillpattern": {
             "fillmode": "overlay",
             "size": 10,
             "solidity": 0.2
            },
            "type": "scatter"
           }
          ],
          "scatter3d": [
           {
            "line": {
             "colorbar": {
              "outlinewidth": 0,
              "ticks": ""
             }
            },
            "marker": {
             "colorbar": {
              "outlinewidth": 0,
              "ticks": ""
             }
            },
            "type": "scatter3d"
           }
          ],
          "scattercarpet": [
           {
            "marker": {
             "colorbar": {
              "outlinewidth": 0,
              "ticks": ""
             }
            },
            "type": "scattercarpet"
           }
          ],
          "scattergeo": [
           {
            "marker": {
             "colorbar": {
              "outlinewidth": 0,
              "ticks": ""
             }
            },
            "type": "scattergeo"
           }
          ],
          "scattergl": [
           {
            "marker": {
             "colorbar": {
              "outlinewidth": 0,
              "ticks": ""
             }
            },
            "type": "scattergl"
           }
          ],
          "scattermapbox": [
           {
            "marker": {
             "colorbar": {
              "outlinewidth": 0,
              "ticks": ""
             }
            },
            "type": "scattermapbox"
           }
          ],
          "scatterpolar": [
           {
            "marker": {
             "colorbar": {
              "outlinewidth": 0,
              "ticks": ""
             }
            },
            "type": "scatterpolar"
           }
          ],
          "scatterpolargl": [
           {
            "marker": {
             "colorbar": {
              "outlinewidth": 0,
              "ticks": ""
             }
            },
            "type": "scatterpolargl"
           }
          ],
          "scatterternary": [
           {
            "marker": {
             "colorbar": {
              "outlinewidth": 0,
              "ticks": ""
             }
            },
            "type": "scatterternary"
           }
          ],
          "surface": [
           {
            "colorbar": {
             "outlinewidth": 0,
             "ticks": ""
            },
            "colorscale": [
             [
              0,
              "#0d0887"
             ],
             [
              0.1111111111111111,
              "#46039f"
             ],
             [
              0.2222222222222222,
              "#7201a8"
             ],
             [
              0.3333333333333333,
              "#9c179e"
             ],
             [
              0.4444444444444444,
              "#bd3786"
             ],
             [
              0.5555555555555556,
              "#d8576b"
             ],
             [
              0.6666666666666666,
              "#ed7953"
             ],
             [
              0.7777777777777778,
              "#fb9f3a"
             ],
             [
              0.8888888888888888,
              "#fdca26"
             ],
             [
              1,
              "#f0f921"
             ]
            ],
            "type": "surface"
           }
          ],
          "table": [
           {
            "cells": {
             "fill": {
              "color": "#EBF0F8"
             },
             "line": {
              "color": "white"
             }
            },
            "header": {
             "fill": {
              "color": "#C8D4E3"
             },
             "line": {
              "color": "white"
             }
            },
            "type": "table"
           }
          ]
         },
         "layout": {
          "annotationdefaults": {
           "arrowcolor": "#2a3f5f",
           "arrowhead": 0,
           "arrowwidth": 1
          },
          "autotypenumbers": "strict",
          "coloraxis": {
           "colorbar": {
            "outlinewidth": 0,
            "ticks": ""
           }
          },
          "colorscale": {
           "diverging": [
            [
             0,
             "#8e0152"
            ],
            [
             0.1,
             "#c51b7d"
            ],
            [
             0.2,
             "#de77ae"
            ],
            [
             0.3,
             "#f1b6da"
            ],
            [
             0.4,
             "#fde0ef"
            ],
            [
             0.5,
             "#f7f7f7"
            ],
            [
             0.6,
             "#e6f5d0"
            ],
            [
             0.7,
             "#b8e186"
            ],
            [
             0.8,
             "#7fbc41"
            ],
            [
             0.9,
             "#4d9221"
            ],
            [
             1,
             "#276419"
            ]
           ],
           "sequential": [
            [
             0,
             "#0d0887"
            ],
            [
             0.1111111111111111,
             "#46039f"
            ],
            [
             0.2222222222222222,
             "#7201a8"
            ],
            [
             0.3333333333333333,
             "#9c179e"
            ],
            [
             0.4444444444444444,
             "#bd3786"
            ],
            [
             0.5555555555555556,
             "#d8576b"
            ],
            [
             0.6666666666666666,
             "#ed7953"
            ],
            [
             0.7777777777777778,
             "#fb9f3a"
            ],
            [
             0.8888888888888888,
             "#fdca26"
            ],
            [
             1,
             "#f0f921"
            ]
           ],
           "sequentialminus": [
            [
             0,
             "#0d0887"
            ],
            [
             0.1111111111111111,
             "#46039f"
            ],
            [
             0.2222222222222222,
             "#7201a8"
            ],
            [
             0.3333333333333333,
             "#9c179e"
            ],
            [
             0.4444444444444444,
             "#bd3786"
            ],
            [
             0.5555555555555556,
             "#d8576b"
            ],
            [
             0.6666666666666666,
             "#ed7953"
            ],
            [
             0.7777777777777778,
             "#fb9f3a"
            ],
            [
             0.8888888888888888,
             "#fdca26"
            ],
            [
             1,
             "#f0f921"
            ]
           ]
          },
          "colorway": [
           "#636efa",
           "#EF553B",
           "#00cc96",
           "#ab63fa",
           "#FFA15A",
           "#19d3f3",
           "#FF6692",
           "#B6E880",
           "#FF97FF",
           "#FECB52"
          ],
          "font": {
           "color": "#2a3f5f"
          },
          "geo": {
           "bgcolor": "white",
           "lakecolor": "white",
           "landcolor": "#E5ECF6",
           "showlakes": true,
           "showland": true,
           "subunitcolor": "white"
          },
          "hoverlabel": {
           "align": "left"
          },
          "hovermode": "closest",
          "mapbox": {
           "style": "light"
          },
          "paper_bgcolor": "white",
          "plot_bgcolor": "#E5ECF6",
          "polar": {
           "angularaxis": {
            "gridcolor": "white",
            "linecolor": "white",
            "ticks": ""
           },
           "bgcolor": "#E5ECF6",
           "radialaxis": {
            "gridcolor": "white",
            "linecolor": "white",
            "ticks": ""
           }
          },
          "scene": {
           "xaxis": {
            "backgroundcolor": "#E5ECF6",
            "gridcolor": "white",
            "gridwidth": 2,
            "linecolor": "white",
            "showbackground": true,
            "ticks": "",
            "zerolinecolor": "white"
           },
           "yaxis": {
            "backgroundcolor": "#E5ECF6",
            "gridcolor": "white",
            "gridwidth": 2,
            "linecolor": "white",
            "showbackground": true,
            "ticks": "",
            "zerolinecolor": "white"
           },
           "zaxis": {
            "backgroundcolor": "#E5ECF6",
            "gridcolor": "white",
            "gridwidth": 2,
            "linecolor": "white",
            "showbackground": true,
            "ticks": "",
            "zerolinecolor": "white"
           }
          },
          "shapedefaults": {
           "line": {
            "color": "#2a3f5f"
           }
          },
          "ternary": {
           "aaxis": {
            "gridcolor": "white",
            "linecolor": "white",
            "ticks": ""
           },
           "baxis": {
            "gridcolor": "white",
            "linecolor": "white",
            "ticks": ""
           },
           "bgcolor": "#E5ECF6",
           "caxis": {
            "gridcolor": "white",
            "linecolor": "white",
            "ticks": ""
           }
          },
          "title": {
           "x": 0.05
          },
          "xaxis": {
           "automargin": true,
           "gridcolor": "white",
           "linecolor": "white",
           "ticks": "",
           "title": {
            "standoff": 15
           },
           "zerolinecolor": "white",
           "zerolinewidth": 2
          },
          "yaxis": {
           "automargin": true,
           "gridcolor": "white",
           "linecolor": "white",
           "ticks": "",
           "title": {
            "standoff": 15
           },
           "zerolinecolor": "white",
           "zerolinewidth": 2
          }
         }
        },
        "title": {
         "text": "Customer Issue Category and Location"
        },
        "xaxis": {
         "anchor": "y",
         "domain": [
          0,
          1
         ],
         "title": {
          "text": "Customer Issue Category"
         }
        },
        "yaxis": {
         "anchor": "x",
         "domain": [
          0,
          1
         ],
         "title": {
          "text": "Count"
         }
        }
       }
      },
      "text/html": [
       "<div>                            <div id=\"2b6d79c7-45a9-41e3-8976-2bb9b1f66c68\" class=\"plotly-graph-div\" style=\"height:525px; width:100%;\"></div>            <script type=\"text/javascript\">                require([\"plotly\"], function(Plotly) {                    window.PLOTLYENV=window.PLOTLYENV || {};                                    if (document.getElementById(\"2b6d79c7-45a9-41e3-8976-2bb9b1f66c68\")) {                    Plotly.newPlot(                        \"2b6d79c7-45a9-41e3-8976-2bb9b1f66c68\",                        [{\"alignmentgroup\":\"True\",\"hovertemplate\":\"LOCATION=Afgate<br>Customer Issue Category=%{x}<br>Count=%{y}<extra></extra>\",\"legendgroup\":\"Afgate\",\"marker\":{\"color\":\"#636efa\",\"pattern\":{\"shape\":\"\"}},\"name\":\"Afgate\",\"offsetgroup\":\"Afgate\",\"orientation\":\"v\",\"showlegend\":true,\"textposition\":\"auto\",\"x\":[\"Data\"],\"xaxis\":\"x\",\"y\":[1],\"yaxis\":\"y\",\"type\":\"bar\"},{\"alignmentgroup\":\"True\",\"hovertemplate\":\"LOCATION=Alex Park<br>Customer Issue Category=%{x}<br>Count=%{y}<extra></extra>\",\"legendgroup\":\"Alex Park\",\"marker\":{\"color\":\"#EF553B\",\"pattern\":{\"shape\":\"\"}},\"name\":\"Alex Park\",\"offsetgroup\":\"Alex Park\",\"orientation\":\"v\",\"showlegend\":true,\"textposition\":\"auto\",\"x\":[\"Data\"],\"xaxis\":\"x\",\"y\":[1],\"yaxis\":\"y\",\"type\":\"bar\"},{\"alignmentgroup\":\"True\",\"hovertemplate\":\"LOCATION=Arcturus<br>Customer Issue Category=%{x}<br>Count=%{y}<extra></extra>\",\"legendgroup\":\"Arcturus\",\"marker\":{\"color\":\"#00cc96\",\"pattern\":{\"shape\":\"\"}},\"name\":\"Arcturus\",\"offsetgroup\":\"Arcturus\",\"orientation\":\"v\",\"showlegend\":true,\"textposition\":\"auto\",\"x\":[\"Data\"],\"xaxis\":\"x\",\"y\":[1],\"yaxis\":\"y\",\"type\":\"bar\"},{\"alignmentgroup\":\"True\",\"hovertemplate\":\"LOCATION=Ardbennie<br>Customer Issue Category=%{x}<br>Count=%{y}<extra></extra>\",\"legendgroup\":\"Ardbennie\",\"marker\":{\"color\":\"#ab63fa\",\"pattern\":{\"shape\":\"\"}},\"name\":\"Ardbennie\",\"offsetgroup\":\"Ardbennie\",\"orientation\":\"v\",\"showlegend\":true,\"textposition\":\"auto\",\"x\":[\"Data\",\"SMS\",\"Service/Product Support\"],\"xaxis\":\"x\",\"y\":[2,1,1],\"yaxis\":\"y\",\"type\":\"bar\"},{\"alignmentgroup\":\"True\",\"hovertemplate\":\"LOCATION=Ashdown park<br>Customer Issue Category=%{x}<br>Count=%{y}<extra></extra>\",\"legendgroup\":\"Ashdown park\",\"marker\":{\"color\":\"#FFA15A\",\"pattern\":{\"shape\":\"\"}},\"name\":\"Ashdown park\",\"offsetgroup\":\"Ashdown park\",\"orientation\":\"v\",\"showlegend\":true,\"textposition\":\"auto\",\"x\":[\"Data\"],\"xaxis\":\"x\",\"y\":[1],\"yaxis\":\"y\",\"type\":\"bar\"},{\"alignmentgroup\":\"True\",\"hovertemplate\":\"LOCATION=Avenues<br>Customer Issue Category=%{x}<br>Count=%{y}<extra></extra>\",\"legendgroup\":\"Avenues\",\"marker\":{\"color\":\"#19d3f3\",\"pattern\":{\"shape\":\"\"}},\"name\":\"Avenues\",\"offsetgroup\":\"Avenues\",\"orientation\":\"v\",\"showlegend\":true,\"textposition\":\"auto\",\"x\":[\"Data\"],\"xaxis\":\"x\",\"y\":[2],\"yaxis\":\"y\",\"type\":\"bar\"},{\"alignmentgroup\":\"True\",\"hovertemplate\":\"LOCATION=Beatrice<br>Customer Issue Category=%{x}<br>Count=%{y}<extra></extra>\",\"legendgroup\":\"Beatrice\",\"marker\":{\"color\":\"#FF6692\",\"pattern\":{\"shape\":\"\"}},\"name\":\"Beatrice\",\"offsetgroup\":\"Beatrice\",\"orientation\":\"v\",\"showlegend\":true,\"textposition\":\"auto\",\"x\":[\"Data\",\"Voice\"],\"xaxis\":\"x\",\"y\":[1,1],\"yaxis\":\"y\",\"type\":\"bar\"},{\"alignmentgroup\":\"True\",\"hovertemplate\":\"LOCATION=Bechnough <br>Customer Issue Category=%{x}<br>Count=%{y}<extra></extra>\",\"legendgroup\":\"Bechnough \",\"marker\":{\"color\":\"#B6E880\",\"pattern\":{\"shape\":\"\"}},\"name\":\"Bechnough \",\"offsetgroup\":\"Bechnough \",\"orientation\":\"v\",\"showlegend\":true,\"textposition\":\"auto\",\"x\":[\"Data\"],\"xaxis\":\"x\",\"y\":[1],\"yaxis\":\"y\",\"type\":\"bar\"},{\"alignmentgroup\":\"True\",\"hovertemplate\":\"LOCATION=Beitbridge<br>Customer Issue Category=%{x}<br>Count=%{y}<extra></extra>\",\"legendgroup\":\"Beitbridge\",\"marker\":{\"color\":\"#FF97FF\",\"pattern\":{\"shape\":\"\"}},\"name\":\"Beitbridge\",\"offsetgroup\":\"Beitbridge\",\"orientation\":\"v\",\"showlegend\":true,\"textposition\":\"auto\",\"x\":[\"Data\",\"Other\",\"Prepaid\",\"Product Distribution \",\"Service/Product Support\",\"Supplementary Services\"],\"xaxis\":\"x\",\"y\":[6,1,2,1,5,1],\"yaxis\":\"y\",\"type\":\"bar\"},{\"alignmentgroup\":\"True\",\"hovertemplate\":\"LOCATION=Belvedere<br>Customer Issue Category=%{x}<br>Count=%{y}<extra></extra>\",\"legendgroup\":\"Belvedere\",\"marker\":{\"color\":\"#FECB52\",\"pattern\":{\"shape\":\"\"}},\"name\":\"Belvedere\",\"offsetgroup\":\"Belvedere\",\"orientation\":\"v\",\"showlegend\":true,\"textposition\":\"auto\",\"x\":[\"Data\"],\"xaxis\":\"x\",\"y\":[3],\"yaxis\":\"y\",\"type\":\"bar\"},{\"alignmentgroup\":\"True\",\"hovertemplate\":\"LOCATION=Bikita<br>Customer Issue Category=%{x}<br>Count=%{y}<extra></extra>\",\"legendgroup\":\"Bikita\",\"marker\":{\"color\":\"#636efa\",\"pattern\":{\"shape\":\"\"}},\"name\":\"Bikita\",\"offsetgroup\":\"Bikita\",\"orientation\":\"v\",\"showlegend\":true,\"textposition\":\"auto\",\"x\":[\"Data\",\"Mobile Financial Services\",\"Other\",\"Prepaid\",\"Service/Product Support\"],\"xaxis\":\"x\",\"y\":[1,2,1,1,1],\"yaxis\":\"y\",\"type\":\"bar\"},{\"alignmentgroup\":\"True\",\"hovertemplate\":\"LOCATION=Bindura<br>Customer Issue Category=%{x}<br>Count=%{y}<extra></extra>\",\"legendgroup\":\"Bindura\",\"marker\":{\"color\":\"#EF553B\",\"pattern\":{\"shape\":\"\"}},\"name\":\"Bindura\",\"offsetgroup\":\"Bindura\",\"orientation\":\"v\",\"showlegend\":true,\"textposition\":\"auto\",\"x\":[\"Data\",\"Other\",\"Prepaid\",\"Products and Services\",\"SMS\",\"Service/Product Support\",\"Systems Support\"],\"xaxis\":\"x\",\"y\":[7,4,5,1,4,2,1],\"yaxis\":\"y\",\"type\":\"bar\"},{\"alignmentgroup\":\"True\",\"hovertemplate\":\"LOCATION=Binga<br>Customer Issue Category=%{x}<br>Count=%{y}<extra></extra>\",\"legendgroup\":\"Binga\",\"marker\":{\"color\":\"#00cc96\",\"pattern\":{\"shape\":\"\"}},\"name\":\"Binga\",\"offsetgroup\":\"Binga\",\"orientation\":\"v\",\"showlegend\":true,\"textposition\":\"auto\",\"x\":[\"Data\",\"Mobile Financial Services\",\"Other\"],\"xaxis\":\"x\",\"y\":[1,1,1],\"yaxis\":\"y\",\"type\":\"bar\"},{\"alignmentgroup\":\"True\",\"hovertemplate\":\"LOCATION=Bluffhill<br>Customer Issue Category=%{x}<br>Count=%{y}<extra></extra>\",\"legendgroup\":\"Bluffhill\",\"marker\":{\"color\":\"#ab63fa\",\"pattern\":{\"shape\":\"\"}},\"name\":\"Bluffhill\",\"offsetgroup\":\"Bluffhill\",\"orientation\":\"v\",\"showlegend\":true,\"textposition\":\"auto\",\"x\":[\"Data\"],\"xaxis\":\"x\",\"y\":[1],\"yaxis\":\"y\",\"type\":\"bar\"},{\"alignmentgroup\":\"True\",\"hovertemplate\":\"LOCATION=Borrowdale<br>Customer Issue Category=%{x}<br>Count=%{y}<extra></extra>\",\"legendgroup\":\"Borrowdale\",\"marker\":{\"color\":\"#FFA15A\",\"pattern\":{\"shape\":\"\"}},\"name\":\"Borrowdale\",\"offsetgroup\":\"Borrowdale\",\"orientation\":\"v\",\"showlegend\":true,\"textposition\":\"auto\",\"x\":[\"Data\",\"Prepaid\",\"SMS\",\"Value Added Services\"],\"xaxis\":\"x\",\"y\":[6,3,1,1],\"yaxis\":\"y\",\"type\":\"bar\"},{\"alignmentgroup\":\"True\",\"hovertemplate\":\"LOCATION=Budiriro<br>Customer Issue Category=%{x}<br>Count=%{y}<extra></extra>\",\"legendgroup\":\"Budiriro\",\"marker\":{\"color\":\"#19d3f3\",\"pattern\":{\"shape\":\"\"}},\"name\":\"Budiriro\",\"offsetgroup\":\"Budiriro\",\"orientation\":\"v\",\"showlegend\":true,\"textposition\":\"auto\",\"x\":[\"Data\",\"Devices\",\"Mobile Financial Services\",\"Other\",\"Prepaid\",\"SMS\",\"Service/Product Support\",\"Systems Support\",\"Voice\"],\"xaxis\":\"x\",\"y\":[13,1,2,1,4,2,1,1,1],\"yaxis\":\"y\",\"type\":\"bar\"},{\"alignmentgroup\":\"True\",\"hovertemplate\":\"LOCATION=Buhera<br>Customer Issue Category=%{x}<br>Count=%{y}<extra></extra>\",\"legendgroup\":\"Buhera\",\"marker\":{\"color\":\"#FF6692\",\"pattern\":{\"shape\":\"\"}},\"name\":\"Buhera\",\"offsetgroup\":\"Buhera\",\"orientation\":\"v\",\"showlegend\":true,\"textposition\":\"auto\",\"x\":[\"Data\",\"Mobile Financial Services\",\"Other\",\"Prepaid\",\"Products and Services\",\"SMS\",\"Service/Product Support\",\"Supplementary Services\",\"Voice\"],\"xaxis\":\"x\",\"y\":[4,1,4,9,2,1,1,1,1],\"yaxis\":\"y\",\"type\":\"bar\"},{\"alignmentgroup\":\"True\",\"hovertemplate\":\"LOCATION=Bulawayo<br>Customer Issue Category=%{x}<br>Count=%{y}<extra></extra>\",\"legendgroup\":\"Bulawayo\",\"marker\":{\"color\":\"#B6E880\",\"pattern\":{\"shape\":\"\"}},\"name\":\"Bulawayo\",\"offsetgroup\":\"Bulawayo\",\"orientation\":\"v\",\"showlegend\":true,\"textposition\":\"auto\",\"x\":[\"Data\",\"Mobile Financial Services\",\"Other\",\"Prepaid\",\"Products and Services\",\"Service/Product Support\",\"Supplementary Services\",\"Value Added Services\",\"Voice\"],\"xaxis\":\"x\",\"y\":[35,3,1,18,1,5,3,2,2],\"yaxis\":\"y\",\"type\":\"bar\"},{\"alignmentgroup\":\"True\",\"hovertemplate\":\"LOCATION=Chanda<br>Customer Issue Category=%{x}<br>Count=%{y}<extra></extra>\",\"legendgroup\":\"Chanda\",\"marker\":{\"color\":\"#FF97FF\",\"pattern\":{\"shape\":\"\"}},\"name\":\"Chanda\",\"offsetgroup\":\"Chanda\",\"orientation\":\"v\",\"showlegend\":true,\"textposition\":\"auto\",\"x\":[\"Data\"],\"xaxis\":\"x\",\"y\":[1],\"yaxis\":\"y\",\"type\":\"bar\"},{\"alignmentgroup\":\"True\",\"hovertemplate\":\"LOCATION=Chegutu<br>Customer Issue Category=%{x}<br>Count=%{y}<extra></extra>\",\"legendgroup\":\"Chegutu\",\"marker\":{\"color\":\"#FECB52\",\"pattern\":{\"shape\":\"\"}},\"name\":\"Chegutu\",\"offsetgroup\":\"Chegutu\",\"orientation\":\"v\",\"showlegend\":true,\"textposition\":\"auto\",\"x\":[\"Data\",\"Mobile Financial Services\",\"Other\",\"Prepaid\",\"SMS\",\"Service/Product Support\",\"Supplementary Services\",\"Voice\"],\"xaxis\":\"x\",\"y\":[9,3,1,7,6,7,2,2],\"yaxis\":\"y\",\"type\":\"bar\"},{\"alignmentgroup\":\"True\",\"hovertemplate\":\"LOCATION=Chikwanha<br>Customer Issue Category=%{x}<br>Count=%{y}<extra></extra>\",\"legendgroup\":\"Chikwanha\",\"marker\":{\"color\":\"#636efa\",\"pattern\":{\"shape\":\"\"}},\"name\":\"Chikwanha\",\"offsetgroup\":\"Chikwanha\",\"orientation\":\"v\",\"showlegend\":true,\"textposition\":\"auto\",\"x\":[\"Data\"],\"xaxis\":\"x\",\"y\":[1],\"yaxis\":\"y\",\"type\":\"bar\"},{\"alignmentgroup\":\"True\",\"hovertemplate\":\"LOCATION=Chinhoyi<br>Customer Issue Category=%{x}<br>Count=%{y}<extra></extra>\",\"legendgroup\":\"Chinhoyi\",\"marker\":{\"color\":\"#EF553B\",\"pattern\":{\"shape\":\"\"}},\"name\":\"Chinhoyi\",\"offsetgroup\":\"Chinhoyi\",\"orientation\":\"v\",\"showlegend\":true,\"textposition\":\"auto\",\"x\":[\"Data\",\"Mobile Financial Services\",\"Other\",\"Prepaid\",\"Product Distribution \",\"SMS\",\"Service/Product Support\",\"Supplementary Services\",\"Voice\"],\"xaxis\":\"x\",\"y\":[11,3,2,2,1,4,1,4,4],\"yaxis\":\"y\",\"type\":\"bar\"},{\"alignmentgroup\":\"True\",\"hovertemplate\":\"LOCATION=Chiredzi<br>Customer Issue Category=%{x}<br>Count=%{y}<extra></extra>\",\"legendgroup\":\"Chiredzi\",\"marker\":{\"color\":\"#00cc96\",\"pattern\":{\"shape\":\"\"}},\"name\":\"Chiredzi\",\"offsetgroup\":\"Chiredzi\",\"orientation\":\"v\",\"showlegend\":true,\"textposition\":\"auto\",\"x\":[\"Data\",\"Mobile Financial Services\",\"Other\",\"Prepaid\"],\"xaxis\":\"x\",\"y\":[2,1,1,3],\"yaxis\":\"y\",\"type\":\"bar\"},{\"alignmentgroup\":\"True\",\"hovertemplate\":\"LOCATION=Chishawasha<br>Customer Issue Category=%{x}<br>Count=%{y}<extra></extra>\",\"legendgroup\":\"Chishawasha\",\"marker\":{\"color\":\"#ab63fa\",\"pattern\":{\"shape\":\"\"}},\"name\":\"Chishawasha\",\"offsetgroup\":\"Chishawasha\",\"orientation\":\"v\",\"showlegend\":true,\"textposition\":\"auto\",\"x\":[\"Data\"],\"xaxis\":\"x\",\"y\":[1],\"yaxis\":\"y\",\"type\":\"bar\"},{\"alignmentgroup\":\"True\",\"hovertemplate\":\"LOCATION=Chitungwiza<br>Customer Issue Category=%{x}<br>Count=%{y}<extra></extra>\",\"legendgroup\":\"Chitungwiza\",\"marker\":{\"color\":\"#FFA15A\",\"pattern\":{\"shape\":\"\"}},\"name\":\"Chitungwiza\",\"offsetgroup\":\"Chitungwiza\",\"orientation\":\"v\",\"showlegend\":true,\"textposition\":\"auto\",\"x\":[\"Data\",\"Devices\",\"Mobile Financial Services\",\"Other\",\"Prepaid\",\"Product Distribution \",\"Roaming and International services\",\"SMS\",\"Service/Product Support\",\"Voice\"],\"xaxis\":\"x\",\"y\":[42,1,7,2,16,1,1,4,2,4],\"yaxis\":\"y\",\"type\":\"bar\"},{\"alignmentgroup\":\"True\",\"hovertemplate\":\"LOCATION=Chivhu<br>Customer Issue Category=%{x}<br>Count=%{y}<extra></extra>\",\"legendgroup\":\"Chivhu\",\"marker\":{\"color\":\"#19d3f3\",\"pattern\":{\"shape\":\"\"}},\"name\":\"Chivhu\",\"offsetgroup\":\"Chivhu\",\"orientation\":\"v\",\"showlegend\":true,\"textposition\":\"auto\",\"x\":[\"Data\",\"Mobile Financial Services\",\"Other\",\"Prepaid\",\"Products and Services\",\"Service/Product Support\",\"Voice\"],\"xaxis\":\"x\",\"y\":[4,4,2,1,1,1,1],\"yaxis\":\"y\",\"type\":\"bar\"},{\"alignmentgroup\":\"True\",\"hovertemplate\":\"LOCATION=Chivi<br>Customer Issue Category=%{x}<br>Count=%{y}<extra></extra>\",\"legendgroup\":\"Chivi\",\"marker\":{\"color\":\"#FF6692\",\"pattern\":{\"shape\":\"\"}},\"name\":\"Chivi\",\"offsetgroup\":\"Chivi\",\"orientation\":\"v\",\"showlegend\":true,\"textposition\":\"auto\",\"x\":[\"Data\",\"Prepaid\"],\"xaxis\":\"x\",\"y\":[1,2],\"yaxis\":\"y\",\"type\":\"bar\"},{\"alignmentgroup\":\"True\",\"hovertemplate\":\"LOCATION=Cold Comfort<br>Customer Issue Category=%{x}<br>Count=%{y}<extra></extra>\",\"legendgroup\":\"Cold Comfort\",\"marker\":{\"color\":\"#B6E880\",\"pattern\":{\"shape\":\"\"}},\"name\":\"Cold Comfort\",\"offsetgroup\":\"Cold Comfort\",\"orientation\":\"v\",\"showlegend\":true,\"textposition\":\"auto\",\"x\":[\"Data\"],\"xaxis\":\"x\",\"y\":[1],\"yaxis\":\"y\",\"type\":\"bar\"},{\"alignmentgroup\":\"True\",\"hovertemplate\":\"LOCATION=Concession <br>Customer Issue Category=%{x}<br>Count=%{y}<extra></extra>\",\"legendgroup\":\"Concession \",\"marker\":{\"color\":\"#FF97FF\",\"pattern\":{\"shape\":\"\"}},\"name\":\"Concession \",\"offsetgroup\":\"Concession \",\"orientation\":\"v\",\"showlegend\":true,\"textposition\":\"auto\",\"x\":[\"Data\"],\"xaxis\":\"x\",\"y\":[1],\"yaxis\":\"y\",\"type\":\"bar\"},{\"alignmentgroup\":\"True\",\"hovertemplate\":\"LOCATION=Damafalls<br>Customer Issue Category=%{x}<br>Count=%{y}<extra></extra>\",\"legendgroup\":\"Damafalls\",\"marker\":{\"color\":\"#FECB52\",\"pattern\":{\"shape\":\"\"}},\"name\":\"Damafalls\",\"offsetgroup\":\"Damafalls\",\"orientation\":\"v\",\"showlegend\":true,\"textposition\":\"auto\",\"x\":[\"Data\",\"Service/Product Support\"],\"xaxis\":\"x\",\"y\":[2,1],\"yaxis\":\"y\",\"type\":\"bar\"},{\"alignmentgroup\":\"True\",\"hovertemplate\":\"LOCATION=Dangamvura<br>Customer Issue Category=%{x}<br>Count=%{y}<extra></extra>\",\"legendgroup\":\"Dangamvura\",\"marker\":{\"color\":\"#636efa\",\"pattern\":{\"shape\":\"\"}},\"name\":\"Dangamvura\",\"offsetgroup\":\"Dangamvura\",\"orientation\":\"v\",\"showlegend\":true,\"textposition\":\"auto\",\"x\":[\"Data\",\"Service/Product Support\"],\"xaxis\":\"x\",\"y\":[1,2],\"yaxis\":\"y\",\"type\":\"bar\"},{\"alignmentgroup\":\"True\",\"hovertemplate\":\"LOCATION=Domboshava<br>Customer Issue Category=%{x}<br>Count=%{y}<extra></extra>\",\"legendgroup\":\"Domboshava\",\"marker\":{\"color\":\"#EF553B\",\"pattern\":{\"shape\":\"\"}},\"name\":\"Domboshava\",\"offsetgroup\":\"Domboshava\",\"orientation\":\"v\",\"showlegend\":true,\"textposition\":\"auto\",\"x\":[\"Data\",\"Mobile Financial Services\",\"Other\",\"Prepaid\",\"Revenue Assurance and Fraud Management\",\"SMS\",\"Service/Product Support\",\"Voice\"],\"xaxis\":\"x\",\"y\":[21,3,2,4,1,1,2,4],\"yaxis\":\"y\",\"type\":\"bar\"},{\"alignmentgroup\":\"True\",\"hovertemplate\":\"LOCATION=Dzivarasekwa<br>Customer Issue Category=%{x}<br>Count=%{y}<extra></extra>\",\"legendgroup\":\"Dzivarasekwa\",\"marker\":{\"color\":\"#00cc96\",\"pattern\":{\"shape\":\"\"}},\"name\":\"Dzivarasekwa\",\"offsetgroup\":\"Dzivarasekwa\",\"orientation\":\"v\",\"showlegend\":true,\"textposition\":\"auto\",\"x\":[\"Data\",\"Other\",\"Prepaid\",\"SMS\",\"Service/Product Support\"],\"xaxis\":\"x\",\"y\":[12,1,2,2,2],\"yaxis\":\"y\",\"type\":\"bar\"},{\"alignmentgroup\":\"True\",\"hovertemplate\":\"LOCATION=Eastview<br>Customer Issue Category=%{x}<br>Count=%{y}<extra></extra>\",\"legendgroup\":\"Eastview\",\"marker\":{\"color\":\"#ab63fa\",\"pattern\":{\"shape\":\"\"}},\"name\":\"Eastview\",\"offsetgroup\":\"Eastview\",\"orientation\":\"v\",\"showlegend\":true,\"textposition\":\"auto\",\"x\":[\"Data\",\"Mobile Financial Services\",\"Other\",\"Prepaid\",\"Service/Product Support\"],\"xaxis\":\"x\",\"y\":[3,1,1,3,1],\"yaxis\":\"y\",\"type\":\"bar\"},{\"alignmentgroup\":\"True\",\"hovertemplate\":\"LOCATION=Epworth<br>Customer Issue Category=%{x}<br>Count=%{y}<extra></extra>\",\"legendgroup\":\"Epworth\",\"marker\":{\"color\":\"#FFA15A\",\"pattern\":{\"shape\":\"\"}},\"name\":\"Epworth\",\"offsetgroup\":\"Epworth\",\"orientation\":\"v\",\"showlegend\":true,\"textposition\":\"auto\",\"x\":[\"Data\",\"Mobile Financial Services\",\"Other\",\"Service/Product Support\",\"Voice\"],\"xaxis\":\"x\",\"y\":[8,2,2,1,2],\"yaxis\":\"y\",\"type\":\"bar\"},{\"alignmentgroup\":\"True\",\"hovertemplate\":\"LOCATION=Fidelity<br>Customer Issue Category=%{x}<br>Count=%{y}<extra></extra>\",\"legendgroup\":\"Fidelity\",\"marker\":{\"color\":\"#19d3f3\",\"pattern\":{\"shape\":\"\"}},\"name\":\"Fidelity\",\"offsetgroup\":\"Fidelity\",\"orientation\":\"v\",\"showlegend\":true,\"textposition\":\"auto\",\"x\":[\"Data\"],\"xaxis\":\"x\",\"y\":[1],\"yaxis\":\"y\",\"type\":\"bar\"},{\"alignmentgroup\":\"True\",\"hovertemplate\":\"LOCATION=Gazebo<br>Customer Issue Category=%{x}<br>Count=%{y}<extra></extra>\",\"legendgroup\":\"Gazebo\",\"marker\":{\"color\":\"#FF6692\",\"pattern\":{\"shape\":\"\"}},\"name\":\"Gazebo\",\"offsetgroup\":\"Gazebo\",\"orientation\":\"v\",\"showlegend\":true,\"textposition\":\"auto\",\"x\":[\"Data\"],\"xaxis\":\"x\",\"y\":[1],\"yaxis\":\"y\",\"type\":\"bar\"},{\"alignmentgroup\":\"True\",\"hovertemplate\":\"LOCATION=Glaudina<br>Customer Issue Category=%{x}<br>Count=%{y}<extra></extra>\",\"legendgroup\":\"Glaudina\",\"marker\":{\"color\":\"#B6E880\",\"pattern\":{\"shape\":\"\"}},\"name\":\"Glaudina\",\"offsetgroup\":\"Glaudina\",\"orientation\":\"v\",\"showlegend\":true,\"textposition\":\"auto\",\"x\":[\"Data\",\"Prepaid\"],\"xaxis\":\"x\",\"y\":[1,1],\"yaxis\":\"y\",\"type\":\"bar\"},{\"alignmentgroup\":\"True\",\"hovertemplate\":\"LOCATION=Glen Lorne<br>Customer Issue Category=%{x}<br>Count=%{y}<extra></extra>\",\"legendgroup\":\"Glen Lorne\",\"marker\":{\"color\":\"#FF97FF\",\"pattern\":{\"shape\":\"\"}},\"name\":\"Glen Lorne\",\"offsetgroup\":\"Glen Lorne\",\"orientation\":\"v\",\"showlegend\":true,\"textposition\":\"auto\",\"x\":[\"Data\"],\"xaxis\":\"x\",\"y\":[1],\"yaxis\":\"y\",\"type\":\"bar\"},{\"alignmentgroup\":\"True\",\"hovertemplate\":\"LOCATION=Glenorah<br>Customer Issue Category=%{x}<br>Count=%{y}<extra></extra>\",\"legendgroup\":\"Glenorah\",\"marker\":{\"color\":\"#FECB52\",\"pattern\":{\"shape\":\"\"}},\"name\":\"Glenorah\",\"offsetgroup\":\"Glenorah\",\"orientation\":\"v\",\"showlegend\":true,\"textposition\":\"auto\",\"x\":[\"Data\",\"Other\",\"Prepaid\",\"Service/Product Support\"],\"xaxis\":\"x\",\"y\":[7,1,4,1],\"yaxis\":\"y\",\"type\":\"bar\"},{\"alignmentgroup\":\"True\",\"hovertemplate\":\"LOCATION=Glenview<br>Customer Issue Category=%{x}<br>Count=%{y}<extra></extra>\",\"legendgroup\":\"Glenview\",\"marker\":{\"color\":\"#636efa\",\"pattern\":{\"shape\":\"\"}},\"name\":\"Glenview\",\"offsetgroup\":\"Glenview\",\"orientation\":\"v\",\"showlegend\":true,\"textposition\":\"auto\",\"x\":[\"Data\",\"Mobile Financial Services\",\"Other\",\"Prepaid\",\"Product Distribution \",\"Service/Product Support\",\"Supplementary Services\",\"Voice\"],\"xaxis\":\"x\",\"y\":[13,2,2,6,1,2,1,2],\"yaxis\":\"y\",\"type\":\"bar\"},{\"alignmentgroup\":\"True\",\"hovertemplate\":\"LOCATION=Gokwe<br>Customer Issue Category=%{x}<br>Count=%{y}<extra></extra>\",\"legendgroup\":\"Gokwe\",\"marker\":{\"color\":\"#EF553B\",\"pattern\":{\"shape\":\"\"}},\"name\":\"Gokwe\",\"offsetgroup\":\"Gokwe\",\"orientation\":\"v\",\"showlegend\":true,\"textposition\":\"auto\",\"x\":[\"Data\",\"Mobile Financial Services\",\"Other\",\"Prepaid\",\"SMS\",\"Service/Product Support\",\"Voice\"],\"xaxis\":\"x\",\"y\":[2,2,1,3,4,2,2],\"yaxis\":\"y\",\"type\":\"bar\"},{\"alignmentgroup\":\"True\",\"hovertemplate\":\"LOCATION=Goromonzi<br>Customer Issue Category=%{x}<br>Count=%{y}<extra></extra>\",\"legendgroup\":\"Goromonzi\",\"marker\":{\"color\":\"#00cc96\",\"pattern\":{\"shape\":\"\"}},\"name\":\"Goromonzi\",\"offsetgroup\":\"Goromonzi\",\"orientation\":\"v\",\"showlegend\":true,\"textposition\":\"auto\",\"x\":[\"Data\",\"Prepaid\"],\"xaxis\":\"x\",\"y\":[2,5],\"yaxis\":\"y\",\"type\":\"bar\"},{\"alignmentgroup\":\"True\",\"hovertemplate\":\"LOCATION=Granary<br>Customer Issue Category=%{x}<br>Count=%{y}<extra></extra>\",\"legendgroup\":\"Granary\",\"marker\":{\"color\":\"#ab63fa\",\"pattern\":{\"shape\":\"\"}},\"name\":\"Granary\",\"offsetgroup\":\"Granary\",\"orientation\":\"v\",\"showlegend\":true,\"textposition\":\"auto\",\"x\":[\"Data\",\"Prepaid\",\"Service/Product Support\"],\"xaxis\":\"x\",\"y\":[1,1,1],\"yaxis\":\"y\",\"type\":\"bar\"},{\"alignmentgroup\":\"True\",\"hovertemplate\":\"LOCATION=Grendale<br>Customer Issue Category=%{x}<br>Count=%{y}<extra></extra>\",\"legendgroup\":\"Grendale\",\"marker\":{\"color\":\"#FFA15A\",\"pattern\":{\"shape\":\"\"}},\"name\":\"Grendale\",\"offsetgroup\":\"Grendale\",\"orientation\":\"v\",\"showlegend\":true,\"textposition\":\"auto\",\"x\":[\"Data\",\"Products and Services\",\"SMS\"],\"xaxis\":\"x\",\"y\":[1,1,1],\"yaxis\":\"y\",\"type\":\"bar\"},{\"alignmentgroup\":\"True\",\"hovertemplate\":\"LOCATION=Guruve<br>Customer Issue Category=%{x}<br>Count=%{y}<extra></extra>\",\"legendgroup\":\"Guruve\",\"marker\":{\"color\":\"#19d3f3\",\"pattern\":{\"shape\":\"\"}},\"name\":\"Guruve\",\"offsetgroup\":\"Guruve\",\"orientation\":\"v\",\"showlegend\":true,\"textposition\":\"auto\",\"x\":[\"Data\",\"Prepaid\",\"SMS\",\"Service/Product Support\"],\"xaxis\":\"x\",\"y\":[3,2,1,3],\"yaxis\":\"y\",\"type\":\"bar\"},{\"alignmentgroup\":\"True\",\"hovertemplate\":\"LOCATION=Gweru<br>Customer Issue Category=%{x}<br>Count=%{y}<extra></extra>\",\"legendgroup\":\"Gweru\",\"marker\":{\"color\":\"#FF6692\",\"pattern\":{\"shape\":\"\"}},\"name\":\"Gweru\",\"offsetgroup\":\"Gweru\",\"orientation\":\"v\",\"showlegend\":true,\"textposition\":\"auto\",\"x\":[\"Data\",\"Devices\",\"Mobile Financial Services\",\"Other\",\"Prepaid\",\"SMS\",\"Service/Product Support\",\"Voice\"],\"xaxis\":\"x\",\"y\":[15,1,2,2,7,1,1,1],\"yaxis\":\"y\",\"type\":\"bar\"},{\"alignmentgroup\":\"True\",\"hovertemplate\":\"LOCATION=Halfway<br>Customer Issue Category=%{x}<br>Count=%{y}<extra></extra>\",\"legendgroup\":\"Halfway\",\"marker\":{\"color\":\"#B6E880\",\"pattern\":{\"shape\":\"\"}},\"name\":\"Halfway\",\"offsetgroup\":\"Halfway\",\"orientation\":\"v\",\"showlegend\":true,\"textposition\":\"auto\",\"x\":[\"Data\"],\"xaxis\":\"x\",\"y\":[1],\"yaxis\":\"y\",\"type\":\"bar\"},{\"alignmentgroup\":\"True\",\"hovertemplate\":\"LOCATION=Harare<br>Customer Issue Category=%{x}<br>Count=%{y}<extra></extra>\",\"legendgroup\":\"Harare\",\"marker\":{\"color\":\"#FF97FF\",\"pattern\":{\"shape\":\"\"}},\"name\":\"Harare\",\"offsetgroup\":\"Harare\",\"orientation\":\"v\",\"showlegend\":true,\"textposition\":\"auto\",\"x\":[\"Data\",\"Mobile Financial Services\",\"Other\",\"Prepaid\",\"Product Distribution \",\"Products and Services\",\"SMS\",\"Service/Product Support\",\"Supplementary Services\",\"Systems Support\",\"Value Added Services\",\"Voice\"],\"xaxis\":\"x\",\"y\":[22,5,2,13,1,1,4,4,1,1,1,2],\"yaxis\":\"y\",\"type\":\"bar\"},{\"alignmentgroup\":\"True\",\"hovertemplate\":\"LOCATION=Hatcliffe<br>Customer Issue Category=%{x}<br>Count=%{y}<extra></extra>\",\"legendgroup\":\"Hatcliffe\",\"marker\":{\"color\":\"#FECB52\",\"pattern\":{\"shape\":\"\"}},\"name\":\"Hatcliffe\",\"offsetgroup\":\"Hatcliffe\",\"orientation\":\"v\",\"showlegend\":true,\"textposition\":\"auto\",\"x\":[\"Data\",\"Mobile Financial Services\",\"Other\",\"Prepaid\",\"Service/Product Support\",\"Voice\"],\"xaxis\":\"x\",\"y\":[4,1,1,1,1,1],\"yaxis\":\"y\",\"type\":\"bar\"},{\"alignmentgroup\":\"True\",\"hovertemplate\":\"LOCATION=Hatfield <br>Customer Issue Category=%{x}<br>Count=%{y}<extra></extra>\",\"legendgroup\":\"Hatfield \",\"marker\":{\"color\":\"#636efa\",\"pattern\":{\"shape\":\"\"}},\"name\":\"Hatfield \",\"offsetgroup\":\"Hatfield \",\"orientation\":\"v\",\"showlegend\":true,\"textposition\":\"auto\",\"x\":[\"Data\",\"Prepaid\"],\"xaxis\":\"x\",\"y\":[4,1],\"yaxis\":\"y\",\"type\":\"bar\"},{\"alignmentgroup\":\"True\",\"hovertemplate\":\"LOCATION=Helensvale<br>Customer Issue Category=%{x}<br>Count=%{y}<extra></extra>\",\"legendgroup\":\"Helensvale\",\"marker\":{\"color\":\"#EF553B\",\"pattern\":{\"shape\":\"\"}},\"name\":\"Helensvale\",\"offsetgroup\":\"Helensvale\",\"orientation\":\"v\",\"showlegend\":true,\"textposition\":\"auto\",\"x\":[\"Data\"],\"xaxis\":\"x\",\"y\":[1],\"yaxis\":\"y\",\"type\":\"bar\"},{\"alignmentgroup\":\"True\",\"hovertemplate\":\"LOCATION=High Glen<br>Customer Issue Category=%{x}<br>Count=%{y}<extra></extra>\",\"legendgroup\":\"High Glen\",\"marker\":{\"color\":\"#00cc96\",\"pattern\":{\"shape\":\"\"}},\"name\":\"High Glen\",\"offsetgroup\":\"High Glen\",\"orientation\":\"v\",\"showlegend\":true,\"textposition\":\"auto\",\"x\":[\"Data\"],\"xaxis\":\"x\",\"y\":[2],\"yaxis\":\"y\",\"type\":\"bar\"},{\"alignmentgroup\":\"True\",\"hovertemplate\":\"LOCATION=Highfield <br>Customer Issue Category=%{x}<br>Count=%{y}<extra></extra>\",\"legendgroup\":\"Highfield \",\"marker\":{\"color\":\"#ab63fa\",\"pattern\":{\"shape\":\"\"}},\"name\":\"Highfield \",\"offsetgroup\":\"Highfield \",\"orientation\":\"v\",\"showlegend\":true,\"textposition\":\"auto\",\"x\":[\"Data\",\"Other\",\"Prepaid\",\"Service/Product Support\",\"Systems Support\",\"Voice\"],\"xaxis\":\"x\",\"y\":[6,1,3,1,1,1],\"yaxis\":\"y\",\"type\":\"bar\"},{\"alignmentgroup\":\"True\",\"hovertemplate\":\"LOCATION=Highlands<br>Customer Issue Category=%{x}<br>Count=%{y}<extra></extra>\",\"legendgroup\":\"Highlands\",\"marker\":{\"color\":\"#FFA15A\",\"pattern\":{\"shape\":\"\"}},\"name\":\"Highlands\",\"offsetgroup\":\"Highlands\",\"orientation\":\"v\",\"showlegend\":true,\"textposition\":\"auto\",\"x\":[\"Data\"],\"xaxis\":\"x\",\"y\":[1],\"yaxis\":\"y\",\"type\":\"bar\"},{\"alignmentgroup\":\"True\",\"hovertemplate\":\"LOCATION=Highway<br>Customer Issue Category=%{x}<br>Count=%{y}<extra></extra>\",\"legendgroup\":\"Highway\",\"marker\":{\"color\":\"#19d3f3\",\"pattern\":{\"shape\":\"\"}},\"name\":\"Highway\",\"offsetgroup\":\"Highway\",\"orientation\":\"v\",\"showlegend\":true,\"textposition\":\"auto\",\"x\":[\"Data\"],\"xaxis\":\"x\",\"y\":[1],\"yaxis\":\"y\",\"type\":\"bar\"},{\"alignmentgroup\":\"True\",\"hovertemplate\":\"LOCATION=Hopely<br>Customer Issue Category=%{x}<br>Count=%{y}<extra></extra>\",\"legendgroup\":\"Hopely\",\"marker\":{\"color\":\"#FF6692\",\"pattern\":{\"shape\":\"\"}},\"name\":\"Hopely\",\"offsetgroup\":\"Hopely\",\"orientation\":\"v\",\"showlegend\":true,\"textposition\":\"auto\",\"x\":[\"Data\"],\"xaxis\":\"x\",\"y\":[1],\"yaxis\":\"y\",\"type\":\"bar\"},{\"alignmentgroup\":\"True\",\"hovertemplate\":\"LOCATION=Kadoma<br>Customer Issue Category=%{x}<br>Count=%{y}<extra></extra>\",\"legendgroup\":\"Kadoma\",\"marker\":{\"color\":\"#B6E880\",\"pattern\":{\"shape\":\"\"}},\"name\":\"Kadoma\",\"offsetgroup\":\"Kadoma\",\"orientation\":\"v\",\"showlegend\":true,\"textposition\":\"auto\",\"x\":[\"Data\",\"Mobile Financial Services\",\"Other\",\"Prepaid\",\"SMS\",\"Service/Product Support\",\"Supplementary Services\"],\"xaxis\":\"x\",\"y\":[9,5,2,8,5,1,3],\"yaxis\":\"y\",\"type\":\"bar\"},{\"alignmentgroup\":\"True\",\"hovertemplate\":\"LOCATION=Kambuzuma<br>Customer Issue Category=%{x}<br>Count=%{y}<extra></extra>\",\"legendgroup\":\"Kambuzuma\",\"marker\":{\"color\":\"#FF97FF\",\"pattern\":{\"shape\":\"\"}},\"name\":\"Kambuzuma\",\"offsetgroup\":\"Kambuzuma\",\"orientation\":\"v\",\"showlegend\":true,\"textposition\":\"auto\",\"x\":[\"Data\",\"Prepaid\",\"Service/Product Support\"],\"xaxis\":\"x\",\"y\":[5,2,3],\"yaxis\":\"y\",\"type\":\"bar\"},{\"alignmentgroup\":\"True\",\"hovertemplate\":\"LOCATION=Karoi<br>Customer Issue Category=%{x}<br>Count=%{y}<extra></extra>\",\"legendgroup\":\"Karoi\",\"marker\":{\"color\":\"#FECB52\",\"pattern\":{\"shape\":\"\"}},\"name\":\"Karoi\",\"offsetgroup\":\"Karoi\",\"orientation\":\"v\",\"showlegend\":true,\"textposition\":\"auto\",\"x\":[\"Data\",\"Mobile Financial Services\",\"Prepaid\",\"SMS\",\"Service/Product Support\",\"Voice\"],\"xaxis\":\"x\",\"y\":[2,2,9,3,8,4],\"yaxis\":\"y\",\"type\":\"bar\"},{\"alignmentgroup\":\"True\",\"hovertemplate\":\"LOCATION=Kenzamba<br>Customer Issue Category=%{x}<br>Count=%{y}<extra></extra>\",\"legendgroup\":\"Kenzamba\",\"marker\":{\"color\":\"#636efa\",\"pattern\":{\"shape\":\"\"}},\"name\":\"Kenzamba\",\"offsetgroup\":\"Kenzamba\",\"orientation\":\"v\",\"showlegend\":true,\"textposition\":\"auto\",\"x\":[\"Data\",\"Prepaid\",\"SMS\"],\"xaxis\":\"x\",\"y\":[1,1,1],\"yaxis\":\"y\",\"type\":\"bar\"},{\"alignmentgroup\":\"True\",\"hovertemplate\":\"LOCATION=Kutama<br>Customer Issue Category=%{x}<br>Count=%{y}<extra></extra>\",\"legendgroup\":\"Kutama\",\"marker\":{\"color\":\"#EF553B\",\"pattern\":{\"shape\":\"\"}},\"name\":\"Kutama\",\"offsetgroup\":\"Kutama\",\"orientation\":\"v\",\"showlegend\":true,\"textposition\":\"auto\",\"x\":[\"Data\"],\"xaxis\":\"x\",\"y\":[1],\"yaxis\":\"y\",\"type\":\"bar\"},{\"alignmentgroup\":\"True\",\"hovertemplate\":\"LOCATION=Kuwadzana<br>Customer Issue Category=%{x}<br>Count=%{y}<extra></extra>\",\"legendgroup\":\"Kuwadzana\",\"marker\":{\"color\":\"#00cc96\",\"pattern\":{\"shape\":\"\"}},\"name\":\"Kuwadzana\",\"offsetgroup\":\"Kuwadzana\",\"orientation\":\"v\",\"showlegend\":true,\"textposition\":\"auto\",\"x\":[\"Data\",\"Mobile Financial Services\",\"Other\",\"Prepaid\",\"SMS\",\"Service/Product Support\",\"Voice\"],\"xaxis\":\"x\",\"y\":[13,5,1,5,1,2,1],\"yaxis\":\"y\",\"type\":\"bar\"},{\"alignmentgroup\":\"True\",\"hovertemplate\":\"LOCATION=Kwekwe<br>Customer Issue Category=%{x}<br>Count=%{y}<extra></extra>\",\"legendgroup\":\"Kwekwe\",\"marker\":{\"color\":\"#ab63fa\",\"pattern\":{\"shape\":\"\"}},\"name\":\"Kwekwe\",\"offsetgroup\":\"Kwekwe\",\"orientation\":\"v\",\"showlegend\":true,\"textposition\":\"auto\",\"x\":[\"Data\",\"Marketing\",\"Mobile Financial Services\",\"Prepaid\",\"Product Distribution \",\"SMS\",\"Service/Product Support\",\"Supplementary Services\"],\"xaxis\":\"x\",\"y\":[9,1,2,2,1,2,2,1],\"yaxis\":\"y\",\"type\":\"bar\"},{\"alignmentgroup\":\"True\",\"hovertemplate\":\"LOCATION=Mabelreign<br>Customer Issue Category=%{x}<br>Count=%{y}<extra></extra>\",\"legendgroup\":\"Mabelreign\",\"marker\":{\"color\":\"#FFA15A\",\"pattern\":{\"shape\":\"\"}},\"name\":\"Mabelreign\",\"offsetgroup\":\"Mabelreign\",\"orientation\":\"v\",\"showlegend\":true,\"textposition\":\"auto\",\"x\":[\"Data\",\"Service/Product Support\"],\"xaxis\":\"x\",\"y\":[2,1],\"yaxis\":\"y\",\"type\":\"bar\"},{\"alignmentgroup\":\"True\",\"hovertemplate\":\"LOCATION=Mabelreign <br>Customer Issue Category=%{x}<br>Count=%{y}<extra></extra>\",\"legendgroup\":\"Mabelreign \",\"marker\":{\"color\":\"#19d3f3\",\"pattern\":{\"shape\":\"\"}},\"name\":\"Mabelreign \",\"offsetgroup\":\"Mabelreign \",\"orientation\":\"v\",\"showlegend\":true,\"textposition\":\"auto\",\"x\":[\"Data\",\"Service/Product Support\"],\"xaxis\":\"x\",\"y\":[2,1],\"yaxis\":\"y\",\"type\":\"bar\"},{\"alignmentgroup\":\"True\",\"hovertemplate\":\"LOCATION=Mabvuku<br>Customer Issue Category=%{x}<br>Count=%{y}<extra></extra>\",\"legendgroup\":\"Mabvuku\",\"marker\":{\"color\":\"#FF6692\",\"pattern\":{\"shape\":\"\"}},\"name\":\"Mabvuku\",\"offsetgroup\":\"Mabvuku\",\"orientation\":\"v\",\"showlegend\":true,\"textposition\":\"auto\",\"x\":[\"Data\",\"Other\",\"Prepaid\"],\"xaxis\":\"x\",\"y\":[2,2,1],\"yaxis\":\"y\",\"type\":\"bar\"},{\"alignmentgroup\":\"True\",\"hovertemplate\":\"LOCATION=Machipisa<br>Customer Issue Category=%{x}<br>Count=%{y}<extra></extra>\",\"legendgroup\":\"Machipisa\",\"marker\":{\"color\":\"#B6E880\",\"pattern\":{\"shape\":\"\"}},\"name\":\"Machipisa\",\"offsetgroup\":\"Machipisa\",\"orientation\":\"v\",\"showlegend\":true,\"textposition\":\"auto\",\"x\":[\"Data\",\"Prepaid\"],\"xaxis\":\"x\",\"y\":[3,3],\"yaxis\":\"y\",\"type\":\"bar\"},{\"alignmentgroup\":\"True\",\"hovertemplate\":\"LOCATION=Madziva<br>Customer Issue Category=%{x}<br>Count=%{y}<extra></extra>\",\"legendgroup\":\"Madziva\",\"marker\":{\"color\":\"#FF97FF\",\"pattern\":{\"shape\":\"\"}},\"name\":\"Madziva\",\"offsetgroup\":\"Madziva\",\"orientation\":\"v\",\"showlegend\":true,\"textposition\":\"auto\",\"x\":[\"Data\",\"Mobile Financial Services\",\"Other\",\"Prepaid\",\"SMS\"],\"xaxis\":\"x\",\"y\":[1,1,2,2,2],\"yaxis\":\"y\",\"type\":\"bar\"},{\"alignmentgroup\":\"True\",\"hovertemplate\":\"LOCATION=Magunje<br>Customer Issue Category=%{x}<br>Count=%{y}<extra></extra>\",\"legendgroup\":\"Magunje\",\"marker\":{\"color\":\"#FECB52\",\"pattern\":{\"shape\":\"\"}},\"name\":\"Magunje\",\"offsetgroup\":\"Magunje\",\"orientation\":\"v\",\"showlegend\":true,\"textposition\":\"auto\",\"x\":[\"Data\",\"Prepaid\",\"SMS\",\"Value Added Services\"],\"xaxis\":\"x\",\"y\":[1,1,2,1],\"yaxis\":\"y\",\"type\":\"bar\"},{\"alignmentgroup\":\"True\",\"hovertemplate\":\"LOCATION=Mahusekwa<br>Customer Issue Category=%{x}<br>Count=%{y}<extra></extra>\",\"legendgroup\":\"Mahusekwa\",\"marker\":{\"color\":\"#636efa\",\"pattern\":{\"shape\":\"\"}},\"name\":\"Mahusekwa\",\"offsetgroup\":\"Mahusekwa\",\"orientation\":\"v\",\"showlegend\":true,\"textposition\":\"auto\",\"x\":[\"Data\",\"Mobile Financial Services\",\"Prepaid\",\"SMS\"],\"xaxis\":\"x\",\"y\":[3,1,1,1],\"yaxis\":\"y\",\"type\":\"bar\"},{\"alignmentgroup\":\"True\",\"hovertemplate\":\"LOCATION=Malborough<br>Customer Issue Category=%{x}<br>Count=%{y}<extra></extra>\",\"legendgroup\":\"Malborough\",\"marker\":{\"color\":\"#EF553B\",\"pattern\":{\"shape\":\"\"}},\"name\":\"Malborough\",\"offsetgroup\":\"Malborough\",\"orientation\":\"v\",\"showlegend\":true,\"textposition\":\"auto\",\"x\":[\"Data\",\"Prepaid\",\"Service/Product Support\"],\"xaxis\":\"x\",\"y\":[4,1,1],\"yaxis\":\"y\",\"type\":\"bar\"},{\"alignmentgroup\":\"True\",\"hovertemplate\":\"LOCATION=Mandara<br>Customer Issue Category=%{x}<br>Count=%{y}<extra></extra>\",\"legendgroup\":\"Mandara\",\"marker\":{\"color\":\"#00cc96\",\"pattern\":{\"shape\":\"\"}},\"name\":\"Mandara\",\"offsetgroup\":\"Mandara\",\"orientation\":\"v\",\"showlegend\":true,\"textposition\":\"auto\",\"x\":[\"Data\",\"Prepaid\"],\"xaxis\":\"x\",\"y\":[3,1],\"yaxis\":\"y\",\"type\":\"bar\"},{\"alignmentgroup\":\"True\",\"hovertemplate\":\"LOCATION=Marimba<br>Customer Issue Category=%{x}<br>Count=%{y}<extra></extra>\",\"legendgroup\":\"Marimba\",\"marker\":{\"color\":\"#ab63fa\",\"pattern\":{\"shape\":\"\"}},\"name\":\"Marimba\",\"offsetgroup\":\"Marimba\",\"orientation\":\"v\",\"showlegend\":true,\"textposition\":\"auto\",\"x\":[\"Data\"],\"xaxis\":\"x\",\"y\":[2],\"yaxis\":\"y\",\"type\":\"bar\"},{\"alignmentgroup\":\"True\",\"hovertemplate\":\"LOCATION=Marondera<br>Customer Issue Category=%{x}<br>Count=%{y}<extra></extra>\",\"legendgroup\":\"Marondera\",\"marker\":{\"color\":\"#FFA15A\",\"pattern\":{\"shape\":\"\"}},\"name\":\"Marondera\",\"offsetgroup\":\"Marondera\",\"orientation\":\"v\",\"showlegend\":true,\"textposition\":\"auto\",\"x\":[\"Data\",\"Other\",\"Prepaid\",\"Service/Product Support\",\"Voice\"],\"xaxis\":\"x\",\"y\":[10,2,5,2,1],\"yaxis\":\"y\",\"type\":\"bar\"},{\"alignmentgroup\":\"True\",\"hovertemplate\":\"LOCATION=Masvingo<br>Customer Issue Category=%{x}<br>Count=%{y}<extra></extra>\",\"legendgroup\":\"Masvingo\",\"marker\":{\"color\":\"#19d3f3\",\"pattern\":{\"shape\":\"\"}},\"name\":\"Masvingo\",\"offsetgroup\":\"Masvingo\",\"orientation\":\"v\",\"showlegend\":true,\"textposition\":\"auto\",\"x\":[\"Data\",\"Mobile Financial Services\",\"Other\",\"Prepaid\",\"SMS\",\"Service/Product Support\",\"Voice\"],\"xaxis\":\"x\",\"y\":[10,2,1,6,1,2,2],\"yaxis\":\"y\",\"type\":\"bar\"},{\"alignmentgroup\":\"True\",\"hovertemplate\":\"LOCATION=Matogo<br>Customer Issue Category=%{x}<br>Count=%{y}<extra></extra>\",\"legendgroup\":\"Matogo\",\"marker\":{\"color\":\"#FF6692\",\"pattern\":{\"shape\":\"\"}},\"name\":\"Matogo\",\"offsetgroup\":\"Matogo\",\"orientation\":\"v\",\"showlegend\":true,\"textposition\":\"auto\",\"x\":[\"Data\"],\"xaxis\":\"x\",\"y\":[1],\"yaxis\":\"y\",\"type\":\"bar\"},{\"alignmentgroup\":\"True\",\"hovertemplate\":\"LOCATION=Matombo<br>Customer Issue Category=%{x}<br>Count=%{y}<extra></extra>\",\"legendgroup\":\"Matombo\",\"marker\":{\"color\":\"#B6E880\",\"pattern\":{\"shape\":\"\"}},\"name\":\"Matombo\",\"offsetgroup\":\"Matombo\",\"orientation\":\"v\",\"showlegend\":true,\"textposition\":\"auto\",\"x\":[\"Data\"],\"xaxis\":\"x\",\"y\":[1],\"yaxis\":\"y\",\"type\":\"bar\"},{\"alignmentgroup\":\"True\",\"hovertemplate\":\"LOCATION=Mayville <br>Customer Issue Category=%{x}<br>Count=%{y}<extra></extra>\",\"legendgroup\":\"Mayville \",\"marker\":{\"color\":\"#FF97FF\",\"pattern\":{\"shape\":\"\"}},\"name\":\"Mayville \",\"offsetgroup\":\"Mayville \",\"orientation\":\"v\",\"showlegend\":true,\"textposition\":\"auto\",\"x\":[\"Data\"],\"xaxis\":\"x\",\"y\":[1],\"yaxis\":\"y\",\"type\":\"bar\"},{\"alignmentgroup\":\"True\",\"hovertemplate\":\"LOCATION=Mazowe<br>Customer Issue Category=%{x}<br>Count=%{y}<extra></extra>\",\"legendgroup\":\"Mazowe\",\"marker\":{\"color\":\"#FECB52\",\"pattern\":{\"shape\":\"\"}},\"name\":\"Mazowe\",\"offsetgroup\":\"Mazowe\",\"orientation\":\"v\",\"showlegend\":true,\"textposition\":\"auto\",\"x\":[\"Data\",\"Mobile Financial Services\",\"Prepaid\"],\"xaxis\":\"x\",\"y\":[2,1,1],\"yaxis\":\"y\",\"type\":\"bar\"},{\"alignmentgroup\":\"True\",\"hovertemplate\":\"LOCATION=Mbare<br>Customer Issue Category=%{x}<br>Count=%{y}<extra></extra>\",\"legendgroup\":\"Mbare\",\"marker\":{\"color\":\"#636efa\",\"pattern\":{\"shape\":\"\"}},\"name\":\"Mbare\",\"offsetgroup\":\"Mbare\",\"orientation\":\"v\",\"showlegend\":true,\"textposition\":\"auto\",\"x\":[\"Data\",\"Mobile Financial Services\",\"Other\",\"Prepaid\",\"Product Distribution \",\"Service/Product Support\",\"Value Added Services\",\"Voice\"],\"xaxis\":\"x\",\"y\":[1,1,1,1,1,1,1,2],\"yaxis\":\"y\",\"type\":\"bar\"},{\"alignmentgroup\":\"True\",\"hovertemplate\":\"LOCATION=Mberengwa<br>Customer Issue Category=%{x}<br>Count=%{y}<extra></extra>\",\"legendgroup\":\"Mberengwa\",\"marker\":{\"color\":\"#EF553B\",\"pattern\":{\"shape\":\"\"}},\"name\":\"Mberengwa\",\"offsetgroup\":\"Mberengwa\",\"orientation\":\"v\",\"showlegend\":true,\"textposition\":\"auto\",\"x\":[\"Data\",\"Mobile Financial Services\",\"Other\",\"Prepaid\",\"Product Distribution \",\"SMS\",\"Service/Product Support\",\"Supplementary Services\",\"Value Added Services\",\"Voice\"],\"xaxis\":\"x\",\"y\":[6,3,1,5,1,2,4,1,1,1],\"yaxis\":\"y\",\"type\":\"bar\"},{\"alignmentgroup\":\"True\",\"hovertemplate\":\"LOCATION=Mhangura<br>Customer Issue Category=%{x}<br>Count=%{y}<extra></extra>\",\"legendgroup\":\"Mhangura\",\"marker\":{\"color\":\"#00cc96\",\"pattern\":{\"shape\":\"\"}},\"name\":\"Mhangura\",\"offsetgroup\":\"Mhangura\",\"orientation\":\"v\",\"showlegend\":true,\"textposition\":\"auto\",\"x\":[\"Data\",\"Mobile Financial Services\",\"Prepaid\",\"Product Distribution \",\"SMS\",\"Service/Product Support\"],\"xaxis\":\"x\",\"y\":[2,2,1,1,2,2],\"yaxis\":\"y\",\"type\":\"bar\"},{\"alignmentgroup\":\"True\",\"hovertemplate\":\"LOCATION=Mhondoro<br>Customer Issue Category=%{x}<br>Count=%{y}<extra></extra>\",\"legendgroup\":\"Mhondoro\",\"marker\":{\"color\":\"#ab63fa\",\"pattern\":{\"shape\":\"\"}},\"name\":\"Mhondoro\",\"offsetgroup\":\"Mhondoro\",\"orientation\":\"v\",\"showlegend\":true,\"textposition\":\"auto\",\"x\":[\"Data\",\"Mobile Financial Services\",\"Other\",\"Prepaid\",\"SMS\",\"Service/Product Support\"],\"xaxis\":\"x\",\"y\":[3,2,1,4,4,1],\"yaxis\":\"y\",\"type\":\"bar\"},{\"alignmentgroup\":\"True\",\"hovertemplate\":\"LOCATION=Mrehwa<br>Customer Issue Category=%{x}<br>Count=%{y}<extra></extra>\",\"legendgroup\":\"Mrehwa\",\"marker\":{\"color\":\"#FFA15A\",\"pattern\":{\"shape\":\"\"}},\"name\":\"Mrehwa\",\"offsetgroup\":\"Mrehwa\",\"orientation\":\"v\",\"showlegend\":true,\"textposition\":\"auto\",\"x\":[\"Data\",\"Mobile Financial Services\",\"Prepaid\",\"SMS\",\"Service/Product Support\"],\"xaxis\":\"x\",\"y\":[5,2,6,4,4],\"yaxis\":\"y\",\"type\":\"bar\"},{\"alignmentgroup\":\"True\",\"hovertemplate\":\"LOCATION=Msasa <br>Customer Issue Category=%{x}<br>Count=%{y}<extra></extra>\",\"legendgroup\":\"Msasa \",\"marker\":{\"color\":\"#19d3f3\",\"pattern\":{\"shape\":\"\"}},\"name\":\"Msasa \",\"offsetgroup\":\"Msasa \",\"orientation\":\"v\",\"showlegend\":true,\"textposition\":\"auto\",\"x\":[\"Data\"],\"xaxis\":\"x\",\"y\":[2],\"yaxis\":\"y\",\"type\":\"bar\"},{\"alignmentgroup\":\"True\",\"hovertemplate\":\"LOCATION=Msengezi<br>Customer Issue Category=%{x}<br>Count=%{y}<extra></extra>\",\"legendgroup\":\"Msengezi\",\"marker\":{\"color\":\"#FF6692\",\"pattern\":{\"shape\":\"\"}},\"name\":\"Msengezi\",\"offsetgroup\":\"Msengezi\",\"orientation\":\"v\",\"showlegend\":true,\"textposition\":\"auto\",\"x\":[\"Data\",\"Mobile Financial Services\",\"Prepaid\"],\"xaxis\":\"x\",\"y\":[1,1,1],\"yaxis\":\"y\",\"type\":\"bar\"},{\"alignmentgroup\":\"True\",\"hovertemplate\":\"LOCATION=Mt Darwin<br>Customer Issue Category=%{x}<br>Count=%{y}<extra></extra>\",\"legendgroup\":\"Mt Darwin\",\"marker\":{\"color\":\"#B6E880\",\"pattern\":{\"shape\":\"\"}},\"name\":\"Mt Darwin\",\"offsetgroup\":\"Mt Darwin\",\"orientation\":\"v\",\"showlegend\":true,\"textposition\":\"auto\",\"x\":[\"Data\",\"Prepaid\",\"SMS\",\"Service/Product Support\"],\"xaxis\":\"x\",\"y\":[3,2,3,2],\"yaxis\":\"y\",\"type\":\"bar\"},{\"alignmentgroup\":\"True\",\"hovertemplate\":\"LOCATION=Mt Hampden<br>Customer Issue Category=%{x}<br>Count=%{y}<extra></extra>\",\"legendgroup\":\"Mt Hampden\",\"marker\":{\"color\":\"#FF97FF\",\"pattern\":{\"shape\":\"\"}},\"name\":\"Mt Hampden\",\"offsetgroup\":\"Mt Hampden\",\"orientation\":\"v\",\"showlegend\":true,\"textposition\":\"auto\",\"x\":[\"Data\",\"SMS\"],\"xaxis\":\"x\",\"y\":[2,1],\"yaxis\":\"y\",\"type\":\"bar\"},{\"alignmentgroup\":\"True\",\"hovertemplate\":\"LOCATION=Mt Pleasant<br>Customer Issue Category=%{x}<br>Count=%{y}<extra></extra>\",\"legendgroup\":\"Mt Pleasant\",\"marker\":{\"color\":\"#FECB52\",\"pattern\":{\"shape\":\"\"}},\"name\":\"Mt Pleasant\",\"offsetgroup\":\"Mt Pleasant\",\"orientation\":\"v\",\"showlegend\":true,\"textposition\":\"auto\",\"x\":[\"Data\",\"SMS\",\"Service/Product Support\"],\"xaxis\":\"x\",\"y\":[1,1,1],\"yaxis\":\"y\",\"type\":\"bar\"},{\"alignmentgroup\":\"True\",\"hovertemplate\":\"LOCATION=Mufakose<br>Customer Issue Category=%{x}<br>Count=%{y}<extra></extra>\",\"legendgroup\":\"Mufakose\",\"marker\":{\"color\":\"#636efa\",\"pattern\":{\"shape\":\"\"}},\"name\":\"Mufakose\",\"offsetgroup\":\"Mufakose\",\"orientation\":\"v\",\"showlegend\":true,\"textposition\":\"auto\",\"x\":[\"Data\",\"Prepaid\",\"SMS\",\"Service/Product Support\",\"Value Added Services\",\"Voice\"],\"xaxis\":\"x\",\"y\":[6,2,1,2,1,1],\"yaxis\":\"y\",\"type\":\"bar\"},{\"alignmentgroup\":\"True\",\"hovertemplate\":\"LOCATION=Mungate<br>Customer Issue Category=%{x}<br>Count=%{y}<extra></extra>\",\"legendgroup\":\"Mungate\",\"marker\":{\"color\":\"#EF553B\",\"pattern\":{\"shape\":\"\"}},\"name\":\"Mungate\",\"offsetgroup\":\"Mungate\",\"orientation\":\"v\",\"showlegend\":true,\"textposition\":\"auto\",\"x\":[\"Data\"],\"xaxis\":\"x\",\"y\":[1],\"yaxis\":\"y\",\"type\":\"bar\"},{\"alignmentgroup\":\"True\",\"hovertemplate\":\"LOCATION=Murombedzi<br>Customer Issue Category=%{x}<br>Count=%{y}<extra></extra>\",\"legendgroup\":\"Murombedzi\",\"marker\":{\"color\":\"#00cc96\",\"pattern\":{\"shape\":\"\"}},\"name\":\"Murombedzi\",\"offsetgroup\":\"Murombedzi\",\"orientation\":\"v\",\"showlegend\":true,\"textposition\":\"auto\",\"x\":[\"Data\"],\"xaxis\":\"x\",\"y\":[1],\"yaxis\":\"y\",\"type\":\"bar\"},{\"alignmentgroup\":\"True\",\"hovertemplate\":\"LOCATION=Mutare<br>Customer Issue Category=%{x}<br>Count=%{y}<extra></extra>\",\"legendgroup\":\"Mutare\",\"marker\":{\"color\":\"#ab63fa\",\"pattern\":{\"shape\":\"\"}},\"name\":\"Mutare\",\"offsetgroup\":\"Mutare\",\"orientation\":\"v\",\"showlegend\":true,\"textposition\":\"auto\",\"x\":[\"Data\",\"Mobile Financial Services\",\"Other\",\"Prepaid\",\"Product Distribution \",\"SMS\",\"Service/Product Support\",\"Supplementary Services\",\"Voice\"],\"xaxis\":\"x\",\"y\":[5,1,2,9,1,2,2,3,1],\"yaxis\":\"y\",\"type\":\"bar\"},{\"alignmentgroup\":\"True\",\"hovertemplate\":\"LOCATION=Mutoko<br>Customer Issue Category=%{x}<br>Count=%{y}<extra></extra>\",\"legendgroup\":\"Mutoko\",\"marker\":{\"color\":\"#FFA15A\",\"pattern\":{\"shape\":\"\"}},\"name\":\"Mutoko\",\"offsetgroup\":\"Mutoko\",\"orientation\":\"v\",\"showlegend\":true,\"textposition\":\"auto\",\"x\":[\"Data\",\"Mobile Financial Services\",\"Prepaid\",\"SMS\",\"Service/Product Support\",\"Voice\"],\"xaxis\":\"x\",\"y\":[6,1,7,2,2,3],\"yaxis\":\"y\",\"type\":\"bar\"},{\"alignmentgroup\":\"True\",\"hovertemplate\":\"LOCATION=Mutorashanga<br>Customer Issue Category=%{x}<br>Count=%{y}<extra></extra>\",\"legendgroup\":\"Mutorashanga\",\"marker\":{\"color\":\"#19d3f3\",\"pattern\":{\"shape\":\"\"}},\"name\":\"Mutorashanga\",\"offsetgroup\":\"Mutorashanga\",\"orientation\":\"v\",\"showlegend\":true,\"textposition\":\"auto\",\"x\":[\"Data\",\"Marketing\",\"Mobile Financial Services\",\"SMS\"],\"xaxis\":\"x\",\"y\":[1,1,1,2],\"yaxis\":\"y\",\"type\":\"bar\"},{\"alignmentgroup\":\"True\",\"hovertemplate\":\"LOCATION=Muzarabani<br>Customer Issue Category=%{x}<br>Count=%{y}<extra></extra>\",\"legendgroup\":\"Muzarabani\",\"marker\":{\"color\":\"#FF6692\",\"pattern\":{\"shape\":\"\"}},\"name\":\"Muzarabani\",\"offsetgroup\":\"Muzarabani\",\"orientation\":\"v\",\"showlegend\":true,\"textposition\":\"auto\",\"x\":[\"Data\",\"Prepaid\",\"SMS\",\"Service/Product Support\"],\"xaxis\":\"x\",\"y\":[2,5,1,1],\"yaxis\":\"y\",\"type\":\"bar\"},{\"alignmentgroup\":\"True\",\"hovertemplate\":\"LOCATION=Mvurwi<br>Customer Issue Category=%{x}<br>Count=%{y}<extra></extra>\",\"legendgroup\":\"Mvurwi\",\"marker\":{\"color\":\"#B6E880\",\"pattern\":{\"shape\":\"\"}},\"name\":\"Mvurwi\",\"offsetgroup\":\"Mvurwi\",\"orientation\":\"v\",\"showlegend\":true,\"textposition\":\"auto\",\"x\":[\"Data\",\"Other\",\"Prepaid\"],\"xaxis\":\"x\",\"y\":[1,1,1],\"yaxis\":\"y\",\"type\":\"bar\"},{\"alignmentgroup\":\"True\",\"hovertemplate\":\"LOCATION=Mwenezi<br>Customer Issue Category=%{x}<br>Count=%{y}<extra></extra>\",\"legendgroup\":\"Mwenezi\",\"marker\":{\"color\":\"#FF97FF\",\"pattern\":{\"shape\":\"\"}},\"name\":\"Mwenezi\",\"offsetgroup\":\"Mwenezi\",\"orientation\":\"v\",\"showlegend\":true,\"textposition\":\"auto\",\"x\":[\"Data\",\"Service/Product Support\"],\"xaxis\":\"x\",\"y\":[3,1],\"yaxis\":\"y\",\"type\":\"bar\"},{\"alignmentgroup\":\"True\",\"hovertemplate\":\"LOCATION=Ngai<br>Customer Issue Category=%{x}<br>Count=%{y}<extra></extra>\",\"legendgroup\":\"Ngai\",\"marker\":{\"color\":\"#FECB52\",\"pattern\":{\"shape\":\"\"}},\"name\":\"Ngai\",\"offsetgroup\":\"Ngai\",\"orientation\":\"v\",\"showlegend\":true,\"textposition\":\"auto\",\"x\":[\"Data\"],\"xaxis\":\"x\",\"y\":[1],\"yaxis\":\"y\",\"type\":\"bar\"},{\"alignmentgroup\":\"True\",\"hovertemplate\":\"LOCATION=Nkulumane<br>Customer Issue Category=%{x}<br>Count=%{y}<extra></extra>\",\"legendgroup\":\"Nkulumane\",\"marker\":{\"color\":\"#636efa\",\"pattern\":{\"shape\":\"\"}},\"name\":\"Nkulumane\",\"offsetgroup\":\"Nkulumane\",\"orientation\":\"v\",\"showlegend\":true,\"textposition\":\"auto\",\"x\":[\"Data\"],\"xaxis\":\"x\",\"y\":[1],\"yaxis\":\"y\",\"type\":\"bar\"},{\"alignmentgroup\":\"True\",\"hovertemplate\":\"LOCATION=Norton<br>Customer Issue Category=%{x}<br>Count=%{y}<extra></extra>\",\"legendgroup\":\"Norton\",\"marker\":{\"color\":\"#EF553B\",\"pattern\":{\"shape\":\"\"}},\"name\":\"Norton\",\"offsetgroup\":\"Norton\",\"orientation\":\"v\",\"showlegend\":true,\"textposition\":\"auto\",\"x\":[\"Data\",\"Mobile Financial Services\",\"Prepaid\",\"SMS\",\"Service/Product Support\"],\"xaxis\":\"x\",\"y\":[5,1,4,2,2],\"yaxis\":\"y\",\"type\":\"bar\"},{\"alignmentgroup\":\"True\",\"hovertemplate\":\"LOCATION=Nyamazuwa<br>Customer Issue Category=%{x}<br>Count=%{y}<extra></extra>\",\"legendgroup\":\"Nyamazuwa\",\"marker\":{\"color\":\"#00cc96\",\"pattern\":{\"shape\":\"\"}},\"name\":\"Nyamazuwa\",\"offsetgroup\":\"Nyamazuwa\",\"orientation\":\"v\",\"showlegend\":true,\"textposition\":\"auto\",\"x\":[\"Data\"],\"xaxis\":\"x\",\"y\":[1],\"yaxis\":\"y\",\"type\":\"bar\"},{\"alignmentgroup\":\"True\",\"hovertemplate\":\"LOCATION=Nyanga<br>Customer Issue Category=%{x}<br>Count=%{y}<extra></extra>\",\"legendgroup\":\"Nyanga\",\"marker\":{\"color\":\"#ab63fa\",\"pattern\":{\"shape\":\"\"}},\"name\":\"Nyanga\",\"offsetgroup\":\"Nyanga\",\"orientation\":\"v\",\"showlegend\":true,\"textposition\":\"auto\",\"x\":[\"Data\",\"Mobile Financial Services\",\"Prepaid\",\"Products and Services\",\"SMS\",\"Service/Product Support\",\"Supplementary Services\"],\"xaxis\":\"x\",\"y\":[3,1,5,1,3,1,2],\"yaxis\":\"y\",\"type\":\"bar\"},{\"alignmentgroup\":\"True\",\"hovertemplate\":\"LOCATION=Nyazura <br>Customer Issue Category=%{x}<br>Count=%{y}<extra></extra>\",\"legendgroup\":\"Nyazura \",\"marker\":{\"color\":\"#FFA15A\",\"pattern\":{\"shape\":\"\"}},\"name\":\"Nyazura \",\"offsetgroup\":\"Nyazura \",\"orientation\":\"v\",\"showlegend\":true,\"textposition\":\"auto\",\"x\":[\"Data\"],\"xaxis\":\"x\",\"y\":[1],\"yaxis\":\"y\",\"type\":\"bar\"},{\"alignmentgroup\":\"True\",\"hovertemplate\":\"LOCATION=Penalonga<br>Customer Issue Category=%{x}<br>Count=%{y}<extra></extra>\",\"legendgroup\":\"Penalonga\",\"marker\":{\"color\":\"#19d3f3\",\"pattern\":{\"shape\":\"\"}},\"name\":\"Penalonga\",\"offsetgroup\":\"Penalonga\",\"orientation\":\"v\",\"showlegend\":true,\"textposition\":\"auto\",\"x\":[\"Data\",\"Service/Product Support\"],\"xaxis\":\"x\",\"y\":[3,1],\"yaxis\":\"y\",\"type\":\"bar\"},{\"alignmentgroup\":\"True\",\"hovertemplate\":\"LOCATION=Pumula<br>Customer Issue Category=%{x}<br>Count=%{y}<extra></extra>\",\"legendgroup\":\"Pumula\",\"marker\":{\"color\":\"#FF6692\",\"pattern\":{\"shape\":\"\"}},\"name\":\"Pumula\",\"offsetgroup\":\"Pumula\",\"orientation\":\"v\",\"showlegend\":true,\"textposition\":\"auto\",\"x\":[\"Data\"],\"xaxis\":\"x\",\"y\":[1],\"yaxis\":\"y\",\"type\":\"bar\"},{\"alignmentgroup\":\"True\",\"hovertemplate\":\"LOCATION=Queensdale<br>Customer Issue Category=%{x}<br>Count=%{y}<extra></extra>\",\"legendgroup\":\"Queensdale\",\"marker\":{\"color\":\"#B6E880\",\"pattern\":{\"shape\":\"\"}},\"name\":\"Queensdale\",\"offsetgroup\":\"Queensdale\",\"orientation\":\"v\",\"showlegend\":true,\"textposition\":\"auto\",\"x\":[\"Data\"],\"xaxis\":\"x\",\"y\":[1],\"yaxis\":\"y\",\"type\":\"bar\"},{\"alignmentgroup\":\"True\",\"hovertemplate\":\"LOCATION=Rusape<br>Customer Issue Category=%{x}<br>Count=%{y}<extra></extra>\",\"legendgroup\":\"Rusape\",\"marker\":{\"color\":\"#FF97FF\",\"pattern\":{\"shape\":\"\"}},\"name\":\"Rusape\",\"offsetgroup\":\"Rusape\",\"orientation\":\"v\",\"showlegend\":true,\"textposition\":\"auto\",\"x\":[\"Data\",\"Mobile Financial Services\",\"Other\",\"Prepaid\",\"SMS\",\"Service/Product Support\",\"Supplementary Services\",\"Voice\"],\"xaxis\":\"x\",\"y\":[9,3,1,2,1,2,2,1],\"yaxis\":\"y\",\"type\":\"bar\"},{\"alignmentgroup\":\"True\",\"hovertemplate\":\"LOCATION=Ruwa<br>Customer Issue Category=%{x}<br>Count=%{y}<extra></extra>\",\"legendgroup\":\"Ruwa\",\"marker\":{\"color\":\"#FECB52\",\"pattern\":{\"shape\":\"\"}},\"name\":\"Ruwa\",\"offsetgroup\":\"Ruwa\",\"orientation\":\"v\",\"showlegend\":true,\"textposition\":\"auto\",\"x\":[\"Data\",\"Mobile Financial Services\",\"Other\",\"Prepaid\",\"Service/Product Support\",\"Voice\"],\"xaxis\":\"x\",\"y\":[12,1,2,4,3,1],\"yaxis\":\"y\",\"type\":\"bar\"},{\"alignmentgroup\":\"True\",\"hovertemplate\":\"LOCATION=Sandton<br>Customer Issue Category=%{x}<br>Count=%{y}<extra></extra>\",\"legendgroup\":\"Sandton\",\"marker\":{\"color\":\"#636efa\",\"pattern\":{\"shape\":\"\"}},\"name\":\"Sandton\",\"offsetgroup\":\"Sandton\",\"orientation\":\"v\",\"showlegend\":true,\"textposition\":\"auto\",\"x\":[\"Data\",\"Product Distribution \"],\"xaxis\":\"x\",\"y\":[1,1],\"yaxis\":\"y\",\"type\":\"bar\"},{\"alignmentgroup\":\"True\",\"hovertemplate\":\"LOCATION=Seke<br>Customer Issue Category=%{x}<br>Count=%{y}<extra></extra>\",\"legendgroup\":\"Seke\",\"marker\":{\"color\":\"#EF553B\",\"pattern\":{\"shape\":\"\"}},\"name\":\"Seke\",\"offsetgroup\":\"Seke\",\"orientation\":\"v\",\"showlegend\":true,\"textposition\":\"auto\",\"x\":[\"Data\",\"SMS\"],\"xaxis\":\"x\",\"y\":[1,1],\"yaxis\":\"y\",\"type\":\"bar\"},{\"alignmentgroup\":\"True\",\"hovertemplate\":\"LOCATION=Shamva<br>Customer Issue Category=%{x}<br>Count=%{y}<extra></extra>\",\"legendgroup\":\"Shamva\",\"marker\":{\"color\":\"#00cc96\",\"pattern\":{\"shape\":\"\"}},\"name\":\"Shamva\",\"offsetgroup\":\"Shamva\",\"orientation\":\"v\",\"showlegend\":true,\"textposition\":\"auto\",\"x\":[\"Data\",\"Mobile Financial Services\",\"Prepaid\",\"SMS\",\"Service/Product Support\"],\"xaxis\":\"x\",\"y\":[1,1,1,4,2],\"yaxis\":\"y\",\"type\":\"bar\"},{\"alignmentgroup\":\"True\",\"hovertemplate\":\"LOCATION=Shurugwi<br>Customer Issue Category=%{x}<br>Count=%{y}<extra></extra>\",\"legendgroup\":\"Shurugwi\",\"marker\":{\"color\":\"#ab63fa\",\"pattern\":{\"shape\":\"\"}},\"name\":\"Shurugwi\",\"offsetgroup\":\"Shurugwi\",\"orientation\":\"v\",\"showlegend\":true,\"textposition\":\"auto\",\"x\":[\"Data\",\"Prepaid\",\"SMS\",\"Voice\"],\"xaxis\":\"x\",\"y\":[5,3,4,1],\"yaxis\":\"y\",\"type\":\"bar\"},{\"alignmentgroup\":\"True\",\"hovertemplate\":\"LOCATION=Snake Park<br>Customer Issue Category=%{x}<br>Count=%{y}<extra></extra>\",\"legendgroup\":\"Snake Park\",\"marker\":{\"color\":\"#FFA15A\",\"pattern\":{\"shape\":\"\"}},\"name\":\"Snake Park\",\"offsetgroup\":\"Snake Park\",\"orientation\":\"v\",\"showlegend\":true,\"textposition\":\"auto\",\"x\":[\"Data\"],\"xaxis\":\"x\",\"y\":[1],\"yaxis\":\"y\",\"type\":\"bar\"},{\"alignmentgroup\":\"True\",\"hovertemplate\":\"LOCATION=Southerton<br>Customer Issue Category=%{x}<br>Count=%{y}<extra></extra>\",\"legendgroup\":\"Southerton\",\"marker\":{\"color\":\"#19d3f3\",\"pattern\":{\"shape\":\"\"}},\"name\":\"Southerton\",\"offsetgroup\":\"Southerton\",\"orientation\":\"v\",\"showlegend\":true,\"textposition\":\"auto\",\"x\":[\"Data\",\"Prepaid\",\"Service/Product Support\"],\"xaxis\":\"x\",\"y\":[2,2,1],\"yaxis\":\"y\",\"type\":\"bar\"},{\"alignmentgroup\":\"True\",\"hovertemplate\":\"LOCATION=Southlands<br>Customer Issue Category=%{x}<br>Count=%{y}<extra></extra>\",\"legendgroup\":\"Southlands\",\"marker\":{\"color\":\"#FF6692\",\"pattern\":{\"shape\":\"\"}},\"name\":\"Southlands\",\"offsetgroup\":\"Southlands\",\"orientation\":\"v\",\"showlegend\":true,\"textposition\":\"auto\",\"x\":[\"Data\",\"Voice\"],\"xaxis\":\"x\",\"y\":[2,1],\"yaxis\":\"y\",\"type\":\"bar\"},{\"alignmentgroup\":\"True\",\"hovertemplate\":\"LOCATION=Southley Park<br>Customer Issue Category=%{x}<br>Count=%{y}<extra></extra>\",\"legendgroup\":\"Southley Park\",\"marker\":{\"color\":\"#B6E880\",\"pattern\":{\"shape\":\"\"}},\"name\":\"Southley Park\",\"offsetgroup\":\"Southley Park\",\"orientation\":\"v\",\"showlegend\":true,\"textposition\":\"auto\",\"x\":[\"Data\",\"Mobile Financial Services\",\"Prepaid\",\"SMS\"],\"xaxis\":\"x\",\"y\":[9,1,2,1],\"yaxis\":\"y\",\"type\":\"bar\"},{\"alignmentgroup\":\"True\",\"hovertemplate\":\"LOCATION=Southridge <br>Customer Issue Category=%{x}<br>Count=%{y}<extra></extra>\",\"legendgroup\":\"Southridge \",\"marker\":{\"color\":\"#FF97FF\",\"pattern\":{\"shape\":\"\"}},\"name\":\"Southridge \",\"offsetgroup\":\"Southridge \",\"orientation\":\"v\",\"showlegend\":true,\"textposition\":\"auto\",\"x\":[\"Data\"],\"xaxis\":\"x\",\"y\":[1],\"yaxis\":\"y\",\"type\":\"bar\"},{\"alignmentgroup\":\"True\",\"hovertemplate\":\"LOCATION=St Marys<br>Customer Issue Category=%{x}<br>Count=%{y}<extra></extra>\",\"legendgroup\":\"St Marys\",\"marker\":{\"color\":\"#FECB52\",\"pattern\":{\"shape\":\"\"}},\"name\":\"St Marys\",\"offsetgroup\":\"St Marys\",\"orientation\":\"v\",\"showlegend\":true,\"textposition\":\"auto\",\"x\":[\"Data\",\"Other\"],\"xaxis\":\"x\",\"y\":[1,1],\"yaxis\":\"y\",\"type\":\"bar\"},{\"alignmentgroup\":\"True\",\"hovertemplate\":\"LOCATION=St Peters<br>Customer Issue Category=%{x}<br>Count=%{y}<extra></extra>\",\"legendgroup\":\"St Peters\",\"marker\":{\"color\":\"#636efa\",\"pattern\":{\"shape\":\"\"}},\"name\":\"St Peters\",\"offsetgroup\":\"St Peters\",\"orientation\":\"v\",\"showlegend\":true,\"textposition\":\"auto\",\"x\":[\"Data\"],\"xaxis\":\"x\",\"y\":[1],\"yaxis\":\"y\",\"type\":\"bar\"},{\"alignmentgroup\":\"True\",\"hovertemplate\":\"LOCATION=Stapleford<br>Customer Issue Category=%{x}<br>Count=%{y}<extra></extra>\",\"legendgroup\":\"Stapleford\",\"marker\":{\"color\":\"#EF553B\",\"pattern\":{\"shape\":\"\"}},\"name\":\"Stapleford\",\"offsetgroup\":\"Stapleford\",\"orientation\":\"v\",\"showlegend\":true,\"textposition\":\"auto\",\"x\":[\"Data\"],\"xaxis\":\"x\",\"y\":[1],\"yaxis\":\"y\",\"type\":\"bar\"},{\"alignmentgroup\":\"True\",\"hovertemplate\":\"LOCATION=Stoneridge<br>Customer Issue Category=%{x}<br>Count=%{y}<extra></extra>\",\"legendgroup\":\"Stoneridge\",\"marker\":{\"color\":\"#00cc96\",\"pattern\":{\"shape\":\"\"}},\"name\":\"Stoneridge\",\"offsetgroup\":\"Stoneridge\",\"orientation\":\"v\",\"showlegend\":true,\"textposition\":\"auto\",\"x\":[\"Data\",\"Prepaid\",\"Service/Product Support\",\"Voice\"],\"xaxis\":\"x\",\"y\":[4,1,1,1],\"yaxis\":\"y\",\"type\":\"bar\"},{\"alignmentgroup\":\"True\",\"hovertemplate\":\"LOCATION=Sunningdale<br>Customer Issue Category=%{x}<br>Count=%{y}<extra></extra>\",\"legendgroup\":\"Sunningdale\",\"marker\":{\"color\":\"#ab63fa\",\"pattern\":{\"shape\":\"\"}},\"name\":\"Sunningdale\",\"offsetgroup\":\"Sunningdale\",\"orientation\":\"v\",\"showlegend\":true,\"textposition\":\"auto\",\"x\":[\"Data\",\"Prepaid\",\"Service/Product Support\"],\"xaxis\":\"x\",\"y\":[1,2,1],\"yaxis\":\"y\",\"type\":\"bar\"},{\"alignmentgroup\":\"True\",\"hovertemplate\":\"LOCATION=Tafara<br>Customer Issue Category=%{x}<br>Count=%{y}<extra></extra>\",\"legendgroup\":\"Tafara\",\"marker\":{\"color\":\"#FFA15A\",\"pattern\":{\"shape\":\"\"}},\"name\":\"Tafara\",\"offsetgroup\":\"Tafara\",\"orientation\":\"v\",\"showlegend\":true,\"textposition\":\"auto\",\"x\":[\"Data\",\"Mobile Financial Services\",\"Service/Product Support\"],\"xaxis\":\"x\",\"y\":[2,1,1],\"yaxis\":\"y\",\"type\":\"bar\"},{\"alignmentgroup\":\"True\",\"hovertemplate\":\"LOCATION=Turnpike<br>Customer Issue Category=%{x}<br>Count=%{y}<extra></extra>\",\"legendgroup\":\"Turnpike\",\"marker\":{\"color\":\"#19d3f3\",\"pattern\":{\"shape\":\"\"}},\"name\":\"Turnpike\",\"offsetgroup\":\"Turnpike\",\"orientation\":\"v\",\"showlegend\":true,\"textposition\":\"auto\",\"x\":[\"Data\"],\"xaxis\":\"x\",\"y\":[1],\"yaxis\":\"y\",\"type\":\"bar\"},{\"alignmentgroup\":\"True\",\"hovertemplate\":\"LOCATION=Tynwald<br>Customer Issue Category=%{x}<br>Count=%{y}<extra></extra>\",\"legendgroup\":\"Tynwald\",\"marker\":{\"color\":\"#FF6692\",\"pattern\":{\"shape\":\"\"}},\"name\":\"Tynwald\",\"offsetgroup\":\"Tynwald\",\"orientation\":\"v\",\"showlegend\":true,\"textposition\":\"auto\",\"x\":[\"Data\",\"Mobile Financial Services\"],\"xaxis\":\"x\",\"y\":[1,1],\"yaxis\":\"y\",\"type\":\"bar\"},{\"alignmentgroup\":\"True\",\"hovertemplate\":\"LOCATION=UMP<br>Customer Issue Category=%{x}<br>Count=%{y}<extra></extra>\",\"legendgroup\":\"UMP\",\"marker\":{\"color\":\"#B6E880\",\"pattern\":{\"shape\":\"\"}},\"name\":\"UMP\",\"offsetgroup\":\"UMP\",\"orientation\":\"v\",\"showlegend\":true,\"textposition\":\"auto\",\"x\":[\"Data\",\"Prepaid\",\"Product Distribution \",\"Service/Product Support\"],\"xaxis\":\"x\",\"y\":[1,1,1,2],\"yaxis\":\"y\",\"type\":\"bar\"},{\"alignmentgroup\":\"True\",\"hovertemplate\":\"LOCATION=Victoria Falls<br>Customer Issue Category=%{x}<br>Count=%{y}<extra></extra>\",\"legendgroup\":\"Victoria Falls\",\"marker\":{\"color\":\"#FF97FF\",\"pattern\":{\"shape\":\"\"}},\"name\":\"Victoria Falls\",\"offsetgroup\":\"Victoria Falls\",\"orientation\":\"v\",\"showlegend\":true,\"textposition\":\"auto\",\"x\":[\"Data\"],\"xaxis\":\"x\",\"y\":[1],\"yaxis\":\"y\",\"type\":\"bar\"},{\"alignmentgroup\":\"True\",\"hovertemplate\":\"LOCATION=Waterfalls<br>Customer Issue Category=%{x}<br>Count=%{y}<extra></extra>\",\"legendgroup\":\"Waterfalls\",\"marker\":{\"color\":\"#FECB52\",\"pattern\":{\"shape\":\"\"}},\"name\":\"Waterfalls\",\"offsetgroup\":\"Waterfalls\",\"orientation\":\"v\",\"showlegend\":true,\"textposition\":\"auto\",\"x\":[\"Data\",\"Mobile Financial Services\",\"Prepaid\",\"Roaming and International services\",\"Service/Product Support\",\"Voice\"],\"xaxis\":\"x\",\"y\":[10,2,3,1,2,3],\"yaxis\":\"y\",\"type\":\"bar\"},{\"alignmentgroup\":\"True\",\"hovertemplate\":\"LOCATION=Wedza<br>Customer Issue Category=%{x}<br>Count=%{y}<extra></extra>\",\"legendgroup\":\"Wedza\",\"marker\":{\"color\":\"#636efa\",\"pattern\":{\"shape\":\"\"}},\"name\":\"Wedza\",\"offsetgroup\":\"Wedza\",\"orientation\":\"v\",\"showlegend\":true,\"textposition\":\"auto\",\"x\":[\"Data\",\"Prepaid\",\"SMS\",\"Service/Product Support\"],\"xaxis\":\"x\",\"y\":[2,2,1,1],\"yaxis\":\"y\",\"type\":\"bar\"},{\"alignmentgroup\":\"True\",\"hovertemplate\":\"LOCATION=Westgate<br>Customer Issue Category=%{x}<br>Count=%{y}<extra></extra>\",\"legendgroup\":\"Westgate\",\"marker\":{\"color\":\"#EF553B\",\"pattern\":{\"shape\":\"\"}},\"name\":\"Westgate\",\"offsetgroup\":\"Westgate\",\"orientation\":\"v\",\"showlegend\":true,\"textposition\":\"auto\",\"x\":[\"Data\",\"Other\",\"Prepaid\",\"Service/Product Support\"],\"xaxis\":\"x\",\"y\":[2,1,2,1],\"yaxis\":\"y\",\"type\":\"bar\"},{\"alignmentgroup\":\"True\",\"hovertemplate\":\"LOCATION=Westlea<br>Customer Issue Category=%{x}<br>Count=%{y}<extra></extra>\",\"legendgroup\":\"Westlea\",\"marker\":{\"color\":\"#00cc96\",\"pattern\":{\"shape\":\"\"}},\"name\":\"Westlea\",\"offsetgroup\":\"Westlea\",\"orientation\":\"v\",\"showlegend\":true,\"textposition\":\"auto\",\"x\":[\"Data\"],\"xaxis\":\"x\",\"y\":[2],\"yaxis\":\"y\",\"type\":\"bar\"},{\"alignmentgroup\":\"True\",\"hovertemplate\":\"LOCATION=Whitecliff<br>Customer Issue Category=%{x}<br>Count=%{y}<extra></extra>\",\"legendgroup\":\"Whitecliff\",\"marker\":{\"color\":\"#ab63fa\",\"pattern\":{\"shape\":\"\"}},\"name\":\"Whitecliff\",\"offsetgroup\":\"Whitecliff\",\"orientation\":\"v\",\"showlegend\":true,\"textposition\":\"auto\",\"x\":[\"Data\"],\"xaxis\":\"x\",\"y\":[1],\"yaxis\":\"y\",\"type\":\"bar\"},{\"alignmentgroup\":\"True\",\"hovertemplate\":\"LOCATION=Willowvale<br>Customer Issue Category=%{x}<br>Count=%{y}<extra></extra>\",\"legendgroup\":\"Willowvale\",\"marker\":{\"color\":\"#FFA15A\",\"pattern\":{\"shape\":\"\"}},\"name\":\"Willowvale\",\"offsetgroup\":\"Willowvale\",\"orientation\":\"v\",\"showlegend\":true,\"textposition\":\"auto\",\"x\":[\"Data\",\"SMS\"],\"xaxis\":\"x\",\"y\":[1,1],\"yaxis\":\"y\",\"type\":\"bar\"},{\"alignmentgroup\":\"True\",\"hovertemplate\":\"LOCATION=Workington<br>Customer Issue Category=%{x}<br>Count=%{y}<extra></extra>\",\"legendgroup\":\"Workington\",\"marker\":{\"color\":\"#19d3f3\",\"pattern\":{\"shape\":\"\"}},\"name\":\"Workington\",\"offsetgroup\":\"Workington\",\"orientation\":\"v\",\"showlegend\":true,\"textposition\":\"auto\",\"x\":[\"Data\"],\"xaxis\":\"x\",\"y\":[1],\"yaxis\":\"y\",\"type\":\"bar\"},{\"alignmentgroup\":\"True\",\"hovertemplate\":\"LOCATION=Zhombe<br>Customer Issue Category=%{x}<br>Count=%{y}<extra></extra>\",\"legendgroup\":\"Zhombe\",\"marker\":{\"color\":\"#FF6692\",\"pattern\":{\"shape\":\"\"}},\"name\":\"Zhombe\",\"offsetgroup\":\"Zhombe\",\"orientation\":\"v\",\"showlegend\":true,\"textposition\":\"auto\",\"x\":[\"Data\",\"Prepaid\"],\"xaxis\":\"x\",\"y\":[1,1],\"yaxis\":\"y\",\"type\":\"bar\"},{\"alignmentgroup\":\"True\",\"hovertemplate\":\"LOCATION=Zimre Park <br>Customer Issue Category=%{x}<br>Count=%{y}<extra></extra>\",\"legendgroup\":\"Zimre Park \",\"marker\":{\"color\":\"#B6E880\",\"pattern\":{\"shape\":\"\"}},\"name\":\"Zimre Park \",\"offsetgroup\":\"Zimre Park \",\"orientation\":\"v\",\"showlegend\":true,\"textposition\":\"auto\",\"x\":[\"Data\",\"Prepaid\"],\"xaxis\":\"x\",\"y\":[2,3],\"yaxis\":\"y\",\"type\":\"bar\"},{\"alignmentgroup\":\"True\",\"hovertemplate\":\"LOCATION=Zvishavane<br>Customer Issue Category=%{x}<br>Count=%{y}<extra></extra>\",\"legendgroup\":\"Zvishavane\",\"marker\":{\"color\":\"#FF97FF\",\"pattern\":{\"shape\":\"\"}},\"name\":\"Zvishavane\",\"offsetgroup\":\"Zvishavane\",\"orientation\":\"v\",\"showlegend\":true,\"textposition\":\"auto\",\"x\":[\"Data\",\"Prepaid\",\"Service/Product Support\"],\"xaxis\":\"x\",\"y\":[3,4,1],\"yaxis\":\"y\",\"type\":\"bar\"},{\"alignmentgroup\":\"True\",\"hovertemplate\":\"LOCATION=banket<br>Customer Issue Category=%{x}<br>Count=%{y}<extra></extra>\",\"legendgroup\":\"banket\",\"marker\":{\"color\":\"#FECB52\",\"pattern\":{\"shape\":\"\"}},\"name\":\"banket\",\"offsetgroup\":\"banket\",\"orientation\":\"v\",\"showlegend\":true,\"textposition\":\"auto\",\"x\":[\"Data\"],\"xaxis\":\"x\",\"y\":[1],\"yaxis\":\"y\",\"type\":\"bar\"},{\"alignmentgroup\":\"True\",\"hovertemplate\":\"LOCATION=braeside<br>Customer Issue Category=%{x}<br>Count=%{y}<extra></extra>\",\"legendgroup\":\"braeside\",\"marker\":{\"color\":\"#636efa\",\"pattern\":{\"shape\":\"\"}},\"name\":\"braeside\",\"offsetgroup\":\"braeside\",\"orientation\":\"v\",\"showlegend\":true,\"textposition\":\"auto\",\"x\":[\"Data\",\"Prepaid\"],\"xaxis\":\"x\",\"y\":[2,1],\"yaxis\":\"y\",\"type\":\"bar\"},{\"alignmentgroup\":\"True\",\"hovertemplate\":\"LOCATION=bulawayo<br>Customer Issue Category=%{x}<br>Count=%{y}<extra></extra>\",\"legendgroup\":\"bulawayo\",\"marker\":{\"color\":\"#EF553B\",\"pattern\":{\"shape\":\"\"}},\"name\":\"bulawayo\",\"offsetgroup\":\"bulawayo\",\"orientation\":\"v\",\"showlegend\":true,\"textposition\":\"auto\",\"x\":[\"Data\"],\"xaxis\":\"x\",\"y\":[1],\"yaxis\":\"y\",\"type\":\"bar\"},{\"alignmentgroup\":\"True\",\"hovertemplate\":\"LOCATION=chipinge<br>Customer Issue Category=%{x}<br>Count=%{y}<extra></extra>\",\"legendgroup\":\"chipinge\",\"marker\":{\"color\":\"#00cc96\",\"pattern\":{\"shape\":\"\"}},\"name\":\"chipinge\",\"offsetgroup\":\"chipinge\",\"orientation\":\"v\",\"showlegend\":true,\"textposition\":\"auto\",\"x\":[\"Data\",\"Mobile Financial Services\",\"Prepaid\",\"Supplementary Services\"],\"xaxis\":\"x\",\"y\":[2,1,1,1],\"yaxis\":\"y\",\"type\":\"bar\"},{\"alignmentgroup\":\"True\",\"hovertemplate\":\"LOCATION=chivi<br>Customer Issue Category=%{x}<br>Count=%{y}<extra></extra>\",\"legendgroup\":\"chivi\",\"marker\":{\"color\":\"#ab63fa\",\"pattern\":{\"shape\":\"\"}},\"name\":\"chivi\",\"offsetgroup\":\"chivi\",\"orientation\":\"v\",\"showlegend\":true,\"textposition\":\"auto\",\"x\":[\"Data\",\"Service/Product Support\"],\"xaxis\":\"x\",\"y\":[1,1],\"yaxis\":\"y\",\"type\":\"bar\"},{\"alignmentgroup\":\"True\",\"hovertemplate\":\"LOCATION=filabusi<br>Customer Issue Category=%{x}<br>Count=%{y}<extra></extra>\",\"legendgroup\":\"filabusi\",\"marker\":{\"color\":\"#FFA15A\",\"pattern\":{\"shape\":\"\"}},\"name\":\"filabusi\",\"offsetgroup\":\"filabusi\",\"orientation\":\"v\",\"showlegend\":true,\"textposition\":\"auto\",\"x\":[\"Data\",\"SMS\"],\"xaxis\":\"x\",\"y\":[1,1],\"yaxis\":\"y\",\"type\":\"bar\"},{\"alignmentgroup\":\"True\",\"hovertemplate\":\"LOCATION=harare<br>Customer Issue Category=%{x}<br>Count=%{y}<extra></extra>\",\"legendgroup\":\"harare\",\"marker\":{\"color\":\"#19d3f3\",\"pattern\":{\"shape\":\"\"}},\"name\":\"harare\",\"offsetgroup\":\"harare\",\"orientation\":\"v\",\"showlegend\":true,\"textposition\":\"auto\",\"x\":[\"Data\",\"Mobile Financial Services\",\"Other\",\"Prepaid\",\"Product Distribution \",\"Products and Services\",\"SMS\"],\"xaxis\":\"x\",\"y\":[7,4,1,5,1,1,3],\"yaxis\":\"y\",\"type\":\"bar\"},{\"alignmentgroup\":\"True\",\"hovertemplate\":\"LOCATION=highlands<br>Customer Issue Category=%{x}<br>Count=%{y}<extra></extra>\",\"legendgroup\":\"highlands\",\"marker\":{\"color\":\"#FF6692\",\"pattern\":{\"shape\":\"\"}},\"name\":\"highlands\",\"offsetgroup\":\"highlands\",\"orientation\":\"v\",\"showlegend\":true,\"textposition\":\"auto\",\"x\":[\"Data\"],\"xaxis\":\"x\",\"y\":[2],\"yaxis\":\"y\",\"type\":\"bar\"},{\"alignmentgroup\":\"True\",\"hovertemplate\":\"LOCATION=mabvuku<br>Customer Issue Category=%{x}<br>Count=%{y}<extra></extra>\",\"legendgroup\":\"mabvuku\",\"marker\":{\"color\":\"#B6E880\",\"pattern\":{\"shape\":\"\"}},\"name\":\"mabvuku\",\"offsetgroup\":\"mabvuku\",\"orientation\":\"v\",\"showlegend\":true,\"textposition\":\"auto\",\"x\":[\"Data\",\"Mobile Financial Services\",\"Service/Product Support\"],\"xaxis\":\"x\",\"y\":[6,1,1],\"yaxis\":\"y\",\"type\":\"bar\"},{\"alignmentgroup\":\"True\",\"hovertemplate\":\"LOCATION=madokero<br>Customer Issue Category=%{x}<br>Count=%{y}<extra></extra>\",\"legendgroup\":\"madokero\",\"marker\":{\"color\":\"#FF97FF\",\"pattern\":{\"shape\":\"\"}},\"name\":\"madokero\",\"offsetgroup\":\"madokero\",\"orientation\":\"v\",\"showlegend\":true,\"textposition\":\"auto\",\"x\":[\"Data\"],\"xaxis\":\"x\",\"y\":[1],\"yaxis\":\"y\",\"type\":\"bar\"},{\"alignmentgroup\":\"True\",\"hovertemplate\":\"LOCATION=manyame<br>Customer Issue Category=%{x}<br>Count=%{y}<extra></extra>\",\"legendgroup\":\"manyame\",\"marker\":{\"color\":\"#FECB52\",\"pattern\":{\"shape\":\"\"}},\"name\":\"manyame\",\"offsetgroup\":\"manyame\",\"orientation\":\"v\",\"showlegend\":true,\"textposition\":\"auto\",\"x\":[\"Data\"],\"xaxis\":\"x\",\"y\":[1],\"yaxis\":\"y\",\"type\":\"bar\"},{\"alignmentgroup\":\"True\",\"hovertemplate\":\"LOCATION=marange<br>Customer Issue Category=%{x}<br>Count=%{y}<extra></extra>\",\"legendgroup\":\"marange\",\"marker\":{\"color\":\"#636efa\",\"pattern\":{\"shape\":\"\"}},\"name\":\"marange\",\"offsetgroup\":\"marange\",\"orientation\":\"v\",\"showlegend\":true,\"textposition\":\"auto\",\"x\":[\"Data\",\"Mobile Financial Services\"],\"xaxis\":\"x\",\"y\":[2,1],\"yaxis\":\"y\",\"type\":\"bar\"},{\"alignmentgroup\":\"True\",\"hovertemplate\":\"LOCATION=mutare<br>Customer Issue Category=%{x}<br>Count=%{y}<extra></extra>\",\"legendgroup\":\"mutare\",\"marker\":{\"color\":\"#EF553B\",\"pattern\":{\"shape\":\"\"}},\"name\":\"mutare\",\"offsetgroup\":\"mutare\",\"orientation\":\"v\",\"showlegend\":true,\"textposition\":\"auto\",\"x\":[\"Data\",\"Supplementary Services\",\"Voice\"],\"xaxis\":\"x\",\"y\":[1,1,1],\"yaxis\":\"y\",\"type\":\"bar\"},{\"alignmentgroup\":\"True\",\"hovertemplate\":\"LOCATION=nyazura<br>Customer Issue Category=%{x}<br>Count=%{y}<extra></extra>\",\"legendgroup\":\"nyazura\",\"marker\":{\"color\":\"#00cc96\",\"pattern\":{\"shape\":\"\"}},\"name\":\"nyazura\",\"offsetgroup\":\"nyazura\",\"orientation\":\"v\",\"showlegend\":true,\"textposition\":\"auto\",\"x\":[\"Data\"],\"xaxis\":\"x\",\"y\":[1],\"yaxis\":\"y\",\"type\":\"bar\"},{\"alignmentgroup\":\"True\",\"hovertemplate\":\"LOCATION=ruwa<br>Customer Issue Category=%{x}<br>Count=%{y}<extra></extra>\",\"legendgroup\":\"ruwa\",\"marker\":{\"color\":\"#ab63fa\",\"pattern\":{\"shape\":\"\"}},\"name\":\"ruwa\",\"offsetgroup\":\"ruwa\",\"orientation\":\"v\",\"showlegend\":true,\"textposition\":\"auto\",\"x\":[\"Data\"],\"xaxis\":\"x\",\"y\":[1],\"yaxis\":\"y\",\"type\":\"bar\"},{\"alignmentgroup\":\"True\",\"hovertemplate\":\"LOCATION=unknown <br>Customer Issue Category=%{x}<br>Count=%{y}<extra></extra>\",\"legendgroup\":\"unknown \",\"marker\":{\"color\":\"#FFA15A\",\"pattern\":{\"shape\":\"\"}},\"name\":\"unknown \",\"offsetgroup\":\"unknown \",\"orientation\":\"v\",\"showlegend\":true,\"textposition\":\"auto\",\"x\":[\"Data\",\"Mobile Financial Services\",\"Other\",\"Prepaid\",\"Product Distribution \",\"Products and Services\",\"SMS\",\"Service/Product Support\",\"Systems Support\",\"Value Added Services\",\"Voice\"],\"xaxis\":\"x\",\"y\":[2,5,8,9,1,1,4,2,5,2,161],\"yaxis\":\"y\",\"type\":\"bar\"},{\"alignmentgroup\":\"True\",\"hovertemplate\":\"LOCATION=ushewokunze<br>Customer Issue Category=%{x}<br>Count=%{y}<extra></extra>\",\"legendgroup\":\"ushewokunze\",\"marker\":{\"color\":\"#19d3f3\",\"pattern\":{\"shape\":\"\"}},\"name\":\"ushewokunze\",\"offsetgroup\":\"ushewokunze\",\"orientation\":\"v\",\"showlegend\":true,\"textposition\":\"auto\",\"x\":[\"Data\",\"Mobile Financial Services\",\"Other\",\"Service/Product Support\"],\"xaxis\":\"x\",\"y\":[1,1,1,1],\"yaxis\":\"y\",\"type\":\"bar\"},{\"alignmentgroup\":\"True\",\"hovertemplate\":\"LOCATION=warren park<br>Customer Issue Category=%{x}<br>Count=%{y}<extra></extra>\",\"legendgroup\":\"warren park\",\"marker\":{\"color\":\"#FF6692\",\"pattern\":{\"shape\":\"\"}},\"name\":\"warren park\",\"offsetgroup\":\"warren park\",\"orientation\":\"v\",\"showlegend\":true,\"textposition\":\"auto\",\"x\":[\"Data\",\"Mobile Financial Services\",\"Other\",\"Prepaid\",\"SMS\",\"Service/Product Support\"],\"xaxis\":\"x\",\"y\":[6,1,1,2,1,1],\"yaxis\":\"y\",\"type\":\"bar\"},{\"alignmentgroup\":\"True\",\"hovertemplate\":\"LOCATION=zvishavane<br>Customer Issue Category=%{x}<br>Count=%{y}<extra></extra>\",\"legendgroup\":\"zvishavane\",\"marker\":{\"color\":\"#B6E880\",\"pattern\":{\"shape\":\"\"}},\"name\":\"zvishavane\",\"offsetgroup\":\"zvishavane\",\"orientation\":\"v\",\"showlegend\":true,\"textposition\":\"auto\",\"x\":[\"Data\",\"Prepaid\",\"Product Distribution \"],\"xaxis\":\"x\",\"y\":[1,1,1],\"yaxis\":\"y\",\"type\":\"bar\"},{\"alignmentgroup\":\"True\",\"hovertemplate\":\"LOCATION=Avondale<br>Customer Issue Category=%{x}<br>Count=%{y}<extra></extra>\",\"legendgroup\":\"Avondale\",\"marker\":{\"color\":\"#FF97FF\",\"pattern\":{\"shape\":\"\"}},\"name\":\"Avondale\",\"offsetgroup\":\"Avondale\",\"orientation\":\"v\",\"showlegend\":true,\"textposition\":\"auto\",\"x\":[\"Mobile Financial Services\",\"Prepaid\",\"Voice\"],\"xaxis\":\"x\",\"y\":[2,1,1],\"yaxis\":\"y\",\"type\":\"bar\"},{\"alignmentgroup\":\"True\",\"hovertemplate\":\"LOCATION=Banket<br>Customer Issue Category=%{x}<br>Count=%{y}<extra></extra>\",\"legendgroup\":\"Banket\",\"marker\":{\"color\":\"#FECB52\",\"pattern\":{\"shape\":\"\"}},\"name\":\"Banket\",\"offsetgroup\":\"Banket\",\"orientation\":\"v\",\"showlegend\":true,\"textposition\":\"auto\",\"x\":[\"Mobile Financial Services\",\"Prepaid\"],\"xaxis\":\"x\",\"y\":[1,1],\"yaxis\":\"y\",\"type\":\"bar\"},{\"alignmentgroup\":\"True\",\"hovertemplate\":\"LOCATION=Centenary<br>Customer Issue Category=%{x}<br>Count=%{y}<extra></extra>\",\"legendgroup\":\"Centenary\",\"marker\":{\"color\":\"#636efa\",\"pattern\":{\"shape\":\"\"}},\"name\":\"Centenary\",\"offsetgroup\":\"Centenary\",\"orientation\":\"v\",\"showlegend\":true,\"textposition\":\"auto\",\"x\":[\"Mobile Financial Services\",\"Product Distribution \",\"SMS\"],\"xaxis\":\"x\",\"y\":[3,1,1],\"yaxis\":\"y\",\"type\":\"bar\"},{\"alignmentgroup\":\"True\",\"hovertemplate\":\"LOCATION=Chaza<br>Customer Issue Category=%{x}<br>Count=%{y}<extra></extra>\",\"legendgroup\":\"Chaza\",\"marker\":{\"color\":\"#EF553B\",\"pattern\":{\"shape\":\"\"}},\"name\":\"Chaza\",\"offsetgroup\":\"Chaza\",\"orientation\":\"v\",\"showlegend\":true,\"textposition\":\"auto\",\"x\":[\"Mobile Financial Services\"],\"xaxis\":\"x\",\"y\":[1],\"yaxis\":\"y\",\"type\":\"bar\"},{\"alignmentgroup\":\"True\",\"hovertemplate\":\"LOCATION=Chihota<br>Customer Issue Category=%{x}<br>Count=%{y}<extra></extra>\",\"legendgroup\":\"Chihota\",\"marker\":{\"color\":\"#00cc96\",\"pattern\":{\"shape\":\"\"}},\"name\":\"Chihota\",\"offsetgroup\":\"Chihota\",\"orientation\":\"v\",\"showlegend\":true,\"textposition\":\"auto\",\"x\":[\"Mobile Financial Services\",\"Prepaid\"],\"xaxis\":\"x\",\"y\":[1,1],\"yaxis\":\"y\",\"type\":\"bar\"},{\"alignmentgroup\":\"True\",\"hovertemplate\":\"LOCATION=Chikurubi<br>Customer Issue Category=%{x}<br>Count=%{y}<extra></extra>\",\"legendgroup\":\"Chikurubi\",\"marker\":{\"color\":\"#ab63fa\",\"pattern\":{\"shape\":\"\"}},\"name\":\"Chikurubi\",\"offsetgroup\":\"Chikurubi\",\"orientation\":\"v\",\"showlegend\":true,\"textposition\":\"auto\",\"x\":[\"Mobile Financial Services\"],\"xaxis\":\"x\",\"y\":[1],\"yaxis\":\"y\",\"type\":\"bar\"},{\"alignmentgroup\":\"True\",\"hovertemplate\":\"LOCATION=Chipinge<br>Customer Issue Category=%{x}<br>Count=%{y}<extra></extra>\",\"legendgroup\":\"Chipinge\",\"marker\":{\"color\":\"#FFA15A\",\"pattern\":{\"shape\":\"\"}},\"name\":\"Chipinge\",\"offsetgroup\":\"Chipinge\",\"orientation\":\"v\",\"showlegend\":true,\"textposition\":\"auto\",\"x\":[\"Mobile Financial Services\",\"Other\",\"Prepaid\",\"SMS\",\"Voice\"],\"xaxis\":\"x\",\"y\":[1,1,2,1,3],\"yaxis\":\"y\",\"type\":\"bar\"},{\"alignmentgroup\":\"True\",\"hovertemplate\":\"LOCATION=Glendale<br>Customer Issue Category=%{x}<br>Count=%{y}<extra></extra>\",\"legendgroup\":\"Glendale\",\"marker\":{\"color\":\"#19d3f3\",\"pattern\":{\"shape\":\"\"}},\"name\":\"Glendale\",\"offsetgroup\":\"Glendale\",\"orientation\":\"v\",\"showlegend\":true,\"textposition\":\"auto\",\"x\":[\"Mobile Financial Services\",\"Other\",\"Prepaid\",\"Service/Product Support\",\"Voice\"],\"xaxis\":\"x\",\"y\":[1,1,1,1,1],\"yaxis\":\"y\",\"type\":\"bar\"},{\"alignmentgroup\":\"True\",\"hovertemplate\":\"LOCATION=Gukwa<br>Customer Issue Category=%{x}<br>Count=%{y}<extra></extra>\",\"legendgroup\":\"Gukwa\",\"marker\":{\"color\":\"#FF6692\",\"pattern\":{\"shape\":\"\"}},\"name\":\"Gukwa\",\"offsetgroup\":\"Gukwa\",\"orientation\":\"v\",\"showlegend\":true,\"textposition\":\"auto\",\"x\":[\"Mobile Financial Services\"],\"xaxis\":\"x\",\"y\":[1],\"yaxis\":\"y\",\"type\":\"bar\"},{\"alignmentgroup\":\"True\",\"hovertemplate\":\"LOCATION=Gumbanjera<br>Customer Issue Category=%{x}<br>Count=%{y}<extra></extra>\",\"legendgroup\":\"Gumbanjera\",\"marker\":{\"color\":\"#B6E880\",\"pattern\":{\"shape\":\"\"}},\"name\":\"Gumbanjera\",\"offsetgroup\":\"Gumbanjera\",\"orientation\":\"v\",\"showlegend\":true,\"textposition\":\"auto\",\"x\":[\"Mobile Financial Services\"],\"xaxis\":\"x\",\"y\":[1],\"yaxis\":\"y\",\"type\":\"bar\"},{\"alignmentgroup\":\"True\",\"hovertemplate\":\"LOCATION=Gutu<br>Customer Issue Category=%{x}<br>Count=%{y}<extra></extra>\",\"legendgroup\":\"Gutu\",\"marker\":{\"color\":\"#FF97FF\",\"pattern\":{\"shape\":\"\"}},\"name\":\"Gutu\",\"offsetgroup\":\"Gutu\",\"orientation\":\"v\",\"showlegend\":true,\"textposition\":\"auto\",\"x\":[\"Mobile Financial Services\",\"Other\",\"Prepaid\",\"SMS\",\"Service/Product Support\",\"Voice\"],\"xaxis\":\"x\",\"y\":[1,3,6,2,1,1],\"yaxis\":\"y\",\"type\":\"bar\"},{\"alignmentgroup\":\"True\",\"hovertemplate\":\"LOCATION=Hurungwe<br>Customer Issue Category=%{x}<br>Count=%{y}<extra></extra>\",\"legendgroup\":\"Hurungwe\",\"marker\":{\"color\":\"#FECB52\",\"pattern\":{\"shape\":\"\"}},\"name\":\"Hurungwe\",\"offsetgroup\":\"Hurungwe\",\"orientation\":\"v\",\"showlegend\":true,\"textposition\":\"auto\",\"x\":[\"Mobile Financial Services\",\"Other\",\"Prepaid\",\"SMS\",\"Service/Product Support\",\"Voice\"],\"xaxis\":\"x\",\"y\":[1,1,1,2,1,1],\"yaxis\":\"y\",\"type\":\"bar\"},{\"alignmentgroup\":\"True\",\"hovertemplate\":\"LOCATION=Mbire<br>Customer Issue Category=%{x}<br>Count=%{y}<extra></extra>\",\"legendgroup\":\"Mbire\",\"marker\":{\"color\":\"#636efa\",\"pattern\":{\"shape\":\"\"}},\"name\":\"Mbire\",\"offsetgroup\":\"Mbire\",\"orientation\":\"v\",\"showlegend\":true,\"textposition\":\"auto\",\"x\":[\"Mobile Financial Services\"],\"xaxis\":\"x\",\"y\":[1],\"yaxis\":\"y\",\"type\":\"bar\"},{\"alignmentgroup\":\"True\",\"hovertemplate\":\"LOCATION=Mbizo<br>Customer Issue Category=%{x}<br>Count=%{y}<extra></extra>\",\"legendgroup\":\"Mbizo\",\"marker\":{\"color\":\"#EF553B\",\"pattern\":{\"shape\":\"\"}},\"name\":\"Mbizo\",\"offsetgroup\":\"Mbizo\",\"orientation\":\"v\",\"showlegend\":true,\"textposition\":\"auto\",\"x\":[\"Mobile Financial Services\",\"Service/Product Support\"],\"xaxis\":\"x\",\"y\":[1,1],\"yaxis\":\"y\",\"type\":\"bar\"},{\"alignmentgroup\":\"True\",\"hovertemplate\":\"LOCATION=Mudzi<br>Customer Issue Category=%{x}<br>Count=%{y}<extra></extra>\",\"legendgroup\":\"Mudzi\",\"marker\":{\"color\":\"#00cc96\",\"pattern\":{\"shape\":\"\"}},\"name\":\"Mudzi\",\"offsetgroup\":\"Mudzi\",\"orientation\":\"v\",\"showlegend\":true,\"textposition\":\"auto\",\"x\":[\"Mobile Financial Services\",\"Prepaid\",\"Service/Product Support\"],\"xaxis\":\"x\",\"y\":[1,1,1],\"yaxis\":\"y\",\"type\":\"bar\"},{\"alignmentgroup\":\"True\",\"hovertemplate\":\"LOCATION=Murambinda<br>Customer Issue Category=%{x}<br>Count=%{y}<extra></extra>\",\"legendgroup\":\"Murambinda\",\"marker\":{\"color\":\"#ab63fa\",\"pattern\":{\"shape\":\"\"}},\"name\":\"Murambinda\",\"offsetgroup\":\"Murambinda\",\"orientation\":\"v\",\"showlegend\":true,\"textposition\":\"auto\",\"x\":[\"Mobile Financial Services\",\"Prepaid\"],\"xaxis\":\"x\",\"y\":[1,1],\"yaxis\":\"y\",\"type\":\"bar\"},{\"alignmentgroup\":\"True\",\"hovertemplate\":\"LOCATION=Mutasa<br>Customer Issue Category=%{x}<br>Count=%{y}<extra></extra>\",\"legendgroup\":\"Mutasa\",\"marker\":{\"color\":\"#FFA15A\",\"pattern\":{\"shape\":\"\"}},\"name\":\"Mutasa\",\"offsetgroup\":\"Mutasa\",\"orientation\":\"v\",\"showlegend\":true,\"textposition\":\"auto\",\"x\":[\"Mobile Financial Services\",\"Prepaid\"],\"xaxis\":\"x\",\"y\":[1,1],\"yaxis\":\"y\",\"type\":\"bar\"},{\"alignmentgroup\":\"True\",\"hovertemplate\":\"LOCATION=Nyabira<br>Customer Issue Category=%{x}<br>Count=%{y}<extra></extra>\",\"legendgroup\":\"Nyabira\",\"marker\":{\"color\":\"#19d3f3\",\"pattern\":{\"shape\":\"\"}},\"name\":\"Nyabira\",\"offsetgroup\":\"Nyabira\",\"orientation\":\"v\",\"showlegend\":true,\"textposition\":\"auto\",\"x\":[\"Mobile Financial Services\",\"Other\",\"Service/Product Support\"],\"xaxis\":\"x\",\"y\":[1,1,1],\"yaxis\":\"y\",\"type\":\"bar\"},{\"alignmentgroup\":\"True\",\"hovertemplate\":\"LOCATION=Rafingora<br>Customer Issue Category=%{x}<br>Count=%{y}<extra></extra>\",\"legendgroup\":\"Rafingora\",\"marker\":{\"color\":\"#FF6692\",\"pattern\":{\"shape\":\"\"}},\"name\":\"Rafingora\",\"offsetgroup\":\"Rafingora\",\"orientation\":\"v\",\"showlegend\":true,\"textposition\":\"auto\",\"x\":[\"Mobile Financial Services\",\"Products and Services\"],\"xaxis\":\"x\",\"y\":[1,1],\"yaxis\":\"y\",\"type\":\"bar\"},{\"alignmentgroup\":\"True\",\"hovertemplate\":\"LOCATION=Sheeba<br>Customer Issue Category=%{x}<br>Count=%{y}<extra></extra>\",\"legendgroup\":\"Sheeba\",\"marker\":{\"color\":\"#B6E880\",\"pattern\":{\"shape\":\"\"}},\"name\":\"Sheeba\",\"offsetgroup\":\"Sheeba\",\"orientation\":\"v\",\"showlegend\":true,\"textposition\":\"auto\",\"x\":[\"Mobile Financial Services\"],\"xaxis\":\"x\",\"y\":[1],\"yaxis\":\"y\",\"type\":\"bar\"},{\"alignmentgroup\":\"True\",\"hovertemplate\":\"LOCATION=Tore<br>Customer Issue Category=%{x}<br>Count=%{y}<extra></extra>\",\"legendgroup\":\"Tore\",\"marker\":{\"color\":\"#FF97FF\",\"pattern\":{\"shape\":\"\"}},\"name\":\"Tore\",\"offsetgroup\":\"Tore\",\"orientation\":\"v\",\"showlegend\":true,\"textposition\":\"auto\",\"x\":[\"Mobile Financial Services\"],\"xaxis\":\"x\",\"y\":[1],\"yaxis\":\"y\",\"type\":\"bar\"},{\"alignmentgroup\":\"True\",\"hovertemplate\":\"LOCATION=Zaka<br>Customer Issue Category=%{x}<br>Count=%{y}<extra></extra>\",\"legendgroup\":\"Zaka\",\"marker\":{\"color\":\"#FECB52\",\"pattern\":{\"shape\":\"\"}},\"name\":\"Zaka\",\"offsetgroup\":\"Zaka\",\"orientation\":\"v\",\"showlegend\":true,\"textposition\":\"auto\",\"x\":[\"Mobile Financial Services\",\"Other\",\"Prepaid\"],\"xaxis\":\"x\",\"y\":[1,1,1],\"yaxis\":\"y\",\"type\":\"bar\"},{\"alignmentgroup\":\"True\",\"hovertemplate\":\"LOCATION=macheke<br>Customer Issue Category=%{x}<br>Count=%{y}<extra></extra>\",\"legendgroup\":\"macheke\",\"marker\":{\"color\":\"#636efa\",\"pattern\":{\"shape\":\"\"}},\"name\":\"macheke\",\"offsetgroup\":\"macheke\",\"orientation\":\"v\",\"showlegend\":true,\"textposition\":\"auto\",\"x\":[\"Mobile Financial Services\"],\"xaxis\":\"x\",\"y\":[1],\"yaxis\":\"y\",\"type\":\"bar\"},{\"alignmentgroup\":\"True\",\"hovertemplate\":\"LOCATION=mudzi<br>Customer Issue Category=%{x}<br>Count=%{y}<extra></extra>\",\"legendgroup\":\"mudzi\",\"marker\":{\"color\":\"#EF553B\",\"pattern\":{\"shape\":\"\"}},\"name\":\"mudzi\",\"offsetgroup\":\"mudzi\",\"orientation\":\"v\",\"showlegend\":true,\"textposition\":\"auto\",\"x\":[\"Mobile Financial Services\"],\"xaxis\":\"x\",\"y\":[1],\"yaxis\":\"y\",\"type\":\"bar\"},{\"alignmentgroup\":\"True\",\"hovertemplate\":\"LOCATION=Makande<br>Customer Issue Category=%{x}<br>Count=%{y}<extra></extra>\",\"legendgroup\":\"Makande\",\"marker\":{\"color\":\"#00cc96\",\"pattern\":{\"shape\":\"\"}},\"name\":\"Makande\",\"offsetgroup\":\"Makande\",\"orientation\":\"v\",\"showlegend\":true,\"textposition\":\"auto\",\"x\":[\"Network Quality of Service\"],\"xaxis\":\"x\",\"y\":[1],\"yaxis\":\"y\",\"type\":\"bar\"},{\"alignmentgroup\":\"True\",\"hovertemplate\":\"LOCATION=Crowhill<br>Customer Issue Category=%{x}<br>Count=%{y}<extra></extra>\",\"legendgroup\":\"Crowhill\",\"marker\":{\"color\":\"#ab63fa\",\"pattern\":{\"shape\":\"\"}},\"name\":\"Crowhill\",\"offsetgroup\":\"Crowhill\",\"orientation\":\"v\",\"showlegend\":true,\"textposition\":\"auto\",\"x\":[\"Other\"],\"xaxis\":\"x\",\"y\":[1],\"yaxis\":\"y\",\"type\":\"bar\"},{\"alignmentgroup\":\"True\",\"hovertemplate\":\"LOCATION=Godora<br>Customer Issue Category=%{x}<br>Count=%{y}<extra></extra>\",\"legendgroup\":\"Godora\",\"marker\":{\"color\":\"#FFA15A\",\"pattern\":{\"shape\":\"\"}},\"name\":\"Godora\",\"offsetgroup\":\"Godora\",\"orientation\":\"v\",\"showlegend\":true,\"textposition\":\"auto\",\"x\":[\"Other\"],\"xaxis\":\"x\",\"y\":[1],\"yaxis\":\"y\",\"type\":\"bar\"},{\"alignmentgroup\":\"True\",\"hovertemplate\":\"LOCATION=Gwanda<br>Customer Issue Category=%{x}<br>Count=%{y}<extra></extra>\",\"legendgroup\":\"Gwanda\",\"marker\":{\"color\":\"#19d3f3\",\"pattern\":{\"shape\":\"\"}},\"name\":\"Gwanda\",\"offsetgroup\":\"Gwanda\",\"orientation\":\"v\",\"showlegend\":true,\"textposition\":\"auto\",\"x\":[\"Other\",\"Prepaid\"],\"xaxis\":\"x\",\"y\":[1,2],\"yaxis\":\"y\",\"type\":\"bar\"},{\"alignmentgroup\":\"True\",\"hovertemplate\":\"LOCATION=Gwaze<br>Customer Issue Category=%{x}<br>Count=%{y}<extra></extra>\",\"legendgroup\":\"Gwaze\",\"marker\":{\"color\":\"#FF6692\",\"pattern\":{\"shape\":\"\"}},\"name\":\"Gwaze\",\"offsetgroup\":\"Gwaze\",\"orientation\":\"v\",\"showlegend\":true,\"textposition\":\"auto\",\"x\":[\"Other\"],\"xaxis\":\"x\",\"y\":[1],\"yaxis\":\"y\",\"type\":\"bar\"},{\"alignmentgroup\":\"True\",\"hovertemplate\":\"LOCATION=Lionsden<br>Customer Issue Category=%{x}<br>Count=%{y}<extra></extra>\",\"legendgroup\":\"Lionsden\",\"marker\":{\"color\":\"#B6E880\",\"pattern\":{\"shape\":\"\"}},\"name\":\"Lionsden\",\"offsetgroup\":\"Lionsden\",\"orientation\":\"v\",\"showlegend\":true,\"textposition\":\"auto\",\"x\":[\"Other\"],\"xaxis\":\"x\",\"y\":[1],\"yaxis\":\"y\",\"type\":\"bar\"},{\"alignmentgroup\":\"True\",\"hovertemplate\":\"LOCATION=Masowe<br>Customer Issue Category=%{x}<br>Count=%{y}<extra></extra>\",\"legendgroup\":\"Masowe\",\"marker\":{\"color\":\"#FF97FF\",\"pattern\":{\"shape\":\"\"}},\"name\":\"Masowe\",\"offsetgroup\":\"Masowe\",\"orientation\":\"v\",\"showlegend\":true,\"textposition\":\"auto\",\"x\":[\"Other\"],\"xaxis\":\"x\",\"y\":[1],\"yaxis\":\"y\",\"type\":\"bar\"},{\"alignmentgroup\":\"True\",\"hovertemplate\":\"LOCATION=Mataga<br>Customer Issue Category=%{x}<br>Count=%{y}<extra></extra>\",\"legendgroup\":\"Mataga\",\"marker\":{\"color\":\"#FECB52\",\"pattern\":{\"shape\":\"\"}},\"name\":\"Mataga\",\"offsetgroup\":\"Mataga\",\"orientation\":\"v\",\"showlegend\":true,\"textposition\":\"auto\",\"x\":[\"Other\"],\"xaxis\":\"x\",\"y\":[1],\"yaxis\":\"y\",\"type\":\"bar\"},{\"alignmentgroup\":\"True\",\"hovertemplate\":\"LOCATION=Mayo<br>Customer Issue Category=%{x}<br>Count=%{y}<extra></extra>\",\"legendgroup\":\"Mayo\",\"marker\":{\"color\":\"#636efa\",\"pattern\":{\"shape\":\"\"}},\"name\":\"Mayo\",\"offsetgroup\":\"Mayo\",\"orientation\":\"v\",\"showlegend\":true,\"textposition\":\"auto\",\"x\":[\"Other\"],\"xaxis\":\"x\",\"y\":[1],\"yaxis\":\"y\",\"type\":\"bar\"},{\"alignmentgroup\":\"True\",\"hovertemplate\":\"LOCATION=Nembudziya<br>Customer Issue Category=%{x}<br>Count=%{y}<extra></extra>\",\"legendgroup\":\"Nembudziya\",\"marker\":{\"color\":\"#EF553B\",\"pattern\":{\"shape\":\"\"}},\"name\":\"Nembudziya\",\"offsetgroup\":\"Nembudziya\",\"orientation\":\"v\",\"showlegend\":true,\"textposition\":\"auto\",\"x\":[\"Other\"],\"xaxis\":\"x\",\"y\":[1],\"yaxis\":\"y\",\"type\":\"bar\"},{\"alignmentgroup\":\"True\",\"hovertemplate\":\"LOCATION=Newlands<br>Customer Issue Category=%{x}<br>Count=%{y}<extra></extra>\",\"legendgroup\":\"Newlands\",\"marker\":{\"color\":\"#00cc96\",\"pattern\":{\"shape\":\"\"}},\"name\":\"Newlands\",\"offsetgroup\":\"Newlands\",\"orientation\":\"v\",\"showlegend\":true,\"textposition\":\"auto\",\"x\":[\"Other\"],\"xaxis\":\"x\",\"y\":[2],\"yaxis\":\"y\",\"type\":\"bar\"},{\"alignmentgroup\":\"True\",\"hovertemplate\":\"LOCATION=Alaska<br>Customer Issue Category=%{x}<br>Count=%{y}<extra></extra>\",\"legendgroup\":\"Alaska\",\"marker\":{\"color\":\"#ab63fa\",\"pattern\":{\"shape\":\"\"}},\"name\":\"Alaska\",\"offsetgroup\":\"Alaska\",\"orientation\":\"v\",\"showlegend\":true,\"textposition\":\"auto\",\"x\":[\"Prepaid\",\"Voice\"],\"xaxis\":\"x\",\"y\":[1,1],\"yaxis\":\"y\",\"type\":\"bar\"},{\"alignmentgroup\":\"True\",\"hovertemplate\":\"LOCATION=Battlefield<br>Customer Issue Category=%{x}<br>Count=%{y}<extra></extra>\",\"legendgroup\":\"Battlefield\",\"marker\":{\"color\":\"#FFA15A\",\"pattern\":{\"shape\":\"\"}},\"name\":\"Battlefield\",\"offsetgroup\":\"Battlefield\",\"orientation\":\"v\",\"showlegend\":true,\"textposition\":\"auto\",\"x\":[\"Prepaid\"],\"xaxis\":\"x\",\"y\":[1],\"yaxis\":\"y\",\"type\":\"bar\"},{\"alignmentgroup\":\"True\",\"hovertemplate\":\"LOCATION=Broomley<br>Customer Issue Category=%{x}<br>Count=%{y}<extra></extra>\",\"legendgroup\":\"Broomley\",\"marker\":{\"color\":\"#19d3f3\",\"pattern\":{\"shape\":\"\"}},\"name\":\"Broomley\",\"offsetgroup\":\"Broomley\",\"orientation\":\"v\",\"showlegend\":true,\"textposition\":\"auto\",\"x\":[\"Prepaid\",\"Voice\"],\"xaxis\":\"x\",\"y\":[1,1],\"yaxis\":\"y\",\"type\":\"bar\"},{\"alignmentgroup\":\"True\",\"hovertemplate\":\"LOCATION=Checheche<br>Customer Issue Category=%{x}<br>Count=%{y}<extra></extra>\",\"legendgroup\":\"Checheche\",\"marker\":{\"color\":\"#FF6692\",\"pattern\":{\"shape\":\"\"}},\"name\":\"Checheche\",\"offsetgroup\":\"Checheche\",\"orientation\":\"v\",\"showlegend\":true,\"textposition\":\"auto\",\"x\":[\"Prepaid\"],\"xaxis\":\"x\",\"y\":[1],\"yaxis\":\"y\",\"type\":\"bar\"},{\"alignmentgroup\":\"True\",\"hovertemplate\":\"LOCATION=Chimanimani<br>Customer Issue Category=%{x}<br>Count=%{y}<extra></extra>\",\"legendgroup\":\"Chimanimani\",\"marker\":{\"color\":\"#B6E880\",\"pattern\":{\"shape\":\"\"}},\"name\":\"Chimanimani\",\"offsetgroup\":\"Chimanimani\",\"orientation\":\"v\",\"showlegend\":true,\"textposition\":\"auto\",\"x\":[\"Prepaid\",\"SMS\",\"Service/Product Support\",\"Supplementary Services\"],\"xaxis\":\"x\",\"y\":[1,1,1,1],\"yaxis\":\"y\",\"type\":\"bar\"},{\"alignmentgroup\":\"True\",\"hovertemplate\":\"LOCATION=Chiweshe <br>Customer Issue Category=%{x}<br>Count=%{y}<extra></extra>\",\"legendgroup\":\"Chiweshe \",\"marker\":{\"color\":\"#FF97FF\",\"pattern\":{\"shape\":\"\"}},\"name\":\"Chiweshe \",\"offsetgroup\":\"Chiweshe \",\"orientation\":\"v\",\"showlegend\":true,\"textposition\":\"auto\",\"x\":[\"Prepaid\",\"SMS\"],\"xaxis\":\"x\",\"y\":[2,1],\"yaxis\":\"y\",\"type\":\"bar\"},{\"alignmentgroup\":\"True\",\"hovertemplate\":\"LOCATION=Churumhanzi<br>Customer Issue Category=%{x}<br>Count=%{y}<extra></extra>\",\"legendgroup\":\"Churumhanzi\",\"marker\":{\"color\":\"#FECB52\",\"pattern\":{\"shape\":\"\"}},\"name\":\"Churumhanzi\",\"offsetgroup\":\"Churumhanzi\",\"orientation\":\"v\",\"showlegend\":true,\"textposition\":\"auto\",\"x\":[\"Prepaid\"],\"xaxis\":\"x\",\"y\":[1],\"yaxis\":\"y\",\"type\":\"bar\"},{\"alignmentgroup\":\"True\",\"hovertemplate\":\"LOCATION=Esgodini<br>Customer Issue Category=%{x}<br>Count=%{y}<extra></extra>\",\"legendgroup\":\"Esgodini\",\"marker\":{\"color\":\"#636efa\",\"pattern\":{\"shape\":\"\"}},\"name\":\"Esgodini\",\"offsetgroup\":\"Esgodini\",\"orientation\":\"v\",\"showlegend\":true,\"textposition\":\"auto\",\"x\":[\"Prepaid\",\"Voice\"],\"xaxis\":\"x\",\"y\":[1,1],\"yaxis\":\"y\",\"type\":\"bar\"},{\"alignmentgroup\":\"True\",\"hovertemplate\":\"LOCATION=Glenforest<br>Customer Issue Category=%{x}<br>Count=%{y}<extra></extra>\",\"legendgroup\":\"Glenforest\",\"marker\":{\"color\":\"#EF553B\",\"pattern\":{\"shape\":\"\"}},\"name\":\"Glenforest\",\"offsetgroup\":\"Glenforest\",\"orientation\":\"v\",\"showlegend\":true,\"textposition\":\"auto\",\"x\":[\"Prepaid\"],\"xaxis\":\"x\",\"y\":[1],\"yaxis\":\"y\",\"type\":\"bar\"},{\"alignmentgroup\":\"True\",\"hovertemplate\":\"LOCATION=Headlands<br>Customer Issue Category=%{x}<br>Count=%{y}<extra></extra>\",\"legendgroup\":\"Headlands\",\"marker\":{\"color\":\"#00cc96\",\"pattern\":{\"shape\":\"\"}},\"name\":\"Headlands\",\"offsetgroup\":\"Headlands\",\"orientation\":\"v\",\"showlegend\":true,\"textposition\":\"auto\",\"x\":[\"Prepaid\",\"Voice\"],\"xaxis\":\"x\",\"y\":[2,1],\"yaxis\":\"y\",\"type\":\"bar\"},{\"alignmentgroup\":\"True\",\"hovertemplate\":\"LOCATION=Helwin<br>Customer Issue Category=%{x}<br>Count=%{y}<extra></extra>\",\"legendgroup\":\"Helwin\",\"marker\":{\"color\":\"#ab63fa\",\"pattern\":{\"shape\":\"\"}},\"name\":\"Helwin\",\"offsetgroup\":\"Helwin\",\"orientation\":\"v\",\"showlegend\":true,\"textposition\":\"auto\",\"x\":[\"Prepaid\"],\"xaxis\":\"x\",\"y\":[2],\"yaxis\":\"y\",\"type\":\"bar\"},{\"alignmentgroup\":\"True\",\"hovertemplate\":\"LOCATION=Lupane<br>Customer Issue Category=%{x}<br>Count=%{y}<extra></extra>\",\"legendgroup\":\"Lupane\",\"marker\":{\"color\":\"#FFA15A\",\"pattern\":{\"shape\":\"\"}},\"name\":\"Lupane\",\"offsetgroup\":\"Lupane\",\"orientation\":\"v\",\"showlegend\":true,\"textposition\":\"auto\",\"x\":[\"Prepaid\"],\"xaxis\":\"x\",\"y\":[1],\"yaxis\":\"y\",\"type\":\"bar\"},{\"alignmentgroup\":\"True\",\"hovertemplate\":\"LOCATION=Lusaka<br>Customer Issue Category=%{x}<br>Count=%{y}<extra></extra>\",\"legendgroup\":\"Lusaka\",\"marker\":{\"color\":\"#19d3f3\",\"pattern\":{\"shape\":\"\"}},\"name\":\"Lusaka\",\"offsetgroup\":\"Lusaka\",\"orientation\":\"v\",\"showlegend\":true,\"textposition\":\"auto\",\"x\":[\"Prepaid\"],\"xaxis\":\"x\",\"y\":[1],\"yaxis\":\"y\",\"type\":\"bar\"},{\"alignmentgroup\":\"True\",\"hovertemplate\":\"LOCATION=Macheke<br>Customer Issue Category=%{x}<br>Count=%{y}<extra></extra>\",\"legendgroup\":\"Macheke\",\"marker\":{\"color\":\"#FF6692\",\"pattern\":{\"shape\":\"\"}},\"name\":\"Macheke\",\"offsetgroup\":\"Macheke\",\"orientation\":\"v\",\"showlegend\":true,\"textposition\":\"auto\",\"x\":[\"Prepaid\",\"Voice\"],\"xaxis\":\"x\",\"y\":[2,1],\"yaxis\":\"y\",\"type\":\"bar\"},{\"alignmentgroup\":\"True\",\"hovertemplate\":\"LOCATION=Manyame<br>Customer Issue Category=%{x}<br>Count=%{y}<extra></extra>\",\"legendgroup\":\"Manyame\",\"marker\":{\"color\":\"#B6E880\",\"pattern\":{\"shape\":\"\"}},\"name\":\"Manyame\",\"offsetgroup\":\"Manyame\",\"orientation\":\"v\",\"showlegend\":true,\"textposition\":\"auto\",\"x\":[\"Prepaid\"],\"xaxis\":\"x\",\"y\":[1],\"yaxis\":\"y\",\"type\":\"bar\"},{\"alignmentgroup\":\"True\",\"hovertemplate\":\"LOCATION=Marange<br>Customer Issue Category=%{x}<br>Count=%{y}<extra></extra>\",\"legendgroup\":\"Marange\",\"marker\":{\"color\":\"#FF97FF\",\"pattern\":{\"shape\":\"\"}},\"name\":\"Marange\",\"offsetgroup\":\"Marange\",\"orientation\":\"v\",\"showlegend\":true,\"textposition\":\"auto\",\"x\":[\"Prepaid\",\"Service/Product Support\",\"Voice\"],\"xaxis\":\"x\",\"y\":[1,2,2],\"yaxis\":\"y\",\"type\":\"bar\"},{\"alignmentgroup\":\"True\",\"hovertemplate\":\"LOCATION=Melford<br>Customer Issue Category=%{x}<br>Count=%{y}<extra></extra>\",\"legendgroup\":\"Melford\",\"marker\":{\"color\":\"#FECB52\",\"pattern\":{\"shape\":\"\"}},\"name\":\"Melford\",\"offsetgroup\":\"Melford\",\"orientation\":\"v\",\"showlegend\":true,\"textposition\":\"auto\",\"x\":[\"Prepaid\"],\"xaxis\":\"x\",\"y\":[1],\"yaxis\":\"y\",\"type\":\"bar\"},{\"alignmentgroup\":\"True\",\"hovertemplate\":\"LOCATION=Msasa<br>Customer Issue Category=%{x}<br>Count=%{y}<extra></extra>\",\"legendgroup\":\"Msasa\",\"marker\":{\"color\":\"#636efa\",\"pattern\":{\"shape\":\"\"}},\"name\":\"Msasa\",\"offsetgroup\":\"Msasa\",\"orientation\":\"v\",\"showlegend\":true,\"textposition\":\"auto\",\"x\":[\"Prepaid\"],\"xaxis\":\"x\",\"y\":[1],\"yaxis\":\"y\",\"type\":\"bar\"},{\"alignmentgroup\":\"True\",\"hovertemplate\":\"LOCATION=Mutare <br>Customer Issue Category=%{x}<br>Count=%{y}<extra></extra>\",\"legendgroup\":\"Mutare \",\"marker\":{\"color\":\"#EF553B\",\"pattern\":{\"shape\":\"\"}},\"name\":\"Mutare \",\"offsetgroup\":\"Mutare \",\"orientation\":\"v\",\"showlegend\":true,\"textposition\":\"auto\",\"x\":[\"Prepaid\"],\"xaxis\":\"x\",\"y\":[1],\"yaxis\":\"y\",\"type\":\"bar\"},{\"alignmentgroup\":\"True\",\"hovertemplate\":\"LOCATION=Mvuma<br>Customer Issue Category=%{x}<br>Count=%{y}<extra></extra>\",\"legendgroup\":\"Mvuma\",\"marker\":{\"color\":\"#00cc96\",\"pattern\":{\"shape\":\"\"}},\"name\":\"Mvuma\",\"offsetgroup\":\"Mvuma\",\"orientation\":\"v\",\"showlegend\":true,\"textposition\":\"auto\",\"x\":[\"Prepaid\"],\"xaxis\":\"x\",\"y\":[2],\"yaxis\":\"y\",\"type\":\"bar\"},{\"alignmentgroup\":\"True\",\"hovertemplate\":\"LOCATION=Ngundu<br>Customer Issue Category=%{x}<br>Count=%{y}<extra></extra>\",\"legendgroup\":\"Ngundu\",\"marker\":{\"color\":\"#ab63fa\",\"pattern\":{\"shape\":\"\"}},\"name\":\"Ngundu\",\"offsetgroup\":\"Ngundu\",\"orientation\":\"v\",\"showlegend\":true,\"textposition\":\"auto\",\"x\":[\"Prepaid\"],\"xaxis\":\"x\",\"y\":[1],\"yaxis\":\"y\",\"type\":\"bar\"},{\"alignmentgroup\":\"True\",\"hovertemplate\":\"LOCATION=Nyahondo<br>Customer Issue Category=%{x}<br>Count=%{y}<extra></extra>\",\"legendgroup\":\"Nyahondo\",\"marker\":{\"color\":\"#FFA15A\",\"pattern\":{\"shape\":\"\"}},\"name\":\"Nyahondo\",\"offsetgroup\":\"Nyahondo\",\"orientation\":\"v\",\"showlegend\":true,\"textposition\":\"auto\",\"x\":[\"Prepaid\"],\"xaxis\":\"x\",\"y\":[1],\"yaxis\":\"y\",\"type\":\"bar\"},{\"alignmentgroup\":\"True\",\"hovertemplate\":\"LOCATION=Nyamapanda<br>Customer Issue Category=%{x}<br>Count=%{y}<extra></extra>\",\"legendgroup\":\"Nyamapanda\",\"marker\":{\"color\":\"#19d3f3\",\"pattern\":{\"shape\":\"\"}},\"name\":\"Nyamapanda\",\"offsetgroup\":\"Nyamapanda\",\"orientation\":\"v\",\"showlegend\":true,\"textposition\":\"auto\",\"x\":[\"Prepaid\"],\"xaxis\":\"x\",\"y\":[1],\"yaxis\":\"y\",\"type\":\"bar\"},{\"alignmentgroup\":\"True\",\"hovertemplate\":\"LOCATION=Rushinga<br>Customer Issue Category=%{x}<br>Count=%{y}<extra></extra>\",\"legendgroup\":\"Rushinga\",\"marker\":{\"color\":\"#FF6692\",\"pattern\":{\"shape\":\"\"}},\"name\":\"Rushinga\",\"offsetgroup\":\"Rushinga\",\"orientation\":\"v\",\"showlegend\":true,\"textposition\":\"auto\",\"x\":[\"Prepaid\"],\"xaxis\":\"x\",\"y\":[1],\"yaxis\":\"y\",\"type\":\"bar\"},{\"alignmentgroup\":\"True\",\"hovertemplate\":\"LOCATION=Sadza<br>Customer Issue Category=%{x}<br>Count=%{y}<extra></extra>\",\"legendgroup\":\"Sadza\",\"marker\":{\"color\":\"#B6E880\",\"pattern\":{\"shape\":\"\"}},\"name\":\"Sadza\",\"offsetgroup\":\"Sadza\",\"orientation\":\"v\",\"showlegend\":true,\"textposition\":\"auto\",\"x\":[\"Prepaid\"],\"xaxis\":\"x\",\"y\":[1],\"yaxis\":\"y\",\"type\":\"bar\"},{\"alignmentgroup\":\"True\",\"hovertemplate\":\"LOCATION=Sanyati <br>Customer Issue Category=%{x}<br>Count=%{y}<extra></extra>\",\"legendgroup\":\"Sanyati \",\"marker\":{\"color\":\"#FF97FF\",\"pattern\":{\"shape\":\"\"}},\"name\":\"Sanyati \",\"offsetgroup\":\"Sanyati \",\"orientation\":\"v\",\"showlegend\":true,\"textposition\":\"auto\",\"x\":[\"Prepaid\",\"Service/Product Support\"],\"xaxis\":\"x\",\"y\":[1,1],\"yaxis\":\"y\",\"type\":\"bar\"},{\"alignmentgroup\":\"True\",\"hovertemplate\":\"LOCATION=Sinai<br>Customer Issue Category=%{x}<br>Count=%{y}<extra></extra>\",\"legendgroup\":\"Sinai\",\"marker\":{\"color\":\"#FECB52\",\"pattern\":{\"shape\":\"\"}},\"name\":\"Sinai\",\"offsetgroup\":\"Sinai\",\"orientation\":\"v\",\"showlegend\":true,\"textposition\":\"auto\",\"x\":[\"Prepaid\"],\"xaxis\":\"x\",\"y\":[1],\"yaxis\":\"y\",\"type\":\"bar\"},{\"alignmentgroup\":\"True\",\"hovertemplate\":\"LOCATION=St Alberts <br>Customer Issue Category=%{x}<br>Count=%{y}<extra></extra>\",\"legendgroup\":\"St Alberts \",\"marker\":{\"color\":\"#636efa\",\"pattern\":{\"shape\":\"\"}},\"name\":\"St Alberts \",\"offsetgroup\":\"St Alberts \",\"orientation\":\"v\",\"showlegend\":true,\"textposition\":\"auto\",\"x\":[\"Prepaid\",\"Products and Services\"],\"xaxis\":\"x\",\"y\":[1,1],\"yaxis\":\"y\",\"type\":\"bar\"},{\"alignmentgroup\":\"True\",\"hovertemplate\":\"LOCATION=Support Unit<br>Customer Issue Category=%{x}<br>Count=%{y}<extra></extra>\",\"legendgroup\":\"Support Unit\",\"marker\":{\"color\":\"#EF553B\",\"pattern\":{\"shape\":\"\"}},\"name\":\"Support Unit\",\"offsetgroup\":\"Support Unit\",\"orientation\":\"v\",\"showlegend\":true,\"textposition\":\"auto\",\"x\":[\"Prepaid\"],\"xaxis\":\"x\",\"y\":[1],\"yaxis\":\"y\",\"type\":\"bar\"},{\"alignmentgroup\":\"True\",\"hovertemplate\":\"LOCATION=Triangle <br>Customer Issue Category=%{x}<br>Count=%{y}<extra></extra>\",\"legendgroup\":\"Triangle \",\"marker\":{\"color\":\"#00cc96\",\"pattern\":{\"shape\":\"\"}},\"name\":\"Triangle \",\"offsetgroup\":\"Triangle \",\"orientation\":\"v\",\"showlegend\":true,\"textposition\":\"auto\",\"x\":[\"Prepaid\"],\"xaxis\":\"x\",\"y\":[1],\"yaxis\":\"y\",\"type\":\"bar\"},{\"alignmentgroup\":\"True\",\"hovertemplate\":\"LOCATION=hwange<br>Customer Issue Category=%{x}<br>Count=%{y}<extra></extra>\",\"legendgroup\":\"hwange\",\"marker\":{\"color\":\"#ab63fa\",\"pattern\":{\"shape\":\"\"}},\"name\":\"hwange\",\"offsetgroup\":\"hwange\",\"orientation\":\"v\",\"showlegend\":true,\"textposition\":\"auto\",\"x\":[\"Prepaid\"],\"xaxis\":\"x\",\"y\":[1],\"yaxis\":\"y\",\"type\":\"bar\"},{\"alignmentgroup\":\"True\",\"hovertemplate\":\"LOCATION=mutoko<br>Customer Issue Category=%{x}<br>Count=%{y}<extra></extra>\",\"legendgroup\":\"mutoko\",\"marker\":{\"color\":\"#FFA15A\",\"pattern\":{\"shape\":\"\"}},\"name\":\"mutoko\",\"offsetgroup\":\"mutoko\",\"orientation\":\"v\",\"showlegend\":true,\"textposition\":\"auto\",\"x\":[\"Prepaid\",\"SMS\",\"Service/Product Support\"],\"xaxis\":\"x\",\"y\":[2,1,1],\"yaxis\":\"y\",\"type\":\"bar\"},{\"alignmentgroup\":\"True\",\"hovertemplate\":\"LOCATION=mvurwi<br>Customer Issue Category=%{x}<br>Count=%{y}<extra></extra>\",\"legendgroup\":\"mvurwi\",\"marker\":{\"color\":\"#19d3f3\",\"pattern\":{\"shape\":\"\"}},\"name\":\"mvurwi\",\"offsetgroup\":\"mvurwi\",\"orientation\":\"v\",\"showlegend\":true,\"textposition\":\"auto\",\"x\":[\"Prepaid\",\"Voice\"],\"xaxis\":\"x\",\"y\":[1,1],\"yaxis\":\"y\",\"type\":\"bar\"},{\"alignmentgroup\":\"True\",\"hovertemplate\":\"LOCATION=tengwe<br>Customer Issue Category=%{x}<br>Count=%{y}<extra></extra>\",\"legendgroup\":\"tengwe\",\"marker\":{\"color\":\"#FF6692\",\"pattern\":{\"shape\":\"\"}},\"name\":\"tengwe\",\"offsetgroup\":\"tengwe\",\"orientation\":\"v\",\"showlegend\":true,\"textposition\":\"auto\",\"x\":[\"Prepaid\"],\"xaxis\":\"x\",\"y\":[1],\"yaxis\":\"y\",\"type\":\"bar\"},{\"alignmentgroup\":\"True\",\"hovertemplate\":\"LOCATION=wedza<br>Customer Issue Category=%{x}<br>Count=%{y}<extra></extra>\",\"legendgroup\":\"wedza\",\"marker\":{\"color\":\"#B6E880\",\"pattern\":{\"shape\":\"\"}},\"name\":\"wedza\",\"offsetgroup\":\"wedza\",\"orientation\":\"v\",\"showlegend\":true,\"textposition\":\"auto\",\"x\":[\"Prepaid\"],\"xaxis\":\"x\",\"y\":[1],\"yaxis\":\"y\",\"type\":\"bar\"},{\"alignmentgroup\":\"True\",\"hovertemplate\":\"LOCATION=zvimba<br>Customer Issue Category=%{x}<br>Count=%{y}<extra></extra>\",\"legendgroup\":\"zvimba\",\"marker\":{\"color\":\"#FF97FF\",\"pattern\":{\"shape\":\"\"}},\"name\":\"zvimba\",\"offsetgroup\":\"zvimba\",\"orientation\":\"v\",\"showlegend\":true,\"textposition\":\"auto\",\"x\":[\"Prepaid\"],\"xaxis\":\"x\",\"y\":[1],\"yaxis\":\"y\",\"type\":\"bar\"},{\"alignmentgroup\":\"True\",\"hovertemplate\":\"LOCATION=Makonde<br>Customer Issue Category=%{x}<br>Count=%{y}<extra></extra>\",\"legendgroup\":\"Makonde\",\"marker\":{\"color\":\"#FECB52\",\"pattern\":{\"shape\":\"\"}},\"name\":\"Makonde\",\"offsetgroup\":\"Makonde\",\"orientation\":\"v\",\"showlegend\":true,\"textposition\":\"auto\",\"x\":[\"Product Distribution \",\"Service/Product Support\"],\"xaxis\":\"x\",\"y\":[1,1],\"yaxis\":\"y\",\"type\":\"bar\"},{\"alignmentgroup\":\"True\",\"hovertemplate\":\"LOCATION=Tynwald <br>Customer Issue Category=%{x}<br>Count=%{y}<extra></extra>\",\"legendgroup\":\"Tynwald \",\"marker\":{\"color\":\"#636efa\",\"pattern\":{\"shape\":\"\"}},\"name\":\"Tynwald \",\"offsetgroup\":\"Tynwald \",\"orientation\":\"v\",\"showlegend\":true,\"textposition\":\"auto\",\"x\":[\"Product Distribution \"],\"xaxis\":\"x\",\"y\":[1],\"yaxis\":\"y\",\"type\":\"bar\"},{\"alignmentgroup\":\"True\",\"hovertemplate\":\"LOCATION=Furtherstone<br>Customer Issue Category=%{x}<br>Count=%{y}<extra></extra>\",\"legendgroup\":\"Furtherstone\",\"marker\":{\"color\":\"#EF553B\",\"pattern\":{\"shape\":\"\"}},\"name\":\"Furtherstone\",\"offsetgroup\":\"Furtherstone\",\"orientation\":\"v\",\"showlegend\":true,\"textposition\":\"auto\",\"x\":[\"Products and Services\",\"SMS\"],\"xaxis\":\"x\",\"y\":[1,1],\"yaxis\":\"y\",\"type\":\"bar\"},{\"alignmentgroup\":\"True\",\"hovertemplate\":\"LOCATION=Hwange<br>Customer Issue Category=%{x}<br>Count=%{y}<extra></extra>\",\"legendgroup\":\"Hwange\",\"marker\":{\"color\":\"#00cc96\",\"pattern\":{\"shape\":\"\"}},\"name\":\"Hwange\",\"offsetgroup\":\"Hwange\",\"orientation\":\"v\",\"showlegend\":true,\"textposition\":\"auto\",\"x\":[\"Products and Services\"],\"xaxis\":\"x\",\"y\":[1],\"yaxis\":\"y\",\"type\":\"bar\"},{\"alignmentgroup\":\"True\",\"hovertemplate\":\"LOCATION=Mazvikadei<br>Customer Issue Category=%{x}<br>Count=%{y}<extra></extra>\",\"legendgroup\":\"Mazvikadei\",\"marker\":{\"color\":\"#ab63fa\",\"pattern\":{\"shape\":\"\"}},\"name\":\"Mazvikadei\",\"offsetgroup\":\"Mazvikadei\",\"orientation\":\"v\",\"showlegend\":true,\"textposition\":\"auto\",\"x\":[\"Products and Services\"],\"xaxis\":\"x\",\"y\":[1],\"yaxis\":\"y\",\"type\":\"bar\"},{\"alignmentgroup\":\"True\",\"hovertemplate\":\"LOCATION=mrehwa<br>Customer Issue Category=%{x}<br>Count=%{y}<extra></extra>\",\"legendgroup\":\"mrehwa\",\"marker\":{\"color\":\"#FFA15A\",\"pattern\":{\"shape\":\"\"}},\"name\":\"mrehwa\",\"offsetgroup\":\"mrehwa\",\"orientation\":\"v\",\"showlegend\":true,\"textposition\":\"auto\",\"x\":[\"Products and Services\"],\"xaxis\":\"x\",\"y\":[1],\"yaxis\":\"y\",\"type\":\"bar\"},{\"alignmentgroup\":\"True\",\"hovertemplate\":\"LOCATION=gokwe<br>Customer Issue Category=%{x}<br>Count=%{y}<extra></extra>\",\"legendgroup\":\"gokwe\",\"marker\":{\"color\":\"#19d3f3\",\"pattern\":{\"shape\":\"\"}},\"name\":\"gokwe\",\"offsetgroup\":\"gokwe\",\"orientation\":\"v\",\"showlegend\":true,\"textposition\":\"auto\",\"x\":[\"Roaming and International services\",\"Service/Product Support\"],\"xaxis\":\"x\",\"y\":[1,1],\"yaxis\":\"y\",\"type\":\"bar\"},{\"alignmentgroup\":\"True\",\"hovertemplate\":\"LOCATION=Hauna<br>Customer Issue Category=%{x}<br>Count=%{y}<extra></extra>\",\"legendgroup\":\"Hauna\",\"marker\":{\"color\":\"#FF6692\",\"pattern\":{\"shape\":\"\"}},\"name\":\"Hauna\",\"offsetgroup\":\"Hauna\",\"orientation\":\"v\",\"showlegend\":true,\"textposition\":\"auto\",\"x\":[\"SMS\"],\"xaxis\":\"x\",\"y\":[1],\"yaxis\":\"y\",\"type\":\"bar\"},{\"alignmentgroup\":\"True\",\"hovertemplate\":\"LOCATION=Mujinga<br>Customer Issue Category=%{x}<br>Count=%{y}<extra></extra>\",\"legendgroup\":\"Mujinga\",\"marker\":{\"color\":\"#B6E880\",\"pattern\":{\"shape\":\"\"}},\"name\":\"Mujinga\",\"offsetgroup\":\"Mujinga\",\"orientation\":\"v\",\"showlegend\":true,\"textposition\":\"auto\",\"x\":[\"SMS\"],\"xaxis\":\"x\",\"y\":[1],\"yaxis\":\"y\",\"type\":\"bar\"},{\"alignmentgroup\":\"True\",\"hovertemplate\":\"LOCATION=Runde<br>Customer Issue Category=%{x}<br>Count=%{y}<extra></extra>\",\"legendgroup\":\"Runde\",\"marker\":{\"color\":\"#FF97FF\",\"pattern\":{\"shape\":\"\"}},\"name\":\"Runde\",\"offsetgroup\":\"Runde\",\"orientation\":\"v\",\"showlegend\":true,\"textposition\":\"auto\",\"x\":[\"SMS\"],\"xaxis\":\"x\",\"y\":[1],\"yaxis\":\"y\",\"type\":\"bar\"},{\"alignmentgroup\":\"True\",\"hovertemplate\":\"LOCATION=Tengwe<br>Customer Issue Category=%{x}<br>Count=%{y}<extra></extra>\",\"legendgroup\":\"Tengwe\",\"marker\":{\"color\":\"#FECB52\",\"pattern\":{\"shape\":\"\"}},\"name\":\"Tengwe\",\"offsetgroup\":\"Tengwe\",\"orientation\":\"v\",\"showlegend\":true,\"textposition\":\"auto\",\"x\":[\"SMS\"],\"xaxis\":\"x\",\"y\":[2],\"yaxis\":\"y\",\"type\":\"bar\"},{\"alignmentgroup\":\"True\",\"hovertemplate\":\"LOCATION=gweru<br>Customer Issue Category=%{x}<br>Count=%{y}<extra></extra>\",\"legendgroup\":\"gweru\",\"marker\":{\"color\":\"#636efa\",\"pattern\":{\"shape\":\"\"}},\"name\":\"gweru\",\"offsetgroup\":\"gweru\",\"orientation\":\"v\",\"showlegend\":true,\"textposition\":\"auto\",\"x\":[\"SMS\"],\"xaxis\":\"x\",\"y\":[1],\"yaxis\":\"y\",\"type\":\"bar\"},{\"alignmentgroup\":\"True\",\"hovertemplate\":\"LOCATION=honde valley<br>Customer Issue Category=%{x}<br>Count=%{y}<extra></extra>\",\"legendgroup\":\"honde valley\",\"marker\":{\"color\":\"#EF553B\",\"pattern\":{\"shape\":\"\"}},\"name\":\"honde valley\",\"offsetgroup\":\"honde valley\",\"orientation\":\"v\",\"showlegend\":true,\"textposition\":\"auto\",\"x\":[\"SMS\"],\"xaxis\":\"x\",\"y\":[1],\"yaxis\":\"y\",\"type\":\"bar\"},{\"alignmentgroup\":\"True\",\"hovertemplate\":\"LOCATION=hurungwe<br>Customer Issue Category=%{x}<br>Count=%{y}<extra></extra>\",\"legendgroup\":\"hurungwe\",\"marker\":{\"color\":\"#00cc96\",\"pattern\":{\"shape\":\"\"}},\"name\":\"hurungwe\",\"offsetgroup\":\"hurungwe\",\"orientation\":\"v\",\"showlegend\":true,\"textposition\":\"auto\",\"x\":[\"SMS\"],\"xaxis\":\"x\",\"y\":[1],\"yaxis\":\"y\",\"type\":\"bar\"},{\"alignmentgroup\":\"True\",\"hovertemplate\":\"LOCATION=Bhora<br>Customer Issue Category=%{x}<br>Count=%{y}<extra></extra>\",\"legendgroup\":\"Bhora\",\"marker\":{\"color\":\"#ab63fa\",\"pattern\":{\"shape\":\"\"}},\"name\":\"Bhora\",\"offsetgroup\":\"Bhora\",\"orientation\":\"v\",\"showlegend\":true,\"textposition\":\"auto\",\"x\":[\"Service/Product Support\"],\"xaxis\":\"x\",\"y\":[1],\"yaxis\":\"y\",\"type\":\"bar\"},{\"alignmentgroup\":\"True\",\"hovertemplate\":\"LOCATION=Chikomo<br>Customer Issue Category=%{x}<br>Count=%{y}<extra></extra>\",\"legendgroup\":\"Chikomo\",\"marker\":{\"color\":\"#FFA15A\",\"pattern\":{\"shape\":\"\"}},\"name\":\"Chikomo\",\"offsetgroup\":\"Chikomo\",\"orientation\":\"v\",\"showlegend\":true,\"textposition\":\"auto\",\"x\":[\"Service/Product Support\"],\"xaxis\":\"x\",\"y\":[1],\"yaxis\":\"y\",\"type\":\"bar\"},{\"alignmentgroup\":\"True\",\"hovertemplate\":\"LOCATION=Chiodza<br>Customer Issue Category=%{x}<br>Count=%{y}<extra></extra>\",\"legendgroup\":\"Chiodza\",\"marker\":{\"color\":\"#19d3f3\",\"pattern\":{\"shape\":\"\"}},\"name\":\"Chiodza\",\"offsetgroup\":\"Chiodza\",\"orientation\":\"v\",\"showlegend\":true,\"textposition\":\"auto\",\"x\":[\"Service/Product Support\"],\"xaxis\":\"x\",\"y\":[1],\"yaxis\":\"y\",\"type\":\"bar\"},{\"alignmentgroup\":\"True\",\"hovertemplate\":\"LOCATION=Chisipite<br>Customer Issue Category=%{x}<br>Count=%{y}<extra></extra>\",\"legendgroup\":\"Chisipite\",\"marker\":{\"color\":\"#FF6692\",\"pattern\":{\"shape\":\"\"}},\"name\":\"Chisipite\",\"offsetgroup\":\"Chisipite\",\"orientation\":\"v\",\"showlegend\":true,\"textposition\":\"auto\",\"x\":[\"Service/Product Support\"],\"xaxis\":\"x\",\"y\":[1],\"yaxis\":\"y\",\"type\":\"bar\"},{\"alignmentgroup\":\"True\",\"hovertemplate\":\"LOCATION=Eastlea<br>Customer Issue Category=%{x}<br>Count=%{y}<extra></extra>\",\"legendgroup\":\"Eastlea\",\"marker\":{\"color\":\"#B6E880\",\"pattern\":{\"shape\":\"\"}},\"name\":\"Eastlea\",\"offsetgroup\":\"Eastlea\",\"orientation\":\"v\",\"showlegend\":true,\"textposition\":\"auto\",\"x\":[\"Service/Product Support\"],\"xaxis\":\"x\",\"y\":[2],\"yaxis\":\"y\",\"type\":\"bar\"},{\"alignmentgroup\":\"True\",\"hovertemplate\":\"LOCATION=Howard<br>Customer Issue Category=%{x}<br>Count=%{y}<extra></extra>\",\"legendgroup\":\"Howard\",\"marker\":{\"color\":\"#FF97FF\",\"pattern\":{\"shape\":\"\"}},\"name\":\"Howard\",\"offsetgroup\":\"Howard\",\"orientation\":\"v\",\"showlegend\":true,\"textposition\":\"auto\",\"x\":[\"Service/Product Support\"],\"xaxis\":\"x\",\"y\":[1],\"yaxis\":\"y\",\"type\":\"bar\"},{\"alignmentgroup\":\"True\",\"hovertemplate\":\"LOCATION=Kotwa<br>Customer Issue Category=%{x}<br>Count=%{y}<extra></extra>\",\"legendgroup\":\"Kotwa\",\"marker\":{\"color\":\"#FECB52\",\"pattern\":{\"shape\":\"\"}},\"name\":\"Kotwa\",\"offsetgroup\":\"Kotwa\",\"orientation\":\"v\",\"showlegend\":true,\"textposition\":\"auto\",\"x\":[\"Service/Product Support\"],\"xaxis\":\"x\",\"y\":[1],\"yaxis\":\"y\",\"type\":\"bar\"},{\"alignmentgroup\":\"True\",\"hovertemplate\":\"LOCATION=Matepatepa<br>Customer Issue Category=%{x}<br>Count=%{y}<extra></extra>\",\"legendgroup\":\"Matepatepa\",\"marker\":{\"color\":\"#636efa\",\"pattern\":{\"shape\":\"\"}},\"name\":\"Matepatepa\",\"offsetgroup\":\"Matepatepa\",\"orientation\":\"v\",\"showlegend\":true,\"textposition\":\"auto\",\"x\":[\"Service/Product Support\"],\"xaxis\":\"x\",\"y\":[1],\"yaxis\":\"y\",\"type\":\"bar\"},{\"alignmentgroup\":\"True\",\"hovertemplate\":\"LOCATION=Mutawatawa<br>Customer Issue Category=%{x}<br>Count=%{y}<extra></extra>\",\"legendgroup\":\"Mutawatawa\",\"marker\":{\"color\":\"#EF553B\",\"pattern\":{\"shape\":\"\"}},\"name\":\"Mutawatawa\",\"offsetgroup\":\"Mutawatawa\",\"orientation\":\"v\",\"showlegend\":true,\"textposition\":\"auto\",\"x\":[\"Service/Product Support\"],\"xaxis\":\"x\",\"y\":[1],\"yaxis\":\"y\",\"type\":\"bar\"},{\"alignmentgroup\":\"True\",\"hovertemplate\":\"LOCATION=Nkayi<br>Customer Issue Category=%{x}<br>Count=%{y}<extra></extra>\",\"legendgroup\":\"Nkayi\",\"marker\":{\"color\":\"#00cc96\",\"pattern\":{\"shape\":\"\"}},\"name\":\"Nkayi\",\"offsetgroup\":\"Nkayi\",\"orientation\":\"v\",\"showlegend\":true,\"textposition\":\"auto\",\"x\":[\"Service/Product Support\"],\"xaxis\":\"x\",\"y\":[1],\"yaxis\":\"y\",\"type\":\"bar\"},{\"alignmentgroup\":\"True\",\"hovertemplate\":\"LOCATION=Pomona<br>Customer Issue Category=%{x}<br>Count=%{y}<extra></extra>\",\"legendgroup\":\"Pomona\",\"marker\":{\"color\":\"#ab63fa\",\"pattern\":{\"shape\":\"\"}},\"name\":\"Pomona\",\"offsetgroup\":\"Pomona\",\"orientation\":\"v\",\"showlegend\":true,\"textposition\":\"auto\",\"x\":[\"Service/Product Support\"],\"xaxis\":\"x\",\"y\":[1],\"yaxis\":\"y\",\"type\":\"bar\"},{\"alignmentgroup\":\"True\",\"hovertemplate\":\"LOCATION=Rugare<br>Customer Issue Category=%{x}<br>Count=%{y}<extra></extra>\",\"legendgroup\":\"Rugare\",\"marker\":{\"color\":\"#FFA15A\",\"pattern\":{\"shape\":\"\"}},\"name\":\"Rugare\",\"offsetgroup\":\"Rugare\",\"orientation\":\"v\",\"showlegend\":true,\"textposition\":\"auto\",\"x\":[\"Service/Product Support\"],\"xaxis\":\"x\",\"y\":[1],\"yaxis\":\"y\",\"type\":\"bar\"},{\"alignmentgroup\":\"True\",\"hovertemplate\":\"LOCATION=Selous<br>Customer Issue Category=%{x}<br>Count=%{y}<extra></extra>\",\"legendgroup\":\"Selous\",\"marker\":{\"color\":\"#19d3f3\",\"pattern\":{\"shape\":\"\"}},\"name\":\"Selous\",\"offsetgroup\":\"Selous\",\"orientation\":\"v\",\"showlegend\":true,\"textposition\":\"auto\",\"x\":[\"Service/Product Support\"],\"xaxis\":\"x\",\"y\":[1],\"yaxis\":\"y\",\"type\":\"bar\"},{\"alignmentgroup\":\"True\",\"hovertemplate\":\"LOCATION=Sherwood <br>Customer Issue Category=%{x}<br>Count=%{y}<extra></extra>\",\"legendgroup\":\"Sherwood \",\"marker\":{\"color\":\"#FF6692\",\"pattern\":{\"shape\":\"\"}},\"name\":\"Sherwood \",\"offsetgroup\":\"Sherwood \",\"orientation\":\"v\",\"showlegend\":true,\"textposition\":\"auto\",\"x\":[\"Service/Product Support\"],\"xaxis\":\"x\",\"y\":[1],\"yaxis\":\"y\",\"type\":\"bar\"},{\"alignmentgroup\":\"True\",\"hovertemplate\":\"LOCATION=Tsholotsho<br>Customer Issue Category=%{x}<br>Count=%{y}<extra></extra>\",\"legendgroup\":\"Tsholotsho\",\"marker\":{\"color\":\"#B6E880\",\"pattern\":{\"shape\":\"\"}},\"name\":\"Tsholotsho\",\"offsetgroup\":\"Tsholotsho\",\"orientation\":\"v\",\"showlegend\":true,\"textposition\":\"auto\",\"x\":[\"Service/Product Support\"],\"xaxis\":\"x\",\"y\":[1],\"yaxis\":\"y\",\"type\":\"bar\"},{\"alignmentgroup\":\"True\",\"hovertemplate\":\"LOCATION=karoi<br>Customer Issue Category=%{x}<br>Count=%{y}<extra></extra>\",\"legendgroup\":\"karoi\",\"marker\":{\"color\":\"#FF97FF\",\"pattern\":{\"shape\":\"\"}},\"name\":\"karoi\",\"offsetgroup\":\"karoi\",\"orientation\":\"v\",\"showlegend\":true,\"textposition\":\"auto\",\"x\":[\"Service/Product Support\"],\"xaxis\":\"x\",\"y\":[1],\"yaxis\":\"y\",\"type\":\"bar\"},{\"alignmentgroup\":\"True\",\"hovertemplate\":\"LOCATION=nyanga<br>Customer Issue Category=%{x}<br>Count=%{y}<extra></extra>\",\"legendgroup\":\"nyanga\",\"marker\":{\"color\":\"#FECB52\",\"pattern\":{\"shape\":\"\"}},\"name\":\"nyanga\",\"offsetgroup\":\"nyanga\",\"orientation\":\"v\",\"showlegend\":true,\"textposition\":\"auto\",\"x\":[\"Service/Product Support\"],\"xaxis\":\"x\",\"y\":[1],\"yaxis\":\"y\",\"type\":\"bar\"},{\"alignmentgroup\":\"True\",\"hovertemplate\":\"LOCATION=Chitubu<br>Customer Issue Category=%{x}<br>Count=%{y}<extra></extra>\",\"legendgroup\":\"Chitubu\",\"marker\":{\"color\":\"#636efa\",\"pattern\":{\"shape\":\"\"}},\"name\":\"Chitubu\",\"offsetgroup\":\"Chitubu\",\"orientation\":\"v\",\"showlegend\":true,\"textposition\":\"auto\",\"x\":[\"Supplementary Services\"],\"xaxis\":\"x\",\"y\":[1],\"yaxis\":\"y\",\"type\":\"bar\"},{\"alignmentgroup\":\"True\",\"hovertemplate\":\"LOCATION=Nyika<br>Customer Issue Category=%{x}<br>Count=%{y}<extra></extra>\",\"legendgroup\":\"Nyika\",\"marker\":{\"color\":\"#EF553B\",\"pattern\":{\"shape\":\"\"}},\"name\":\"Nyika\",\"offsetgroup\":\"Nyika\",\"orientation\":\"v\",\"showlegend\":true,\"textposition\":\"auto\",\"x\":[\"Supplementary Services\"],\"xaxis\":\"x\",\"y\":[1],\"yaxis\":\"y\",\"type\":\"bar\"},{\"alignmentgroup\":\"True\",\"hovertemplate\":\"LOCATION=Whitehouse<br>Customer Issue Category=%{x}<br>Count=%{y}<extra></extra>\",\"legendgroup\":\"Whitehouse\",\"marker\":{\"color\":\"#00cc96\",\"pattern\":{\"shape\":\"\"}},\"name\":\"Whitehouse\",\"offsetgroup\":\"Whitehouse\",\"orientation\":\"v\",\"showlegend\":true,\"textposition\":\"auto\",\"x\":[\"Supplementary Services\"],\"xaxis\":\"x\",\"y\":[1],\"yaxis\":\"y\",\"type\":\"bar\"},{\"alignmentgroup\":\"True\",\"hovertemplate\":\"LOCATION=Mapinga<br>Customer Issue Category=%{x}<br>Count=%{y}<extra></extra>\",\"legendgroup\":\"Mapinga\",\"marker\":{\"color\":\"#ab63fa\",\"pattern\":{\"shape\":\"\"}},\"name\":\"Mapinga\",\"offsetgroup\":\"Mapinga\",\"orientation\":\"v\",\"showlegend\":true,\"textposition\":\"auto\",\"x\":[\"Value Added Services\"],\"xaxis\":\"x\",\"y\":[1],\"yaxis\":\"y\",\"type\":\"bar\"},{\"alignmentgroup\":\"True\",\"hovertemplate\":\"LOCATION=Chivende <br>Customer Issue Category=%{x}<br>Count=%{y}<extra></extra>\",\"legendgroup\":\"Chivende \",\"marker\":{\"color\":\"#FFA15A\",\"pattern\":{\"shape\":\"\"}},\"name\":\"Chivende \",\"offsetgroup\":\"Chivende \",\"orientation\":\"v\",\"showlegend\":true,\"textposition\":\"auto\",\"x\":[\"Voice\"],\"xaxis\":\"x\",\"y\":[1],\"yaxis\":\"y\",\"type\":\"bar\"},{\"alignmentgroup\":\"True\",\"hovertemplate\":\"LOCATION=Darwendale<br>Customer Issue Category=%{x}<br>Count=%{y}<extra></extra>\",\"legendgroup\":\"Darwendale\",\"marker\":{\"color\":\"#19d3f3\",\"pattern\":{\"shape\":\"\"}},\"name\":\"Darwendale\",\"offsetgroup\":\"Darwendale\",\"orientation\":\"v\",\"showlegend\":true,\"textposition\":\"auto\",\"x\":[\"Voice\"],\"xaxis\":\"x\",\"y\":[1],\"yaxis\":\"y\",\"type\":\"bar\"},{\"alignmentgroup\":\"True\",\"hovertemplate\":\"LOCATION=Greendale<br>Customer Issue Category=%{x}<br>Count=%{y}<extra></extra>\",\"legendgroup\":\"Greendale\",\"marker\":{\"color\":\"#FF6692\",\"pattern\":{\"shape\":\"\"}},\"name\":\"Greendale\",\"offsetgroup\":\"Greendale\",\"orientation\":\"v\",\"showlegend\":true,\"textposition\":\"auto\",\"x\":[\"Voice\"],\"xaxis\":\"x\",\"y\":[2],\"yaxis\":\"y\",\"type\":\"bar\"},{\"alignmentgroup\":\"True\",\"hovertemplate\":\"LOCATION=Honde valley <br>Customer Issue Category=%{x}<br>Count=%{y}<extra></extra>\",\"legendgroup\":\"Honde valley \",\"marker\":{\"color\":\"#B6E880\",\"pattern\":{\"shape\":\"\"}},\"name\":\"Honde valley \",\"offsetgroup\":\"Honde valley \",\"orientation\":\"v\",\"showlegend\":true,\"textposition\":\"auto\",\"x\":[\"Voice\"],\"xaxis\":\"x\",\"y\":[1],\"yaxis\":\"y\",\"type\":\"bar\"},{\"alignmentgroup\":\"True\",\"hovertemplate\":\"LOCATION=Mutendwa<br>Customer Issue Category=%{x}<br>Count=%{y}<extra></extra>\",\"legendgroup\":\"Mutendwa\",\"marker\":{\"color\":\"#FF97FF\",\"pattern\":{\"shape\":\"\"}},\"name\":\"Mutendwa\",\"offsetgroup\":\"Mutendwa\",\"orientation\":\"v\",\"showlegend\":true,\"textposition\":\"auto\",\"x\":[\"Voice\"],\"xaxis\":\"x\",\"y\":[1],\"yaxis\":\"y\",\"type\":\"bar\"},{\"alignmentgroup\":\"True\",\"hovertemplate\":\"LOCATION=Nyanyadzi<br>Customer Issue Category=%{x}<br>Count=%{y}<extra></extra>\",\"legendgroup\":\"Nyanyadzi\",\"marker\":{\"color\":\"#FECB52\",\"pattern\":{\"shape\":\"\"}},\"name\":\"Nyanyadzi\",\"offsetgroup\":\"Nyanyadzi\",\"orientation\":\"v\",\"showlegend\":true,\"textposition\":\"auto\",\"x\":[\"Voice\"],\"xaxis\":\"x\",\"y\":[1],\"yaxis\":\"y\",\"type\":\"bar\"},{\"alignmentgroup\":\"True\",\"hovertemplate\":\"LOCATION=mbare<br>Customer Issue Category=%{x}<br>Count=%{y}<extra></extra>\",\"legendgroup\":\"mbare\",\"marker\":{\"color\":\"#636efa\",\"pattern\":{\"shape\":\"\"}},\"name\":\"mbare\",\"offsetgroup\":\"mbare\",\"orientation\":\"v\",\"showlegend\":true,\"textposition\":\"auto\",\"x\":[\"Voice\"],\"xaxis\":\"x\",\"y\":[1],\"yaxis\":\"y\",\"type\":\"bar\"}],                        {\"template\":{\"data\":{\"histogram2dcontour\":[{\"type\":\"histogram2dcontour\",\"colorbar\":{\"outlinewidth\":0,\"ticks\":\"\"},\"colorscale\":[[0.0,\"#0d0887\"],[0.1111111111111111,\"#46039f\"],[0.2222222222222222,\"#7201a8\"],[0.3333333333333333,\"#9c179e\"],[0.4444444444444444,\"#bd3786\"],[0.5555555555555556,\"#d8576b\"],[0.6666666666666666,\"#ed7953\"],[0.7777777777777778,\"#fb9f3a\"],[0.8888888888888888,\"#fdca26\"],[1.0,\"#f0f921\"]]}],\"choropleth\":[{\"type\":\"choropleth\",\"colorbar\":{\"outlinewidth\":0,\"ticks\":\"\"}}],\"histogram2d\":[{\"type\":\"histogram2d\",\"colorbar\":{\"outlinewidth\":0,\"ticks\":\"\"},\"colorscale\":[[0.0,\"#0d0887\"],[0.1111111111111111,\"#46039f\"],[0.2222222222222222,\"#7201a8\"],[0.3333333333333333,\"#9c179e\"],[0.4444444444444444,\"#bd3786\"],[0.5555555555555556,\"#d8576b\"],[0.6666666666666666,\"#ed7953\"],[0.7777777777777778,\"#fb9f3a\"],[0.8888888888888888,\"#fdca26\"],[1.0,\"#f0f921\"]]}],\"heatmap\":[{\"type\":\"heatmap\",\"colorbar\":{\"outlinewidth\":0,\"ticks\":\"\"},\"colorscale\":[[0.0,\"#0d0887\"],[0.1111111111111111,\"#46039f\"],[0.2222222222222222,\"#7201a8\"],[0.3333333333333333,\"#9c179e\"],[0.4444444444444444,\"#bd3786\"],[0.5555555555555556,\"#d8576b\"],[0.6666666666666666,\"#ed7953\"],[0.7777777777777778,\"#fb9f3a\"],[0.8888888888888888,\"#fdca26\"],[1.0,\"#f0f921\"]]}],\"heatmapgl\":[{\"type\":\"heatmapgl\",\"colorbar\":{\"outlinewidth\":0,\"ticks\":\"\"},\"colorscale\":[[0.0,\"#0d0887\"],[0.1111111111111111,\"#46039f\"],[0.2222222222222222,\"#7201a8\"],[0.3333333333333333,\"#9c179e\"],[0.4444444444444444,\"#bd3786\"],[0.5555555555555556,\"#d8576b\"],[0.6666666666666666,\"#ed7953\"],[0.7777777777777778,\"#fb9f3a\"],[0.8888888888888888,\"#fdca26\"],[1.0,\"#f0f921\"]]}],\"contourcarpet\":[{\"type\":\"contourcarpet\",\"colorbar\":{\"outlinewidth\":0,\"ticks\":\"\"}}],\"contour\":[{\"type\":\"contour\",\"colorbar\":{\"outlinewidth\":0,\"ticks\":\"\"},\"colorscale\":[[0.0,\"#0d0887\"],[0.1111111111111111,\"#46039f\"],[0.2222222222222222,\"#7201a8\"],[0.3333333333333333,\"#9c179e\"],[0.4444444444444444,\"#bd3786\"],[0.5555555555555556,\"#d8576b\"],[0.6666666666666666,\"#ed7953\"],[0.7777777777777778,\"#fb9f3a\"],[0.8888888888888888,\"#fdca26\"],[1.0,\"#f0f921\"]]}],\"surface\":[{\"type\":\"surface\",\"colorbar\":{\"outlinewidth\":0,\"ticks\":\"\"},\"colorscale\":[[0.0,\"#0d0887\"],[0.1111111111111111,\"#46039f\"],[0.2222222222222222,\"#7201a8\"],[0.3333333333333333,\"#9c179e\"],[0.4444444444444444,\"#bd3786\"],[0.5555555555555556,\"#d8576b\"],[0.6666666666666666,\"#ed7953\"],[0.7777777777777778,\"#fb9f3a\"],[0.8888888888888888,\"#fdca26\"],[1.0,\"#f0f921\"]]}],\"mesh3d\":[{\"type\":\"mesh3d\",\"colorbar\":{\"outlinewidth\":0,\"ticks\":\"\"}}],\"scatter\":[{\"fillpattern\":{\"fillmode\":\"overlay\",\"size\":10,\"solidity\":0.2},\"type\":\"scatter\"}],\"parcoords\":[{\"type\":\"parcoords\",\"line\":{\"colorbar\":{\"outlinewidth\":0,\"ticks\":\"\"}}}],\"scatterpolargl\":[{\"type\":\"scatterpolargl\",\"marker\":{\"colorbar\":{\"outlinewidth\":0,\"ticks\":\"\"}}}],\"bar\":[{\"error_x\":{\"color\":\"#2a3f5f\"},\"error_y\":{\"color\":\"#2a3f5f\"},\"marker\":{\"line\":{\"color\":\"#E5ECF6\",\"width\":0.5},\"pattern\":{\"fillmode\":\"overlay\",\"size\":10,\"solidity\":0.2}},\"type\":\"bar\"}],\"scattergeo\":[{\"type\":\"scattergeo\",\"marker\":{\"colorbar\":{\"outlinewidth\":0,\"ticks\":\"\"}}}],\"scatterpolar\":[{\"type\":\"scatterpolar\",\"marker\":{\"colorbar\":{\"outlinewidth\":0,\"ticks\":\"\"}}}],\"histogram\":[{\"marker\":{\"pattern\":{\"fillmode\":\"overlay\",\"size\":10,\"solidity\":0.2}},\"type\":\"histogram\"}],\"scattergl\":[{\"type\":\"scattergl\",\"marker\":{\"colorbar\":{\"outlinewidth\":0,\"ticks\":\"\"}}}],\"scatter3d\":[{\"type\":\"scatter3d\",\"line\":{\"colorbar\":{\"outlinewidth\":0,\"ticks\":\"\"}},\"marker\":{\"colorbar\":{\"outlinewidth\":0,\"ticks\":\"\"}}}],\"scattermapbox\":[{\"type\":\"scattermapbox\",\"marker\":{\"colorbar\":{\"outlinewidth\":0,\"ticks\":\"\"}}}],\"scatterternary\":[{\"type\":\"scatterternary\",\"marker\":{\"colorbar\":{\"outlinewidth\":0,\"ticks\":\"\"}}}],\"scattercarpet\":[{\"type\":\"scattercarpet\",\"marker\":{\"colorbar\":{\"outlinewidth\":0,\"ticks\":\"\"}}}],\"carpet\":[{\"aaxis\":{\"endlinecolor\":\"#2a3f5f\",\"gridcolor\":\"white\",\"linecolor\":\"white\",\"minorgridcolor\":\"white\",\"startlinecolor\":\"#2a3f5f\"},\"baxis\":{\"endlinecolor\":\"#2a3f5f\",\"gridcolor\":\"white\",\"linecolor\":\"white\",\"minorgridcolor\":\"white\",\"startlinecolor\":\"#2a3f5f\"},\"type\":\"carpet\"}],\"table\":[{\"cells\":{\"fill\":{\"color\":\"#EBF0F8\"},\"line\":{\"color\":\"white\"}},\"header\":{\"fill\":{\"color\":\"#C8D4E3\"},\"line\":{\"color\":\"white\"}},\"type\":\"table\"}],\"barpolar\":[{\"marker\":{\"line\":{\"color\":\"#E5ECF6\",\"width\":0.5},\"pattern\":{\"fillmode\":\"overlay\",\"size\":10,\"solidity\":0.2}},\"type\":\"barpolar\"}],\"pie\":[{\"automargin\":true,\"type\":\"pie\"}]},\"layout\":{\"autotypenumbers\":\"strict\",\"colorway\":[\"#636efa\",\"#EF553B\",\"#00cc96\",\"#ab63fa\",\"#FFA15A\",\"#19d3f3\",\"#FF6692\",\"#B6E880\",\"#FF97FF\",\"#FECB52\"],\"font\":{\"color\":\"#2a3f5f\"},\"hovermode\":\"closest\",\"hoverlabel\":{\"align\":\"left\"},\"paper_bgcolor\":\"white\",\"plot_bgcolor\":\"#E5ECF6\",\"polar\":{\"bgcolor\":\"#E5ECF6\",\"angularaxis\":{\"gridcolor\":\"white\",\"linecolor\":\"white\",\"ticks\":\"\"},\"radialaxis\":{\"gridcolor\":\"white\",\"linecolor\":\"white\",\"ticks\":\"\"}},\"ternary\":{\"bgcolor\":\"#E5ECF6\",\"aaxis\":{\"gridcolor\":\"white\",\"linecolor\":\"white\",\"ticks\":\"\"},\"baxis\":{\"gridcolor\":\"white\",\"linecolor\":\"white\",\"ticks\":\"\"},\"caxis\":{\"gridcolor\":\"white\",\"linecolor\":\"white\",\"ticks\":\"\"}},\"coloraxis\":{\"colorbar\":{\"outlinewidth\":0,\"ticks\":\"\"}},\"colorscale\":{\"sequential\":[[0.0,\"#0d0887\"],[0.1111111111111111,\"#46039f\"],[0.2222222222222222,\"#7201a8\"],[0.3333333333333333,\"#9c179e\"],[0.4444444444444444,\"#bd3786\"],[0.5555555555555556,\"#d8576b\"],[0.6666666666666666,\"#ed7953\"],[0.7777777777777778,\"#fb9f3a\"],[0.8888888888888888,\"#fdca26\"],[1.0,\"#f0f921\"]],\"sequentialminus\":[[0.0,\"#0d0887\"],[0.1111111111111111,\"#46039f\"],[0.2222222222222222,\"#7201a8\"],[0.3333333333333333,\"#9c179e\"],[0.4444444444444444,\"#bd3786\"],[0.5555555555555556,\"#d8576b\"],[0.6666666666666666,\"#ed7953\"],[0.7777777777777778,\"#fb9f3a\"],[0.8888888888888888,\"#fdca26\"],[1.0,\"#f0f921\"]],\"diverging\":[[0,\"#8e0152\"],[0.1,\"#c51b7d\"],[0.2,\"#de77ae\"],[0.3,\"#f1b6da\"],[0.4,\"#fde0ef\"],[0.5,\"#f7f7f7\"],[0.6,\"#e6f5d0\"],[0.7,\"#b8e186\"],[0.8,\"#7fbc41\"],[0.9,\"#4d9221\"],[1,\"#276419\"]]},\"xaxis\":{\"gridcolor\":\"white\",\"linecolor\":\"white\",\"ticks\":\"\",\"title\":{\"standoff\":15},\"zerolinecolor\":\"white\",\"automargin\":true,\"zerolinewidth\":2},\"yaxis\":{\"gridcolor\":\"white\",\"linecolor\":\"white\",\"ticks\":\"\",\"title\":{\"standoff\":15},\"zerolinecolor\":\"white\",\"automargin\":true,\"zerolinewidth\":2},\"scene\":{\"xaxis\":{\"backgroundcolor\":\"#E5ECF6\",\"gridcolor\":\"white\",\"linecolor\":\"white\",\"showbackground\":true,\"ticks\":\"\",\"zerolinecolor\":\"white\",\"gridwidth\":2},\"yaxis\":{\"backgroundcolor\":\"#E5ECF6\",\"gridcolor\":\"white\",\"linecolor\":\"white\",\"showbackground\":true,\"ticks\":\"\",\"zerolinecolor\":\"white\",\"gridwidth\":2},\"zaxis\":{\"backgroundcolor\":\"#E5ECF6\",\"gridcolor\":\"white\",\"linecolor\":\"white\",\"showbackground\":true,\"ticks\":\"\",\"zerolinecolor\":\"white\",\"gridwidth\":2}},\"shapedefaults\":{\"line\":{\"color\":\"#2a3f5f\"}},\"annotationdefaults\":{\"arrowcolor\":\"#2a3f5f\",\"arrowhead\":0,\"arrowwidth\":1},\"geo\":{\"bgcolor\":\"white\",\"landcolor\":\"#E5ECF6\",\"subunitcolor\":\"white\",\"showland\":true,\"showlakes\":true,\"lakecolor\":\"white\"},\"title\":{\"x\":0.05},\"mapbox\":{\"style\":\"light\"}}},\"xaxis\":{\"anchor\":\"y\",\"domain\":[0.0,1.0],\"title\":{\"text\":\"Customer Issue Category\"}},\"yaxis\":{\"anchor\":\"x\",\"domain\":[0.0,1.0],\"title\":{\"text\":\"Count\"}},\"legend\":{\"title\":{\"text\":\"LOCATION\"},\"tracegroupgap\":0},\"margin\":{\"t\":60},\"barmode\":\"relative\",\"title\":{\"text\":\"Customer Issue Category and Location\"}},                        {\"responsive\": true}                    ).then(function(){\n",
       "                            \n",
       "var gd = document.getElementById('2b6d79c7-45a9-41e3-8976-2bb9b1f66c68');\n",
       "var x = new MutationObserver(function (mutations, observer) {{\n",
       "        var display = window.getComputedStyle(gd).display;\n",
       "        if (!display || display === 'none') {{\n",
       "            console.log([gd, 'removed!']);\n",
       "            Plotly.purge(gd);\n",
       "            observer.disconnect();\n",
       "        }}\n",
       "}});\n",
       "\n",
       "// Listen for the removal of the full notebook cells\n",
       "var notebookContainer = gd.closest('#notebook-container');\n",
       "if (notebookContainer) {{\n",
       "    x.observe(notebookContainer, {childList: true});\n",
       "}}\n",
       "\n",
       "// Listen for the clearing of the current output cell\n",
       "var outputEl = gd.closest('.output');\n",
       "if (outputEl) {{\n",
       "    x.observe(outputEl, {childList: true});\n",
       "}}\n",
       "\n",
       "                        })                };                });            </script>        </div>"
      ]
     },
     "metadata": {},
     "output_type": "display_data"
    }
   ],
   "source": [
    "import pandas as pd\n",
    "import plotly.express as px\n",
    "\n",
    "# Assuming you have loaded the data into a pandas DataFrame called 'df'\n",
    "df_filtered = df.dropna(subset=['Customer Issue Category', 'LOCATION'])\n",
    "\n",
    "# Calculate the count of each combination of interaction type and location\n",
    "interaction_location_counts = df_filtered.groupby(['Customer Issue Category', 'LOCATION']).size().reset_index(name='Count')\n",
    "\n",
    "# Create a bar chart using Plotly\n",
    "fig = px.bar(interaction_location_counts, x='Customer Issue Category', y='Count', color='LOCATION')\n",
    "\n",
    "fig.update_layout(\n",
    "    title='Customer Issue Category and Location',\n",
    "    xaxis_title='Customer Issue Category',\n",
    "    yaxis_title='Count'\n",
    ")\n",
    "\n",
    "fig.show()"
   ]
  },
  {
   "cell_type": "code",
   "execution_count": null,
   "id": "f2c27fb3",
   "metadata": {},
   "outputs": [],
   "source": []
  },
  {
   "cell_type": "markdown",
   "id": "3646f103",
   "metadata": {},
   "source": [
    "# SelectKBest to select relevat features "
   ]
  },
  {
   "cell_type": "code",
   "execution_count": 76,
   "id": "06b05d21",
   "metadata": {},
   "outputs": [
    {
     "name": "stdout",
     "output_type": "stream",
     "text": [
      "Selected Features and Scores:\n",
      "                        Feature      Score\n",
      "0                        MSISDN   0.353033\n",
      "1                      LOCATION  21.554574\n",
      "2    Customer Issue Description  84.545163\n",
      "3  Status of the Customer Issue   0.255343\n",
      "4                       Comment  21.022585\n"
     ]
    }
   ],
   "source": [
    "from sklearn.feature_selection import SelectKBest, f_classif\n",
    "from sklearn.preprocessing import LabelEncoder\n",
    "\n",
    "# Drop irrelevant columns\n",
    "data = df.drop(['Ticket ID', 'Date', 'Agent Name'], axis=1)\n",
    "\n",
    "# Perform label encoding for object variables\n",
    "label_encoder = LabelEncoder()\n",
    "\n",
    "for column in data.select_dtypes(include='object'):\n",
    "    data[column] = label_encoder.fit_transform(data[column])\n",
    "\n",
    "# Perform feature selection using SelectKBest and f_classif\n",
    "X = data.drop('Customer Issue Category', axis=1)\n",
    "y = data['Customer Issue Category']\n",
    "\n",
    "selector = SelectKBest(score_func=f_classif, k=5)  # Adjust the value of k as desired\n",
    "X_selected = selector.fit_transform(X, y)\n",
    "\n",
    "# Get the selected feature names\n",
    "selected_feature_indices = selector.get_support(indices=True)\n",
    "selected_feature_names = X.columns[selected_feature_indices].tolist()\n",
    "\n",
    "# Get the scores of the selected features\n",
    "feature_scores = selector.scores_[selected_feature_indices]\n",
    "\n",
    "# Create a DataFrame with selected feature names and scores\n",
    "selected_features_df = pd.DataFrame({'Feature': selected_feature_names, 'Score': feature_scores})\n",
    "\n",
    "# Print the selected features and their scores\n",
    "print(\"Selected Features and Scores:\")\n",
    "print(selected_features_df)"
   ]
  },
  {
   "cell_type": "markdown",
   "id": "c4cbcba2",
   "metadata": {},
   "source": [
    "# Mutual Information Scores to Select Relevant Features"
   ]
  },
  {
   "cell_type": "code",
   "execution_count": 79,
   "id": "37e30377",
   "metadata": {},
   "outputs": [
    {
     "data": {
      "text/plain": [
       "Text(0.5, 0, 'Mutual Information Score')"
      ]
     },
     "execution_count": 79,
     "metadata": {},
     "output_type": "execute_result"
    },
    {
     "data": {
      "image/png": "[encoded data removed]",
      "text/plain": [
       "<Figure size 1000x600 with 1 Axes>"
      ]
     },
     "metadata": {},
     "output_type": "display_data"
    }
   ],
   "source": [
    "# Perform feature selection using SelectKBest and f_classif\n",
    "X = data.drop('Customer Issue Category', axis=1)\n",
    "y = data['Customer Issue Category']\n",
    "\n",
    "# Calculating mutual information scores \n",
    "mi_scores = mutual_info_regression(X, y)\n",
    "# Create a DataFrame with feature names and mutual information scores\n",
    "mi_df = pd.DataFrame({'Feature': X.columns, 'MI Score': mi_scores})\n",
    "\n",
    "# Sort the DataFrame by MI Score in descending order\n",
    "mi_df = mi_df.sort_values('MI Score', ascending=False)\n",
    "\n",
    "# Plot the mutual information scores\n",
    "plt.figure(figsize=(10, 6))\n",
    "plt.barh(mi_df['Feature'], mi_df['MI Score'])\n",
    "plt.xlabel('Mutual Information Score')"
   ]
  },
  {
   "cell_type": "markdown",
   "id": "1ec63d5b",
   "metadata": {},
   "source": [
    "The selected features: customer issue description, comment on customer issue, location"
   ]
  },
  {
   "cell_type": "code",
   "execution_count": 41,
   "id": "075033de",
   "metadata": {},
   "outputs": [],
   "source": [
    "# Building the feature space and target variable \n",
    "X=df[['LOCATION', 'Comment', 'Customer Issue Description']]\n",
    "y=df['ICustomer Issue Category']"
   ]
  },
  {
   "cell_type": "code",
   "execution_count": 42,
   "id": "50541fe3",
   "metadata": {},
   "outputs": [
    {
     "name": "stderr",
     "output_type": "stream",
     "text": [
      "C:\\Users\\Tinotenda Mangarai\\AppData\\Local\\Temp\\ipykernel_17496\\1047775959.py:5: SettingWithCopyWarning: \n",
      "A value is trying to be set on a copy of a slice from a DataFrame.\n",
      "Try using .loc[row_indexer,col_indexer] = value instead\n",
      "\n",
      "See the caveats in the documentation: https://pandas.pydata.org/pandas-docs/stable/user_guide/indexing.html#returning-a-view-versus-a-copy\n",
      "  X[column] = label_encoder.fit_transform(X[column])\n",
      "C:\\Users\\Tinotenda Mangarai\\AppData\\Local\\Temp\\ipykernel_17496\\1047775959.py:5: SettingWithCopyWarning: \n",
      "A value is trying to be set on a copy of a slice from a DataFrame.\n",
      "Try using .loc[row_indexer,col_indexer] = value instead\n",
      "\n",
      "See the caveats in the documentation: https://pandas.pydata.org/pandas-docs/stable/user_guide/indexing.html#returning-a-view-versus-a-copy\n",
      "  X[column] = label_encoder.fit_transform(X[column])\n",
      "C:\\Users\\Tinotenda Mangarai\\AppData\\Local\\Temp\\ipykernel_17496\\1047775959.py:5: SettingWithCopyWarning: \n",
      "A value is trying to be set on a copy of a slice from a DataFrame.\n",
      "Try using .loc[row_indexer,col_indexer] = value instead\n",
      "\n",
      "See the caveats in the documentation: https://pandas.pydata.org/pandas-docs/stable/user_guide/indexing.html#returning-a-view-versus-a-copy\n",
      "  X[column] = label_encoder.fit_transform(X[column])\n"
     ]
    }
   ],
   "source": [
    "# Perform label encoding for object variables\n",
    "label_encoder = LabelEncoder()\n",
    "\n",
    "for column in X.select_dtypes(include='object'):\n",
    "    X[column] = label_encoder.fit_transform(X[column])"
   ]
  },
  {
   "cell_type": "markdown",
   "id": "cc692449",
   "metadata": {},
   "source": [
    "# Random Forest Classifier "
   ]
  },
  {
   "cell_type": "code",
   "execution_count": 44,
   "id": "5768ae8a",
   "metadata": {},
   "outputs": [
    {
     "name": "stdout",
     "output_type": "stream",
     "text": [
      "Accuracy: 0.9346590909090909\n",
      "Precision: 0.9225078907529419\n",
      "Recall: 0.9346590909090909\n",
      "F1-Score: 0.9276926737316541\n"
     ]
    },
    {
     "name": "stderr",
     "output_type": "stream",
     "text": [
      "C:\\Users\\Tinotenda Mangarai\\anaconda3\\lib\\site-packages\\sklearn\\metrics\\_classification.py:1344: UndefinedMetricWarning: Precision is ill-defined and being set to 0.0 in labels with no predicted samples. Use `zero_division` parameter to control this behavior.\n",
      "  _warn_prf(average, modifier, msg_start, len(result))\n"
     ]
    }
   ],
   "source": [
    "from sklearn.ensemble import RandomForestClassifier\n",
    "from sklearn.model_selection import train_test_split\n",
    "from sklearn.metrics import accuracy_score, precision_score, recall_score, f1_score\n",
    "\n",
    "# Building the feature space and target variable \n",
    "X=df[['LOCATION', 'Comment', 'Customer Issue Description']]\n",
    "y=df['Customer Issue Category']\n",
    "\n",
    "# Perform label encoding for object variables\n",
    "label_encoder = LabelEncoder()\n",
    "\n",
    "for column in X.select_dtypes(include='object'):\n",
    "    X[column] = label_encoder.fit_transform(X[column])\n",
    "    \n",
    "    \n",
    "# Split the data into train and test sets\n",
    "X_train, X_test, y_train, y_test = train_test_split(X, y, test_size=0.2, random_state=42)\n",
    "\n",
    "# Initialize the Random Forest Classifier\n",
    "rf_classifier = RandomForestClassifier()\n",
    "\n",
    "# Train the classifier\n",
    "rf_classifier.fit(X_train, y_train)\n",
    "\n",
    "# Make predictions on the test set\n",
    "y_pred = rf_classifier.predict(X_test)\n",
    "\n",
    "# Calculate evaluation metrics\n",
    "accuracy = accuracy_score(y_test, y_pred)\n",
    "precision = precision_score(y_test, y_pred, average='weighted')\n",
    "recall = recall_score(y_test, y_pred, average='weighted')\n",
    "f1 = f1_score(y_test, y_pred, average='weighted')\n",
    "\n",
    "# Print the evaluation metrics\n",
    "print(\"Accuracy:\", accuracy)\n",
    "print(\"Precision:\", precision)\n",
    "print(\"Recall:\", recall)\n",
    "print(\"F1-Score:\", f1)"
   ]
  },
  {
   "cell_type": "markdown",
   "id": "8deedbc8",
   "metadata": {},
   "source": [
    "# Hyperparameter Tuning "
   ]
  },
  {
   "cell_type": "code",
   "execution_count": 83,
   "id": "bad190aa",
   "metadata": {},
   "outputs": [
    {
     "name": "stderr",
     "output_type": "stream",
     "text": [
      "C:\\Users\\Tinotenda Mangarai\\AppData\\Local\\Temp\\ipykernel_17496\\2511938737.py:14: SettingWithCopyWarning:\n",
      "\n",
      "\n",
      "A value is trying to be set on a copy of a slice from a DataFrame.\n",
      "Try using .loc[row_indexer,col_indexer] = value instead\n",
      "\n",
      "See the caveats in the documentation: https://pandas.pydata.org/pandas-docs/stable/user_guide/indexing.html#returning-a-view-versus-a-copy\n",
      "\n",
      "C:\\Users\\Tinotenda Mangarai\\AppData\\Local\\Temp\\ipykernel_17496\\2511938737.py:14: SettingWithCopyWarning:\n",
      "\n",
      "\n",
      "A value is trying to be set on a copy of a slice from a DataFrame.\n",
      "Try using .loc[row_indexer,col_indexer] = value instead\n",
      "\n",
      "See the caveats in the documentation: https://pandas.pydata.org/pandas-docs/stable/user_guide/indexing.html#returning-a-view-versus-a-copy\n",
      "\n",
      "C:\\Users\\Tinotenda Mangarai\\AppData\\Local\\Temp\\ipykernel_17496\\2511938737.py:14: SettingWithCopyWarning:\n",
      "\n",
      "\n",
      "A value is trying to be set on a copy of a slice from a DataFrame.\n",
      "Try using .loc[row_indexer,col_indexer] = value instead\n",
      "\n",
      "See the caveats in the documentation: https://pandas.pydata.org/pandas-docs/stable/user_guide/indexing.html#returning-a-view-versus-a-copy\n",
      "\n",
      "C:\\Users\\Tinotenda Mangarai\\anaconda3\\lib\\site-packages\\sklearn\\model_selection\\_split.py:700: UserWarning:\n",
      "\n",
      "The least populated class in y has only 1 members, which is less than n_splits=5.\n",
      "\n",
      "C:\\Users\\Tinotenda Mangarai\\anaconda3\\lib\\site-packages\\sklearn\\ensemble\\_forest.py:424: FutureWarning:\n",
      "\n",
      "`max_features='auto'` has been deprecated in 1.1 and will be removed in 1.3. To keep the past behaviour, explicitly set `max_features='sqrt'` or remove this parameter as it is also the default value for RandomForestClassifiers and ExtraTreesClassifiers.\n",
      "\n",
      "C:\\Users\\Tinotenda Mangarai\\anaconda3\\lib\\site-packages\\sklearn\\ensemble\\_forest.py:424: FutureWarning:\n",
      "\n",
      "`max_features='auto'` has been deprecated in 1.1 and will be removed in 1.3. To keep the past behaviour, explicitly set `max_features='sqrt'` or remove this parameter as it is also the default value for RandomForestClassifiers and ExtraTreesClassifiers.\n",
      "\n",
      "C:\\Users\\Tinotenda Mangarai\\anaconda3\\lib\\site-packages\\sklearn\\ensemble\\_forest.py:424: FutureWarning:\n",
      "\n",
      "`max_features='auto'` has been deprecated in 1.1 and will be removed in 1.3. To keep the past behaviour, explicitly set `max_features='sqrt'` or remove this parameter as it is also the default value for RandomForestClassifiers and ExtraTreesClassifiers.\n",
      "\n",
      "C:\\Users\\Tinotenda Mangarai\\anaconda3\\lib\\site-packages\\sklearn\\ensemble\\_forest.py:424: FutureWarning:\n",
      "\n",
      "`max_features='auto'` has been deprecated in 1.1 and will be removed in 1.3. To keep the past behaviour, explicitly set `max_features='sqrt'` or remove this parameter as it is also the default value for RandomForestClassifiers and ExtraTreesClassifiers.\n",
      "\n",
      "C:\\Users\\Tinotenda Mangarai\\anaconda3\\lib\\site-packages\\sklearn\\ensemble\\_forest.py:424: FutureWarning:\n",
      "\n",
      "`max_features='auto'` has been deprecated in 1.1 and will be removed in 1.3. To keep the past behaviour, explicitly set `max_features='sqrt'` or remove this parameter as it is also the default value for RandomForestClassifiers and ExtraTreesClassifiers.\n",
      "\n",
      "C:\\Users\\Tinotenda Mangarai\\anaconda3\\lib\\site-packages\\sklearn\\ensemble\\_forest.py:424: FutureWarning:\n",
      "\n",
      "`max_features='auto'` has been deprecated in 1.1 and will be removed in 1.3. To keep the past behaviour, explicitly set `max_features='sqrt'` or remove this parameter as it is also the default value for RandomForestClassifiers and ExtraTreesClassifiers.\n",
      "\n",
      "C:\\Users\\Tinotenda Mangarai\\anaconda3\\lib\\site-packages\\sklearn\\ensemble\\_forest.py:424: FutureWarning:\n",
      "\n",
      "`max_features='auto'` has been deprecated in 1.1 and will be removed in 1.3. To keep the past behaviour, explicitly set `max_features='sqrt'` or remove this parameter as it is also the default value for RandomForestClassifiers and ExtraTreesClassifiers.\n",
      "\n",
      "C:\\Users\\Tinotenda Mangarai\\anaconda3\\lib\\site-packages\\sklearn\\ensemble\\_forest.py:424: FutureWarning:\n",
      "\n",
      "`max_features='auto'` has been deprecated in 1.1 and will be removed in 1.3. To keep the past behaviour, explicitly set `max_features='sqrt'` or remove this parameter as it is also the default value for RandomForestClassifiers and ExtraTreesClassifiers.\n",
      "\n",
      "C:\\Users\\Tinotenda Mangarai\\anaconda3\\lib\\site-packages\\sklearn\\ensemble\\_forest.py:424: FutureWarning:\n",
      "\n",
      "`max_features='auto'` has been deprecated in 1.1 and will be removed in 1.3. To keep the past behaviour, explicitly set `max_features='sqrt'` or remove this parameter as it is also the default value for RandomForestClassifiers and ExtraTreesClassifiers.\n",
      "\n",
      "C:\\Users\\Tinotenda Mangarai\\anaconda3\\lib\\site-packages\\sklearn\\ensemble\\_forest.py:424: FutureWarning:\n",
      "\n",
      "`max_features='auto'` has been deprecated in 1.1 and will be removed in 1.3. To keep the past behaviour, explicitly set `max_features='sqrt'` or remove this parameter as it is also the default value for RandomForestClassifiers and ExtraTreesClassifiers.\n",
      "\n",
      "C:\\Users\\Tinotenda Mangarai\\anaconda3\\lib\\site-packages\\sklearn\\ensemble\\_forest.py:424: FutureWarning:\n",
      "\n",
      "`max_features='auto'` has been deprecated in 1.1 and will be removed in 1.3. To keep the past behaviour, explicitly set `max_features='sqrt'` or remove this parameter as it is also the default value for RandomForestClassifiers and ExtraTreesClassifiers.\n",
      "\n",
      "C:\\Users\\Tinotenda Mangarai\\anaconda3\\lib\\site-packages\\sklearn\\ensemble\\_forest.py:424: FutureWarning:\n",
      "\n",
      "`max_features='auto'` has been deprecated in 1.1 and will be removed in 1.3. To keep the past behaviour, explicitly set `max_features='sqrt'` or remove this parameter as it is also the default value for RandomForestClassifiers and ExtraTreesClassifiers.\n",
      "\n",
      "C:\\Users\\Tinotenda Mangarai\\anaconda3\\lib\\site-packages\\sklearn\\ensemble\\_forest.py:424: FutureWarning:\n",
      "\n",
      "`max_features='auto'` has been deprecated in 1.1 and will be removed in 1.3. To keep the past behaviour, explicitly set `max_features='sqrt'` or remove this parameter as it is also the default value for RandomForestClassifiers and ExtraTreesClassifiers.\n",
      "\n",
      "C:\\Users\\Tinotenda Mangarai\\anaconda3\\lib\\site-packages\\sklearn\\ensemble\\_forest.py:424: FutureWarning:\n",
      "\n",
      "`max_features='auto'` has been deprecated in 1.1 and will be removed in 1.3. To keep the past behaviour, explicitly set `max_features='sqrt'` or remove this parameter as it is also the default value for RandomForestClassifiers and ExtraTreesClassifiers.\n",
      "\n",
      "C:\\Users\\Tinotenda Mangarai\\anaconda3\\lib\\site-packages\\sklearn\\ensemble\\_forest.py:424: FutureWarning:\n",
      "\n",
      "`max_features='auto'` has been deprecated in 1.1 and will be removed in 1.3. To keep the past behaviour, explicitly set `max_features='sqrt'` or remove this parameter as it is also the default value for RandomForestClassifiers and ExtraTreesClassifiers.\n",
      "\n",
      "C:\\Users\\Tinotenda Mangarai\\anaconda3\\lib\\site-packages\\sklearn\\ensemble\\_forest.py:424: FutureWarning:\n",
      "\n",
      "`max_features='auto'` has been deprecated in 1.1 and will be removed in 1.3. To keep the past behaviour, explicitly set `max_features='sqrt'` or remove this parameter as it is also the default value for RandomForestClassifiers and ExtraTreesClassifiers.\n",
      "\n",
      "C:\\Users\\Tinotenda Mangarai\\anaconda3\\lib\\site-packages\\sklearn\\ensemble\\_forest.py:424: FutureWarning:\n",
      "\n",
      "`max_features='auto'` has been deprecated in 1.1 and will be removed in 1.3. To keep the past behaviour, explicitly set `max_features='sqrt'` or remove this parameter as it is also the default value for RandomForestClassifiers and ExtraTreesClassifiers.\n",
      "\n",
      "C:\\Users\\Tinotenda Mangarai\\anaconda3\\lib\\site-packages\\sklearn\\ensemble\\_forest.py:424: FutureWarning:\n",
      "\n",
      "`max_features='auto'` has been deprecated in 1.1 and will be removed in 1.3. To keep the past behaviour, explicitly set `max_features='sqrt'` or remove this parameter as it is also the default value for RandomForestClassifiers and ExtraTreesClassifiers.\n",
      "\n",
      "C:\\Users\\Tinotenda Mangarai\\anaconda3\\lib\\site-packages\\sklearn\\ensemble\\_forest.py:424: FutureWarning:\n",
      "\n",
      "`max_features='auto'` has been deprecated in 1.1 and will be removed in 1.3. To keep the past behaviour, explicitly set `max_features='sqrt'` or remove this parameter as it is also the default value for RandomForestClassifiers and ExtraTreesClassifiers.\n",
      "\n",
      "C:\\Users\\Tinotenda Mangarai\\anaconda3\\lib\\site-packages\\sklearn\\ensemble\\_forest.py:424: FutureWarning:\n",
      "\n",
      "`max_features='auto'` has been deprecated in 1.1 and will be removed in 1.3. To keep the past behaviour, explicitly set `max_features='sqrt'` or remove this parameter as it is also the default value for RandomForestClassifiers and ExtraTreesClassifiers.\n",
      "\n"
     ]
    },
    {
     "name": "stderr",
     "output_type": "stream",
     "text": [
      "C:\\Users\\Tinotenda Mangarai\\anaconda3\\lib\\site-packages\\sklearn\\ensemble\\_forest.py:424: FutureWarning:\n",
      "\n",
      "`max_features='auto'` has been deprecated in 1.1 and will be removed in 1.3. To keep the past behaviour, explicitly set `max_features='sqrt'` or remove this parameter as it is also the default value for RandomForestClassifiers and ExtraTreesClassifiers.\n",
      "\n",
      "C:\\Users\\Tinotenda Mangarai\\anaconda3\\lib\\site-packages\\sklearn\\ensemble\\_forest.py:424: FutureWarning:\n",
      "\n",
      "`max_features='auto'` has been deprecated in 1.1 and will be removed in 1.3. To keep the past behaviour, explicitly set `max_features='sqrt'` or remove this parameter as it is also the default value for RandomForestClassifiers and ExtraTreesClassifiers.\n",
      "\n",
      "C:\\Users\\Tinotenda Mangarai\\anaconda3\\lib\\site-packages\\sklearn\\ensemble\\_forest.py:424: FutureWarning:\n",
      "\n",
      "`max_features='auto'` has been deprecated in 1.1 and will be removed in 1.3. To keep the past behaviour, explicitly set `max_features='sqrt'` or remove this parameter as it is also the default value for RandomForestClassifiers and ExtraTreesClassifiers.\n",
      "\n",
      "C:\\Users\\Tinotenda Mangarai\\anaconda3\\lib\\site-packages\\sklearn\\ensemble\\_forest.py:424: FutureWarning:\n",
      "\n",
      "`max_features='auto'` has been deprecated in 1.1 and will be removed in 1.3. To keep the past behaviour, explicitly set `max_features='sqrt'` or remove this parameter as it is also the default value for RandomForestClassifiers and ExtraTreesClassifiers.\n",
      "\n",
      "C:\\Users\\Tinotenda Mangarai\\anaconda3\\lib\\site-packages\\sklearn\\ensemble\\_forest.py:424: FutureWarning:\n",
      "\n",
      "`max_features='auto'` has been deprecated in 1.1 and will be removed in 1.3. To keep the past behaviour, explicitly set `max_features='sqrt'` or remove this parameter as it is also the default value for RandomForestClassifiers and ExtraTreesClassifiers.\n",
      "\n",
      "C:\\Users\\Tinotenda Mangarai\\anaconda3\\lib\\site-packages\\sklearn\\ensemble\\_forest.py:424: FutureWarning:\n",
      "\n",
      "`max_features='auto'` has been deprecated in 1.1 and will be removed in 1.3. To keep the past behaviour, explicitly set `max_features='sqrt'` or remove this parameter as it is also the default value for RandomForestClassifiers and ExtraTreesClassifiers.\n",
      "\n",
      "C:\\Users\\Tinotenda Mangarai\\anaconda3\\lib\\site-packages\\sklearn\\ensemble\\_forest.py:424: FutureWarning:\n",
      "\n",
      "`max_features='auto'` has been deprecated in 1.1 and will be removed in 1.3. To keep the past behaviour, explicitly set `max_features='sqrt'` or remove this parameter as it is also the default value for RandomForestClassifiers and ExtraTreesClassifiers.\n",
      "\n",
      "C:\\Users\\Tinotenda Mangarai\\anaconda3\\lib\\site-packages\\sklearn\\ensemble\\_forest.py:424: FutureWarning:\n",
      "\n",
      "`max_features='auto'` has been deprecated in 1.1 and will be removed in 1.3. To keep the past behaviour, explicitly set `max_features='sqrt'` or remove this parameter as it is also the default value for RandomForestClassifiers and ExtraTreesClassifiers.\n",
      "\n",
      "C:\\Users\\Tinotenda Mangarai\\anaconda3\\lib\\site-packages\\sklearn\\ensemble\\_forest.py:424: FutureWarning:\n",
      "\n",
      "`max_features='auto'` has been deprecated in 1.1 and will be removed in 1.3. To keep the past behaviour, explicitly set `max_features='sqrt'` or remove this parameter as it is also the default value for RandomForestClassifiers and ExtraTreesClassifiers.\n",
      "\n",
      "C:\\Users\\Tinotenda Mangarai\\anaconda3\\lib\\site-packages\\sklearn\\ensemble\\_forest.py:424: FutureWarning:\n",
      "\n",
      "`max_features='auto'` has been deprecated in 1.1 and will be removed in 1.3. To keep the past behaviour, explicitly set `max_features='sqrt'` or remove this parameter as it is also the default value for RandomForestClassifiers and ExtraTreesClassifiers.\n",
      "\n",
      "C:\\Users\\Tinotenda Mangarai\\anaconda3\\lib\\site-packages\\sklearn\\ensemble\\_forest.py:424: FutureWarning:\n",
      "\n",
      "`max_features='auto'` has been deprecated in 1.1 and will be removed in 1.3. To keep the past behaviour, explicitly set `max_features='sqrt'` or remove this parameter as it is also the default value for RandomForestClassifiers and ExtraTreesClassifiers.\n",
      "\n",
      "C:\\Users\\Tinotenda Mangarai\\anaconda3\\lib\\site-packages\\sklearn\\ensemble\\_forest.py:424: FutureWarning:\n",
      "\n",
      "`max_features='auto'` has been deprecated in 1.1 and will be removed in 1.3. To keep the past behaviour, explicitly set `max_features='sqrt'` or remove this parameter as it is also the default value for RandomForestClassifiers and ExtraTreesClassifiers.\n",
      "\n",
      "C:\\Users\\Tinotenda Mangarai\\anaconda3\\lib\\site-packages\\sklearn\\ensemble\\_forest.py:424: FutureWarning:\n",
      "\n",
      "`max_features='auto'` has been deprecated in 1.1 and will be removed in 1.3. To keep the past behaviour, explicitly set `max_features='sqrt'` or remove this parameter as it is also the default value for RandomForestClassifiers and ExtraTreesClassifiers.\n",
      "\n",
      "C:\\Users\\Tinotenda Mangarai\\anaconda3\\lib\\site-packages\\sklearn\\ensemble\\_forest.py:424: FutureWarning:\n",
      "\n",
      "`max_features='auto'` has been deprecated in 1.1 and will be removed in 1.3. To keep the past behaviour, explicitly set `max_features='sqrt'` or remove this parameter as it is also the default value for RandomForestClassifiers and ExtraTreesClassifiers.\n",
      "\n",
      "C:\\Users\\Tinotenda Mangarai\\anaconda3\\lib\\site-packages\\sklearn\\ensemble\\_forest.py:424: FutureWarning:\n",
      "\n",
      "`max_features='auto'` has been deprecated in 1.1 and will be removed in 1.3. To keep the past behaviour, explicitly set `max_features='sqrt'` or remove this parameter as it is also the default value for RandomForestClassifiers and ExtraTreesClassifiers.\n",
      "\n",
      "C:\\Users\\Tinotenda Mangarai\\anaconda3\\lib\\site-packages\\sklearn\\ensemble\\_forest.py:424: FutureWarning:\n",
      "\n",
      "`max_features='auto'` has been deprecated in 1.1 and will be removed in 1.3. To keep the past behaviour, explicitly set `max_features='sqrt'` or remove this parameter as it is also the default value for RandomForestClassifiers and ExtraTreesClassifiers.\n",
      "\n",
      "C:\\Users\\Tinotenda Mangarai\\anaconda3\\lib\\site-packages\\sklearn\\ensemble\\_forest.py:424: FutureWarning:\n",
      "\n",
      "`max_features='auto'` has been deprecated in 1.1 and will be removed in 1.3. To keep the past behaviour, explicitly set `max_features='sqrt'` or remove this parameter as it is also the default value for RandomForestClassifiers and ExtraTreesClassifiers.\n",
      "\n",
      "C:\\Users\\Tinotenda Mangarai\\anaconda3\\lib\\site-packages\\sklearn\\ensemble\\_forest.py:424: FutureWarning:\n",
      "\n",
      "`max_features='auto'` has been deprecated in 1.1 and will be removed in 1.3. To keep the past behaviour, explicitly set `max_features='sqrt'` or remove this parameter as it is also the default value for RandomForestClassifiers and ExtraTreesClassifiers.\n",
      "\n",
      "C:\\Users\\Tinotenda Mangarai\\anaconda3\\lib\\site-packages\\sklearn\\ensemble\\_forest.py:424: FutureWarning:\n",
      "\n",
      "`max_features='auto'` has been deprecated in 1.1 and will be removed in 1.3. To keep the past behaviour, explicitly set `max_features='sqrt'` or remove this parameter as it is also the default value for RandomForestClassifiers and ExtraTreesClassifiers.\n",
      "\n",
      "C:\\Users\\Tinotenda Mangarai\\anaconda3\\lib\\site-packages\\sklearn\\ensemble\\_forest.py:424: FutureWarning:\n",
      "\n",
      "`max_features='auto'` has been deprecated in 1.1 and will be removed in 1.3. To keep the past behaviour, explicitly set `max_features='sqrt'` or remove this parameter as it is also the default value for RandomForestClassifiers and ExtraTreesClassifiers.\n",
      "\n",
      "C:\\Users\\Tinotenda Mangarai\\anaconda3\\lib\\site-packages\\sklearn\\ensemble\\_forest.py:424: FutureWarning:\n",
      "\n",
      "`max_features='auto'` has been deprecated in 1.1 and will be removed in 1.3. To keep the past behaviour, explicitly set `max_features='sqrt'` or remove this parameter as it is also the default value for RandomForestClassifiers and ExtraTreesClassifiers.\n",
      "\n",
      "C:\\Users\\Tinotenda Mangarai\\anaconda3\\lib\\site-packages\\sklearn\\ensemble\\_forest.py:424: FutureWarning:\n",
      "\n",
      "`max_features='auto'` has been deprecated in 1.1 and will be removed in 1.3. To keep the past behaviour, explicitly set `max_features='sqrt'` or remove this parameter as it is also the default value for RandomForestClassifiers and ExtraTreesClassifiers.\n",
      "\n",
      "C:\\Users\\Tinotenda Mangarai\\anaconda3\\lib\\site-packages\\sklearn\\ensemble\\_forest.py:424: FutureWarning:\n",
      "\n",
      "`max_features='auto'` has been deprecated in 1.1 and will be removed in 1.3. To keep the past behaviour, explicitly set `max_features='sqrt'` or remove this parameter as it is also the default value for RandomForestClassifiers and ExtraTreesClassifiers.\n",
      "\n"
     ]
    },
    {
     "name": "stderr",
     "output_type": "stream",
     "text": [
      "C:\\Users\\Tinotenda Mangarai\\anaconda3\\lib\\site-packages\\sklearn\\ensemble\\_forest.py:424: FutureWarning:\n",
      "\n",
      "`max_features='auto'` has been deprecated in 1.1 and will be removed in 1.3. To keep the past behaviour, explicitly set `max_features='sqrt'` or remove this parameter as it is also the default value for RandomForestClassifiers and ExtraTreesClassifiers.\n",
      "\n",
      "C:\\Users\\Tinotenda Mangarai\\anaconda3\\lib\\site-packages\\sklearn\\ensemble\\_forest.py:424: FutureWarning:\n",
      "\n",
      "`max_features='auto'` has been deprecated in 1.1 and will be removed in 1.3. To keep the past behaviour, explicitly set `max_features='sqrt'` or remove this parameter as it is also the default value for RandomForestClassifiers and ExtraTreesClassifiers.\n",
      "\n"
     ]
    },
    {
     "name": "stdout",
     "output_type": "stream",
     "text": [
      "Best Parameters: {'max_depth': None, 'max_features': 'sqrt', 'n_estimators': 200}\n",
      "Best Score: 0.913295979404861\n",
      "Accuracy: 0.9460227272727273\n"
     ]
    },
    {
     "name": "stderr",
     "output_type": "stream",
     "text": [
      "C:\\Users\\Tinotenda Mangarai\\anaconda3\\lib\\site-packages\\keras\\src\\engine\\training.py:3000: UserWarning:\n",
      "\n",
      "You are saving your model as an HDF5 file via `model.save()`. This file format is considered legacy. We recommend using instead the native Keras format, e.g. `model.save('my_model.keras')`.\n",
      "\n"
     ]
    }
   ],
   "source": [
    "from sklearn.ensemble import RandomForestClassifier\n",
    "from sklearn.model_selection import train_test_split, GridSearchCV\n",
    "from sklearn.metrics import accuracy_score, classification_report, confusion_matrix\n",
    "import joblib\n",
    "\n",
    "# Building the feature space and target variable \n",
    "X=df[['LOCATION', 'Comment', 'Customer Issue Description']]\n",
    "y=df['Customer Issue Category']\n",
    "\n",
    "# Perform label encoding for object variables\n",
    "label_encoder = LabelEncoder()\n",
    "\n",
    "for column in X.select_dtypes(include='object'):\n",
    "    X[column] = label_encoder.fit_transform(X[column])\n",
    "\n",
    "# Split the data into train and test sets\n",
    "X_train, X_test, y_train, y_test = train_test_split(X, y, test_size=0.2, random_state=42)\n",
    "\n",
    "# Define the parameter grid for grid search\n",
    "param_grid = {\n",
    "    'n_estimators': [100, 200, 300],  # Number of trees in the forest\n",
    "    'max_depth': [None, 5, 10],  # Maximum depth of the trees\n",
    "    'max_features': ['auto', 'sqrt'],  # Number of features to consider at each split\n",
    "}\n",
    "\n",
    "# Initialize the Random Forest Classifier\n",
    "rf_classifier = RandomForestClassifier()\n",
    "\n",
    "# Perform grid search with cross-validation\n",
    "grid_search = GridSearchCV(estimator=rf_classifier, param_grid=param_grid, cv=5)\n",
    "grid_search.fit(X_train, y_train)\n",
    "\n",
    "# Get the best parameters and best score\n",
    "best_params = grid_search.best_params_\n",
    "best_score = grid_search.best_score_\n",
    "\n",
    "# Train the classifier with the best parameters\n",
    "best_rf_classifier = RandomForestClassifier(**best_params)\n",
    "best_rf_classifier.fit(X_train, y_train)\n",
    "\n",
    "# Make predictions on the test set using the best classifier\n",
    "y_pred = best_rf_classifier.predict(X_test)\n",
    "\n",
    "# Evaluate the accuracy of the best classifier\n",
    "accuracy = accuracy_score(y_test, y_pred)\n",
    "print(\"Best Parameters:\", best_params)\n",
    "print(\"Best Score:\", best_score)\n",
    "print(\"Accuracy:\", accuracy)\n",
    "\n",
    "# Save the model\n",
    "model.save(\"best_rf_classifier.h5\")\n"
   ]
  },
  {
   "cell_type": "code",
   "execution_count": 85,
   "id": "1b6efb95",
   "metadata": {},
   "outputs": [
    {
     "name": "stdout",
     "output_type": "stream",
     "text": [
      "Accuracy: 0.9460227272727273\n",
      "Precision: 0.9310790732362584\n",
      "Recall: 0.9460227272727273\n",
      "F1-Score: 0.937478405051688\n"
     ]
    },
    {
     "name": "stderr",
     "output_type": "stream",
     "text": [
      "C:\\Users\\Tinotenda Mangarai\\anaconda3\\lib\\site-packages\\sklearn\\metrics\\_classification.py:1344: UndefinedMetricWarning:\n",
      "\n",
      "Precision is ill-defined and being set to 0.0 in labels with no predicted samples. Use `zero_division` parameter to control this behavior.\n",
      "\n"
     ]
    }
   ],
   "source": [
    "# Make predictions on the test set\n",
    "y_pred = best_rf_classifier.predict(X_test)\n",
    "\n",
    "# Calculate evaluation metrics\n",
    "accuracy = accuracy_score(y_test, y_pred)\n",
    "precision = precision_score(y_test, y_pred, average='weighted')\n",
    "recall = recall_score(y_test, y_pred, average='weighted')\n",
    "f1 = f1_score(y_test, y_pred, average='weighted')\n",
    "\n",
    "# Print the evaluation metrics\n",
    "print(\"Accuracy:\", accuracy)\n",
    "print(\"Precision:\", precision)\n",
    "print(\"Recall:\", recall)\n",
    "print(\"F1-Score:\", f1)"
   ]
  },
  {
   "cell_type": "code",
   "execution_count": 48,
   "id": "b2289d7f",
   "metadata": {},
   "outputs": [
    {
     "name": "stdout",
     "output_type": "stream",
     "text": [
      "Classification Report:\n",
      "                                        precision    recall  f1-score   support\n",
      "\n",
      "                                  Data       0.96      0.98      0.97       123\n",
      "                               Devices       0.00      0.00      0.00         1\n",
      "                             Marketing       0.00      0.00      0.00         1\n",
      "             Mobile Financial Services       0.96      0.92      0.94        26\n",
      "            Network Quality of Service       0.00      0.00      0.00         0\n",
      "                                 Other       1.00      0.88      0.94        17\n",
      "                               Prepaid       0.96      0.97      0.97        76\n",
      "                 Product Distribution        0.50      1.00      0.67         2\n",
      "                 Products and Services       0.00      0.00      0.00         1\n",
      "Revenue Assurance and Fraud Management       0.00      0.00      0.00         1\n",
      "    Roaming and International services       0.00      0.00      0.00         1\n",
      "                                   SMS       0.95      0.95      0.95        20\n",
      "               Service/Product Support       0.75      0.89      0.81        27\n",
      "                Supplementary Services       1.00      0.83      0.91         6\n",
      "                       Systems Support       0.00      0.00      0.00         1\n",
      "                  Value Added Services       0.00      0.00      0.00         1\n",
      "                                 Voice       0.98      0.98      0.98        48\n",
      "\n",
      "                              accuracy                           0.94       352\n",
      "                             macro avg       0.47      0.49      0.48       352\n",
      "                          weighted avg       0.93      0.94      0.93       352\n",
      "\n"
     ]
    },
    {
     "name": "stderr",
     "output_type": "stream",
     "text": [
      "C:\\Users\\Tinotenda Mangarai\\anaconda3\\lib\\site-packages\\sklearn\\metrics\\_classification.py:1344: UndefinedMetricWarning: Precision and F-score are ill-defined and being set to 0.0 in labels with no predicted samples. Use `zero_division` parameter to control this behavior.\n",
      "  _warn_prf(average, modifier, msg_start, len(result))\n",
      "C:\\Users\\Tinotenda Mangarai\\anaconda3\\lib\\site-packages\\sklearn\\metrics\\_classification.py:1344: UndefinedMetricWarning: Recall and F-score are ill-defined and being set to 0.0 in labels with no true samples. Use `zero_division` parameter to control this behavior.\n",
      "  _warn_prf(average, modifier, msg_start, len(result))\n",
      "C:\\Users\\Tinotenda Mangarai\\anaconda3\\lib\\site-packages\\sklearn\\metrics\\_classification.py:1344: UndefinedMetricWarning: Precision and F-score are ill-defined and being set to 0.0 in labels with no predicted samples. Use `zero_division` parameter to control this behavior.\n",
      "  _warn_prf(average, modifier, msg_start, len(result))\n",
      "C:\\Users\\Tinotenda Mangarai\\anaconda3\\lib\\site-packages\\sklearn\\metrics\\_classification.py:1344: UndefinedMetricWarning: Recall and F-score are ill-defined and being set to 0.0 in labels with no true samples. Use `zero_division` parameter to control this behavior.\n",
      "  _warn_prf(average, modifier, msg_start, len(result))\n",
      "C:\\Users\\Tinotenda Mangarai\\anaconda3\\lib\\site-packages\\sklearn\\metrics\\_classification.py:1344: UndefinedMetricWarning: Precision and F-score are ill-defined and being set to 0.0 in labels with no predicted samples. Use `zero_division` parameter to control this behavior.\n",
      "  _warn_prf(average, modifier, msg_start, len(result))\n",
      "C:\\Users\\Tinotenda Mangarai\\anaconda3\\lib\\site-packages\\sklearn\\metrics\\_classification.py:1344: UndefinedMetricWarning: Recall and F-score are ill-defined and being set to 0.0 in labels with no true samples. Use `zero_division` parameter to control this behavior.\n",
      "  _warn_prf(average, modifier, msg_start, len(result))\n"
     ]
    }
   ],
   "source": [
    "# Print the classification report\n",
    "classification_rep = classification_report(y_test, y_pred)\n",
    "print(\"Classification Report:\")\n",
    "print(classification_rep)\n"
   ]
  },
  {
   "cell_type": "code",
   "execution_count": 84,
   "id": "e9febca5",
   "metadata": {},
   "outputs": [
    {
     "name": "stdout",
     "output_type": "stream",
     "text": [
      "Feature Importances:\n",
      "LOCATION: 0.1618289387066707\n",
      "Comment: 0.3301488945176473\n",
      "Customer Issue Description: 0.5080221667756821\n",
      "Individual Tree Characteristics:\n",
      "Number of Trees (n_estimators): 200\n",
      "Maximum Tree Depth (max_depth): None\n",
      "Number of Features Considered (max_features): sqrt\n"
     ]
    }
   ],
   "source": [
    "# Get feature importances\n",
    "feature_importances = best_rf_classifier.feature_importances_\n",
    "\n",
    "# Get individual tree characteristics\n",
    "n_estimators = best_rf_classifier.n_estimators\n",
    "max_depth = best_rf_classifier.max_depth\n",
    "max_features = best_rf_classifier.max_features\n",
    "\n",
    "# Print the feature importances\n",
    "print(\"Feature Importances:\")\n",
    "for feature, importance in zip(X.columns, feature_importances):\n",
    "    print(f\"{feature}: {importance}\")\n",
    "\n",
    "# Print the individual tree characteristics\n",
    "print(\"Individual Tree Characteristics:\")\n",
    "print(f\"Number of Trees (n_estimators): {n_estimators}\")\n",
    "print(f\"Maximum Tree Depth (max_depth): {max_depth}\")\n",
    "print(f\"Number of Features Considered (max_features): {max_features}\")"
   ]
  },
  {
   "cell_type": "code",
   "execution_count": 50,
   "id": "84739d02",
   "metadata": {},
   "outputs": [
    {
     "name": "stderr",
     "output_type": "stream",
     "text": [
      "C:\\Users\\Tinotenda Mangarai\\anaconda3\\lib\\site-packages\\sklearn\\model_selection\\_split.py:700: UserWarning: The least populated class in y has only 1 members, which is less than n_splits=5.\n",
      "  warnings.warn(\n",
      "C:\\Users\\Tinotenda Mangarai\\anaconda3\\lib\\site-packages\\sklearn\\ensemble\\_forest.py:424: FutureWarning: `max_features='auto'` has been deprecated in 1.1 and will be removed in 1.3. To keep the past behaviour, explicitly set `max_features='sqrt'` or remove this parameter as it is also the default value for RandomForestClassifiers and ExtraTreesClassifiers.\n",
      "  warn(\n",
      "C:\\Users\\Tinotenda Mangarai\\anaconda3\\lib\\site-packages\\sklearn\\ensemble\\_forest.py:424: FutureWarning: `max_features='auto'` has been deprecated in 1.1 and will be removed in 1.3. To keep the past behaviour, explicitly set `max_features='sqrt'` or remove this parameter as it is also the default value for RandomForestClassifiers and ExtraTreesClassifiers.\n",
      "  warn(\n",
      "C:\\Users\\Tinotenda Mangarai\\anaconda3\\lib\\site-packages\\sklearn\\ensemble\\_forest.py:424: FutureWarning: `max_features='auto'` has been deprecated in 1.1 and will be removed in 1.3. To keep the past behaviour, explicitly set `max_features='sqrt'` or remove this parameter as it is also the default value for RandomForestClassifiers and ExtraTreesClassifiers.\n",
      "  warn(\n",
      "C:\\Users\\Tinotenda Mangarai\\anaconda3\\lib\\site-packages\\sklearn\\ensemble\\_forest.py:424: FutureWarning: `max_features='auto'` has been deprecated in 1.1 and will be removed in 1.3. To keep the past behaviour, explicitly set `max_features='sqrt'` or remove this parameter as it is also the default value for RandomForestClassifiers and ExtraTreesClassifiers.\n",
      "  warn(\n",
      "C:\\Users\\Tinotenda Mangarai\\anaconda3\\lib\\site-packages\\sklearn\\ensemble\\_forest.py:424: FutureWarning: `max_features='auto'` has been deprecated in 1.1 and will be removed in 1.3. To keep the past behaviour, explicitly set `max_features='sqrt'` or remove this parameter as it is also the default value for RandomForestClassifiers and ExtraTreesClassifiers.\n",
      "  warn(\n",
      "C:\\Users\\Tinotenda Mangarai\\anaconda3\\lib\\site-packages\\sklearn\\ensemble\\_forest.py:424: FutureWarning: `max_features='auto'` has been deprecated in 1.1 and will be removed in 1.3. To keep the past behaviour, explicitly set `max_features='sqrt'` or remove this parameter as it is also the default value for RandomForestClassifiers and ExtraTreesClassifiers.\n",
      "  warn(\n",
      "C:\\Users\\Tinotenda Mangarai\\anaconda3\\lib\\site-packages\\sklearn\\ensemble\\_forest.py:424: FutureWarning: `max_features='auto'` has been deprecated in 1.1 and will be removed in 1.3. To keep the past behaviour, explicitly set `max_features='sqrt'` or remove this parameter as it is also the default value for RandomForestClassifiers and ExtraTreesClassifiers.\n",
      "  warn(\n",
      "C:\\Users\\Tinotenda Mangarai\\anaconda3\\lib\\site-packages\\sklearn\\ensemble\\_forest.py:424: FutureWarning: `max_features='auto'` has been deprecated in 1.1 and will be removed in 1.3. To keep the past behaviour, explicitly set `max_features='sqrt'` or remove this parameter as it is also the default value for RandomForestClassifiers and ExtraTreesClassifiers.\n",
      "  warn(\n",
      "C:\\Users\\Tinotenda Mangarai\\anaconda3\\lib\\site-packages\\sklearn\\ensemble\\_forest.py:424: FutureWarning: `max_features='auto'` has been deprecated in 1.1 and will be removed in 1.3. To keep the past behaviour, explicitly set `max_features='sqrt'` or remove this parameter as it is also the default value for RandomForestClassifiers and ExtraTreesClassifiers.\n",
      "  warn(\n",
      "C:\\Users\\Tinotenda Mangarai\\anaconda3\\lib\\site-packages\\sklearn\\ensemble\\_forest.py:424: FutureWarning: `max_features='auto'` has been deprecated in 1.1 and will be removed in 1.3. To keep the past behaviour, explicitly set `max_features='sqrt'` or remove this parameter as it is also the default value for RandomForestClassifiers and ExtraTreesClassifiers.\n",
      "  warn(\n",
      "C:\\Users\\Tinotenda Mangarai\\anaconda3\\lib\\site-packages\\sklearn\\ensemble\\_forest.py:424: FutureWarning: `max_features='auto'` has been deprecated in 1.1 and will be removed in 1.3. To keep the past behaviour, explicitly set `max_features='sqrt'` or remove this parameter as it is also the default value for RandomForestClassifiers and ExtraTreesClassifiers.\n",
      "  warn(\n",
      "C:\\Users\\Tinotenda Mangarai\\anaconda3\\lib\\site-packages\\sklearn\\ensemble\\_forest.py:424: FutureWarning: `max_features='auto'` has been deprecated in 1.1 and will be removed in 1.3. To keep the past behaviour, explicitly set `max_features='sqrt'` or remove this parameter as it is also the default value for RandomForestClassifiers and ExtraTreesClassifiers.\n",
      "  warn(\n",
      "C:\\Users\\Tinotenda Mangarai\\anaconda3\\lib\\site-packages\\sklearn\\ensemble\\_forest.py:424: FutureWarning: `max_features='auto'` has been deprecated in 1.1 and will be removed in 1.3. To keep the past behaviour, explicitly set `max_features='sqrt'` or remove this parameter as it is also the default value for RandomForestClassifiers and ExtraTreesClassifiers.\n",
      "  warn(\n",
      "C:\\Users\\Tinotenda Mangarai\\anaconda3\\lib\\site-packages\\sklearn\\ensemble\\_forest.py:424: FutureWarning: `max_features='auto'` has been deprecated in 1.1 and will be removed in 1.3. To keep the past behaviour, explicitly set `max_features='sqrt'` or remove this parameter as it is also the default value for RandomForestClassifiers and ExtraTreesClassifiers.\n",
      "  warn(\n",
      "C:\\Users\\Tinotenda Mangarai\\anaconda3\\lib\\site-packages\\sklearn\\ensemble\\_forest.py:424: FutureWarning: `max_features='auto'` has been deprecated in 1.1 and will be removed in 1.3. To keep the past behaviour, explicitly set `max_features='sqrt'` or remove this parameter as it is also the default value for RandomForestClassifiers and ExtraTreesClassifiers.\n",
      "  warn(\n",
      "C:\\Users\\Tinotenda Mangarai\\anaconda3\\lib\\site-packages\\sklearn\\ensemble\\_forest.py:424: FutureWarning: `max_features='auto'` has been deprecated in 1.1 and will be removed in 1.3. To keep the past behaviour, explicitly set `max_features='sqrt'` or remove this parameter as it is also the default value for RandomForestClassifiers and ExtraTreesClassifiers.\n",
      "  warn(\n",
      "C:\\Users\\Tinotenda Mangarai\\anaconda3\\lib\\site-packages\\sklearn\\ensemble\\_forest.py:424: FutureWarning: `max_features='auto'` has been deprecated in 1.1 and will be removed in 1.3. To keep the past behaviour, explicitly set `max_features='sqrt'` or remove this parameter as it is also the default value for RandomForestClassifiers and ExtraTreesClassifiers.\n",
      "  warn(\n",
      "C:\\Users\\Tinotenda Mangarai\\anaconda3\\lib\\site-packages\\sklearn\\ensemble\\_forest.py:424: FutureWarning: `max_features='auto'` has been deprecated in 1.1 and will be removed in 1.3. To keep the past behaviour, explicitly set `max_features='sqrt'` or remove this parameter as it is also the default value for RandomForestClassifiers and ExtraTreesClassifiers.\n",
      "  warn(\n",
      "C:\\Users\\Tinotenda Mangarai\\anaconda3\\lib\\site-packages\\sklearn\\ensemble\\_forest.py:424: FutureWarning: `max_features='auto'` has been deprecated in 1.1 and will be removed in 1.3. To keep the past behaviour, explicitly set `max_features='sqrt'` or remove this parameter as it is also the default value for RandomForestClassifiers and ExtraTreesClassifiers.\n",
      "  warn(\n",
      "C:\\Users\\Tinotenda Mangarai\\anaconda3\\lib\\site-packages\\sklearn\\ensemble\\_forest.py:424: FutureWarning: `max_features='auto'` has been deprecated in 1.1 and will be removed in 1.3. To keep the past behaviour, explicitly set `max_features='sqrt'` or remove this parameter as it is also the default value for RandomForestClassifiers and ExtraTreesClassifiers.\n",
      "  warn(\n",
      "C:\\Users\\Tinotenda Mangarai\\anaconda3\\lib\\site-packages\\sklearn\\ensemble\\_forest.py:424: FutureWarning: `max_features='auto'` has been deprecated in 1.1 and will be removed in 1.3. To keep the past behaviour, explicitly set `max_features='sqrt'` or remove this parameter as it is also the default value for RandomForestClassifiers and ExtraTreesClassifiers.\n",
      "  warn(\n",
      "C:\\Users\\Tinotenda Mangarai\\anaconda3\\lib\\site-packages\\sklearn\\ensemble\\_forest.py:424: FutureWarning: `max_features='auto'` has been deprecated in 1.1 and will be removed in 1.3. To keep the past behaviour, explicitly set `max_features='sqrt'` or remove this parameter as it is also the default value for RandomForestClassifiers and ExtraTreesClassifiers.\n",
      "  warn(\n"
     ]
    },
    {
     "name": "stderr",
     "output_type": "stream",
     "text": [
      "C:\\Users\\Tinotenda Mangarai\\anaconda3\\lib\\site-packages\\sklearn\\ensemble\\_forest.py:424: FutureWarning: `max_features='auto'` has been deprecated in 1.1 and will be removed in 1.3. To keep the past behaviour, explicitly set `max_features='sqrt'` or remove this parameter as it is also the default value for RandomForestClassifiers and ExtraTreesClassifiers.\n",
      "  warn(\n",
      "C:\\Users\\Tinotenda Mangarai\\anaconda3\\lib\\site-packages\\sklearn\\ensemble\\_forest.py:424: FutureWarning: `max_features='auto'` has been deprecated in 1.1 and will be removed in 1.3. To keep the past behaviour, explicitly set `max_features='sqrt'` or remove this parameter as it is also the default value for RandomForestClassifiers and ExtraTreesClassifiers.\n",
      "  warn(\n",
      "C:\\Users\\Tinotenda Mangarai\\anaconda3\\lib\\site-packages\\sklearn\\ensemble\\_forest.py:424: FutureWarning: `max_features='auto'` has been deprecated in 1.1 and will be removed in 1.3. To keep the past behaviour, explicitly set `max_features='sqrt'` or remove this parameter as it is also the default value for RandomForestClassifiers and ExtraTreesClassifiers.\n",
      "  warn(\n",
      "C:\\Users\\Tinotenda Mangarai\\anaconda3\\lib\\site-packages\\sklearn\\ensemble\\_forest.py:424: FutureWarning: `max_features='auto'` has been deprecated in 1.1 and will be removed in 1.3. To keep the past behaviour, explicitly set `max_features='sqrt'` or remove this parameter as it is also the default value for RandomForestClassifiers and ExtraTreesClassifiers.\n",
      "  warn(\n",
      "C:\\Users\\Tinotenda Mangarai\\anaconda3\\lib\\site-packages\\sklearn\\ensemble\\_forest.py:424: FutureWarning: `max_features='auto'` has been deprecated in 1.1 and will be removed in 1.3. To keep the past behaviour, explicitly set `max_features='sqrt'` or remove this parameter as it is also the default value for RandomForestClassifiers and ExtraTreesClassifiers.\n",
      "  warn(\n",
      "C:\\Users\\Tinotenda Mangarai\\anaconda3\\lib\\site-packages\\sklearn\\ensemble\\_forest.py:424: FutureWarning: `max_features='auto'` has been deprecated in 1.1 and will be removed in 1.3. To keep the past behaviour, explicitly set `max_features='sqrt'` or remove this parameter as it is also the default value for RandomForestClassifiers and ExtraTreesClassifiers.\n",
      "  warn(\n",
      "C:\\Users\\Tinotenda Mangarai\\anaconda3\\lib\\site-packages\\sklearn\\ensemble\\_forest.py:424: FutureWarning: `max_features='auto'` has been deprecated in 1.1 and will be removed in 1.3. To keep the past behaviour, explicitly set `max_features='sqrt'` or remove this parameter as it is also the default value for RandomForestClassifiers and ExtraTreesClassifiers.\n",
      "  warn(\n",
      "C:\\Users\\Tinotenda Mangarai\\anaconda3\\lib\\site-packages\\sklearn\\ensemble\\_forest.py:424: FutureWarning: `max_features='auto'` has been deprecated in 1.1 and will be removed in 1.3. To keep the past behaviour, explicitly set `max_features='sqrt'` or remove this parameter as it is also the default value for RandomForestClassifiers and ExtraTreesClassifiers.\n",
      "  warn(\n",
      "C:\\Users\\Tinotenda Mangarai\\anaconda3\\lib\\site-packages\\sklearn\\ensemble\\_forest.py:424: FutureWarning: `max_features='auto'` has been deprecated in 1.1 and will be removed in 1.3. To keep the past behaviour, explicitly set `max_features='sqrt'` or remove this parameter as it is also the default value for RandomForestClassifiers and ExtraTreesClassifiers.\n",
      "  warn(\n",
      "C:\\Users\\Tinotenda Mangarai\\anaconda3\\lib\\site-packages\\sklearn\\ensemble\\_forest.py:424: FutureWarning: `max_features='auto'` has been deprecated in 1.1 and will be removed in 1.3. To keep the past behaviour, explicitly set `max_features='sqrt'` or remove this parameter as it is also the default value for RandomForestClassifiers and ExtraTreesClassifiers.\n",
      "  warn(\n",
      "C:\\Users\\Tinotenda Mangarai\\anaconda3\\lib\\site-packages\\sklearn\\ensemble\\_forest.py:424: FutureWarning: `max_features='auto'` has been deprecated in 1.1 and will be removed in 1.3. To keep the past behaviour, explicitly set `max_features='sqrt'` or remove this parameter as it is also the default value for RandomForestClassifiers and ExtraTreesClassifiers.\n",
      "  warn(\n",
      "C:\\Users\\Tinotenda Mangarai\\anaconda3\\lib\\site-packages\\sklearn\\ensemble\\_forest.py:424: FutureWarning: `max_features='auto'` has been deprecated in 1.1 and will be removed in 1.3. To keep the past behaviour, explicitly set `max_features='sqrt'` or remove this parameter as it is also the default value for RandomForestClassifiers and ExtraTreesClassifiers.\n",
      "  warn(\n",
      "C:\\Users\\Tinotenda Mangarai\\anaconda3\\lib\\site-packages\\sklearn\\ensemble\\_forest.py:424: FutureWarning: `max_features='auto'` has been deprecated in 1.1 and will be removed in 1.3. To keep the past behaviour, explicitly set `max_features='sqrt'` or remove this parameter as it is also the default value for RandomForestClassifiers and ExtraTreesClassifiers.\n",
      "  warn(\n",
      "C:\\Users\\Tinotenda Mangarai\\anaconda3\\lib\\site-packages\\sklearn\\ensemble\\_forest.py:424: FutureWarning: `max_features='auto'` has been deprecated in 1.1 and will be removed in 1.3. To keep the past behaviour, explicitly set `max_features='sqrt'` or remove this parameter as it is also the default value for RandomForestClassifiers and ExtraTreesClassifiers.\n",
      "  warn(\n",
      "C:\\Users\\Tinotenda Mangarai\\anaconda3\\lib\\site-packages\\sklearn\\ensemble\\_forest.py:424: FutureWarning: `max_features='auto'` has been deprecated in 1.1 and will be removed in 1.3. To keep the past behaviour, explicitly set `max_features='sqrt'` or remove this parameter as it is also the default value for RandomForestClassifiers and ExtraTreesClassifiers.\n",
      "  warn(\n",
      "C:\\Users\\Tinotenda Mangarai\\anaconda3\\lib\\site-packages\\sklearn\\ensemble\\_forest.py:424: FutureWarning: `max_features='auto'` has been deprecated in 1.1 and will be removed in 1.3. To keep the past behaviour, explicitly set `max_features='sqrt'` or remove this parameter as it is also the default value for RandomForestClassifiers and ExtraTreesClassifiers.\n",
      "  warn(\n",
      "C:\\Users\\Tinotenda Mangarai\\anaconda3\\lib\\site-packages\\sklearn\\ensemble\\_forest.py:424: FutureWarning: `max_features='auto'` has been deprecated in 1.1 and will be removed in 1.3. To keep the past behaviour, explicitly set `max_features='sqrt'` or remove this parameter as it is also the default value for RandomForestClassifiers and ExtraTreesClassifiers.\n",
      "  warn(\n",
      "C:\\Users\\Tinotenda Mangarai\\anaconda3\\lib\\site-packages\\sklearn\\ensemble\\_forest.py:424: FutureWarning: `max_features='auto'` has been deprecated in 1.1 and will be removed in 1.3. To keep the past behaviour, explicitly set `max_features='sqrt'` or remove this parameter as it is also the default value for RandomForestClassifiers and ExtraTreesClassifiers.\n",
      "  warn(\n",
      "C:\\Users\\Tinotenda Mangarai\\anaconda3\\lib\\site-packages\\sklearn\\ensemble\\_forest.py:424: FutureWarning: `max_features='auto'` has been deprecated in 1.1 and will be removed in 1.3. To keep the past behaviour, explicitly set `max_features='sqrt'` or remove this parameter as it is also the default value for RandomForestClassifiers and ExtraTreesClassifiers.\n",
      "  warn(\n",
      "C:\\Users\\Tinotenda Mangarai\\anaconda3\\lib\\site-packages\\sklearn\\ensemble\\_forest.py:424: FutureWarning: `max_features='auto'` has been deprecated in 1.1 and will be removed in 1.3. To keep the past behaviour, explicitly set `max_features='sqrt'` or remove this parameter as it is also the default value for RandomForestClassifiers and ExtraTreesClassifiers.\n",
      "  warn(\n",
      "C:\\Users\\Tinotenda Mangarai\\anaconda3\\lib\\site-packages\\sklearn\\ensemble\\_forest.py:424: FutureWarning: `max_features='auto'` has been deprecated in 1.1 and will be removed in 1.3. To keep the past behaviour, explicitly set `max_features='sqrt'` or remove this parameter as it is also the default value for RandomForestClassifiers and ExtraTreesClassifiers.\n",
      "  warn(\n",
      "C:\\Users\\Tinotenda Mangarai\\anaconda3\\lib\\site-packages\\sklearn\\ensemble\\_forest.py:424: FutureWarning: `max_features='auto'` has been deprecated in 1.1 and will be removed in 1.3. To keep the past behaviour, explicitly set `max_features='sqrt'` or remove this parameter as it is also the default value for RandomForestClassifiers and ExtraTreesClassifiers.\n",
      "  warn(\n",
      "C:\\Users\\Tinotenda Mangarai\\anaconda3\\lib\\site-packages\\sklearn\\ensemble\\_forest.py:424: FutureWarning: `max_features='auto'` has been deprecated in 1.1 and will be removed in 1.3. To keep the past behaviour, explicitly set `max_features='sqrt'` or remove this parameter as it is also the default value for RandomForestClassifiers and ExtraTreesClassifiers.\n",
      "  warn(\n"
     ]
    },
    {
     "data": {
      "image/png": "[encoded data removed]",
      "text/plain": [
       "<Figure size 640x480 with 1 Axes>"
      ]
     },
     "metadata": {},
     "output_type": "display_data"
    }
   ],
   "source": [
    "# Define the parameter grid for grid search\n",
    "param_grid = {\n",
    "    'n_estimators': [100, 200, 300],  # Number of trees in the forest\n",
    "    'max_depth': [None, 5, 10],  # Maximum depth of the trees\n",
    "    'max_features': ['auto', 'sqrt'],  # Number of features to consider at each split\n",
    "}\n",
    "\n",
    "# Initialize the Random Forest Classifier\n",
    "rf_classifier = RandomForestClassifier()\n",
    "\n",
    "# Perform grid search with cross-validation\n",
    "grid_search = GridSearchCV(estimator=rf_classifier, param_grid=param_grid, cv=5)\n",
    "grid_search.fit(X_train, y_train)\n",
    "\n",
    "# Get the best parameters and best score\n",
    "best_params = grid_search.best_params_\n",
    "best_score = grid_search.best_score_\n",
    "\n",
    "# Train the classifier with the best parameters\n",
    "best_rf_classifier = RandomForestClassifier(**best_params)\n",
    "\n",
    "# Lists to store accuracy and loss values during training\n",
    "train_accuracy = []\n",
    "test_accuracy = []\n",
    "\n",
    "# Train the classifier and track accuracy at each iteration\n",
    "for epoch in range(10):\n",
    "    best_rf_classifier.fit(X_train, y_train)\n",
    "    \n",
    "    # Make predictions on the train and test set\n",
    "    train_predictions = best_rf_classifier.predict(X_train)\n",
    "    test_predictions = best_rf_classifier.predict(X_test)\n",
    "    \n",
    "    # Calculate accuracy for train and test set\n",
    "    train_acc = accuracy_score(y_train, train_predictions)\n",
    "    test_acc = accuracy_score(y_test, test_predictions)\n",
    "    \n",
    "    # Append accuracy values to the lists\n",
    "    train_accuracy.append(train_acc)\n",
    "    test_accuracy.append(test_acc)\n",
    "\n",
    "# Plot accuracy during training\n",
    "plt.plot(range(1, 11), train_accuracy, label='Train Accuracy')\n",
    "plt.plot(range(1, 11), test_accuracy, label='Test Accuracy')\n",
    "plt.xlabel('Epochs')\n",
    "plt.ylabel('Accuracy')\n",
    "plt.title('Accuracy during Training')\n",
    "plt.legend()\n",
    "plt.show()"
   ]
  },
  {
   "cell_type": "code",
   "execution_count": 52,
   "id": "63b42e62",
   "metadata": {},
   "outputs": [
    {
     "data": {
      "text/plain": [
       "0.911869967946291"
      ]
     },
     "execution_count": 52,
     "metadata": {},
     "output_type": "execute_result"
    }
   ],
   "source": [
    "best_score"
   ]
  },
  {
   "cell_type": "code",
   "execution_count": 51,
   "id": "2ba8a2eb",
   "metadata": {},
   "outputs": [
    {
     "data": {
      "image/png": "[encoded data removed]",
      "text/plain": [
       "<Figure size 640x480 with 1 Axes>"
      ]
     },
     "metadata": {},
     "output_type": "display_data"
    }
   ],
   "source": [
    "# Plot accuracy during training\n",
    "plt.plot(range(1, 11), train_accuracy, label='Train Accuracy')\n",
    "plt.plot(range(1, 11), test_accuracy, label='Test Accuracy')\n",
    "plt.xlabel('Epochs')\n",
    "plt.ylabel('Accuracy')\n",
    "plt.title('Accuracy during Training')\n",
    "plt.legend()\n",
    "plt.show()"
   ]
  },
  {
   "cell_type": "code",
   "execution_count": 86,
   "id": "0ecff2e0",
   "metadata": {},
   "outputs": [
    {
     "name": "stderr",
     "output_type": "stream",
     "text": [
      "C:\\Users\\Tinotenda Mangarai\\anaconda3\\lib\\site-packages\\keras\\src\\engine\\training.py:3000: UserWarning:\n",
      "\n",
      "You are saving your model as an HDF5 file via `model.save()`. This file format is considered legacy. We recommend using instead the native Keras format, e.g. `model.save('my_model.keras')`.\n",
      "\n"
     ]
    }
   ],
   "source": [
    "model.save(\"best_rf_classifier.h5\")"
   ]
  },
  {
   "cell_type": "code",
   "execution_count": null,
   "id": "ed628e12",
   "metadata": {},
   "outputs": [],
   "source": []
  }
 ],
 "metadata": {
  "kernelspec": {
   "display_name": "Python 3 (ipykernel)",
   "language": "python",
   "name": "python3"
  },
  "language_info": {
   "codemirror_mode": {
    "name": "ipython",
    "version": 3
   },
   "file_extension": ".py",
   "mimetype": "text/x-python",
   "name": "python",
   "nbconvert_exporter": "python",
   "pygments_lexer": "ipython3",
   "version": "3.10.9"
  }
 },
 "nbformat": 4,
 "nbformat_minor": 5
}
